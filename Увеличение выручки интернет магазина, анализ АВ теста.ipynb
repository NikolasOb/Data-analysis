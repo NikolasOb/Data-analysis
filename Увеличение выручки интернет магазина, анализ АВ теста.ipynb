{
 "cells": [
  {
   "cell_type": "markdown",
   "metadata": {},
   "source": [
    "# Увеличение выручки интернет магазина, анализ результатов A/B тестирования"
   ]
  },
  {
   "cell_type": "markdown",
   "metadata": {},
   "source": [
    "Описание проекта:\n",
    "- Поступил запрос от крупного интернерт магазина, подняли вопрос об увеличение выручки с результатов своей деятельности. Предстоит проработать ряд гипотез и проанализировать результаты A/B теста"
   ]
  },
  {
   "cell_type": "markdown",
   "metadata": {},
   "source": [
    "Цель проекта:\n",
    "- Приоритизировать гипотезы, выполнить анализ A/B-теста"
   ]
  },
  {
   "cell_type": "markdown",
   "metadata": {},
   "source": [
    "Шаги:\n",
    "1. Загрузка данных и подготовка их к анализу\n",
    "2. Приоритизация гипотез:\n",
    "- Применить фреймворк ICE для приоритизации гипотез. Отсортировать их по убыванию приоритета\n",
    "- Применить фреймворк RICE для приоритизации гипотез. Отсортировать их по убыванию приоритета\n",
    "- Указать, как изменилась приоритизация гипотез при применении RICE вместо ICE. Объяснить, почему так произошло\n",
    "3. Анализ A/B-теста:\n",
    "- Построить график кумулятивной выручки по группам. Сделать выводы и предположения.\n",
    "- Построить график кумулятивного среднего чека по группам. Сделать выводы и предположения.\n",
    "- Построить график относительного изменения кумулятивного среднего чека группы B к группе A. Сделать выводы и предположения.\n",
    "- Построить график кумулятивной конверсии по группам. Сделать выводы и предположения.\n",
    "- Построить график относительного изменения кумулятивной конверсии группы B к группе A. Сделать выводы и предположения.\n",
    "- Построить точечный график количества заказов по пользователям. Сделать выводы и предположения.\n",
    "- Посчитать 95-й и 99-й перцентили количества заказов на пользователя. Выбрать границу для определения аномальных пользователей.\n",
    "- Построить точечный график стоимостей заказов. Сделаьб выводы и предположения.\n",
    "- Посчитать 95-й и 99-й перцентили стоимости заказов. Выбрать границу для определения аномальных заказов.\n",
    "- Посчитать статистическую значимость различий в конверсии между группами по «сырым» данным. Сделать выводы и предположения.\n",
    "- Посчитать статистическую значимость различий в среднем чеке заказа между группами по «сырым» данным. Сделать выводы и предположения.\n",
    "- Посчитать статистическую значимость различий в конверсии между группами по «очищенным» данным. Сделать выводы и предположения.\n",
    "- Посчитать статистическую значимость различий в среднем чеке заказа между группами по «очищенным» данным. Сделать выводы и предположения.\n",
    "- Принять решение по результатам теста и объясните его. Варианты решений: 1. Остановить тест, зафиксировать победу одной из групп. 2. Остановить тест, зафиксировать отсутствие различий между группами. 3. Продолжить тест."
   ]
  },
  {
   "cell_type": "markdown",
   "metadata": {},
   "source": [
    "В нашем распоряжении три датасета:\n",
    "- В файле /datasets/hypothesis.csv 9 гипотез по увеличению выручки интернет-магазина с указанными параметрами Reach, Impact, Confidence, Effort\n",
    "- Результаты А/В тестов описаны в файлах /datasets/orders.csv и /datasets/visitors.csv"
   ]
  },
  {
   "cell_type": "markdown",
   "metadata": {},
   "source": [
    "Структура /datasets/hypothesis.csv\n",
    "- Hypothesis — краткое описание гипотезы;\n",
    "- Reach — охват пользователей по 10-балльной шкале;\n",
    "- Impact — влияние на пользователей по 10-балльной шкале;\n",
    "- Confidence — уверенность в гипотезе по 10-балльной шкале;\n",
    "- Efforts — затраты ресурсов на проверку гипотезы по 10-балльной шкале. Чем больше значение Efforts, тем дороже проверка гипотезы.\n",
    "\n",
    "Структура /datasets/orders.csv\n",
    "- transactionId — идентификатор заказа;\n",
    "- visitorId — идентификатор пользователя, совершившего заказ;\n",
    "- date — дата, когда был совершён заказ;\n",
    "- revenue — выручка заказа;\n",
    "- group — группа A/B-теста, в которую попал заказ.\n",
    "\n",
    "Структура /datasets/visitors.csv\n",
    "- date — дата;\n",
    "- group — группа A/B-теста;\n",
    "- visitors — количество пользователей в указанную дату в указанной группе A/B-теста"
   ]
  },
  {
   "cell_type": "markdown",
   "metadata": {},
   "source": [
    "## Загрузка данных и подготовка их к анализу"
   ]
  },
  {
   "cell_type": "code",
   "execution_count": 1,
   "metadata": {},
   "outputs": [],
   "source": [
    "import pandas as pd\n",
    "import scipy.stats as stats\n",
    "import datetime as dt\n",
    "import numpy as np\n",
    "import matplotlib.pyplot as plt\n",
    "from pandas.plotting import register_matplotlib_converters\n",
    "import warnings"
   ]
  },
  {
   "cell_type": "code",
   "execution_count": 2,
   "metadata": {},
   "outputs": [],
   "source": [
    "hypothesis = pd.read_csv('/datasets/hypothesis.csv')\n",
    "orders = pd.read_csv('/datasets/orders.csv', sep=',')\n",
    "orders['date'] = orders['date'].map(\n",
    "    lambda x: dt.datetime.strptime(x, '%Y-%m-%d')\n",
    ")\n",
    "visitors = pd.read_csv('/datasets/visitors.csv', sep=',')\n",
    "visitors['date'] = visitors['date'].map(\n",
    "    lambda x: dt.datetime.strptime(x, '%Y-%m-%d')\n",
    ")\n",
    "pd.set_option('display.max_colwidth', 230)\n",
    "\n"
   ]
  },
  {
   "cell_type": "code",
   "execution_count": 3,
   "metadata": {},
   "outputs": [
    {
     "name": "stdout",
     "output_type": "stream",
     "text": [
      "<class 'pandas.core.frame.DataFrame'>\n",
      "RangeIndex: 1197 entries, 0 to 1196\n",
      "Data columns (total 5 columns):\n",
      " #   Column         Non-Null Count  Dtype         \n",
      "---  ------         --------------  -----         \n",
      " 0   transactionId  1197 non-null   int64         \n",
      " 1   visitorId      1197 non-null   int64         \n",
      " 2   date           1197 non-null   datetime64[ns]\n",
      " 3   revenue        1197 non-null   int64         \n",
      " 4   group          1197 non-null   object        \n",
      "dtypes: datetime64[ns](1), int64(3), object(1)\n",
      "memory usage: 46.9+ KB\n"
     ]
    }
   ],
   "source": [
    "orders.info()"
   ]
  },
  {
   "cell_type": "code",
   "execution_count": 4,
   "metadata": {},
   "outputs": [
    {
     "name": "stdout",
     "output_type": "stream",
     "text": [
      "<class 'pandas.core.frame.DataFrame'>\n",
      "RangeIndex: 62 entries, 0 to 61\n",
      "Data columns (total 3 columns):\n",
      " #   Column    Non-Null Count  Dtype         \n",
      "---  ------    --------------  -----         \n",
      " 0   date      62 non-null     datetime64[ns]\n",
      " 1   group     62 non-null     object        \n",
      " 2   visitors  62 non-null     int64         \n",
      "dtypes: datetime64[ns](1), int64(1), object(1)\n",
      "memory usage: 1.6+ KB\n"
     ]
    }
   ],
   "source": [
    "visitors.info()"
   ]
  },
  {
   "cell_type": "code",
   "execution_count": 5,
   "metadata": {},
   "outputs": [
    {
     "data": {
      "text/plain": [
       "0"
      ]
     },
     "execution_count": 5,
     "metadata": {},
     "output_type": "execute_result"
    }
   ],
   "source": [
    "orders.duplicated().sum()"
   ]
  },
  {
   "cell_type": "code",
   "execution_count": 6,
   "metadata": {},
   "outputs": [
    {
     "data": {
      "text/plain": [
       "0"
      ]
     },
     "execution_count": 6,
     "metadata": {},
     "output_type": "execute_result"
    }
   ],
   "source": [
    "visitors.duplicated().sum()"
   ]
  },
  {
   "cell_type": "code",
   "execution_count": 7,
   "metadata": {},
   "outputs": [
    {
     "data": {
      "text/html": [
       "<div>\n",
       "<style scoped>\n",
       "    .dataframe tbody tr th:only-of-type {\n",
       "        vertical-align: middle;\n",
       "    }\n",
       "\n",
       "    .dataframe tbody tr th {\n",
       "        vertical-align: top;\n",
       "    }\n",
       "\n",
       "    .dataframe thead th {\n",
       "        text-align: right;\n",
       "    }\n",
       "</style>\n",
       "<table border=\"1\" class=\"dataframe\">\n",
       "  <thead>\n",
       "    <tr style=\"text-align: right;\">\n",
       "      <th></th>\n",
       "      <th>Hypothesis</th>\n",
       "      <th>Reach</th>\n",
       "      <th>Impact</th>\n",
       "      <th>Confidence</th>\n",
       "      <th>Efforts</th>\n",
       "    </tr>\n",
       "  </thead>\n",
       "  <tbody>\n",
       "    <tr>\n",
       "      <th>0</th>\n",
       "      <td>Добавить два новых канала привлечения трафика, что позволит привлекать на 30% больше пользователей</td>\n",
       "      <td>3</td>\n",
       "      <td>10</td>\n",
       "      <td>8</td>\n",
       "      <td>6</td>\n",
       "    </tr>\n",
       "    <tr>\n",
       "      <th>1</th>\n",
       "      <td>Запустить собственную службу доставки, что сократит срок доставки заказов</td>\n",
       "      <td>2</td>\n",
       "      <td>5</td>\n",
       "      <td>4</td>\n",
       "      <td>10</td>\n",
       "    </tr>\n",
       "    <tr>\n",
       "      <th>2</th>\n",
       "      <td>Добавить блоки рекомендаций товаров на сайт интернет магазина, чтобы повысить конверсию и средний чек заказа</td>\n",
       "      <td>8</td>\n",
       "      <td>3</td>\n",
       "      <td>7</td>\n",
       "      <td>3</td>\n",
       "    </tr>\n",
       "    <tr>\n",
       "      <th>3</th>\n",
       "      <td>Изменить структура категорий, что увеличит конверсию, т.к. пользователи быстрее найдут нужный товар</td>\n",
       "      <td>8</td>\n",
       "      <td>3</td>\n",
       "      <td>3</td>\n",
       "      <td>8</td>\n",
       "    </tr>\n",
       "    <tr>\n",
       "      <th>4</th>\n",
       "      <td>Изменить цвет фона главной страницы, чтобы увеличить вовлеченность пользователей</td>\n",
       "      <td>3</td>\n",
       "      <td>1</td>\n",
       "      <td>1</td>\n",
       "      <td>1</td>\n",
       "    </tr>\n",
       "    <tr>\n",
       "      <th>5</th>\n",
       "      <td>Добавить страницу отзывов клиентов о магазине, что позволит увеличить количество заказов</td>\n",
       "      <td>3</td>\n",
       "      <td>2</td>\n",
       "      <td>2</td>\n",
       "      <td>3</td>\n",
       "    </tr>\n",
       "    <tr>\n",
       "      <th>6</th>\n",
       "      <td>Показать на главной странице баннеры с актуальными акциями и распродажами, чтобы увеличить конверсию</td>\n",
       "      <td>5</td>\n",
       "      <td>3</td>\n",
       "      <td>8</td>\n",
       "      <td>3</td>\n",
       "    </tr>\n",
       "    <tr>\n",
       "      <th>7</th>\n",
       "      <td>Добавить форму подписки на все основные страницы, чтобы собрать базу клиентов для email-рассылок</td>\n",
       "      <td>10</td>\n",
       "      <td>7</td>\n",
       "      <td>8</td>\n",
       "      <td>5</td>\n",
       "    </tr>\n",
       "    <tr>\n",
       "      <th>8</th>\n",
       "      <td>Запустить акцию, дающую скидку на товар в день рождения</td>\n",
       "      <td>1</td>\n",
       "      <td>9</td>\n",
       "      <td>9</td>\n",
       "      <td>5</td>\n",
       "    </tr>\n",
       "  </tbody>\n",
       "</table>\n",
       "</div>"
      ],
      "text/plain": [
       "                                                                                                     Hypothesis  \\\n",
       "0            Добавить два новых канала привлечения трафика, что позволит привлекать на 30% больше пользователей   \n",
       "1                                     Запустить собственную службу доставки, что сократит срок доставки заказов   \n",
       "2  Добавить блоки рекомендаций товаров на сайт интернет магазина, чтобы повысить конверсию и средний чек заказа   \n",
       "3           Изменить структура категорий, что увеличит конверсию, т.к. пользователи быстрее найдут нужный товар   \n",
       "4                              Изменить цвет фона главной страницы, чтобы увеличить вовлеченность пользователей   \n",
       "5                      Добавить страницу отзывов клиентов о магазине, что позволит увеличить количество заказов   \n",
       "6          Показать на главной странице баннеры с актуальными акциями и распродажами, чтобы увеличить конверсию   \n",
       "7              Добавить форму подписки на все основные страницы, чтобы собрать базу клиентов для email-рассылок   \n",
       "8                                                       Запустить акцию, дающую скидку на товар в день рождения   \n",
       "\n",
       "   Reach  Impact  Confidence  Efforts  \n",
       "0      3      10           8        6  \n",
       "1      2       5           4       10  \n",
       "2      8       3           7        3  \n",
       "3      8       3           3        8  \n",
       "4      3       1           1        1  \n",
       "5      3       2           2        3  \n",
       "6      5       3           8        3  \n",
       "7     10       7           8        5  \n",
       "8      1       9           9        5  "
      ]
     },
     "execution_count": 7,
     "metadata": {},
     "output_type": "execute_result"
    }
   ],
   "source": [
    "hypothesis"
   ]
  },
  {
   "cell_type": "markdown",
   "metadata": {},
   "source": [
    "Приведем названия столбцов к нижнему регистру"
   ]
  },
  {
   "cell_type": "code",
   "execution_count": 8,
   "metadata": {},
   "outputs": [],
   "source": [
    "hypothesis.columns = hypothesis.columns.str.lower()"
   ]
  },
  {
   "cell_type": "code",
   "execution_count": 9,
   "metadata": {},
   "outputs": [
    {
     "data": {
      "text/html": [
       "<div>\n",
       "<style scoped>\n",
       "    .dataframe tbody tr th:only-of-type {\n",
       "        vertical-align: middle;\n",
       "    }\n",
       "\n",
       "    .dataframe tbody tr th {\n",
       "        vertical-align: top;\n",
       "    }\n",
       "\n",
       "    .dataframe thead th {\n",
       "        text-align: right;\n",
       "    }\n",
       "</style>\n",
       "<table border=\"1\" class=\"dataframe\">\n",
       "  <thead>\n",
       "    <tr style=\"text-align: right;\">\n",
       "      <th></th>\n",
       "      <th>transactionId</th>\n",
       "      <th>visitorId</th>\n",
       "      <th>date</th>\n",
       "      <th>revenue</th>\n",
       "      <th>group</th>\n",
       "    </tr>\n",
       "  </thead>\n",
       "  <tbody>\n",
       "    <tr>\n",
       "      <th>0</th>\n",
       "      <td>3667963787</td>\n",
       "      <td>3312258926</td>\n",
       "      <td>2019-08-15</td>\n",
       "      <td>1650</td>\n",
       "      <td>B</td>\n",
       "    </tr>\n",
       "    <tr>\n",
       "      <th>1</th>\n",
       "      <td>2804400009</td>\n",
       "      <td>3642806036</td>\n",
       "      <td>2019-08-15</td>\n",
       "      <td>730</td>\n",
       "      <td>B</td>\n",
       "    </tr>\n",
       "    <tr>\n",
       "      <th>2</th>\n",
       "      <td>2961555356</td>\n",
       "      <td>4069496402</td>\n",
       "      <td>2019-08-15</td>\n",
       "      <td>400</td>\n",
       "      <td>A</td>\n",
       "    </tr>\n",
       "    <tr>\n",
       "      <th>3</th>\n",
       "      <td>3797467345</td>\n",
       "      <td>1196621759</td>\n",
       "      <td>2019-08-15</td>\n",
       "      <td>9759</td>\n",
       "      <td>B</td>\n",
       "    </tr>\n",
       "    <tr>\n",
       "      <th>4</th>\n",
       "      <td>2282983706</td>\n",
       "      <td>2322279887</td>\n",
       "      <td>2019-08-15</td>\n",
       "      <td>2308</td>\n",
       "      <td>B</td>\n",
       "    </tr>\n",
       "    <tr>\n",
       "      <th>...</th>\n",
       "      <td>...</td>\n",
       "      <td>...</td>\n",
       "      <td>...</td>\n",
       "      <td>...</td>\n",
       "      <td>...</td>\n",
       "    </tr>\n",
       "    <tr>\n",
       "      <th>1192</th>\n",
       "      <td>2662137336</td>\n",
       "      <td>3733762160</td>\n",
       "      <td>2019-08-14</td>\n",
       "      <td>6490</td>\n",
       "      <td>B</td>\n",
       "    </tr>\n",
       "    <tr>\n",
       "      <th>1193</th>\n",
       "      <td>2203539145</td>\n",
       "      <td>370388673</td>\n",
       "      <td>2019-08-14</td>\n",
       "      <td>3190</td>\n",
       "      <td>A</td>\n",
       "    </tr>\n",
       "    <tr>\n",
       "      <th>1194</th>\n",
       "      <td>1807773912</td>\n",
       "      <td>573423106</td>\n",
       "      <td>2019-08-14</td>\n",
       "      <td>10550</td>\n",
       "      <td>A</td>\n",
       "    </tr>\n",
       "    <tr>\n",
       "      <th>1195</th>\n",
       "      <td>1947021204</td>\n",
       "      <td>1614305549</td>\n",
       "      <td>2019-08-14</td>\n",
       "      <td>100</td>\n",
       "      <td>A</td>\n",
       "    </tr>\n",
       "    <tr>\n",
       "      <th>1196</th>\n",
       "      <td>3936777065</td>\n",
       "      <td>2108080724</td>\n",
       "      <td>2019-08-15</td>\n",
       "      <td>202740</td>\n",
       "      <td>B</td>\n",
       "    </tr>\n",
       "  </tbody>\n",
       "</table>\n",
       "<p>1197 rows × 5 columns</p>\n",
       "</div>"
      ],
      "text/plain": [
       "      transactionId   visitorId       date  revenue group\n",
       "0        3667963787  3312258926 2019-08-15     1650     B\n",
       "1        2804400009  3642806036 2019-08-15      730     B\n",
       "2        2961555356  4069496402 2019-08-15      400     A\n",
       "3        3797467345  1196621759 2019-08-15     9759     B\n",
       "4        2282983706  2322279887 2019-08-15     2308     B\n",
       "...             ...         ...        ...      ...   ...\n",
       "1192     2662137336  3733762160 2019-08-14     6490     B\n",
       "1193     2203539145   370388673 2019-08-14     3190     A\n",
       "1194     1807773912   573423106 2019-08-14    10550     A\n",
       "1195     1947021204  1614305549 2019-08-14      100     A\n",
       "1196     3936777065  2108080724 2019-08-15   202740     B\n",
       "\n",
       "[1197 rows x 5 columns]"
      ]
     },
     "execution_count": 9,
     "metadata": {},
     "output_type": "execute_result"
    }
   ],
   "source": [
    "orders"
   ]
  },
  {
   "cell_type": "code",
   "execution_count": 10,
   "metadata": {},
   "outputs": [
    {
     "data": {
      "text/plain": [
       "group    58\n",
       "dtype: int64"
      ]
     },
     "execution_count": 10,
     "metadata": {},
     "output_type": "execute_result"
    }
   ],
   "source": [
    "orders.groupby(['visitorId']).agg({'group': 'nunique'}).query('group > 1').count()\n"
   ]
  },
  {
   "cell_type": "code",
   "execution_count": 11,
   "metadata": {},
   "outputs": [],
   "source": [
    "orders = orders.loc[~orders[\"visitorId\"].isin(orders.groupby(['visitorId']).agg({'group': 'nunique'}).query('group > 1').index)]"
   ]
  },
  {
   "cell_type": "markdown",
   "metadata": {},
   "source": [
    "58 пользователей совершили заказы в обоих группах. Оставим их и не будем исключать. Возьмем данный факт на заметку.\n",
    "Выполнили ознакомление с данными. Явных проблем в данных нет, пропусков и дубликатов также нет. Соответствующие названия столбцов привели к необходимому виду"
   ]
  },
  {
   "cell_type": "markdown",
   "metadata": {},
   "source": [
    "## Приоретизация гипотез"
   ]
  },
  {
   "cell_type": "markdown",
   "metadata": {},
   "source": [
    "### Применим фреймворк ICE для приоритизации гипотез. Отсортируем их по убыванию приоритета"
   ]
  },
  {
   "cell_type": "code",
   "execution_count": 12,
   "metadata": {},
   "outputs": [],
   "source": [
    "hypothesis['ICE'] = (hypothesis['impact'] * hypothesis['confidence']) / hypothesis['efforts']\n",
    "hypothesis = hypothesis.sort_values(by = 'ICE', ascending=False)"
   ]
  },
  {
   "cell_type": "code",
   "execution_count": 13,
   "metadata": {},
   "outputs": [
    {
     "data": {
      "text/html": [
       "<div>\n",
       "<style scoped>\n",
       "    .dataframe tbody tr th:only-of-type {\n",
       "        vertical-align: middle;\n",
       "    }\n",
       "\n",
       "    .dataframe tbody tr th {\n",
       "        vertical-align: top;\n",
       "    }\n",
       "\n",
       "    .dataframe thead th {\n",
       "        text-align: right;\n",
       "    }\n",
       "</style>\n",
       "<table border=\"1\" class=\"dataframe\">\n",
       "  <thead>\n",
       "    <tr style=\"text-align: right;\">\n",
       "      <th></th>\n",
       "      <th>hypothesis</th>\n",
       "      <th>reach</th>\n",
       "      <th>impact</th>\n",
       "      <th>confidence</th>\n",
       "      <th>efforts</th>\n",
       "      <th>ICE</th>\n",
       "    </tr>\n",
       "  </thead>\n",
       "  <tbody>\n",
       "    <tr>\n",
       "      <th>8</th>\n",
       "      <td>Запустить акцию, дающую скидку на товар в день рождения</td>\n",
       "      <td>1</td>\n",
       "      <td>9</td>\n",
       "      <td>9</td>\n",
       "      <td>5</td>\n",
       "      <td>16.200000</td>\n",
       "    </tr>\n",
       "    <tr>\n",
       "      <th>0</th>\n",
       "      <td>Добавить два новых канала привлечения трафика, что позволит привлекать на 30% больше пользователей</td>\n",
       "      <td>3</td>\n",
       "      <td>10</td>\n",
       "      <td>8</td>\n",
       "      <td>6</td>\n",
       "      <td>13.333333</td>\n",
       "    </tr>\n",
       "    <tr>\n",
       "      <th>7</th>\n",
       "      <td>Добавить форму подписки на все основные страницы, чтобы собрать базу клиентов для email-рассылок</td>\n",
       "      <td>10</td>\n",
       "      <td>7</td>\n",
       "      <td>8</td>\n",
       "      <td>5</td>\n",
       "      <td>11.200000</td>\n",
       "    </tr>\n",
       "    <tr>\n",
       "      <th>6</th>\n",
       "      <td>Показать на главной странице баннеры с актуальными акциями и распродажами, чтобы увеличить конверсию</td>\n",
       "      <td>5</td>\n",
       "      <td>3</td>\n",
       "      <td>8</td>\n",
       "      <td>3</td>\n",
       "      <td>8.000000</td>\n",
       "    </tr>\n",
       "    <tr>\n",
       "      <th>2</th>\n",
       "      <td>Добавить блоки рекомендаций товаров на сайт интернет магазина, чтобы повысить конверсию и средний чек заказа</td>\n",
       "      <td>8</td>\n",
       "      <td>3</td>\n",
       "      <td>7</td>\n",
       "      <td>3</td>\n",
       "      <td>7.000000</td>\n",
       "    </tr>\n",
       "    <tr>\n",
       "      <th>1</th>\n",
       "      <td>Запустить собственную службу доставки, что сократит срок доставки заказов</td>\n",
       "      <td>2</td>\n",
       "      <td>5</td>\n",
       "      <td>4</td>\n",
       "      <td>10</td>\n",
       "      <td>2.000000</td>\n",
       "    </tr>\n",
       "    <tr>\n",
       "      <th>5</th>\n",
       "      <td>Добавить страницу отзывов клиентов о магазине, что позволит увеличить количество заказов</td>\n",
       "      <td>3</td>\n",
       "      <td>2</td>\n",
       "      <td>2</td>\n",
       "      <td>3</td>\n",
       "      <td>1.333333</td>\n",
       "    </tr>\n",
       "    <tr>\n",
       "      <th>3</th>\n",
       "      <td>Изменить структура категорий, что увеличит конверсию, т.к. пользователи быстрее найдут нужный товар</td>\n",
       "      <td>8</td>\n",
       "      <td>3</td>\n",
       "      <td>3</td>\n",
       "      <td>8</td>\n",
       "      <td>1.125000</td>\n",
       "    </tr>\n",
       "    <tr>\n",
       "      <th>4</th>\n",
       "      <td>Изменить цвет фона главной страницы, чтобы увеличить вовлеченность пользователей</td>\n",
       "      <td>3</td>\n",
       "      <td>1</td>\n",
       "      <td>1</td>\n",
       "      <td>1</td>\n",
       "      <td>1.000000</td>\n",
       "    </tr>\n",
       "  </tbody>\n",
       "</table>\n",
       "</div>"
      ],
      "text/plain": [
       "                                                                                                     hypothesis  \\\n",
       "8                                                       Запустить акцию, дающую скидку на товар в день рождения   \n",
       "0            Добавить два новых канала привлечения трафика, что позволит привлекать на 30% больше пользователей   \n",
       "7              Добавить форму подписки на все основные страницы, чтобы собрать базу клиентов для email-рассылок   \n",
       "6          Показать на главной странице баннеры с актуальными акциями и распродажами, чтобы увеличить конверсию   \n",
       "2  Добавить блоки рекомендаций товаров на сайт интернет магазина, чтобы повысить конверсию и средний чек заказа   \n",
       "1                                     Запустить собственную службу доставки, что сократит срок доставки заказов   \n",
       "5                      Добавить страницу отзывов клиентов о магазине, что позволит увеличить количество заказов   \n",
       "3           Изменить структура категорий, что увеличит конверсию, т.к. пользователи быстрее найдут нужный товар   \n",
       "4                              Изменить цвет фона главной страницы, чтобы увеличить вовлеченность пользователей   \n",
       "\n",
       "   reach  impact  confidence  efforts        ICE  \n",
       "8      1       9           9        5  16.200000  \n",
       "0      3      10           8        6  13.333333  \n",
       "7     10       7           8        5  11.200000  \n",
       "6      5       3           8        3   8.000000  \n",
       "2      8       3           7        3   7.000000  \n",
       "1      2       5           4       10   2.000000  \n",
       "5      3       2           2        3   1.333333  \n",
       "3      8       3           3        8   1.125000  \n",
       "4      3       1           1        1   1.000000  "
      ]
     },
     "execution_count": 13,
     "metadata": {},
     "output_type": "execute_result"
    }
   ],
   "source": [
    "hypothesis"
   ]
  },
  {
   "cell_type": "markdown",
   "metadata": {},
   "source": [
    "Лидирует гипотеза \"Запустить акцию, дающую скидку на товар в день рождения\", у нее высокая оценка влияния на пользователей, высокая оценка уверенности в гипотезе и средняя сложность, но с охватом пользователей беда. Проверим что покажет нам фреймворк RICE"
   ]
  },
  {
   "cell_type": "markdown",
   "metadata": {},
   "source": [
    "### Применим фреймворк RICE для приоритизации гипотез. Отсортируем их по убыванию приоритета"
   ]
  },
  {
   "cell_type": "code",
   "execution_count": 14,
   "metadata": {},
   "outputs": [],
   "source": [
    "hypothesis['RICE'] = (hypothesis['reach'] * hypothesis['impact'] * hypothesis['confidence']) / hypothesis['efforts']\n",
    "hypothesis = hypothesis.sort_values(by = 'RICE', ascending = False)"
   ]
  },
  {
   "cell_type": "code",
   "execution_count": 15,
   "metadata": {},
   "outputs": [
    {
     "data": {
      "text/html": [
       "<div>\n",
       "<style scoped>\n",
       "    .dataframe tbody tr th:only-of-type {\n",
       "        vertical-align: middle;\n",
       "    }\n",
       "\n",
       "    .dataframe tbody tr th {\n",
       "        vertical-align: top;\n",
       "    }\n",
       "\n",
       "    .dataframe thead th {\n",
       "        text-align: right;\n",
       "    }\n",
       "</style>\n",
       "<table border=\"1\" class=\"dataframe\">\n",
       "  <thead>\n",
       "    <tr style=\"text-align: right;\">\n",
       "      <th></th>\n",
       "      <th>hypothesis</th>\n",
       "      <th>reach</th>\n",
       "      <th>impact</th>\n",
       "      <th>confidence</th>\n",
       "      <th>efforts</th>\n",
       "      <th>ICE</th>\n",
       "      <th>RICE</th>\n",
       "    </tr>\n",
       "  </thead>\n",
       "  <tbody>\n",
       "    <tr>\n",
       "      <th>7</th>\n",
       "      <td>Добавить форму подписки на все основные страницы, чтобы собрать базу клиентов для email-рассылок</td>\n",
       "      <td>10</td>\n",
       "      <td>7</td>\n",
       "      <td>8</td>\n",
       "      <td>5</td>\n",
       "      <td>11.200000</td>\n",
       "      <td>112.0</td>\n",
       "    </tr>\n",
       "    <tr>\n",
       "      <th>2</th>\n",
       "      <td>Добавить блоки рекомендаций товаров на сайт интернет магазина, чтобы повысить конверсию и средний чек заказа</td>\n",
       "      <td>8</td>\n",
       "      <td>3</td>\n",
       "      <td>7</td>\n",
       "      <td>3</td>\n",
       "      <td>7.000000</td>\n",
       "      <td>56.0</td>\n",
       "    </tr>\n",
       "    <tr>\n",
       "      <th>0</th>\n",
       "      <td>Добавить два новых канала привлечения трафика, что позволит привлекать на 30% больше пользователей</td>\n",
       "      <td>3</td>\n",
       "      <td>10</td>\n",
       "      <td>8</td>\n",
       "      <td>6</td>\n",
       "      <td>13.333333</td>\n",
       "      <td>40.0</td>\n",
       "    </tr>\n",
       "    <tr>\n",
       "      <th>6</th>\n",
       "      <td>Показать на главной странице баннеры с актуальными акциями и распродажами, чтобы увеличить конверсию</td>\n",
       "      <td>5</td>\n",
       "      <td>3</td>\n",
       "      <td>8</td>\n",
       "      <td>3</td>\n",
       "      <td>8.000000</td>\n",
       "      <td>40.0</td>\n",
       "    </tr>\n",
       "    <tr>\n",
       "      <th>8</th>\n",
       "      <td>Запустить акцию, дающую скидку на товар в день рождения</td>\n",
       "      <td>1</td>\n",
       "      <td>9</td>\n",
       "      <td>9</td>\n",
       "      <td>5</td>\n",
       "      <td>16.200000</td>\n",
       "      <td>16.2</td>\n",
       "    </tr>\n",
       "    <tr>\n",
       "      <th>3</th>\n",
       "      <td>Изменить структура категорий, что увеличит конверсию, т.к. пользователи быстрее найдут нужный товар</td>\n",
       "      <td>8</td>\n",
       "      <td>3</td>\n",
       "      <td>3</td>\n",
       "      <td>8</td>\n",
       "      <td>1.125000</td>\n",
       "      <td>9.0</td>\n",
       "    </tr>\n",
       "    <tr>\n",
       "      <th>1</th>\n",
       "      <td>Запустить собственную службу доставки, что сократит срок доставки заказов</td>\n",
       "      <td>2</td>\n",
       "      <td>5</td>\n",
       "      <td>4</td>\n",
       "      <td>10</td>\n",
       "      <td>2.000000</td>\n",
       "      <td>4.0</td>\n",
       "    </tr>\n",
       "    <tr>\n",
       "      <th>5</th>\n",
       "      <td>Добавить страницу отзывов клиентов о магазине, что позволит увеличить количество заказов</td>\n",
       "      <td>3</td>\n",
       "      <td>2</td>\n",
       "      <td>2</td>\n",
       "      <td>3</td>\n",
       "      <td>1.333333</td>\n",
       "      <td>4.0</td>\n",
       "    </tr>\n",
       "    <tr>\n",
       "      <th>4</th>\n",
       "      <td>Изменить цвет фона главной страницы, чтобы увеличить вовлеченность пользователей</td>\n",
       "      <td>3</td>\n",
       "      <td>1</td>\n",
       "      <td>1</td>\n",
       "      <td>1</td>\n",
       "      <td>1.000000</td>\n",
       "      <td>3.0</td>\n",
       "    </tr>\n",
       "  </tbody>\n",
       "</table>\n",
       "</div>"
      ],
      "text/plain": [
       "                                                                                                     hypothesis  \\\n",
       "7              Добавить форму подписки на все основные страницы, чтобы собрать базу клиентов для email-рассылок   \n",
       "2  Добавить блоки рекомендаций товаров на сайт интернет магазина, чтобы повысить конверсию и средний чек заказа   \n",
       "0            Добавить два новых канала привлечения трафика, что позволит привлекать на 30% больше пользователей   \n",
       "6          Показать на главной странице баннеры с актуальными акциями и распродажами, чтобы увеличить конверсию   \n",
       "8                                                       Запустить акцию, дающую скидку на товар в день рождения   \n",
       "3           Изменить структура категорий, что увеличит конверсию, т.к. пользователи быстрее найдут нужный товар   \n",
       "1                                     Запустить собственную службу доставки, что сократит срок доставки заказов   \n",
       "5                      Добавить страницу отзывов клиентов о магазине, что позволит увеличить количество заказов   \n",
       "4                              Изменить цвет фона главной страницы, чтобы увеличить вовлеченность пользователей   \n",
       "\n",
       "   reach  impact  confidence  efforts        ICE   RICE  \n",
       "7     10       7           8        5  11.200000  112.0  \n",
       "2      8       3           7        3   7.000000   56.0  \n",
       "0      3      10           8        6  13.333333   40.0  \n",
       "6      5       3           8        3   8.000000   40.0  \n",
       "8      1       9           9        5  16.200000   16.2  \n",
       "3      8       3           3        8   1.125000    9.0  \n",
       "1      2       5           4       10   2.000000    4.0  \n",
       "5      3       2           2        3   1.333333    4.0  \n",
       "4      3       1           1        1   1.000000    3.0  "
      ]
     },
     "execution_count": 15,
     "metadata": {},
     "output_type": "execute_result"
    }
   ],
   "source": [
    "hypothesis"
   ]
  },
  {
   "cell_type": "markdown",
   "metadata": {},
   "source": [
    "После расчета RICE и сортировки по убыванию самый большой показатель получилсяу гипотезы \"Добавить форму подписки на все основные страницы, чтобы собрать базу клиентов для email-рассылок\". Большая оценка охвата пользователей, выше среднего оценка влияния на пользователей и уверенности, и все это при средней сложности и цене проверки.\n"
   ]
  },
  {
   "cell_type": "code",
   "execution_count": 16,
   "metadata": {},
   "outputs": [
    {
     "data": {
      "text/html": [
       "<style  type=\"text/css\" >\n",
       "#T_32569_row0_col2,#T_32569_row0_col3{\n",
       "            width:  10em;\n",
       "             height:  80%;\n",
       "            background:  linear-gradient(90deg,yellowgreen 14.5%, transparent 14.5%);\n",
       "            text-align:  center;\n",
       "        }#T_32569_row1_col2{\n",
       "            width:  10em;\n",
       "             height:  80%;\n",
       "            background:  linear-gradient(90deg,yellowgreen 11.9%, transparent 11.9%);\n",
       "            text-align:  center;\n",
       "        }#T_32569_row1_col3,#T_32569_row3_col3{\n",
       "            width:  10em;\n",
       "             height:  80%;\n",
       "            background:  linear-gradient(90deg,yellowgreen 35.7%, transparent 35.7%);\n",
       "            text-align:  center;\n",
       "        }#T_32569_row2_col2{\n",
       "            width:  10em;\n",
       "             height:  80%;\n",
       "            background:  linear-gradient(90deg,yellowgreen 10.0%, transparent 10.0%);\n",
       "            text-align:  center;\n",
       "        }#T_32569_row2_col3{\n",
       "            width:  10em;\n",
       "             height:  80%;\n",
       "            background:  linear-gradient(90deg,yellowgreen 100.0%, transparent 100.0%);\n",
       "            text-align:  center;\n",
       "        }#T_32569_row3_col2{\n",
       "            width:  10em;\n",
       "             height:  80%;\n",
       "            background:  linear-gradient(90deg,yellowgreen 7.1%, transparent 7.1%);\n",
       "            text-align:  center;\n",
       "        }#T_32569_row4_col2{\n",
       "            width:  10em;\n",
       "             height:  80%;\n",
       "            background:  linear-gradient(90deg,yellowgreen 6.2%, transparent 6.2%);\n",
       "            text-align:  center;\n",
       "        }#T_32569_row4_col3{\n",
       "            width:  10em;\n",
       "             height:  80%;\n",
       "            background:  linear-gradient(90deg,yellowgreen 50.0%, transparent 50.0%);\n",
       "            text-align:  center;\n",
       "        }#T_32569_row5_col2{\n",
       "            width:  10em;\n",
       "             height:  80%;\n",
       "            background:  linear-gradient(90deg,yellowgreen 1.8%, transparent 1.8%);\n",
       "            text-align:  center;\n",
       "        }#T_32569_row5_col3,#T_32569_row6_col3{\n",
       "            width:  10em;\n",
       "             height:  80%;\n",
       "            background:  linear-gradient(90deg,yellowgreen 3.6%, transparent 3.6%);\n",
       "            text-align:  center;\n",
       "        }#T_32569_row6_col2{\n",
       "            width:  10em;\n",
       "             height:  80%;\n",
       "            background:  linear-gradient(90deg,yellowgreen 1.2%, transparent 1.2%);\n",
       "            text-align:  center;\n",
       "        }#T_32569_row7_col2{\n",
       "            width:  10em;\n",
       "             height:  80%;\n",
       "            background:  linear-gradient(90deg,yellowgreen 1.0%, transparent 1.0%);\n",
       "            text-align:  center;\n",
       "        }#T_32569_row7_col3{\n",
       "            width:  10em;\n",
       "             height:  80%;\n",
       "            background:  linear-gradient(90deg,yellowgreen 8.0%, transparent 8.0%);\n",
       "            text-align:  center;\n",
       "        }#T_32569_row8_col2{\n",
       "            width:  10em;\n",
       "             height:  80%;\n",
       "            background:  linear-gradient(90deg,yellowgreen 0.9%, transparent 0.9%);\n",
       "            text-align:  center;\n",
       "        }#T_32569_row8_col3{\n",
       "            width:  10em;\n",
       "             height:  80%;\n",
       "            background:  linear-gradient(90deg,yellowgreen 2.7%, transparent 2.7%);\n",
       "            text-align:  center;\n",
       "        }</style><table id=\"T_32569_\" ><thead>    <tr>        <th class=\"blank level0\" ></th>        <th class=\"col_heading level0 col0\" >index</th>        <th class=\"col_heading level0 col1\" >hypothesis</th>        <th class=\"col_heading level0 col2\" >ICE</th>        <th class=\"col_heading level0 col3\" >RICE</th>    </tr></thead><tbody>\n",
       "                <tr>\n",
       "                        <th id=\"T_32569_level0_row0\" class=\"row_heading level0 row0\" >0</th>\n",
       "                        <td id=\"T_32569_row0_col0\" class=\"data row0 col0\" >8</td>\n",
       "                        <td id=\"T_32569_row0_col1\" class=\"data row0 col1\" >Запустить акцию, дающую скидку на товар в день рождения</td>\n",
       "                        <td id=\"T_32569_row0_col2\" class=\"data row0 col2\" >16.20</td>\n",
       "                        <td id=\"T_32569_row0_col3\" class=\"data row0 col3\" >16.20</td>\n",
       "            </tr>\n",
       "            <tr>\n",
       "                        <th id=\"T_32569_level0_row1\" class=\"row_heading level0 row1\" >1</th>\n",
       "                        <td id=\"T_32569_row1_col0\" class=\"data row1 col0\" >0</td>\n",
       "                        <td id=\"T_32569_row1_col1\" class=\"data row1 col1\" >Добавить два новых канала привлечения трафика, что позволит привлекать на 30% больше пользователей</td>\n",
       "                        <td id=\"T_32569_row1_col2\" class=\"data row1 col2\" >13.33</td>\n",
       "                        <td id=\"T_32569_row1_col3\" class=\"data row1 col3\" >40.00</td>\n",
       "            </tr>\n",
       "            <tr>\n",
       "                        <th id=\"T_32569_level0_row2\" class=\"row_heading level0 row2\" >2</th>\n",
       "                        <td id=\"T_32569_row2_col0\" class=\"data row2 col0\" >7</td>\n",
       "                        <td id=\"T_32569_row2_col1\" class=\"data row2 col1\" >Добавить форму подписки на все основные страницы, чтобы собрать базу клиентов для email-рассылок</td>\n",
       "                        <td id=\"T_32569_row2_col2\" class=\"data row2 col2\" >11.20</td>\n",
       "                        <td id=\"T_32569_row2_col3\" class=\"data row2 col3\" >112.00</td>\n",
       "            </tr>\n",
       "            <tr>\n",
       "                        <th id=\"T_32569_level0_row3\" class=\"row_heading level0 row3\" >3</th>\n",
       "                        <td id=\"T_32569_row3_col0\" class=\"data row3 col0\" >6</td>\n",
       "                        <td id=\"T_32569_row3_col1\" class=\"data row3 col1\" >Показать на главной странице баннеры с актуальными акциями и распродажами, чтобы увеличить конверсию</td>\n",
       "                        <td id=\"T_32569_row3_col2\" class=\"data row3 col2\" >8.00</td>\n",
       "                        <td id=\"T_32569_row3_col3\" class=\"data row3 col3\" >40.00</td>\n",
       "            </tr>\n",
       "            <tr>\n",
       "                        <th id=\"T_32569_level0_row4\" class=\"row_heading level0 row4\" >4</th>\n",
       "                        <td id=\"T_32569_row4_col0\" class=\"data row4 col0\" >2</td>\n",
       "                        <td id=\"T_32569_row4_col1\" class=\"data row4 col1\" >Добавить блоки рекомендаций товаров на сайт интернет магазина, чтобы повысить конверсию и средний чек заказа</td>\n",
       "                        <td id=\"T_32569_row4_col2\" class=\"data row4 col2\" >7.00</td>\n",
       "                        <td id=\"T_32569_row4_col3\" class=\"data row4 col3\" >56.00</td>\n",
       "            </tr>\n",
       "            <tr>\n",
       "                        <th id=\"T_32569_level0_row5\" class=\"row_heading level0 row5\" >5</th>\n",
       "                        <td id=\"T_32569_row5_col0\" class=\"data row5 col0\" >1</td>\n",
       "                        <td id=\"T_32569_row5_col1\" class=\"data row5 col1\" >Запустить собственную службу доставки, что сократит срок доставки заказов</td>\n",
       "                        <td id=\"T_32569_row5_col2\" class=\"data row5 col2\" >2.00</td>\n",
       "                        <td id=\"T_32569_row5_col3\" class=\"data row5 col3\" >4.00</td>\n",
       "            </tr>\n",
       "            <tr>\n",
       "                        <th id=\"T_32569_level0_row6\" class=\"row_heading level0 row6\" >6</th>\n",
       "                        <td id=\"T_32569_row6_col0\" class=\"data row6 col0\" >5</td>\n",
       "                        <td id=\"T_32569_row6_col1\" class=\"data row6 col1\" >Добавить страницу отзывов клиентов о магазине, что позволит увеличить количество заказов</td>\n",
       "                        <td id=\"T_32569_row6_col2\" class=\"data row6 col2\" >1.33</td>\n",
       "                        <td id=\"T_32569_row6_col3\" class=\"data row6 col3\" >4.00</td>\n",
       "            </tr>\n",
       "            <tr>\n",
       "                        <th id=\"T_32569_level0_row7\" class=\"row_heading level0 row7\" >7</th>\n",
       "                        <td id=\"T_32569_row7_col0\" class=\"data row7 col0\" >3</td>\n",
       "                        <td id=\"T_32569_row7_col1\" class=\"data row7 col1\" >Изменить структура категорий, что увеличит конверсию, т.к. пользователи быстрее найдут нужный товар</td>\n",
       "                        <td id=\"T_32569_row7_col2\" class=\"data row7 col2\" >1.12</td>\n",
       "                        <td id=\"T_32569_row7_col3\" class=\"data row7 col3\" >9.00</td>\n",
       "            </tr>\n",
       "            <tr>\n",
       "                        <th id=\"T_32569_level0_row8\" class=\"row_heading level0 row8\" >8</th>\n",
       "                        <td id=\"T_32569_row8_col0\" class=\"data row8 col0\" >4</td>\n",
       "                        <td id=\"T_32569_row8_col1\" class=\"data row8 col1\" >Изменить цвет фона главной страницы, чтобы увеличить вовлеченность пользователей</td>\n",
       "                        <td id=\"T_32569_row8_col2\" class=\"data row8 col2\" >1.00</td>\n",
       "                        <td id=\"T_32569_row8_col3\" class=\"data row8 col3\" >3.00</td>\n",
       "            </tr>\n",
       "    </tbody></table>"
      ],
      "text/plain": [
       "<pandas.io.formats.style.Styler at 0x7f4d8ac49040>"
      ]
     },
     "metadata": {},
     "output_type": "display_data"
    }
   ],
   "source": [
    "display(hypothesis[['hypothesis','ICE','RICE']].sort_values(by=['ICE', 'RICE'], ascending=False). \\\n",
    "                      reset_index(drop=False).style. \\\n",
    "                      format({'ICE': '{:.2f}', 'RICE' : '{:.2f}'}). \\\n",
    "                      bar(subset=['RICE', 'ICE'], \n",
    "                          align='mid', \n",
    "                          color = ['yellowgreen'], \n",
    "                          vmax=hypothesis['RICE'].max()). \\\n",
    "                      set_properties(**{'text-align':'center'}, subset=['ICE', 'RICE']))"
   ]
  },
  {
   "cell_type": "markdown",
   "metadata": {},
   "source": [
    "Приоретизация гипотез по RICE относительно ICE изменилась. Объяснить это можно тем что при подсчете ICE не участвует показатель reach, показывающий нам охват пользователей по 10-бальной шкале. Поэтому наиболее приоритетной и объективной гипотезой для проверки будет гипотеза № 7, третье место по ICE и первое место по RICE. То есть нам нужно доказать что после того как мы начнем осуществлять рассылки клиентам выручка магазина увеличится"
   ]
  },
  {
   "cell_type": "markdown",
   "metadata": {},
   "source": [
    "## Анализ А/В теста"
   ]
  },
  {
   "cell_type": "markdown",
   "metadata": {},
   "source": [
    "### Построим график кумулятивной выручки по группам"
   ]
  },
  {
   "cell_type": "code",
   "execution_count": 17,
   "metadata": {},
   "outputs": [],
   "source": [
    "datesGroups = orders[['date', 'group']].drop_duplicates()\n",
    "\n",
    "ordersAggregated = datesGroups.apply(lambda x: orders[np.logical_and(orders['date'] <= x['date'], orders['group'] == x['group'])]\\\n",
    ".agg({'date' : 'max', 'group' : 'max', 'transactionId' : 'nunique', 'visitorId' : 'nunique', 'revenue' : 'sum'}), axis=1) \\\n",
    ".sort_values(by=['date','group']) \n",
    "visitorsAggregated = datesGroups.apply(lambda x: visitors[np.logical_and(visitors['date'] <= x['date'], visitors['group'] == x['group'])] \\\n",
    "                                       .agg({'date' : 'max', 'group' : 'max', 'visitors' : 'sum'}), axis=1).sort_values(by=['date','group'])\n",
    "\n",
    "cumulativeData = ordersAggregated.merge(visitorsAggregated, left_on=['date', 'group'], right_on=['date', 'group'])\n",
    "cumulativeData.columns = ['date', 'group', 'orders', 'buyers', 'revenue', 'visitors']"
   ]
  },
  {
   "cell_type": "code",
   "execution_count": 18,
   "metadata": {},
   "outputs": [
    {
     "data": {
      "text/html": [
       "<div>\n",
       "<style scoped>\n",
       "    .dataframe tbody tr th:only-of-type {\n",
       "        vertical-align: middle;\n",
       "    }\n",
       "\n",
       "    .dataframe tbody tr th {\n",
       "        vertical-align: top;\n",
       "    }\n",
       "\n",
       "    .dataframe thead th {\n",
       "        text-align: right;\n",
       "    }\n",
       "</style>\n",
       "<table border=\"1\" class=\"dataframe\">\n",
       "  <thead>\n",
       "    <tr style=\"text-align: right;\">\n",
       "      <th></th>\n",
       "      <th>date</th>\n",
       "      <th>group</th>\n",
       "      <th>orders</th>\n",
       "      <th>buyers</th>\n",
       "      <th>revenue</th>\n",
       "      <th>visitors</th>\n",
       "    </tr>\n",
       "  </thead>\n",
       "  <tbody>\n",
       "    <tr>\n",
       "      <th>0</th>\n",
       "      <td>2019-08-01</td>\n",
       "      <td>A</td>\n",
       "      <td>23</td>\n",
       "      <td>19</td>\n",
       "      <td>142779</td>\n",
       "      <td>719</td>\n",
       "    </tr>\n",
       "    <tr>\n",
       "      <th>1</th>\n",
       "      <td>2019-08-01</td>\n",
       "      <td>B</td>\n",
       "      <td>17</td>\n",
       "      <td>17</td>\n",
       "      <td>59758</td>\n",
       "      <td>713</td>\n",
       "    </tr>\n",
       "    <tr>\n",
       "      <th>2</th>\n",
       "      <td>2019-08-02</td>\n",
       "      <td>A</td>\n",
       "      <td>42</td>\n",
       "      <td>36</td>\n",
       "      <td>234381</td>\n",
       "      <td>1338</td>\n",
       "    </tr>\n",
       "    <tr>\n",
       "      <th>3</th>\n",
       "      <td>2019-08-02</td>\n",
       "      <td>B</td>\n",
       "      <td>40</td>\n",
       "      <td>39</td>\n",
       "      <td>221801</td>\n",
       "      <td>1294</td>\n",
       "    </tr>\n",
       "    <tr>\n",
       "      <th>4</th>\n",
       "      <td>2019-08-03</td>\n",
       "      <td>A</td>\n",
       "      <td>66</td>\n",
       "      <td>60</td>\n",
       "      <td>346854</td>\n",
       "      <td>1845</td>\n",
       "    </tr>\n",
       "    <tr>\n",
       "      <th>...</th>\n",
       "      <td>...</td>\n",
       "      <td>...</td>\n",
       "      <td>...</td>\n",
       "      <td>...</td>\n",
       "      <td>...</td>\n",
       "      <td>...</td>\n",
       "    </tr>\n",
       "    <tr>\n",
       "      <th>57</th>\n",
       "      <td>2019-08-29</td>\n",
       "      <td>B</td>\n",
       "      <td>510</td>\n",
       "      <td>490</td>\n",
       "      <td>4746610</td>\n",
       "      <td>17708</td>\n",
       "    </tr>\n",
       "    <tr>\n",
       "      <th>58</th>\n",
       "      <td>2019-08-30</td>\n",
       "      <td>A</td>\n",
       "      <td>460</td>\n",
       "      <td>437</td>\n",
       "      <td>3311413</td>\n",
       "      <td>18037</td>\n",
       "    </tr>\n",
       "    <tr>\n",
       "      <th>59</th>\n",
       "      <td>2019-08-30</td>\n",
       "      <td>B</td>\n",
       "      <td>531</td>\n",
       "      <td>511</td>\n",
       "      <td>4955833</td>\n",
       "      <td>18198</td>\n",
       "    </tr>\n",
       "    <tr>\n",
       "      <th>60</th>\n",
       "      <td>2019-08-31</td>\n",
       "      <td>A</td>\n",
       "      <td>468</td>\n",
       "      <td>445</td>\n",
       "      <td>3364656</td>\n",
       "      <td>18736</td>\n",
       "    </tr>\n",
       "    <tr>\n",
       "      <th>61</th>\n",
       "      <td>2019-08-31</td>\n",
       "      <td>B</td>\n",
       "      <td>548</td>\n",
       "      <td>528</td>\n",
       "      <td>5068972</td>\n",
       "      <td>18916</td>\n",
       "    </tr>\n",
       "  </tbody>\n",
       "</table>\n",
       "<p>62 rows × 6 columns</p>\n",
       "</div>"
      ],
      "text/plain": [
       "         date group  orders  buyers  revenue  visitors\n",
       "0  2019-08-01     A      23      19   142779       719\n",
       "1  2019-08-01     B      17      17    59758       713\n",
       "2  2019-08-02     A      42      36   234381      1338\n",
       "3  2019-08-02     B      40      39   221801      1294\n",
       "4  2019-08-03     A      66      60   346854      1845\n",
       "..        ...   ...     ...     ...      ...       ...\n",
       "57 2019-08-29     B     510     490  4746610     17708\n",
       "58 2019-08-30     A     460     437  3311413     18037\n",
       "59 2019-08-30     B     531     511  4955833     18198\n",
       "60 2019-08-31     A     468     445  3364656     18736\n",
       "61 2019-08-31     B     548     528  5068972     18916\n",
       "\n",
       "[62 rows x 6 columns]"
      ]
     },
     "execution_count": 18,
     "metadata": {},
     "output_type": "execute_result"
    }
   ],
   "source": [
    "cumulativeData"
   ]
  },
  {
   "cell_type": "code",
   "execution_count": 19,
   "metadata": {},
   "outputs": [
    {
     "data": {
      "text/plain": [
       "Timestamp('2019-08-01 00:00:00')"
      ]
     },
     "execution_count": 19,
     "metadata": {},
     "output_type": "execute_result"
    }
   ],
   "source": [
    "cumulativeData['date'].min()"
   ]
  },
  {
   "cell_type": "code",
   "execution_count": 20,
   "metadata": {},
   "outputs": [
    {
     "data": {
      "text/plain": [
       "Timestamp('2019-08-31 00:00:00')"
      ]
     },
     "execution_count": 20,
     "metadata": {},
     "output_type": "execute_result"
    }
   ],
   "source": [
    "cumulativeData['date'].max()"
   ]
  },
  {
   "cell_type": "markdown",
   "metadata": {},
   "source": [
    "Проверили диапазон дат"
   ]
  },
  {
   "cell_type": "code",
   "execution_count": 21,
   "metadata": {},
   "outputs": [
    {
     "data": {
      "image/png": "[encoded data removed]",
      "text/plain": [
       "<Figure size 720x360 with 1 Axes>"
      ]
     },
     "metadata": {
      "needs_background": "light"
     },
     "output_type": "display_data"
    }
   ],
   "source": [
    "# датафрейм с кумулятивным количеством заказов и кумулятивной выручкой по дням в группе А\n",
    "cumulativeRevenueA = cumulativeData[cumulativeData['group']=='A'][['date','revenue', 'orders']]\n",
    "\n",
    "# датафрейм с кумулятивным количеством заказов и кумулятивной выручкой по дням в группе B\n",
    "cumulativeRevenueB = cumulativeData[cumulativeData['group']=='B'][['date','revenue', 'orders']]\n",
    "plt.figure(figsize=(10, 5))\n",
    "# Строим график выручки группы А\n",
    "plt.plot(cumulativeRevenueA['date'], cumulativeRevenueA['revenue'], label='A')\n",
    "\n",
    "# Строим график выручки группы B\n",
    "plt.plot(cumulativeRevenueB['date'], cumulativeRevenueB['revenue'], label='B')\n",
    "\n",
    "plt.title('Кумулятивная выручка по группам')\n",
    "plt.xticks(rotation=45, ha='right')\n",
    "plt.grid(True)\n",
    "plt.legend(['Группа А','Гпуппа В'])\n",
    "\n",
    "plt.show()\n",
    "\n"
   ]
  },
  {
   "cell_type": "markdown",
   "metadata": {},
   "source": [
    "Кумулятивная выручка группы В значительно выше чем в группе А, на 13-ый день выручка сравнялась, но далее сильно выросла. На 17-ый день выручка в группе В сильно скачкообразно выросла, возможно дело в дорогих заказах. Для группы А выручка стабильно без всплесков идет вверх, но и для группы В она увеличивается со временем"
   ]
  },
  {
   "cell_type": "markdown",
   "metadata": {},
   "source": [
    "### Построим график кумулятивного среднего чека по группам"
   ]
  },
  {
   "cell_type": "code",
   "execution_count": 22,
   "metadata": {},
   "outputs": [
    {
     "data": {
      "image/png": "[encoded data removed]",
      "text/plain": [
       "<Figure size 720x360 with 1 Axes>"
      ]
     },
     "metadata": {
      "needs_background": "light"
     },
     "output_type": "display_data"
    }
   ],
   "source": [
    "plt.figure(figsize=(10, 5))\n",
    "plt.plot(cumulativeRevenueA['date'], cumulativeRevenueA['revenue']/cumulativeRevenueA['orders'], label='A')\n",
    "plt.plot(cumulativeRevenueB['date'], cumulativeRevenueB['revenue']/cumulativeRevenueB['orders'], label='B')\n",
    "plt.title('Средний чек по группам')\n",
    "plt.xticks(rotation=45, ha='right')\n",
    "plt.grid(True)\n",
    "plt.legend(['Группа А','Гпуппа В'])\n",
    "\n",
    "plt.show()"
   ]
  },
  {
   "cell_type": "markdown",
   "metadata": {},
   "source": [
    "Средний чек в группе В также значительнее выше чем в группе А. Начиная с 12 по 15-ый день средний чек в обоих группах практически сравнялся, но затем средний чек в группе В значительно вырос относительно группы А. Также на 17-ый средний чек в группе В сильно скачкообразно вырос,а затем начал снижаться. Вероятнее всего попали очень дорогие заказы. И наоборот средний чек в группе А стабилизировался и постепенно растет"
   ]
  },
  {
   "cell_type": "markdown",
   "metadata": {},
   "source": [
    "### Построим график относительного изменения кумулятивного среднего чека группы B к группе A"
   ]
  },
  {
   "cell_type": "code",
   "execution_count": 23,
   "metadata": {},
   "outputs": [
    {
     "data": {
      "image/png": "[encoded data removed]",
      "text/plain": [
       "<Figure size 720x360 with 1 Axes>"
      ]
     },
     "metadata": {
      "needs_background": "light"
     },
     "output_type": "display_data"
    }
   ],
   "source": [
    "# собираем данные в одном датафрейме\n",
    "mergedCumulativeRevenue = cumulativeRevenueA.merge(cumulativeRevenueB, left_on='date', right_on='date', how='left', suffixes=['A', 'B'])\n",
    "plt.figure(figsize=(10, 5))\n",
    "# cтроим отношение средних чеков\n",
    "plt.plot(mergedCumulativeRevenue['date'], (mergedCumulativeRevenue['revenueB']/mergedCumulativeRevenue['ordersB']\n",
    "                                          )/(mergedCumulativeRevenue['revenueA']/mergedCumulativeRevenue['ordersA'])-1)\n",
    "\n",
    "# добавляем ось X\n",
    "plt.axhline(y=0, color='black', linestyle='--') \n",
    "plt.title('Относительное изменение среднего чека')\n",
    "plt.xticks(rotation=45, ha='right')\n",
    "plt.grid(True)\n",
    "\n",
    "plt.show()"
   ]
  },
  {
   "cell_type": "markdown",
   "metadata": {},
   "source": [
    "Средний чек группы В сильно доминирует над средним чеком группы А, но не стабильно, с большими всплесками, а в моменте даже снизился относительно группы А. В нескольких точках график относительного изменения кумулятивного среднего чека группы B к группе A сильно скачет. Вероятно что мы имеем дело с крупными заказами или выбросами"
   ]
  },
  {
   "cell_type": "markdown",
   "metadata": {},
   "source": [
    "### Построим график кумулятивной конверсии по группам"
   ]
  },
  {
   "cell_type": "code",
   "execution_count": 24,
   "metadata": {},
   "outputs": [
    {
     "data": {
      "image/png": "[encoded data removed]",
      "text/plain": [
       "<Figure size 720x360 with 1 Axes>"
      ]
     },
     "metadata": {
      "needs_background": "light"
     },
     "output_type": "display_data"
    }
   ],
   "source": [
    "# считаем кумулятивную конверсию\n",
    "cumulativeData['conversion'] = cumulativeData['orders']/cumulativeData['visitors']\n",
    "\n",
    "# отделяем данные по группе A\n",
    "cumulativeDataA = cumulativeData[cumulativeData['group']=='A']\n",
    "\n",
    "# отделяем данные по группе B\n",
    "cumulativeDataB = cumulativeData[cumulativeData['group']=='B']\n",
    "\n",
    "# строим графики\n",
    "plt.figure(figsize=(10, 5))\n",
    "plt.plot(cumulativeDataA['date'], cumulativeDataA['conversion'], label='A')\n",
    "plt.plot(cumulativeDataB['date'], cumulativeDataB['conversion'], label='B')\n",
    "plt.legend()\n",
    "plt.title('Кумулятивная конверсия по группам')\n",
    "plt.xticks(rotation=45, ha='right')\n",
    "plt.grid(True)\n",
    "plt.legend(['Группа А','Гпуппа В'])\n",
    "plt.show()\n"
   ]
  },
  {
   "cell_type": "markdown",
   "metadata": {},
   "source": [
    "В начале были сильные всплески и группа А была выше тестируемой группы В, затем в моменте конверсия обоих групп пересеклась, далее конверсия группы В на протяжении всего периода теста находилась заметно выше конверсии группы А, но имела постоянную тенденцию к снижению, к концу теста конверсия выровнялась. Конверсия группы А наоборот выровнялась и оставалась стабильной на протяжении теста с незначительным ростом"
   ]
  },
  {
   "cell_type": "markdown",
   "metadata": {},
   "source": [
    "### Построим график относительного изменения кумулятивной конверсии группы B к группе A"
   ]
  },
  {
   "cell_type": "code",
   "execution_count": 25,
   "metadata": {},
   "outputs": [
    {
     "data": {
      "image/png": "[encoded data removed]",
      "text/plain": [
       "<Figure size 720x360 with 1 Axes>"
      ]
     },
     "metadata": {
      "needs_background": "light"
     },
     "output_type": "display_data"
    }
   ],
   "source": [
    "mergedCumulativeConversions = cumulativeDataA[['date','conversion']].merge(cumulativeDataB[['date','conversion']], left_on='date', right_on='date', how='left', suffixes=['A', 'B'])\n",
    "plt.figure(figsize=(10, 5))\n",
    "plt.plot(mergedCumulativeConversions['date'], mergedCumulativeConversions['conversionB']/mergedCumulativeConversions['conversionA']-1)\n",
    "\n",
    "plt.axhline(y=0, color='black', linestyle='--')\n",
    "plt.axhline(y=-0.1, color='grey', linestyle='--')\n",
    "plt.title('Относительное изменение кумулятивной конверсии группы В к группе А')\n",
    "plt.xticks(rotation=45, ha='right')\n",
    "plt.grid(True)\n",
    "plt.show()\n"
   ]
  },
  {
   "cell_type": "markdown",
   "metadata": {},
   "source": [
    "В начале теста были сильные скачки отношения кумулятивной конверсии группы В к группе А. Если бы мы приняли результат по достижению статистической значимости по первой недели теста то вероятно бы ошиблись. Далее конверсия группы В резко выросла относительно А и держалась выше на протяжении всего теста, хоть и имела тенденцию к снижению. Вероятно выбросы или крупные заказы все таки есть "
   ]
  },
  {
   "cell_type": "markdown",
   "metadata": {},
   "source": [
    "### Построим точечный график количества заказов по пользователям"
   ]
  },
  {
   "cell_type": "code",
   "execution_count": 26,
   "metadata": {},
   "outputs": [],
   "source": [
    "ordersByUsers = orders.groupby('visitorId', as_index=False).agg({'transactionId':'nunique'})\n",
    "ordersByUsers = ordersByUsers.sort_values(by='transactionId', ascending=False)\n",
    "ordersByUsers.columns = ['userId', 'orders']"
   ]
  },
  {
   "cell_type": "code",
   "execution_count": 27,
   "metadata": {},
   "outputs": [
    {
     "data": {
      "image/png": "[encoded data removed]",
      "text/plain": [
       "<Figure size 720x360 with 1 Axes>"
      ]
     },
     "metadata": {
      "needs_background": "light"
     },
     "output_type": "display_data"
    }
   ],
   "source": [
    "x_values = pd.Series(range(0,len(ordersByUsers)))\n",
    "plt.figure(figsize=(10, 5))\n",
    "plt.scatter(x_values, ordersByUsers['orders']) \n",
    "plt.title('График количества заказов по пользователям')\n",
    "plt.grid(True)\n",
    "plt.show()"
   ]
  },
  {
   "cell_type": "markdown",
   "metadata": {},
   "source": [
    "Да, действительно есть по 2 и 3 заказа"
   ]
  },
  {
   "cell_type": "markdown",
   "metadata": {},
   "source": [
    "### Посчитаем 95-й и 99-й перцентили количества заказов на пользователя"
   ]
  },
  {
   "cell_type": "code",
   "execution_count": 28,
   "metadata": {},
   "outputs": [
    {
     "data": {
      "text/plain": [
       "array([1., 2.])"
      ]
     },
     "execution_count": 28,
     "metadata": {},
     "output_type": "execute_result"
    }
   ],
   "source": [
    "np.percentile(ordersByUsers['orders'], [95, 99])"
   ]
  },
  {
   "cell_type": "markdown",
   "metadata": {},
   "source": [
    "5% пользователей совершили более одного заказа, и 1 % пользователей совершили более 2-х заказов. За границу аномальных выбросов выберем 99 процентиль, то есть 1% от пользователей, которые совершили более 2-х заказов"
   ]
  },
  {
   "cell_type": "markdown",
   "metadata": {},
   "source": [
    "### Построим точечный график стоимости заказов"
   ]
  },
  {
   "cell_type": "code",
   "execution_count": 29,
   "metadata": {},
   "outputs": [
    {
     "data": {
      "image/png": "[encoded data removed]",
      "text/plain": [
       "<Figure size 720x720 with 1 Axes>"
      ]
     },
     "metadata": {
      "needs_background": "light"
     },
     "output_type": "display_data"
    }
   ],
   "source": [
    "x_values = pd.Series(range(0,len(orders)))\n",
    "plt.figure(figsize=(10, 10))\n",
    "plt.scatter(x_values, orders['revenue']) \n",
    "plt.title('График стоимости заказов')\n",
    "plt.grid(True)\n",
    "plt.show()"
   ]
  },
  {
   "cell_type": "markdown",
   "metadata": {},
   "source": [
    "У нас есть очень дорогие заказы"
   ]
  },
  {
   "cell_type": "markdown",
   "metadata": {},
   "source": [
    "### Посчитаем 95-й и 99-й перцентили стоимости заказов"
   ]
  },
  {
   "cell_type": "code",
   "execution_count": 30,
   "metadata": {},
   "outputs": [
    {
     "data": {
      "text/plain": [
       "array([26785., 53904.])"
      ]
     },
     "execution_count": 30,
     "metadata": {},
     "output_type": "execute_result"
    }
   ],
   "source": [
    "np.percentile(orders['revenue'], [95, 99])"
   ]
  },
  {
   "cell_type": "markdown",
   "metadata": {},
   "source": [
    "5 % заказов дороже 27000, 1% заказов дороже 53904. За границу аномальных выбросов выберем 99 процентиль, то есть 1% дорогих заказов более 53904"
   ]
  },
  {
   "cell_type": "markdown",
   "metadata": {},
   "source": [
    "### Посчитаем статистическую значимость различий в конверсии между группами по «сырым» данным"
   ]
  },
  {
   "cell_type": "markdown",
   "metadata": {},
   "source": [
    "Сформулируем гипотезу:\n",
    "- H0 - Конверсия группы A равна конверсии группы В\n",
    "- Н1 - Конверсии группы А и группы В не равны"
   ]
  },
  {
   "cell_type": "code",
   "execution_count": 31,
   "metadata": {},
   "outputs": [],
   "source": [
    "visitorsADaily = visitors[visitors['group'] == 'A'][['date', 'visitors']]\n",
    "visitorsADaily.columns = ['date', 'visitorsPerDateA']\n",
    "visitorsACummulative = visitorsADaily.apply(\n",
    "    lambda x: visitorsADaily[visitorsADaily['date'] <= x['date']].agg(\n",
    "        {'date': 'max', 'visitorsPerDateA': 'sum'}\n",
    "    ),\n",
    "    axis=1,\n",
    ")\n",
    "visitorsACummulative.columns = ['date', 'visitorsCummulativeA']\n",
    "\n",
    "visitorsBDaily = visitors[visitors['group'] == 'B'][['date', 'visitors']]\n",
    "visitorsBDaily.columns = ['date', 'visitorsPerDateB']\n",
    "visitorsBCummulative = visitorsBDaily.apply(\n",
    "    lambda x: visitorsBDaily[visitorsBDaily['date'] <= x['date']].agg(\n",
    "        {'date': 'max', 'visitorsPerDateB': 'sum'}\n",
    "    ),\n",
    "    axis=1,\n",
    ")\n",
    "visitorsBCummulative.columns = ['date', 'visitorsCummulativeB']\n",
    "\n",
    "ordersADaily = (\n",
    "    orders[orders['group'] == 'A'][['date', 'transactionId', 'visitorId', 'revenue']]\n",
    "    .groupby('date', as_index=False)\n",
    "    .agg({'transactionId': pd.Series.nunique, 'revenue': 'sum'})\n",
    ")\n",
    "ordersADaily.columns = ['date', 'ordersPerDateA', 'revenuePerDateA']\n",
    "\n",
    "ordersACummulative = ordersADaily.apply(\n",
    "    lambda x: ordersADaily[ordersADaily['date'] <= x['date']].agg(\n",
    "        {'date': 'max', 'ordersPerDateA': 'sum', 'revenuePerDateA': 'sum'}\n",
    "    ),\n",
    "    axis=1,\n",
    ").sort_values(by=['date'])\n",
    "ordersACummulative.columns = [\n",
    "    'date',\n",
    "    'ordersCummulativeA',\n",
    "    'revenueCummulativeA',\n",
    "]\n",
    "\n",
    "\n",
    "ordersBDaily = (\n",
    "    orders[orders['group'] == 'B'][['date', 'transactionId', 'visitorId', 'revenue']]\n",
    "    .groupby('date', as_index=False)\n",
    "    .agg({'transactionId': pd.Series.nunique, 'revenue': 'sum'})\n",
    ")\n",
    "ordersBDaily.columns = ['date', 'ordersPerDateB', 'revenuePerDateB']\n",
    "\n",
    "ordersBCummulative = ordersBDaily.apply(\n",
    "    lambda x: ordersBDaily[ordersBDaily['date'] <= x['date']].agg(\n",
    "        {'date': 'max', 'ordersPerDateB': 'sum', 'revenuePerDateB': 'sum'}\n",
    "    ),\n",
    "    axis=1,\n",
    ").sort_values(by=['date'])\n",
    "ordersBCummulative.columns = [\n",
    "    'date',\n",
    "    'ordersCummulativeB',\n",
    "    'revenueCummulativeB',\n",
    "]\n",
    "\n",
    "data = (\n",
    "    ordersADaily.merge(\n",
    "        ordersBDaily, left_on='date', right_on='date', how='left'\n",
    "    )\n",
    "    .merge(ordersACummulative, left_on='date', right_on='date', how='left')\n",
    "    .merge(ordersBCummulative, left_on='date', right_on='date', how='left')\n",
    "    .merge(visitorsADaily, left_on='date', right_on='date', how='left')\n",
    "    .merge(visitorsBDaily, left_on='date', right_on='date', how='left')\n",
    "    .merge(visitorsACummulative, left_on='date', right_on='date', how='left')\n",
    "    .merge(visitorsBCummulative, left_on='date', right_on='date', how='left')\n",
    ")"
   ]
  },
  {
   "cell_type": "code",
   "execution_count": 32,
   "metadata": {},
   "outputs": [],
   "source": [
    "ordersByUsersA = (\n",
    "    orders[orders['group'] == 'A']\n",
    "    .groupby('visitorId', as_index=False)\n",
    "    .agg({'transactionId': pd.Series.nunique})\n",
    ")\n",
    "ordersByUsersA.columns = ['userId', 'orders']\n",
    "\n",
    "ordersByUsersB = (\n",
    "    orders[orders['group'] == 'B']\n",
    "    .groupby('visitorId', as_index=False)\n",
    "    .agg({'transactionId': pd.Series.nunique})\n",
    ")\n",
    "ordersByUsersB.columns = ['userId', 'orders'] "
   ]
  },
  {
   "cell_type": "code",
   "execution_count": 33,
   "metadata": {},
   "outputs": [],
   "source": [
    "sampleA = pd.concat([ordersByUsersA['orders'],pd.Series(0, index=np.arange(data['visitorsPerDateA'].sum() - len(ordersByUsersA['orders'])), name='orders')],axis=0)\n",
    "\n",
    "sampleB = pd.concat([ordersByUsersB['orders'],pd.Series(0, index=np.arange(data['visitorsPerDateB'].sum() - len(ordersByUsersB['orders'])), name='orders')],axis=0) "
   ]
  },
  {
   "cell_type": "code",
   "execution_count": 34,
   "metadata": {},
   "outputs": [
    {
     "name": "stdout",
     "output_type": "stream",
     "text": [
      "0.011\n",
      "0.160\n"
     ]
    }
   ],
   "source": [
    "sampleA = pd.concat(\n",
    "    [\n",
    "        ordersByUsersA['orders'],\n",
    "        pd.Series(\n",
    "            0,\n",
    "            index=np.arange(\n",
    "                data['visitorsPerDateA'].sum() - len(ordersByUsersA['orders'])\n",
    "            ),\n",
    "            name='orders',\n",
    "        ),\n",
    "    ],\n",
    "    axis=0,\n",
    ")\n",
    "\n",
    "sampleB = pd.concat(\n",
    "    [\n",
    "        ordersByUsersB['orders'],\n",
    "        pd.Series(\n",
    "            0,\n",
    "            index=np.arange(\n",
    "                data['visitorsPerDateB'].sum() - len(ordersByUsersB['orders'])\n",
    "            ),\n",
    "            name='orders',\n",
    "        ),\n",
    "    ],\n",
    "    axis=0,\n",
    ")\n",
    "\n",
    "print(\"{0:.3f}\".format(stats.mannwhitneyu(sampleA, sampleB)[1]))\n",
    "\n",
    "print(\"{0:.3f}\".format(sampleB.mean() / sampleA.mean() - 1))"
   ]
  },
  {
   "cell_type": "markdown",
   "metadata": {},
   "source": [
    "По сырым данным есть различие между группами А и В, значение p-value меньше 0.05. То есть мы можем отвергнуть нулевую гипотезу о том что статистически значимая разница между группами отсутствует. Второе значение 0.160 показывает нам значительное превосходство группы В над показателями группы А  на 16%\n",
    "- Гипотезу \"H0 - Конверсия группы A равна конверсии группы В\" - не принимаем"
   ]
  },
  {
   "cell_type": "markdown",
   "metadata": {},
   "source": [
    "### Посчитаем статистическую значимость различий в среднем чеке заказа между группами по «сырым» данным"
   ]
  },
  {
   "cell_type": "markdown",
   "metadata": {},
   "source": [
    "Свормулируем гипотезу:\n",
    "\n",
    "- H0 - Средний чек группы A равен среднему чеку группы В\n",
    "- Н1 - Средний чек группы А и группы В не равны"
   ]
  },
  {
   "cell_type": "code",
   "execution_count": 35,
   "metadata": {},
   "outputs": [
    {
     "name": "stdout",
     "output_type": "stream",
     "text": [
      "0.829\n",
      "0.287\n"
     ]
    }
   ],
   "source": [
    "print('{0:.3f}'.format(stats.mannwhitneyu(orders[orders['group']=='A']['revenue'], orders[orders['group']=='B']['revenue'])[1]))\n",
    "print('{0:.3f}'.format(orders[orders['group']=='B']['revenue'].mean()/orders[orders['group']=='A']['revenue'].mean()-1)) "
   ]
  },
  {
   "cell_type": "markdown",
   "metadata": {},
   "source": [
    "Значение p-value 0.829, это говорит нам о том что разницы между группами А и В по среднему чеку нет, но вот второе значение 0.287 говорит нам что что средний чек группы В больше среднего чека группы А на 29%. Расчет велся по сырым данным. \n",
    "- Принимаем \"H0 - Средний чек группы A равен среднему чеку группы В\""
   ]
  },
  {
   "cell_type": "markdown",
   "metadata": {},
   "source": [
    "### Посчитаем статистическую значимость различий в конверсии между группами по «очищенным» данным"
   ]
  },
  {
   "cell_type": "code",
   "execution_count": 36,
   "metadata": {},
   "outputs": [
    {
     "data": {
      "text/plain": [
       "9"
      ]
     },
     "execution_count": 36,
     "metadata": {},
     "output_type": "execute_result"
    }
   ],
   "source": [
    "usersWithManyOrders = pd.concat(\n",
    "    [\n",
    "        ordersByUsersA[ordersByUsersA['orders'] > 4]['userId'],\n",
    "        ordersByUsersB[ordersByUsersB['orders'] > 4]['userId'],\n",
    "    ],\n",
    "    axis=0,\n",
    ")\n",
    "usersWithExpensiveOrders = orders[orders['revenue'] > 58000]['visitorId']\n",
    "abnormalUsers = (\n",
    "    pd.concat([usersWithManyOrders, usersWithExpensiveOrders], axis=0)\n",
    "    .drop_duplicates()\n",
    "    .sort_values()\n",
    ")\n",
    "abnormalUsers.head(5)\n",
    "abnormalUsers.shape[0]"
   ]
  },
  {
   "cell_type": "markdown",
   "metadata": {},
   "source": [
    "Количество аномальных пользователей = 9. Посмотрим как они повлияли на результаты теста"
   ]
  },
  {
   "cell_type": "markdown",
   "metadata": {},
   "source": [
    "Сформулируем гипотезу по очищенным данным:\n",
    "- H0 - Конверсия группы A равна конверсии группы В\n",
    "- Н1 - Конверсии группы А и группы В не равны"
   ]
  },
  {
   "cell_type": "code",
   "execution_count": 37,
   "metadata": {},
   "outputs": [],
   "source": [
    "sampleAFiltered = pd.concat(\n",
    "    [\n",
    "        ordersByUsersA[\n",
    "            np.logical_not(ordersByUsersA['userId'].isin(abnormalUsers))\n",
    "        ]['orders'],\n",
    "        pd.Series(\n",
    "            0,\n",
    "            index=np.arange(\n",
    "                data['visitorsPerDateA'].sum() - len(ordersByUsersA['orders'])\n",
    "            ),\n",
    "            name='orders',\n",
    "        ),\n",
    "    ],\n",
    "    axis=0,\n",
    ")\n",
    "\n",
    "sampleBFiltered = pd.concat(\n",
    "    [\n",
    "        ordersByUsersB[\n",
    "            np.logical_not(ordersByUsersB['userId'].isin(abnormalUsers))\n",
    "        ]['orders'],\n",
    "        pd.Series(\n",
    "            0,\n",
    "            index=np.arange(\n",
    "                data['visitorsPerDateB'].sum() - len(ordersByUsersB['orders'])\n",
    "            ),\n",
    "            name='orders',\n",
    "        ),\n",
    "    ],\n",
    "    axis=0,\n",
    ") "
   ]
  },
  {
   "cell_type": "code",
   "execution_count": 38,
   "metadata": {},
   "outputs": [
    {
     "name": "stdout",
     "output_type": "stream",
     "text": [
      "0.010\n",
      "0.164\n"
     ]
    }
   ],
   "source": [
    "print('{0:.3f}'.format(stats.mannwhitneyu(sampleAFiltered, sampleBFiltered)[1]))\n",
    "print('{0:.3f}'.format(sampleBFiltered.mean()/sampleAFiltered.mean()-1)) "
   ]
  },
  {
   "cell_type": "markdown",
   "metadata": {},
   "source": [
    "Результаты теста по очищенным данным практически не изменились относительно теста по сырым данным. Есть статистически значимые различия между группами по конверсии,  то есть мы также можем отвергнуть нулевую гипотезу о равенстве. Отношение конверсии группы В к группе А = 0.164, очень не плохо"
   ]
  },
  {
   "cell_type": "markdown",
   "metadata": {},
   "source": [
    "### Посчитаем статистическую значимость различий в среднем чеке заказа между группами по «очищенным» данным"
   ]
  },
  {
   "cell_type": "markdown",
   "metadata": {},
   "source": [
    "Свормулируем гипотезу по очищенным данным:\n",
    "\n",
    "- H0 - Средний чек группы A равен среднему чеку группы В\n",
    "- Н1 - Средний чек группы А и группы В не равны"
   ]
  },
  {
   "cell_type": "code",
   "execution_count": 39,
   "metadata": {},
   "outputs": [
    {
     "name": "stdout",
     "output_type": "stream",
     "text": [
      "0.901\n",
      "-0.032\n"
     ]
    }
   ],
   "source": [
    "print(\n",
    "    '{0:.3f}'.format(\n",
    "        stats.mannwhitneyu(\n",
    "            orders[\n",
    "                np.logical_and(\n",
    "                    orders['group'] == 'A',\n",
    "                    np.logical_not(orders['visitorId'].isin(abnormalUsers)),\n",
    "                )\n",
    "            ]['revenue'],\n",
    "            orders[\n",
    "                np.logical_and(\n",
    "                    orders['group'] == 'B',\n",
    "                    np.logical_not(orders['visitorId'].isin(abnormalUsers)),\n",
    "                )\n",
    "            ]['revenue'],\n",
    "        )[1]\n",
    "    )\n",
    ")\n",
    "\n",
    "print(\n",
    "    \"{0:.3f}\".format(\n",
    "        orders[\n",
    "            np.logical_and(\n",
    "                orders['group'] == 'B',\n",
    "                np.logical_not(orders['visitorId'].isin(abnormalUsers)),\n",
    "            )\n",
    "        ]['revenue'].mean()\n",
    "        / orders[\n",
    "            np.logical_and(\n",
    "                orders['group'] == 'A',\n",
    "                np.logical_not(orders['visitorId'].isin(abnormalUsers)),\n",
    "            )\n",
    "        ]['revenue'].mean()\n",
    "        - 1\n",
    "    )\n",
    ") "
   ]
  },
  {
   "cell_type": "markdown",
   "metadata": {},
   "source": [
    "Значение p-value 0.901, это говорит нам о том что разницы между группами А и В по среднему чеку в данных после обработки аномалий также нет, второе значение сильно изменилось и средний чек группы В оказался даже ниже группы А на 3%. Выбросы действительно сильно повлияли на данное значение"
   ]
  },
  {
   "cell_type": "markdown",
   "metadata": {},
   "source": [
    "### Принятие решения по результатам теста. Факты и выводы"
   ]
  },
  {
   "cell_type": "markdown",
   "metadata": {},
   "source": [
    "Факты:\n",
    "- Есть статистически значимые различия по конверсии между группами как по «сырым», так и по данным после фильтрации аномалий\n",
    "- Нет статистически значимого различия по среднему чеку между группами ни по «сырым», ни по данным после фильтрации аномалий\n",
    "- График различия конверсии между группами сообщает, что результаты группы B заметно лучше группы A - 16%\n",
    "- График различия среднего чека говорит о том, что результаты группы B по сырым данным показал нам импульсные колебания за счет значительных выбросов, а после очистки и вовсе стал ниже группы А, разница с 29% до снизилась до -3% после\n",
    "\n",
    "Вывод:\n",
    "- Исходя из данных фактов мы можем признать тест успешным в части сравнения конверсии обоих групп. Конверсия группы В действительно выигрыла относительно конверсии контрольной группы А на 16%. Добавление формы подписки на все основные страницы, чтобы собрать базу клиентов для email-рассылок, и соответственно сами рассылки дали положительный эффект в виде значительного увеличения конверсии относительно базовой версии страниц сайта. Несмотря на небольшое уменьшение среднего чека в 3%, мы все таки получили существенное увеличение конверсии в 16%"
   ]
  },
  {
   "cell_type": "code",
   "execution_count": null,
   "metadata": {},
   "outputs": [],
   "source": []
  }
 ],
 "metadata": {
  "ExecuteTimeLog": [
   {
    "duration": 1010,
    "start_time": "2022-05-24T11:53:02.444Z"
   },
   {
    "duration": 196,
    "start_time": "2022-05-24T11:54:43.468Z"
   },
   {
    "duration": 86,
    "start_time": "2022-05-24T11:55:40.338Z"
   },
   {
    "duration": 13,
    "start_time": "2022-05-24T11:55:49.264Z"
   },
   {
    "duration": 12,
    "start_time": "2022-05-24T11:56:47.089Z"
   },
   {
    "duration": 9,
    "start_time": "2022-05-24T11:56:51.478Z"
   },
   {
    "duration": 25,
    "start_time": "2022-05-24T11:57:15.647Z"
   },
   {
    "duration": 9,
    "start_time": "2022-05-24T11:57:27.318Z"
   },
   {
    "duration": 11,
    "start_time": "2022-05-24T11:57:47.960Z"
   },
   {
    "duration": 5,
    "start_time": "2022-05-24T11:58:19.106Z"
   },
   {
    "duration": 5,
    "start_time": "2022-05-24T11:58:24.172Z"
   },
   {
    "duration": 4,
    "start_time": "2022-05-24T12:06:51.755Z"
   },
   {
    "duration": 3,
    "start_time": "2022-05-24T12:06:58.500Z"
   },
   {
    "duration": 4,
    "start_time": "2022-05-24T12:07:12.665Z"
   },
   {
    "duration": 84,
    "start_time": "2022-05-24T12:07:28.105Z"
   },
   {
    "duration": 8,
    "start_time": "2022-05-24T12:08:14.394Z"
   },
   {
    "duration": 751,
    "start_time": "2022-05-24T12:08:24.939Z"
   },
   {
    "duration": 85,
    "start_time": "2022-05-24T12:08:25.692Z"
   },
   {
    "duration": 13,
    "start_time": "2022-05-24T12:08:25.779Z"
   },
   {
    "duration": 5,
    "start_time": "2022-05-24T12:08:25.793Z"
   },
   {
    "duration": 10,
    "start_time": "2022-05-24T12:08:25.799Z"
   },
   {
    "duration": 118,
    "start_time": "2022-05-24T12:08:25.810Z"
   },
   {
    "duration": 5,
    "start_time": "2022-05-24T12:09:01.539Z"
   },
   {
    "duration": 9,
    "start_time": "2022-05-24T12:09:42.739Z"
   },
   {
    "duration": 8,
    "start_time": "2022-05-24T12:09:46.594Z"
   },
   {
    "duration": 6,
    "start_time": "2022-05-24T12:10:37.915Z"
   },
   {
    "duration": 7,
    "start_time": "2022-05-24T12:10:38.155Z"
   },
   {
    "duration": 84,
    "start_time": "2022-05-24T12:10:55.310Z"
   },
   {
    "duration": 7,
    "start_time": "2022-05-24T12:10:55.818Z"
   },
   {
    "duration": 3,
    "start_time": "2022-05-24T12:10:59.607Z"
   },
   {
    "duration": 9,
    "start_time": "2022-05-24T12:10:59.853Z"
   },
   {
    "duration": 6,
    "start_time": "2022-05-24T12:11:00.234Z"
   },
   {
    "duration": 7,
    "start_time": "2022-05-24T12:11:00.750Z"
   },
   {
    "duration": 610,
    "start_time": "2022-05-24T12:13:06.610Z"
   },
   {
    "duration": 0,
    "start_time": "2022-05-24T12:13:07.221Z"
   },
   {
    "duration": 748,
    "start_time": "2022-05-24T12:13:13.392Z"
   },
   {
    "duration": 7,
    "start_time": "2022-05-24T12:13:34.252Z"
   },
   {
    "duration": 548,
    "start_time": "2022-05-24T12:13:34.482Z"
   },
   {
    "duration": 773,
    "start_time": "2022-05-24T12:13:41.084Z"
   },
   {
    "duration": 87,
    "start_time": "2022-05-24T12:13:41.859Z"
   },
   {
    "duration": 13,
    "start_time": "2022-05-24T12:13:41.947Z"
   },
   {
    "duration": 7,
    "start_time": "2022-05-24T12:13:41.962Z"
   },
   {
    "duration": 10,
    "start_time": "2022-05-24T12:13:41.970Z"
   },
   {
    "duration": 94,
    "start_time": "2022-05-24T12:13:41.981Z"
   },
   {
    "duration": 0,
    "start_time": "2022-05-24T12:13:42.077Z"
   },
   {
    "duration": 0,
    "start_time": "2022-05-24T12:13:42.078Z"
   },
   {
    "duration": 5,
    "start_time": "2022-05-24T12:14:08.874Z"
   },
   {
    "duration": 8,
    "start_time": "2022-05-24T12:14:47.794Z"
   },
   {
    "duration": 599,
    "start_time": "2022-05-24T12:15:00.796Z"
   },
   {
    "duration": 552,
    "start_time": "2022-05-24T12:15:10.905Z"
   },
   {
    "duration": 598,
    "start_time": "2022-05-24T12:15:47.376Z"
   },
   {
    "duration": 812,
    "start_time": "2022-05-24T12:15:53.452Z"
   },
   {
    "duration": 88,
    "start_time": "2022-05-24T12:15:54.267Z"
   },
   {
    "duration": 13,
    "start_time": "2022-05-24T12:15:54.357Z"
   },
   {
    "duration": 3,
    "start_time": "2022-05-24T12:15:54.373Z"
   },
   {
    "duration": 13,
    "start_time": "2022-05-24T12:15:54.377Z"
   },
   {
    "duration": 8,
    "start_time": "2022-05-24T12:15:54.391Z"
   },
   {
    "duration": 8,
    "start_time": "2022-05-24T12:15:54.400Z"
   },
   {
    "duration": 122,
    "start_time": "2022-05-24T12:15:54.409Z"
   },
   {
    "duration": 24,
    "start_time": "2022-05-24T12:16:23.480Z"
   },
   {
    "duration": 544,
    "start_time": "2022-05-24T12:17:06.563Z"
   },
   {
    "duration": 559,
    "start_time": "2022-05-24T12:17:25.313Z"
   },
   {
    "duration": 533,
    "start_time": "2022-05-24T12:17:57.774Z"
   },
   {
    "duration": 816,
    "start_time": "2022-05-24T12:18:08.240Z"
   },
   {
    "duration": 86,
    "start_time": "2022-05-24T12:18:09.058Z"
   },
   {
    "duration": 13,
    "start_time": "2022-05-24T12:18:09.145Z"
   },
   {
    "duration": 2,
    "start_time": "2022-05-24T12:18:09.160Z"
   },
   {
    "duration": 12,
    "start_time": "2022-05-24T12:18:09.164Z"
   },
   {
    "duration": 9,
    "start_time": "2022-05-24T12:18:09.177Z"
   },
   {
    "duration": 8,
    "start_time": "2022-05-24T12:18:09.188Z"
   },
   {
    "duration": 8,
    "start_time": "2022-05-24T12:18:09.197Z"
   },
   {
    "duration": 104,
    "start_time": "2022-05-24T12:18:53.014Z"
   },
   {
    "duration": 574,
    "start_time": "2022-05-24T12:19:15.586Z"
   },
   {
    "duration": 848,
    "start_time": "2022-05-24T12:19:49.942Z"
   },
   {
    "duration": 875,
    "start_time": "2022-05-24T12:19:56.483Z"
   },
   {
    "duration": 88,
    "start_time": "2022-05-24T12:19:57.360Z"
   },
   {
    "duration": 18,
    "start_time": "2022-05-24T12:19:57.450Z"
   },
   {
    "duration": 35,
    "start_time": "2022-05-24T12:19:57.469Z"
   },
   {
    "duration": 43,
    "start_time": "2022-05-24T12:19:57.507Z"
   },
   {
    "duration": 35,
    "start_time": "2022-05-24T12:19:57.552Z"
   },
   {
    "duration": 42,
    "start_time": "2022-05-24T12:19:57.589Z"
   },
   {
    "duration": 32,
    "start_time": "2022-05-24T12:19:57.633Z"
   },
   {
    "duration": 830,
    "start_time": "2022-05-24T12:21:27.394Z"
   },
   {
    "duration": 788,
    "start_time": "2022-05-24T12:21:38.472Z"
   },
   {
    "duration": 86,
    "start_time": "2022-05-24T12:21:39.262Z"
   },
   {
    "duration": 25,
    "start_time": "2022-05-24T12:21:39.352Z"
   },
   {
    "duration": 9,
    "start_time": "2022-05-24T12:21:39.380Z"
   },
   {
    "duration": 12,
    "start_time": "2022-05-24T12:21:39.390Z"
   },
   {
    "duration": 12,
    "start_time": "2022-05-24T12:21:39.403Z"
   },
   {
    "duration": 9,
    "start_time": "2022-05-24T12:21:39.417Z"
   },
   {
    "duration": 11,
    "start_time": "2022-05-24T12:21:39.428Z"
   },
   {
    "duration": 124,
    "start_time": "2022-05-24T12:21:51.810Z"
   },
   {
    "duration": 8,
    "start_time": "2022-05-24T12:22:15.327Z"
   },
   {
    "duration": 784,
    "start_time": "2022-05-24T12:22:27.301Z"
   },
   {
    "duration": 87,
    "start_time": "2022-05-24T12:22:28.086Z"
   },
   {
    "duration": 14,
    "start_time": "2022-05-24T12:22:28.174Z"
   },
   {
    "duration": 3,
    "start_time": "2022-05-24T12:22:28.190Z"
   },
   {
    "duration": 9,
    "start_time": "2022-05-24T12:22:28.195Z"
   },
   {
    "duration": 9,
    "start_time": "2022-05-24T12:22:28.206Z"
   },
   {
    "duration": 8,
    "start_time": "2022-05-24T12:22:28.217Z"
   },
   {
    "duration": 13,
    "start_time": "2022-05-24T12:22:28.227Z"
   },
   {
    "duration": 37,
    "start_time": "2022-05-24T12:22:28.242Z"
   },
   {
    "duration": 7,
    "start_time": "2022-05-24T12:22:51.217Z"
   },
   {
    "duration": 6,
    "start_time": "2022-05-24T12:23:36.465Z"
   },
   {
    "duration": 86,
    "start_time": "2022-05-24T12:25:05.186Z"
   },
   {
    "duration": 7,
    "start_time": "2022-05-24T12:25:07.216Z"
   },
   {
    "duration": 4,
    "start_time": "2022-05-24T12:25:28.244Z"
   },
   {
    "duration": 5,
    "start_time": "2022-05-24T12:25:28.446Z"
   },
   {
    "duration": 7,
    "start_time": "2022-05-24T12:25:28.827Z"
   },
   {
    "duration": 5,
    "start_time": "2022-05-24T12:25:37.620Z"
   },
   {
    "duration": 8,
    "start_time": "2022-05-24T12:25:37.847Z"
   },
   {
    "duration": 7,
    "start_time": "2022-05-24T13:05:57.680Z"
   },
   {
    "duration": 7,
    "start_time": "2022-05-24T13:05:58.433Z"
   },
   {
    "duration": 808,
    "start_time": "2022-05-24T13:06:05.860Z"
   },
   {
    "duration": 103,
    "start_time": "2022-05-24T13:06:06.674Z"
   },
   {
    "duration": 21,
    "start_time": "2022-05-24T13:06:06.779Z"
   },
   {
    "duration": 4,
    "start_time": "2022-05-24T13:06:06.803Z"
   },
   {
    "duration": 11,
    "start_time": "2022-05-24T13:06:06.809Z"
   },
   {
    "duration": 142,
    "start_time": "2022-05-24T13:06:06.822Z"
   },
   {
    "duration": 0,
    "start_time": "2022-05-24T13:06:06.966Z"
   },
   {
    "duration": 0,
    "start_time": "2022-05-24T13:06:06.981Z"
   },
   {
    "duration": 9,
    "start_time": "2022-05-24T13:07:47.054Z"
   },
   {
    "duration": 522,
    "start_time": "2022-05-24T13:09:04.485Z"
   },
   {
    "duration": 840,
    "start_time": "2022-05-24T13:09:11.956Z"
   },
   {
    "duration": 112,
    "start_time": "2022-05-24T13:09:12.798Z"
   },
   {
    "duration": 20,
    "start_time": "2022-05-24T13:09:12.913Z"
   },
   {
    "duration": 3,
    "start_time": "2022-05-24T13:09:12.936Z"
   },
   {
    "duration": 9,
    "start_time": "2022-05-24T13:09:12.941Z"
   },
   {
    "duration": 24,
    "start_time": "2022-05-24T13:09:12.952Z"
   },
   {
    "duration": 35,
    "start_time": "2022-05-24T13:09:12.978Z"
   },
   {
    "duration": 34,
    "start_time": "2022-05-24T13:09:13.015Z"
   },
   {
    "duration": 6,
    "start_time": "2022-05-24T13:09:45.531Z"
   },
   {
    "duration": 8,
    "start_time": "2022-05-24T13:09:46.038Z"
   },
   {
    "duration": 13,
    "start_time": "2022-05-24T13:09:52.951Z"
   },
   {
    "duration": 849,
    "start_time": "2022-05-24T13:13:59.649Z"
   },
   {
    "duration": 903,
    "start_time": "2022-05-24T13:14:05.058Z"
   },
   {
    "duration": 103,
    "start_time": "2022-05-24T13:14:05.964Z"
   },
   {
    "duration": 19,
    "start_time": "2022-05-24T13:14:06.068Z"
   },
   {
    "duration": 32,
    "start_time": "2022-05-24T13:14:06.090Z"
   },
   {
    "duration": 10,
    "start_time": "2022-05-24T13:14:06.124Z"
   },
   {
    "duration": 10,
    "start_time": "2022-05-24T13:14:06.136Z"
   },
   {
    "duration": 13,
    "start_time": "2022-05-24T13:14:06.147Z"
   },
   {
    "duration": 31,
    "start_time": "2022-05-24T13:14:06.161Z"
   },
   {
    "duration": 107,
    "start_time": "2022-05-24T13:48:59.992Z"
   },
   {
    "duration": 13,
    "start_time": "2022-05-24T13:51:02.812Z"
   },
   {
    "duration": 11,
    "start_time": "2022-05-24T13:51:09.428Z"
   },
   {
    "duration": 11,
    "start_time": "2022-05-24T13:51:57.832Z"
   },
   {
    "duration": 698,
    "start_time": "2022-05-24T13:52:26.202Z"
   },
   {
    "duration": 3,
    "start_time": "2022-05-24T13:53:48.166Z"
   },
   {
    "duration": 1066,
    "start_time": "2022-05-24T13:53:54.395Z"
   },
   {
    "duration": 101,
    "start_time": "2022-05-24T13:53:55.464Z"
   },
   {
    "duration": 22,
    "start_time": "2022-05-24T13:53:55.566Z"
   },
   {
    "duration": 15,
    "start_time": "2022-05-24T13:53:55.592Z"
   },
   {
    "duration": 9,
    "start_time": "2022-05-24T13:53:55.610Z"
   },
   {
    "duration": 9,
    "start_time": "2022-05-24T13:53:55.621Z"
   },
   {
    "duration": 8,
    "start_time": "2022-05-24T13:53:55.631Z"
   },
   {
    "duration": 15,
    "start_time": "2022-05-24T13:53:55.640Z"
   },
   {
    "duration": 73,
    "start_time": "2022-05-24T13:53:55.656Z"
   },
   {
    "duration": 19,
    "start_time": "2022-05-24T13:54:14.420Z"
   },
   {
    "duration": 18,
    "start_time": "2022-05-24T13:57:25.999Z"
   },
   {
    "duration": 20,
    "start_time": "2022-05-24T13:58:36.790Z"
   },
   {
    "duration": 19,
    "start_time": "2022-05-24T13:59:31.605Z"
   },
   {
    "duration": 110,
    "start_time": "2022-05-24T14:01:14.660Z"
   },
   {
    "duration": 19,
    "start_time": "2022-05-24T14:01:35.651Z"
   },
   {
    "duration": 18,
    "start_time": "2022-05-24T14:06:58.170Z"
   },
   {
    "duration": 24,
    "start_time": "2022-05-24T14:37:54.697Z"
   },
   {
    "duration": 11,
    "start_time": "2022-05-24T14:38:04.710Z"
   },
   {
    "duration": 19,
    "start_time": "2022-05-24T14:50:21.808Z"
   },
   {
    "duration": 1171,
    "start_time": "2022-05-25T07:16:11.714Z"
   },
   {
    "duration": 208,
    "start_time": "2022-05-25T07:16:12.887Z"
   },
   {
    "duration": 13,
    "start_time": "2022-05-25T07:16:13.096Z"
   },
   {
    "duration": 3,
    "start_time": "2022-05-25T07:16:13.112Z"
   },
   {
    "duration": 9,
    "start_time": "2022-05-25T07:16:13.117Z"
   },
   {
    "duration": 11,
    "start_time": "2022-05-25T07:16:13.127Z"
   },
   {
    "duration": 8,
    "start_time": "2022-05-25T07:16:13.140Z"
   },
   {
    "duration": 45,
    "start_time": "2022-05-25T07:16:13.149Z"
   },
   {
    "duration": 63,
    "start_time": "2022-05-25T07:16:13.196Z"
   },
   {
    "duration": 12,
    "start_time": "2022-05-25T07:16:13.261Z"
   },
   {
    "duration": 28,
    "start_time": "2022-05-25T07:16:13.275Z"
   },
   {
    "duration": 9,
    "start_time": "2022-05-25T07:29:48.968Z"
   },
   {
    "duration": 116,
    "start_time": "2022-05-25T07:30:44.760Z"
   },
   {
    "duration": 18,
    "start_time": "2022-05-25T07:32:12.049Z"
   },
   {
    "duration": 25,
    "start_time": "2022-05-25T07:33:58.746Z"
   },
   {
    "duration": 152,
    "start_time": "2022-05-25T07:34:47.122Z"
   },
   {
    "duration": 154,
    "start_time": "2022-05-25T07:35:08.405Z"
   },
   {
    "duration": 11,
    "start_time": "2022-05-25T07:35:22.852Z"
   },
   {
    "duration": 259,
    "start_time": "2022-05-25T07:36:39.765Z"
   },
   {
    "duration": 10,
    "start_time": "2022-05-25T07:36:43.962Z"
   },
   {
    "duration": 267,
    "start_time": "2022-05-25T07:37:29.073Z"
   },
   {
    "duration": 10,
    "start_time": "2022-05-25T07:37:29.561Z"
   },
   {
    "duration": 12,
    "start_time": "2022-05-25T07:37:43.923Z"
   },
   {
    "duration": 9,
    "start_time": "2022-05-25T07:39:05.804Z"
   },
   {
    "duration": 37,
    "start_time": "2022-05-25T07:39:11.473Z"
   },
   {
    "duration": 21,
    "start_time": "2022-05-25T07:39:17.884Z"
   },
   {
    "duration": 21,
    "start_time": "2022-05-25T07:39:25.224Z"
   },
   {
    "duration": 4,
    "start_time": "2022-05-25T07:39:36.644Z"
   },
   {
    "duration": 5,
    "start_time": "2022-05-25T07:39:44.322Z"
   },
   {
    "duration": 643,
    "start_time": "2022-05-25T07:40:38.561Z"
   },
   {
    "duration": 151,
    "start_time": "2022-05-25T07:40:47.724Z"
   },
   {
    "duration": 169,
    "start_time": "2022-05-25T07:41:19.206Z"
   },
   {
    "duration": 5,
    "start_time": "2022-05-25T07:41:35.609Z"
   },
   {
    "duration": 31,
    "start_time": "2022-05-25T07:42:11.500Z"
   },
   {
    "duration": 176,
    "start_time": "2022-05-25T07:42:17.137Z"
   },
   {
    "duration": 9,
    "start_time": "2022-05-25T07:44:25.529Z"
   },
   {
    "duration": 254,
    "start_time": "2022-05-25T07:46:19.316Z"
   },
   {
    "duration": 260,
    "start_time": "2022-05-25T07:48:32.614Z"
   },
   {
    "duration": 250,
    "start_time": "2022-05-25T07:48:49.553Z"
   },
   {
    "duration": 249,
    "start_time": "2022-05-25T07:48:56.074Z"
   },
   {
    "duration": 332,
    "start_time": "2022-05-25T07:49:01.593Z"
   },
   {
    "duration": 160,
    "start_time": "2022-05-25T07:49:05.810Z"
   },
   {
    "duration": 163,
    "start_time": "2022-05-25T07:49:25.394Z"
   },
   {
    "duration": 164,
    "start_time": "2022-05-25T07:50:21.591Z"
   },
   {
    "duration": 160,
    "start_time": "2022-05-25T07:50:48.597Z"
   },
   {
    "duration": 162,
    "start_time": "2022-05-25T07:51:06.759Z"
   },
   {
    "duration": 195,
    "start_time": "2022-05-25T07:52:08.779Z"
   },
   {
    "duration": 159,
    "start_time": "2022-05-25T07:52:19.479Z"
   },
   {
    "duration": 269,
    "start_time": "2022-05-25T07:52:30.070Z"
   },
   {
    "duration": 180,
    "start_time": "2022-05-25T07:52:40.494Z"
   },
   {
    "duration": 201,
    "start_time": "2022-05-25T07:53:25.095Z"
   },
   {
    "duration": 174,
    "start_time": "2022-05-25T07:54:17.545Z"
   },
   {
    "duration": 159,
    "start_time": "2022-05-25T07:54:33.322Z"
   },
   {
    "duration": 306,
    "start_time": "2022-05-25T07:54:50.630Z"
   },
   {
    "duration": 184,
    "start_time": "2022-05-25T07:56:40.689Z"
   },
   {
    "duration": 195,
    "start_time": "2022-05-25T07:57:49.223Z"
   },
   {
    "duration": 296,
    "start_time": "2022-05-25T07:58:33.075Z"
   },
   {
    "duration": 253,
    "start_time": "2022-05-25T07:58:45.027Z"
   },
   {
    "duration": 285,
    "start_time": "2022-05-25T07:58:58.838Z"
   },
   {
    "duration": 189,
    "start_time": "2022-05-25T07:59:28.453Z"
   },
   {
    "duration": 137,
    "start_time": "2022-05-25T08:11:32.361Z"
   },
   {
    "duration": 139,
    "start_time": "2022-05-25T08:11:35.854Z"
   },
   {
    "duration": 141,
    "start_time": "2022-05-25T08:12:10.125Z"
   },
   {
    "duration": 206,
    "start_time": "2022-05-25T08:12:52.198Z"
   },
   {
    "duration": 340,
    "start_time": "2022-05-25T08:17:31.351Z"
   },
   {
    "duration": 9,
    "start_time": "2022-05-25T08:21:37.054Z"
   },
   {
    "duration": 9,
    "start_time": "2022-05-25T08:22:13.866Z"
   },
   {
    "duration": 303,
    "start_time": "2022-05-25T08:24:13.026Z"
   },
   {
    "duration": 351,
    "start_time": "2022-05-25T08:24:48.082Z"
   },
   {
    "duration": 386,
    "start_time": "2022-05-25T08:26:11.648Z"
   },
   {
    "duration": 5,
    "start_time": "2022-05-25T08:34:47.102Z"
   },
   {
    "duration": 6,
    "start_time": "2022-05-25T08:34:50.356Z"
   },
   {
    "duration": 368,
    "start_time": "2022-05-25T08:38:32.278Z"
   },
   {
    "duration": 13,
    "start_time": "2022-05-25T08:38:53.264Z"
   },
   {
    "duration": 208,
    "start_time": "2022-05-25T08:40:14.047Z"
   },
   {
    "duration": 197,
    "start_time": "2022-05-25T08:40:54.882Z"
   },
   {
    "duration": 182,
    "start_time": "2022-05-25T08:42:18.149Z"
   },
   {
    "duration": 187,
    "start_time": "2022-05-25T08:43:27.670Z"
   },
   {
    "duration": 178,
    "start_time": "2022-05-25T08:43:51.518Z"
   },
   {
    "duration": 245,
    "start_time": "2022-05-25T08:44:26.963Z"
   },
   {
    "duration": 198,
    "start_time": "2022-05-25T08:44:41.126Z"
   },
   {
    "duration": 204,
    "start_time": "2022-05-25T08:44:49.365Z"
   },
   {
    "duration": 210,
    "start_time": "2022-05-25T08:44:53.015Z"
   },
   {
    "duration": 140,
    "start_time": "2022-05-25T08:47:53.222Z"
   },
   {
    "duration": 111,
    "start_time": "2022-05-25T08:48:17.227Z"
   },
   {
    "duration": 110,
    "start_time": "2022-05-25T08:48:37.203Z"
   },
   {
    "duration": 18,
    "start_time": "2022-05-25T08:50:36.052Z"
   },
   {
    "duration": 8,
    "start_time": "2022-05-25T08:51:03.863Z"
   },
   {
    "duration": 9,
    "start_time": "2022-05-25T08:51:14.320Z"
   },
   {
    "duration": 976,
    "start_time": "2022-05-25T08:51:19.553Z"
   },
   {
    "duration": 83,
    "start_time": "2022-05-25T08:51:20.531Z"
   },
   {
    "duration": 12,
    "start_time": "2022-05-25T08:51:20.615Z"
   },
   {
    "duration": 13,
    "start_time": "2022-05-25T08:51:20.629Z"
   },
   {
    "duration": 16,
    "start_time": "2022-05-25T08:51:20.645Z"
   },
   {
    "duration": 12,
    "start_time": "2022-05-25T08:51:20.663Z"
   },
   {
    "duration": 7,
    "start_time": "2022-05-25T08:51:20.677Z"
   },
   {
    "duration": 17,
    "start_time": "2022-05-25T08:51:20.685Z"
   },
   {
    "duration": 56,
    "start_time": "2022-05-25T08:51:20.704Z"
   },
   {
    "duration": 272,
    "start_time": "2022-05-25T08:51:20.761Z"
   },
   {
    "duration": 11,
    "start_time": "2022-05-25T08:51:21.035Z"
   },
   {
    "duration": 4,
    "start_time": "2022-05-25T08:51:21.048Z"
   },
   {
    "duration": 6,
    "start_time": "2022-05-25T08:51:21.053Z"
   },
   {
    "duration": 401,
    "start_time": "2022-05-25T08:51:21.061Z"
   },
   {
    "duration": 191,
    "start_time": "2022-05-25T08:51:21.464Z"
   },
   {
    "duration": 297,
    "start_time": "2022-05-25T08:51:21.657Z"
   },
   {
    "duration": 211,
    "start_time": "2022-05-25T08:51:21.956Z"
   },
   {
    "duration": 456,
    "start_time": "2022-05-25T08:51:22.169Z"
   },
   {
    "duration": 0,
    "start_time": "2022-05-25T08:51:22.627Z"
   },
   {
    "duration": 287,
    "start_time": "2022-05-25T08:51:44.143Z"
   },
   {
    "duration": 12,
    "start_time": "2022-05-25T08:51:47.586Z"
   },
   {
    "duration": 336,
    "start_time": "2022-05-25T08:52:50.404Z"
   },
   {
    "duration": 270,
    "start_time": "2022-05-25T08:53:19.345Z"
   },
   {
    "duration": 317,
    "start_time": "2022-05-25T08:53:52.450Z"
   },
   {
    "duration": 303,
    "start_time": "2022-05-25T08:54:54.601Z"
   },
   {
    "duration": 12,
    "start_time": "2022-05-25T09:03:18.894Z"
   },
   {
    "duration": 6,
    "start_time": "2022-05-25T09:04:27.999Z"
   },
   {
    "duration": 8,
    "start_time": "2022-05-25T09:04:31.992Z"
   },
   {
    "duration": 25,
    "start_time": "2022-05-25T09:04:50.692Z"
   },
   {
    "duration": 13,
    "start_time": "2022-05-25T09:07:14.255Z"
   },
   {
    "duration": 10,
    "start_time": "2022-05-25T09:17:32.422Z"
   },
   {
    "duration": 10,
    "start_time": "2022-05-25T09:17:37.723Z"
   },
   {
    "duration": 6,
    "start_time": "2022-05-25T09:17:47.824Z"
   },
   {
    "duration": 10,
    "start_time": "2022-05-25T09:17:51.407Z"
   },
   {
    "duration": 9,
    "start_time": "2022-05-25T09:18:37.385Z"
   },
   {
    "duration": 8,
    "start_time": "2022-05-25T09:23:19.221Z"
   },
   {
    "duration": 4,
    "start_time": "2022-05-25T09:23:25.851Z"
   },
   {
    "duration": 10,
    "start_time": "2022-05-25T09:23:26.047Z"
   },
   {
    "duration": 14,
    "start_time": "2022-05-25T09:24:15.657Z"
   },
   {
    "duration": 115,
    "start_time": "2022-05-25T09:25:58.661Z"
   },
   {
    "duration": 108,
    "start_time": "2022-05-25T09:27:18.215Z"
   },
   {
    "duration": 116,
    "start_time": "2022-05-25T09:27:46.240Z"
   },
   {
    "duration": 7,
    "start_time": "2022-05-25T09:29:15.036Z"
   },
   {
    "duration": 8,
    "start_time": "2022-05-25T09:29:22.690Z"
   },
   {
    "duration": 218,
    "start_time": "2022-05-25T09:29:42.002Z"
   },
   {
    "duration": 5,
    "start_time": "2022-05-25T09:30:21.715Z"
   },
   {
    "duration": 145,
    "start_time": "2022-05-25T09:32:03.358Z"
   },
   {
    "duration": 117,
    "start_time": "2022-05-25T09:33:07.604Z"
   },
   {
    "duration": 6,
    "start_time": "2022-05-25T09:34:09.639Z"
   },
   {
    "duration": 157,
    "start_time": "2022-05-25T09:36:00.108Z"
   },
   {
    "duration": 127,
    "start_time": "2022-05-25T09:36:12.292Z"
   },
   {
    "duration": 146,
    "start_time": "2022-05-25T09:36:37.998Z"
   },
   {
    "duration": 289,
    "start_time": "2022-05-25T09:36:48.337Z"
   },
   {
    "duration": 309,
    "start_time": "2022-05-25T09:36:57.556Z"
   },
   {
    "duration": 10,
    "start_time": "2022-05-25T10:59:33.818Z"
   },
   {
    "duration": 12,
    "start_time": "2022-05-25T10:59:38.145Z"
   },
   {
    "duration": 8,
    "start_time": "2022-05-25T11:04:59.901Z"
   },
   {
    "duration": 1065,
    "start_time": "2022-05-25T11:05:05.185Z"
   },
   {
    "duration": 87,
    "start_time": "2022-05-25T11:05:06.252Z"
   },
   {
    "duration": 13,
    "start_time": "2022-05-25T11:05:06.340Z"
   },
   {
    "duration": 8,
    "start_time": "2022-05-25T11:05:06.354Z"
   },
   {
    "duration": 14,
    "start_time": "2022-05-25T11:05:06.364Z"
   },
   {
    "duration": 25,
    "start_time": "2022-05-25T11:05:06.380Z"
   },
   {
    "duration": 8,
    "start_time": "2022-05-25T11:05:06.407Z"
   },
   {
    "duration": 13,
    "start_time": "2022-05-25T11:05:06.416Z"
   },
   {
    "duration": 66,
    "start_time": "2022-05-25T11:05:06.431Z"
   },
   {
    "duration": 288,
    "start_time": "2022-05-25T11:05:06.500Z"
   },
   {
    "duration": 15,
    "start_time": "2022-05-25T11:05:06.790Z"
   },
   {
    "duration": 7,
    "start_time": "2022-05-25T11:05:06.807Z"
   },
   {
    "duration": 7,
    "start_time": "2022-05-25T11:05:06.816Z"
   },
   {
    "duration": 413,
    "start_time": "2022-05-25T11:05:06.826Z"
   },
   {
    "duration": 210,
    "start_time": "2022-05-25T11:05:07.240Z"
   },
   {
    "duration": 298,
    "start_time": "2022-05-25T11:05:07.452Z"
   },
   {
    "duration": 239,
    "start_time": "2022-05-25T11:05:07.752Z"
   },
   {
    "duration": 313,
    "start_time": "2022-05-25T11:05:07.994Z"
   },
   {
    "duration": 7,
    "start_time": "2022-05-25T11:05:08.309Z"
   },
   {
    "duration": 7,
    "start_time": "2022-05-25T11:05:08.317Z"
   },
   {
    "duration": 144,
    "start_time": "2022-05-25T11:05:08.326Z"
   },
   {
    "duration": 5,
    "start_time": "2022-05-25T11:05:08.472Z"
   },
   {
    "duration": 152,
    "start_time": "2022-05-25T11:05:08.479Z"
   },
   {
    "duration": 6,
    "start_time": "2022-05-25T11:05:08.633Z"
   },
   {
    "duration": 233,
    "start_time": "2022-05-25T11:05:08.640Z"
   },
   {
    "duration": 0,
    "start_time": "2022-05-25T11:05:08.876Z"
   },
   {
    "duration": 0,
    "start_time": "2022-05-25T11:05:08.878Z"
   },
   {
    "duration": 0,
    "start_time": "2022-05-25T11:05:08.879Z"
   },
   {
    "duration": 12,
    "start_time": "2022-05-25T11:06:16.459Z"
   },
   {
    "duration": 12,
    "start_time": "2022-05-25T11:06:24.970Z"
   },
   {
    "duration": 104,
    "start_time": "2022-05-25T11:07:16.720Z"
   },
   {
    "duration": 222,
    "start_time": "2022-05-25T11:07:43.189Z"
   },
   {
    "duration": 8,
    "start_time": "2022-05-25T11:07:47.956Z"
   },
   {
    "duration": 8,
    "start_time": "2022-05-25T11:08:25.899Z"
   },
   {
    "duration": 5,
    "start_time": "2022-05-25T11:12:07.099Z"
   },
   {
    "duration": 10,
    "start_time": "2022-05-25T11:13:28.917Z"
   },
   {
    "duration": 7,
    "start_time": "2022-05-25T11:14:09.037Z"
   },
   {
    "duration": 6,
    "start_time": "2022-05-25T11:14:24.533Z"
   },
   {
    "duration": 13,
    "start_time": "2022-05-25T11:17:28.804Z"
   },
   {
    "duration": 12,
    "start_time": "2022-05-25T11:17:38.263Z"
   },
   {
    "duration": 10,
    "start_time": "2022-05-25T11:18:20.532Z"
   },
   {
    "duration": 10,
    "start_time": "2022-05-25T11:18:31.341Z"
   },
   {
    "duration": 4,
    "start_time": "2022-05-25T11:19:44.522Z"
   },
   {
    "duration": 8,
    "start_time": "2022-05-25T11:20:07.435Z"
   },
   {
    "duration": 4,
    "start_time": "2022-05-25T11:28:53.757Z"
   },
   {
    "duration": 12,
    "start_time": "2022-05-25T11:28:54.492Z"
   },
   {
    "duration": 1107,
    "start_time": "2022-05-25T11:29:09.751Z"
   },
   {
    "duration": 85,
    "start_time": "2022-05-25T11:29:10.860Z"
   },
   {
    "duration": 11,
    "start_time": "2022-05-25T11:29:10.946Z"
   },
   {
    "duration": 4,
    "start_time": "2022-05-25T11:29:10.958Z"
   },
   {
    "duration": 12,
    "start_time": "2022-05-25T11:29:10.963Z"
   },
   {
    "duration": 9,
    "start_time": "2022-05-25T11:29:10.976Z"
   },
   {
    "duration": 7,
    "start_time": "2022-05-25T11:29:10.986Z"
   },
   {
    "duration": 11,
    "start_time": "2022-05-25T11:29:10.995Z"
   },
   {
    "duration": 52,
    "start_time": "2022-05-25T11:29:11.007Z"
   },
   {
    "duration": 289,
    "start_time": "2022-05-25T11:29:11.061Z"
   },
   {
    "duration": 14,
    "start_time": "2022-05-25T11:29:11.352Z"
   },
   {
    "duration": 4,
    "start_time": "2022-05-25T11:29:11.368Z"
   },
   {
    "duration": 21,
    "start_time": "2022-05-25T11:29:11.374Z"
   },
   {
    "duration": 397,
    "start_time": "2022-05-25T11:29:11.398Z"
   },
   {
    "duration": 197,
    "start_time": "2022-05-25T11:29:11.797Z"
   },
   {
    "duration": 306,
    "start_time": "2022-05-25T11:29:11.996Z"
   },
   {
    "duration": 228,
    "start_time": "2022-05-25T11:29:12.304Z"
   },
   {
    "duration": 294,
    "start_time": "2022-05-25T11:29:12.533Z"
   },
   {
    "duration": 9,
    "start_time": "2022-05-25T11:29:12.829Z"
   },
   {
    "duration": 10,
    "start_time": "2022-05-25T11:29:12.839Z"
   },
   {
    "duration": 145,
    "start_time": "2022-05-25T11:29:12.851Z"
   },
   {
    "duration": 4,
    "start_time": "2022-05-25T11:29:12.998Z"
   },
   {
    "duration": 157,
    "start_time": "2022-05-25T11:29:13.004Z"
   },
   {
    "duration": 6,
    "start_time": "2022-05-25T11:29:13.163Z"
   },
   {
    "duration": 30,
    "start_time": "2022-05-25T11:29:13.171Z"
   },
   {
    "duration": 218,
    "start_time": "2022-05-25T11:29:13.204Z"
   },
   {
    "duration": 8,
    "start_time": "2022-05-25T11:29:13.423Z"
   },
   {
    "duration": 8,
    "start_time": "2022-05-25T11:29:13.432Z"
   },
   {
    "duration": 14,
    "start_time": "2022-05-25T11:29:13.441Z"
   },
   {
    "duration": 28,
    "start_time": "2022-05-25T11:29:13.457Z"
   },
   {
    "duration": 17,
    "start_time": "2022-05-25T11:29:13.487Z"
   },
   {
    "duration": 8,
    "start_time": "2022-05-25T11:32:18.406Z"
   },
   {
    "duration": 6,
    "start_time": "2022-05-25T11:33:58.945Z"
   },
   {
    "duration": 7,
    "start_time": "2022-05-25T11:37:03.009Z"
   },
   {
    "duration": 5,
    "start_time": "2022-05-25T11:37:10.493Z"
   },
   {
    "duration": 6,
    "start_time": "2022-05-25T11:37:47.266Z"
   },
   {
    "duration": 7,
    "start_time": "2022-05-25T11:37:48.638Z"
   },
   {
    "duration": 5,
    "start_time": "2022-05-25T11:38:33.322Z"
   },
   {
    "duration": 4,
    "start_time": "2022-05-25T11:38:34.574Z"
   },
   {
    "duration": 8,
    "start_time": "2022-05-25T11:39:28.428Z"
   },
   {
    "duration": 5,
    "start_time": "2022-05-25T11:39:58.556Z"
   },
   {
    "duration": 10,
    "start_time": "2022-05-25T11:39:59.001Z"
   },
   {
    "duration": 5,
    "start_time": "2022-05-25T11:40:23.327Z"
   },
   {
    "duration": 1026,
    "start_time": "2022-05-25T11:40:34.814Z"
   },
   {
    "duration": 85,
    "start_time": "2022-05-25T11:40:35.842Z"
   },
   {
    "duration": 10,
    "start_time": "2022-05-25T11:40:35.929Z"
   },
   {
    "duration": 15,
    "start_time": "2022-05-25T11:40:35.941Z"
   },
   {
    "duration": 25,
    "start_time": "2022-05-25T11:40:35.957Z"
   },
   {
    "duration": 13,
    "start_time": "2022-05-25T11:40:35.985Z"
   },
   {
    "duration": 19,
    "start_time": "2022-05-25T11:40:35.999Z"
   },
   {
    "duration": 39,
    "start_time": "2022-05-25T11:40:36.020Z"
   },
   {
    "duration": 69,
    "start_time": "2022-05-25T11:40:36.060Z"
   },
   {
    "duration": 267,
    "start_time": "2022-05-25T11:40:36.131Z"
   },
   {
    "duration": 13,
    "start_time": "2022-05-25T11:40:36.400Z"
   },
   {
    "duration": 11,
    "start_time": "2022-05-25T11:40:36.414Z"
   },
   {
    "duration": 15,
    "start_time": "2022-05-25T11:40:36.426Z"
   },
   {
    "duration": 372,
    "start_time": "2022-05-25T11:40:36.442Z"
   },
   {
    "duration": 187,
    "start_time": "2022-05-25T11:40:36.816Z"
   },
   {
    "duration": 303,
    "start_time": "2022-05-25T11:40:37.005Z"
   },
   {
    "duration": 229,
    "start_time": "2022-05-25T11:40:37.310Z"
   },
   {
    "duration": 271,
    "start_time": "2022-05-25T11:40:37.541Z"
   },
   {
    "duration": 7,
    "start_time": "2022-05-25T11:40:37.813Z"
   },
   {
    "duration": 8,
    "start_time": "2022-05-25T11:40:37.822Z"
   },
   {
    "duration": 143,
    "start_time": "2022-05-25T11:40:37.831Z"
   },
   {
    "duration": 4,
    "start_time": "2022-05-25T11:40:37.976Z"
   },
   {
    "duration": 152,
    "start_time": "2022-05-25T11:40:37.981Z"
   },
   {
    "duration": 4,
    "start_time": "2022-05-25T11:40:38.135Z"
   },
   {
    "duration": 23,
    "start_time": "2022-05-25T11:40:38.141Z"
   },
   {
    "duration": 8,
    "start_time": "2022-05-25T11:40:38.166Z"
   },
   {
    "duration": 11,
    "start_time": "2022-05-25T11:40:38.175Z"
   },
   {
    "duration": 203,
    "start_time": "2022-05-25T11:40:38.196Z"
   },
   {
    "duration": 3,
    "start_time": "2022-05-25T11:40:38.401Z"
   },
   {
    "duration": 11,
    "start_time": "2022-05-25T11:40:38.405Z"
   },
   {
    "duration": 14,
    "start_time": "2022-05-25T11:40:38.417Z"
   },
   {
    "duration": 9,
    "start_time": "2022-05-25T11:40:38.432Z"
   },
   {
    "duration": 5,
    "start_time": "2022-05-25T11:41:11.261Z"
   },
   {
    "duration": 5,
    "start_time": "2022-05-25T11:41:13.270Z"
   },
   {
    "duration": 1102,
    "start_time": "2022-05-25T11:41:18.825Z"
   },
   {
    "duration": 86,
    "start_time": "2022-05-25T11:41:19.929Z"
   },
   {
    "duration": 11,
    "start_time": "2022-05-25T11:41:20.017Z"
   },
   {
    "duration": 4,
    "start_time": "2022-05-25T11:41:20.030Z"
   },
   {
    "duration": 11,
    "start_time": "2022-05-25T11:41:20.036Z"
   },
   {
    "duration": 32,
    "start_time": "2022-05-25T11:41:20.048Z"
   },
   {
    "duration": 11,
    "start_time": "2022-05-25T11:41:20.082Z"
   },
   {
    "duration": 14,
    "start_time": "2022-05-25T11:41:20.094Z"
   },
   {
    "duration": 56,
    "start_time": "2022-05-25T11:41:20.110Z"
   },
   {
    "duration": 294,
    "start_time": "2022-05-25T11:41:20.168Z"
   },
   {
    "duration": 25,
    "start_time": "2022-05-25T11:41:20.465Z"
   },
   {
    "duration": 9,
    "start_time": "2022-05-25T11:41:20.494Z"
   },
   {
    "duration": 13,
    "start_time": "2022-05-25T11:41:20.505Z"
   },
   {
    "duration": 439,
    "start_time": "2022-05-25T11:41:20.520Z"
   },
   {
    "duration": 189,
    "start_time": "2022-05-25T11:41:20.961Z"
   },
   {
    "duration": 276,
    "start_time": "2022-05-25T11:41:21.151Z"
   },
   {
    "duration": 223,
    "start_time": "2022-05-25T11:41:21.429Z"
   },
   {
    "duration": 325,
    "start_time": "2022-05-25T11:41:21.654Z"
   },
   {
    "duration": 14,
    "start_time": "2022-05-25T11:41:21.980Z"
   },
   {
    "duration": 7,
    "start_time": "2022-05-25T11:41:21.996Z"
   },
   {
    "duration": 149,
    "start_time": "2022-05-25T11:41:22.005Z"
   },
   {
    "duration": 5,
    "start_time": "2022-05-25T11:41:22.156Z"
   },
   {
    "duration": 142,
    "start_time": "2022-05-25T11:41:22.162Z"
   },
   {
    "duration": 5,
    "start_time": "2022-05-25T11:41:22.305Z"
   },
   {
    "duration": 12,
    "start_time": "2022-05-25T11:41:22.312Z"
   },
   {
    "duration": 6,
    "start_time": "2022-05-25T11:41:22.326Z"
   },
   {
    "duration": 10,
    "start_time": "2022-05-25T11:41:22.333Z"
   },
   {
    "duration": 241,
    "start_time": "2022-05-25T11:41:22.346Z"
   },
   {
    "duration": 5,
    "start_time": "2022-05-25T11:41:22.589Z"
   },
   {
    "duration": 12,
    "start_time": "2022-05-25T11:41:22.596Z"
   },
   {
    "duration": 21,
    "start_time": "2022-05-25T11:41:22.610Z"
   },
   {
    "duration": 14,
    "start_time": "2022-05-25T11:41:22.632Z"
   },
   {
    "duration": 5,
    "start_time": "2022-05-25T11:42:02.424Z"
   },
   {
    "duration": 8,
    "start_time": "2022-05-25T11:42:02.870Z"
   },
   {
    "duration": 6,
    "start_time": "2022-05-25T11:42:42.862Z"
   },
   {
    "duration": 9,
    "start_time": "2022-05-25T11:42:46.530Z"
   },
   {
    "duration": 608,
    "start_time": "2022-05-25T11:45:10.998Z"
   },
   {
    "duration": 130,
    "start_time": "2022-05-25T11:45:54.450Z"
   },
   {
    "duration": 487,
    "start_time": "2022-05-25T11:53:09.842Z"
   },
   {
    "duration": 497,
    "start_time": "2022-05-25T11:54:04.214Z"
   },
   {
    "duration": 386,
    "start_time": "2022-05-25T11:54:13.875Z"
   },
   {
    "duration": 15,
    "start_time": "2022-05-25T11:54:45.692Z"
   },
   {
    "duration": 14,
    "start_time": "2022-05-25T11:54:54.028Z"
   },
   {
    "duration": 406,
    "start_time": "2022-05-25T11:56:28.486Z"
   },
   {
    "duration": 26,
    "start_time": "2022-05-25T11:57:14.561Z"
   },
   {
    "duration": 37,
    "start_time": "2022-05-25T11:57:45.873Z"
   },
   {
    "duration": 538,
    "start_time": "2022-05-25T11:58:06.955Z"
   },
   {
    "duration": 17,
    "start_time": "2022-05-25T11:58:22.315Z"
   },
   {
    "duration": 10,
    "start_time": "2022-05-25T11:58:43.154Z"
   },
   {
    "duration": 42,
    "start_time": "2022-05-25T11:59:08.281Z"
   },
   {
    "duration": 31,
    "start_time": "2022-05-25T12:00:27.760Z"
   },
   {
    "duration": 4,
    "start_time": "2022-05-25T12:00:44.698Z"
   },
   {
    "duration": 9,
    "start_time": "2022-05-25T12:00:55.789Z"
   },
   {
    "duration": 3,
    "start_time": "2022-05-25T12:01:09.782Z"
   },
   {
    "duration": 8,
    "start_time": "2022-05-25T12:03:34.803Z"
   },
   {
    "duration": 5,
    "start_time": "2022-05-25T12:09:06.252Z"
   },
   {
    "duration": 4,
    "start_time": "2022-05-25T12:09:12.847Z"
   },
   {
    "duration": 21,
    "start_time": "2022-05-25T12:10:09.447Z"
   },
   {
    "duration": 11,
    "start_time": "2022-05-25T12:10:25.503Z"
   },
   {
    "duration": 13,
    "start_time": "2022-05-25T12:10:34.622Z"
   },
   {
    "duration": 12,
    "start_time": "2022-05-25T12:10:50.953Z"
   },
   {
    "duration": 13,
    "start_time": "2022-05-25T12:11:59.608Z"
   },
   {
    "duration": 13,
    "start_time": "2022-05-25T12:12:56.673Z"
   },
   {
    "duration": 11,
    "start_time": "2022-05-25T12:13:01.993Z"
   },
   {
    "duration": 14,
    "start_time": "2022-05-25T12:13:50.030Z"
   },
   {
    "duration": 808,
    "start_time": "2022-05-25T12:15:00.093Z"
   },
   {
    "duration": 7,
    "start_time": "2022-05-25T12:15:34.143Z"
   },
   {
    "duration": 5,
    "start_time": "2022-05-25T12:15:35.654Z"
   },
   {
    "duration": 34,
    "start_time": "2022-05-25T12:15:36.749Z"
   },
   {
    "duration": 1021,
    "start_time": "2022-05-25T12:15:56.810Z"
   },
   {
    "duration": 87,
    "start_time": "2022-05-25T12:15:57.833Z"
   },
   {
    "duration": 11,
    "start_time": "2022-05-25T12:15:57.922Z"
   },
   {
    "duration": 9,
    "start_time": "2022-05-25T12:15:57.935Z"
   },
   {
    "duration": 25,
    "start_time": "2022-05-25T12:15:57.946Z"
   },
   {
    "duration": 19,
    "start_time": "2022-05-25T12:15:57.973Z"
   },
   {
    "duration": 30,
    "start_time": "2022-05-25T12:15:57.993Z"
   },
   {
    "duration": 24,
    "start_time": "2022-05-25T12:15:58.025Z"
   },
   {
    "duration": 66,
    "start_time": "2022-05-25T12:15:58.051Z"
   },
   {
    "duration": 271,
    "start_time": "2022-05-25T12:15:58.121Z"
   },
   {
    "duration": 13,
    "start_time": "2022-05-25T12:15:58.393Z"
   },
   {
    "duration": 13,
    "start_time": "2022-05-25T12:15:58.408Z"
   },
   {
    "duration": 22,
    "start_time": "2022-05-25T12:15:58.422Z"
   },
   {
    "duration": 386,
    "start_time": "2022-05-25T12:15:58.446Z"
   },
   {
    "duration": 264,
    "start_time": "2022-05-25T12:15:58.834Z"
   },
   {
    "duration": 327,
    "start_time": "2022-05-25T12:15:59.100Z"
   },
   {
    "duration": 237,
    "start_time": "2022-05-25T12:15:59.428Z"
   },
   {
    "duration": 336,
    "start_time": "2022-05-25T12:15:59.667Z"
   },
   {
    "duration": 8,
    "start_time": "2022-05-25T12:16:00.005Z"
   },
   {
    "duration": 10,
    "start_time": "2022-05-25T12:16:00.014Z"
   },
   {
    "duration": 146,
    "start_time": "2022-05-25T12:16:00.026Z"
   },
   {
    "duration": 4,
    "start_time": "2022-05-25T12:16:00.174Z"
   },
   {
    "duration": 158,
    "start_time": "2022-05-25T12:16:00.180Z"
   },
   {
    "duration": 5,
    "start_time": "2022-05-25T12:16:00.340Z"
   },
   {
    "duration": 31,
    "start_time": "2022-05-25T12:16:00.347Z"
   },
   {
    "duration": 23,
    "start_time": "2022-05-25T12:16:00.380Z"
   },
   {
    "duration": 41,
    "start_time": "2022-05-25T12:16:00.405Z"
   },
   {
    "duration": 45,
    "start_time": "2022-05-25T12:16:00.449Z"
   },
   {
    "duration": 22,
    "start_time": "2022-05-25T12:16:00.496Z"
   },
   {
    "duration": 6,
    "start_time": "2022-05-25T12:16:36.095Z"
   },
   {
    "duration": 7,
    "start_time": "2022-05-25T12:16:36.538Z"
   },
   {
    "duration": 8,
    "start_time": "2022-05-25T12:17:01.750Z"
   },
   {
    "duration": 8,
    "start_time": "2022-05-25T12:17:14.197Z"
   },
   {
    "duration": 984,
    "start_time": "2022-05-25T12:17:23.844Z"
   },
   {
    "duration": 85,
    "start_time": "2022-05-25T12:17:24.830Z"
   },
   {
    "duration": 11,
    "start_time": "2022-05-25T12:17:24.917Z"
   },
   {
    "duration": 5,
    "start_time": "2022-05-25T12:17:24.929Z"
   },
   {
    "duration": 7,
    "start_time": "2022-05-25T12:17:24.936Z"
   },
   {
    "duration": 9,
    "start_time": "2022-05-25T12:17:24.944Z"
   },
   {
    "duration": 10,
    "start_time": "2022-05-25T12:17:24.954Z"
   },
   {
    "duration": 12,
    "start_time": "2022-05-25T12:17:24.965Z"
   },
   {
    "duration": 58,
    "start_time": "2022-05-25T12:17:24.979Z"
   },
   {
    "duration": 271,
    "start_time": "2022-05-25T12:17:25.039Z"
   },
   {
    "duration": 12,
    "start_time": "2022-05-25T12:17:25.312Z"
   },
   {
    "duration": 4,
    "start_time": "2022-05-25T12:17:25.326Z"
   },
   {
    "duration": 11,
    "start_time": "2022-05-25T12:17:25.331Z"
   },
   {
    "duration": 401,
    "start_time": "2022-05-25T12:17:25.344Z"
   },
   {
    "duration": 203,
    "start_time": "2022-05-25T12:17:25.747Z"
   },
   {
    "duration": 310,
    "start_time": "2022-05-25T12:17:25.951Z"
   },
   {
    "duration": 247,
    "start_time": "2022-05-25T12:17:26.262Z"
   },
   {
    "duration": 292,
    "start_time": "2022-05-25T12:17:26.510Z"
   },
   {
    "duration": 8,
    "start_time": "2022-05-25T12:17:26.803Z"
   },
   {
    "duration": 8,
    "start_time": "2022-05-25T12:17:26.812Z"
   },
   {
    "duration": 135,
    "start_time": "2022-05-25T12:17:26.821Z"
   },
   {
    "duration": 5,
    "start_time": "2022-05-25T12:17:26.957Z"
   },
   {
    "duration": 157,
    "start_time": "2022-05-25T12:17:26.964Z"
   },
   {
    "duration": 5,
    "start_time": "2022-05-25T12:17:27.123Z"
   },
   {
    "duration": 13,
    "start_time": "2022-05-25T12:17:27.129Z"
   },
   {
    "duration": 8,
    "start_time": "2022-05-25T12:17:27.144Z"
   },
   {
    "duration": 10,
    "start_time": "2022-05-25T12:17:27.153Z"
   },
   {
    "duration": 51,
    "start_time": "2022-05-25T12:17:27.164Z"
   },
   {
    "duration": 7,
    "start_time": "2022-05-25T12:17:27.217Z"
   },
   {
    "duration": 3,
    "start_time": "2022-05-25T12:17:34.701Z"
   },
   {
    "duration": 8,
    "start_time": "2022-05-25T12:19:57.274Z"
   },
   {
    "duration": 104,
    "start_time": "2022-05-25T12:20:01.025Z"
   },
   {
    "duration": 9,
    "start_time": "2022-05-25T12:20:01.362Z"
   },
   {
    "duration": 4,
    "start_time": "2022-05-25T12:20:13.549Z"
   },
   {
    "duration": 1108,
    "start_time": "2022-05-25T12:20:20.222Z"
   },
   {
    "duration": 85,
    "start_time": "2022-05-25T12:20:21.332Z"
   },
   {
    "duration": 11,
    "start_time": "2022-05-25T12:20:21.418Z"
   },
   {
    "duration": 3,
    "start_time": "2022-05-25T12:20:21.430Z"
   },
   {
    "duration": 7,
    "start_time": "2022-05-25T12:20:21.436Z"
   },
   {
    "duration": 9,
    "start_time": "2022-05-25T12:20:21.444Z"
   },
   {
    "duration": 7,
    "start_time": "2022-05-25T12:20:21.454Z"
   },
   {
    "duration": 15,
    "start_time": "2022-05-25T12:20:21.462Z"
   },
   {
    "duration": 70,
    "start_time": "2022-05-25T12:20:21.479Z"
   },
   {
    "duration": 274,
    "start_time": "2022-05-25T12:20:21.551Z"
   },
   {
    "duration": 11,
    "start_time": "2022-05-25T12:20:21.827Z"
   },
   {
    "duration": 6,
    "start_time": "2022-05-25T12:20:21.840Z"
   },
   {
    "duration": 5,
    "start_time": "2022-05-25T12:20:21.847Z"
   },
   {
    "duration": 390,
    "start_time": "2022-05-25T12:20:21.854Z"
   },
   {
    "duration": 204,
    "start_time": "2022-05-25T12:20:22.246Z"
   },
   {
    "duration": 316,
    "start_time": "2022-05-25T12:20:22.452Z"
   },
   {
    "duration": 231,
    "start_time": "2022-05-25T12:20:22.770Z"
   },
   {
    "duration": 317,
    "start_time": "2022-05-25T12:20:23.003Z"
   },
   {
    "duration": 7,
    "start_time": "2022-05-25T12:20:23.321Z"
   },
   {
    "duration": 11,
    "start_time": "2022-05-25T12:20:23.329Z"
   },
   {
    "duration": 152,
    "start_time": "2022-05-25T12:20:23.342Z"
   },
   {
    "duration": 4,
    "start_time": "2022-05-25T12:20:23.496Z"
   },
   {
    "duration": 152,
    "start_time": "2022-05-25T12:20:23.502Z"
   },
   {
    "duration": 5,
    "start_time": "2022-05-25T12:20:23.656Z"
   },
   {
    "duration": 13,
    "start_time": "2022-05-25T12:20:23.663Z"
   },
   {
    "duration": 105,
    "start_time": "2022-05-25T12:20:23.694Z"
   },
   {
    "duration": 0,
    "start_time": "2022-05-25T12:20:23.801Z"
   },
   {
    "duration": 0,
    "start_time": "2022-05-25T12:20:23.802Z"
   },
   {
    "duration": 0,
    "start_time": "2022-05-25T12:20:23.803Z"
   },
   {
    "duration": 6,
    "start_time": "2022-05-25T12:20:52.679Z"
   },
   {
    "duration": 5,
    "start_time": "2022-05-25T12:20:54.632Z"
   },
   {
    "duration": 14,
    "start_time": "2022-05-25T12:21:27.400Z"
   },
   {
    "duration": 12,
    "start_time": "2022-05-25T12:22:15.068Z"
   },
   {
    "duration": 13,
    "start_time": "2022-05-25T12:22:21.991Z"
   },
   {
    "duration": 5,
    "start_time": "2022-05-25T12:22:33.107Z"
   },
   {
    "duration": 710,
    "start_time": "2022-05-25T12:27:22.696Z"
   },
   {
    "duration": 0,
    "start_time": "2022-05-25T12:27:23.408Z"
   },
   {
    "duration": 502,
    "start_time": "2022-05-25T12:28:04.904Z"
   },
   {
    "duration": 1058,
    "start_time": "2022-05-25T12:28:23.117Z"
   },
   {
    "duration": 87,
    "start_time": "2022-05-25T12:28:24.177Z"
   },
   {
    "duration": 12,
    "start_time": "2022-05-25T12:28:24.268Z"
   },
   {
    "duration": 3,
    "start_time": "2022-05-25T12:28:24.282Z"
   },
   {
    "duration": 10,
    "start_time": "2022-05-25T12:28:24.287Z"
   },
   {
    "duration": 9,
    "start_time": "2022-05-25T12:28:24.298Z"
   },
   {
    "duration": 8,
    "start_time": "2022-05-25T12:28:24.309Z"
   },
   {
    "duration": 12,
    "start_time": "2022-05-25T12:28:24.319Z"
   },
   {
    "duration": 69,
    "start_time": "2022-05-25T12:28:24.333Z"
   },
   {
    "duration": 277,
    "start_time": "2022-05-25T12:28:24.404Z"
   },
   {
    "duration": 18,
    "start_time": "2022-05-25T12:28:24.683Z"
   },
   {
    "duration": 5,
    "start_time": "2022-05-25T12:28:24.702Z"
   },
   {
    "duration": 6,
    "start_time": "2022-05-25T12:28:24.708Z"
   },
   {
    "duration": 409,
    "start_time": "2022-05-25T12:28:24.715Z"
   },
   {
    "duration": 208,
    "start_time": "2022-05-25T12:28:25.126Z"
   },
   {
    "duration": 286,
    "start_time": "2022-05-25T12:28:25.335Z"
   },
   {
    "duration": 221,
    "start_time": "2022-05-25T12:28:25.623Z"
   },
   {
    "duration": 299,
    "start_time": "2022-05-25T12:28:25.847Z"
   },
   {
    "duration": 9,
    "start_time": "2022-05-25T12:28:26.149Z"
   },
   {
    "duration": 9,
    "start_time": "2022-05-25T12:28:26.159Z"
   },
   {
    "duration": 163,
    "start_time": "2022-05-25T12:28:26.170Z"
   },
   {
    "duration": 6,
    "start_time": "2022-05-25T12:28:26.335Z"
   },
   {
    "duration": 167,
    "start_time": "2022-05-25T12:28:26.343Z"
   },
   {
    "duration": 6,
    "start_time": "2022-05-25T12:28:26.512Z"
   },
   {
    "duration": 18,
    "start_time": "2022-05-25T12:28:26.519Z"
   },
   {
    "duration": 144,
    "start_time": "2022-05-25T12:28:26.539Z"
   },
   {
    "duration": 0,
    "start_time": "2022-05-25T12:28:26.685Z"
   },
   {
    "duration": 0,
    "start_time": "2022-05-25T12:28:26.686Z"
   },
   {
    "duration": 0,
    "start_time": "2022-05-25T12:28:26.687Z"
   },
   {
    "duration": 7,
    "start_time": "2022-05-25T12:28:46.840Z"
   },
   {
    "duration": 10,
    "start_time": "2022-05-25T12:28:54.041Z"
   },
   {
    "duration": 1131,
    "start_time": "2022-05-25T12:29:02.771Z"
   },
   {
    "duration": 84,
    "start_time": "2022-05-25T12:29:03.904Z"
   },
   {
    "duration": 11,
    "start_time": "2022-05-25T12:29:03.990Z"
   },
   {
    "duration": 14,
    "start_time": "2022-05-25T12:29:04.003Z"
   },
   {
    "duration": 31,
    "start_time": "2022-05-25T12:29:04.018Z"
   },
   {
    "duration": 26,
    "start_time": "2022-05-25T12:29:04.050Z"
   },
   {
    "duration": 27,
    "start_time": "2022-05-25T12:29:04.078Z"
   },
   {
    "duration": 36,
    "start_time": "2022-05-25T12:29:04.107Z"
   },
   {
    "duration": 80,
    "start_time": "2022-05-25T12:29:04.145Z"
   },
   {
    "duration": 275,
    "start_time": "2022-05-25T12:29:04.228Z"
   },
   {
    "duration": 12,
    "start_time": "2022-05-25T12:29:04.504Z"
   },
   {
    "duration": 7,
    "start_time": "2022-05-25T12:29:04.517Z"
   },
   {
    "duration": 8,
    "start_time": "2022-05-25T12:29:04.526Z"
   },
   {
    "duration": 390,
    "start_time": "2022-05-25T12:29:04.536Z"
   },
   {
    "duration": 192,
    "start_time": "2022-05-25T12:29:04.928Z"
   },
   {
    "duration": 292,
    "start_time": "2022-05-25T12:29:05.122Z"
   },
   {
    "duration": 204,
    "start_time": "2022-05-25T12:29:05.416Z"
   },
   {
    "duration": 278,
    "start_time": "2022-05-25T12:29:05.622Z"
   },
   {
    "duration": 7,
    "start_time": "2022-05-25T12:29:05.902Z"
   },
   {
    "duration": 10,
    "start_time": "2022-05-25T12:29:05.911Z"
   },
   {
    "duration": 142,
    "start_time": "2022-05-25T12:29:05.922Z"
   },
   {
    "duration": 6,
    "start_time": "2022-05-25T12:29:06.065Z"
   },
   {
    "duration": 151,
    "start_time": "2022-05-25T12:29:06.073Z"
   },
   {
    "duration": 6,
    "start_time": "2022-05-25T12:29:06.226Z"
   },
   {
    "duration": 15,
    "start_time": "2022-05-25T12:29:06.234Z"
   },
   {
    "duration": 7,
    "start_time": "2022-05-25T12:29:06.251Z"
   },
   {
    "duration": 12,
    "start_time": "2022-05-25T12:29:06.260Z"
   },
   {
    "duration": 30,
    "start_time": "2022-05-25T12:29:06.293Z"
   },
   {
    "duration": 8,
    "start_time": "2022-05-25T12:29:06.324Z"
   },
   {
    "duration": 8,
    "start_time": "2022-05-25T12:29:11.554Z"
   },
   {
    "duration": 8,
    "start_time": "2022-05-25T12:29:15.297Z"
   },
   {
    "duration": 33,
    "start_time": "2022-05-25T12:29:16.336Z"
   },
   {
    "duration": 1050,
    "start_time": "2022-05-25T12:29:42.873Z"
   },
   {
    "duration": 85,
    "start_time": "2022-05-25T12:29:43.925Z"
   },
   {
    "duration": 11,
    "start_time": "2022-05-25T12:29:44.012Z"
   },
   {
    "duration": 4,
    "start_time": "2022-05-25T12:29:44.026Z"
   },
   {
    "duration": 14,
    "start_time": "2022-05-25T12:29:44.031Z"
   },
   {
    "duration": 23,
    "start_time": "2022-05-25T12:29:44.046Z"
   },
   {
    "duration": 9,
    "start_time": "2022-05-25T12:29:44.070Z"
   },
   {
    "duration": 15,
    "start_time": "2022-05-25T12:29:44.080Z"
   },
   {
    "duration": 53,
    "start_time": "2022-05-25T12:29:44.096Z"
   },
   {
    "duration": 263,
    "start_time": "2022-05-25T12:29:44.151Z"
   },
   {
    "duration": 11,
    "start_time": "2022-05-25T12:29:44.415Z"
   },
   {
    "duration": 6,
    "start_time": "2022-05-25T12:29:44.428Z"
   },
   {
    "duration": 8,
    "start_time": "2022-05-25T12:29:44.435Z"
   },
   {
    "duration": 374,
    "start_time": "2022-05-25T12:29:44.444Z"
   },
   {
    "duration": 187,
    "start_time": "2022-05-25T12:29:44.820Z"
   },
   {
    "duration": 287,
    "start_time": "2022-05-25T12:29:45.009Z"
   },
   {
    "duration": 217,
    "start_time": "2022-05-25T12:29:45.297Z"
   },
   {
    "duration": 282,
    "start_time": "2022-05-25T12:29:45.516Z"
   },
   {
    "duration": 7,
    "start_time": "2022-05-25T12:29:45.800Z"
   },
   {
    "duration": 7,
    "start_time": "2022-05-25T12:29:45.809Z"
   },
   {
    "duration": 131,
    "start_time": "2022-05-25T12:29:45.817Z"
   },
   {
    "duration": 5,
    "start_time": "2022-05-25T12:29:45.949Z"
   },
   {
    "duration": 158,
    "start_time": "2022-05-25T12:29:45.955Z"
   },
   {
    "duration": 5,
    "start_time": "2022-05-25T12:29:46.115Z"
   },
   {
    "duration": 13,
    "start_time": "2022-05-25T12:29:46.121Z"
   },
   {
    "duration": 6,
    "start_time": "2022-05-25T12:29:46.135Z"
   },
   {
    "duration": 9,
    "start_time": "2022-05-25T12:29:46.143Z"
   },
   {
    "duration": 55,
    "start_time": "2022-05-25T12:29:46.155Z"
   },
   {
    "duration": 8,
    "start_time": "2022-05-25T12:29:46.212Z"
   },
   {
    "duration": 3,
    "start_time": "2022-05-25T12:29:54.259Z"
   },
   {
    "duration": 113,
    "start_time": "2022-05-25T12:31:13.782Z"
   },
   {
    "duration": 1014,
    "start_time": "2022-05-25T12:31:21.117Z"
   },
   {
    "duration": 86,
    "start_time": "2022-05-25T12:31:22.133Z"
   },
   {
    "duration": 12,
    "start_time": "2022-05-25T12:31:22.221Z"
   },
   {
    "duration": 11,
    "start_time": "2022-05-25T12:31:22.235Z"
   },
   {
    "duration": 7,
    "start_time": "2022-05-25T12:31:22.249Z"
   },
   {
    "duration": 11,
    "start_time": "2022-05-25T12:31:22.257Z"
   },
   {
    "duration": 8,
    "start_time": "2022-05-25T12:31:22.269Z"
   },
   {
    "duration": 18,
    "start_time": "2022-05-25T12:31:22.278Z"
   },
   {
    "duration": 50,
    "start_time": "2022-05-25T12:31:22.297Z"
   },
   {
    "duration": 279,
    "start_time": "2022-05-25T12:31:22.349Z"
   },
   {
    "duration": 11,
    "start_time": "2022-05-25T12:31:22.630Z"
   },
   {
    "duration": 6,
    "start_time": "2022-05-25T12:31:22.643Z"
   },
   {
    "duration": 5,
    "start_time": "2022-05-25T12:31:22.651Z"
   },
   {
    "duration": 407,
    "start_time": "2022-05-25T12:31:22.659Z"
   },
   {
    "duration": 204,
    "start_time": "2022-05-25T12:31:23.067Z"
   },
   {
    "duration": 323,
    "start_time": "2022-05-25T12:31:23.273Z"
   },
   {
    "duration": 212,
    "start_time": "2022-05-25T12:31:23.598Z"
   },
   {
    "duration": 307,
    "start_time": "2022-05-25T12:31:23.812Z"
   },
   {
    "duration": 7,
    "start_time": "2022-05-25T12:31:24.120Z"
   },
   {
    "duration": 7,
    "start_time": "2022-05-25T12:31:24.129Z"
   },
   {
    "duration": 131,
    "start_time": "2022-05-25T12:31:24.137Z"
   },
   {
    "duration": 4,
    "start_time": "2022-05-25T12:31:24.270Z"
   },
   {
    "duration": 149,
    "start_time": "2022-05-25T12:31:24.276Z"
   },
   {
    "duration": 5,
    "start_time": "2022-05-25T12:31:24.426Z"
   },
   {
    "duration": 13,
    "start_time": "2022-05-25T12:31:24.433Z"
   },
   {
    "duration": 114,
    "start_time": "2022-05-25T12:31:24.448Z"
   },
   {
    "duration": 0,
    "start_time": "2022-05-25T12:31:24.564Z"
   },
   {
    "duration": 0,
    "start_time": "2022-05-25T12:31:24.565Z"
   },
   {
    "duration": 0,
    "start_time": "2022-05-25T12:31:24.566Z"
   },
   {
    "duration": 11,
    "start_time": "2022-05-25T12:32:10.153Z"
   },
   {
    "duration": 17,
    "start_time": "2022-05-25T12:32:38.005Z"
   },
   {
    "duration": 12,
    "start_time": "2022-05-25T12:53:33.854Z"
   },
   {
    "duration": 6,
    "start_time": "2022-05-25T12:53:47.364Z"
   },
   {
    "duration": 9,
    "start_time": "2022-05-25T12:53:51.468Z"
   },
   {
    "duration": 7,
    "start_time": "2022-05-25T12:54:37.856Z"
   },
   {
    "duration": 4,
    "start_time": "2022-05-25T12:54:43.757Z"
   },
   {
    "duration": 9,
    "start_time": "2022-05-25T12:54:50.138Z"
   },
   {
    "duration": 6,
    "start_time": "2022-05-25T12:55:55.189Z"
   },
   {
    "duration": 9,
    "start_time": "2022-05-25T12:55:56.517Z"
   },
   {
    "duration": 8,
    "start_time": "2022-05-25T12:56:01.493Z"
   },
   {
    "duration": 6,
    "start_time": "2022-05-25T12:56:17.941Z"
   },
   {
    "duration": 8,
    "start_time": "2022-05-25T12:56:19.247Z"
   },
   {
    "duration": 8,
    "start_time": "2022-05-25T12:56:41.711Z"
   },
   {
    "duration": 1091,
    "start_time": "2022-05-25T12:58:11.558Z"
   },
   {
    "duration": 83,
    "start_time": "2022-05-25T12:58:12.651Z"
   },
   {
    "duration": 11,
    "start_time": "2022-05-25T12:58:12.736Z"
   },
   {
    "duration": 9,
    "start_time": "2022-05-25T12:58:12.748Z"
   },
   {
    "duration": 8,
    "start_time": "2022-05-25T12:58:12.759Z"
   },
   {
    "duration": 10,
    "start_time": "2022-05-25T12:58:12.768Z"
   },
   {
    "duration": 8,
    "start_time": "2022-05-25T12:58:12.780Z"
   },
   {
    "duration": 11,
    "start_time": "2022-05-25T12:58:12.789Z"
   },
   {
    "duration": 52,
    "start_time": "2022-05-25T12:58:12.802Z"
   },
   {
    "duration": 284,
    "start_time": "2022-05-25T12:58:12.856Z"
   },
   {
    "duration": 13,
    "start_time": "2022-05-25T12:58:13.142Z"
   },
   {
    "duration": 6,
    "start_time": "2022-05-25T12:58:13.157Z"
   },
   {
    "duration": 7,
    "start_time": "2022-05-25T12:58:13.165Z"
   },
   {
    "duration": 417,
    "start_time": "2022-05-25T12:58:13.194Z"
   },
   {
    "duration": 204,
    "start_time": "2022-05-25T12:58:13.613Z"
   },
   {
    "duration": 291,
    "start_time": "2022-05-25T12:58:13.819Z"
   },
   {
    "duration": 225,
    "start_time": "2022-05-25T12:58:14.111Z"
   },
   {
    "duration": 281,
    "start_time": "2022-05-25T12:58:14.338Z"
   },
   {
    "duration": 7,
    "start_time": "2022-05-25T12:58:14.621Z"
   },
   {
    "duration": 7,
    "start_time": "2022-05-25T12:58:14.630Z"
   },
   {
    "duration": 137,
    "start_time": "2022-05-25T12:58:14.638Z"
   },
   {
    "duration": 5,
    "start_time": "2022-05-25T12:58:14.777Z"
   },
   {
    "duration": 144,
    "start_time": "2022-05-25T12:58:14.794Z"
   },
   {
    "duration": 5,
    "start_time": "2022-05-25T12:58:14.940Z"
   },
   {
    "duration": 14,
    "start_time": "2022-05-25T12:58:14.946Z"
   },
   {
    "duration": 10,
    "start_time": "2022-05-25T12:58:14.961Z"
   },
   {
    "duration": 23,
    "start_time": "2022-05-25T12:58:14.972Z"
   },
   {
    "duration": 32,
    "start_time": "2022-05-25T12:58:14.996Z"
   },
   {
    "duration": 12,
    "start_time": "2022-05-25T12:58:15.029Z"
   },
   {
    "duration": 4,
    "start_time": "2022-05-25T12:58:22.546Z"
   },
   {
    "duration": 201,
    "start_time": "2022-05-25T13:00:09.742Z"
   },
   {
    "duration": 103,
    "start_time": "2022-05-25T13:01:01.361Z"
   },
   {
    "duration": 1074,
    "start_time": "2022-05-25T13:01:10.288Z"
   },
   {
    "duration": 88,
    "start_time": "2022-05-25T13:01:11.364Z"
   },
   {
    "duration": 12,
    "start_time": "2022-05-25T13:01:11.453Z"
   },
   {
    "duration": 5,
    "start_time": "2022-05-25T13:01:11.466Z"
   },
   {
    "duration": 11,
    "start_time": "2022-05-25T13:01:11.473Z"
   },
   {
    "duration": 10,
    "start_time": "2022-05-25T13:01:11.485Z"
   },
   {
    "duration": 11,
    "start_time": "2022-05-25T13:01:11.496Z"
   },
   {
    "duration": 24,
    "start_time": "2022-05-25T13:01:11.508Z"
   },
   {
    "duration": 54,
    "start_time": "2022-05-25T13:01:11.534Z"
   },
   {
    "duration": 267,
    "start_time": "2022-05-25T13:01:11.589Z"
   },
   {
    "duration": 11,
    "start_time": "2022-05-25T13:01:11.858Z"
   },
   {
    "duration": 6,
    "start_time": "2022-05-25T13:01:11.871Z"
   },
   {
    "duration": 19,
    "start_time": "2022-05-25T13:01:11.878Z"
   },
   {
    "duration": 396,
    "start_time": "2022-05-25T13:01:11.899Z"
   },
   {
    "duration": 206,
    "start_time": "2022-05-25T13:01:12.297Z"
   },
   {
    "duration": 296,
    "start_time": "2022-05-25T13:01:12.505Z"
   },
   {
    "duration": 228,
    "start_time": "2022-05-25T13:01:12.802Z"
   },
   {
    "duration": 287,
    "start_time": "2022-05-25T13:01:13.031Z"
   },
   {
    "duration": 9,
    "start_time": "2022-05-25T13:01:13.320Z"
   },
   {
    "duration": 9,
    "start_time": "2022-05-25T13:01:13.331Z"
   },
   {
    "duration": 152,
    "start_time": "2022-05-25T13:01:13.342Z"
   },
   {
    "duration": 5,
    "start_time": "2022-05-25T13:01:13.496Z"
   },
   {
    "duration": 149,
    "start_time": "2022-05-25T13:01:13.502Z"
   },
   {
    "duration": 5,
    "start_time": "2022-05-25T13:01:13.652Z"
   },
   {
    "duration": 24,
    "start_time": "2022-05-25T13:01:13.659Z"
   },
   {
    "duration": 224,
    "start_time": "2022-05-25T13:01:13.694Z"
   },
   {
    "duration": 113,
    "start_time": "2022-05-25T13:01:13.920Z"
   },
   {
    "duration": 173,
    "start_time": "2022-05-25T13:01:56.455Z"
   },
   {
    "duration": 6,
    "start_time": "2022-05-25T13:02:31.678Z"
   },
   {
    "duration": 30,
    "start_time": "2022-05-25T13:03:27.121Z"
   },
   {
    "duration": 11,
    "start_time": "2022-05-25T13:05:23.717Z"
   },
   {
    "duration": 173,
    "start_time": "2022-05-25T13:08:52.104Z"
   },
   {
    "duration": 632,
    "start_time": "2022-05-25T13:09:22.091Z"
   },
   {
    "duration": 1484,
    "start_time": "2022-05-25T13:09:47.987Z"
   },
   {
    "duration": 97,
    "start_time": "2022-05-25T13:09:49.473Z"
   },
   {
    "duration": 12,
    "start_time": "2022-05-25T13:09:49.572Z"
   },
   {
    "duration": 3,
    "start_time": "2022-05-25T13:09:49.585Z"
   },
   {
    "duration": 39,
    "start_time": "2022-05-25T13:09:49.589Z"
   },
   {
    "duration": 31,
    "start_time": "2022-05-25T13:09:49.630Z"
   },
   {
    "duration": 14,
    "start_time": "2022-05-25T13:09:49.663Z"
   },
   {
    "duration": 52,
    "start_time": "2022-05-25T13:09:49.678Z"
   },
   {
    "duration": 72,
    "start_time": "2022-05-25T13:09:49.731Z"
   },
   {
    "duration": 330,
    "start_time": "2022-05-25T13:09:49.807Z"
   },
   {
    "duration": 11,
    "start_time": "2022-05-25T13:09:50.139Z"
   },
   {
    "duration": 9,
    "start_time": "2022-05-25T13:09:50.152Z"
   },
   {
    "duration": 9,
    "start_time": "2022-05-25T13:09:50.163Z"
   },
   {
    "duration": 470,
    "start_time": "2022-05-25T13:09:50.174Z"
   },
   {
    "duration": 234,
    "start_time": "2022-05-25T13:09:50.646Z"
   },
   {
    "duration": 365,
    "start_time": "2022-05-25T13:09:50.881Z"
   },
   {
    "duration": 278,
    "start_time": "2022-05-25T13:09:51.248Z"
   },
   {
    "duration": 323,
    "start_time": "2022-05-25T13:09:51.528Z"
   },
   {
    "duration": 7,
    "start_time": "2022-05-25T13:09:51.853Z"
   },
   {
    "duration": 12,
    "start_time": "2022-05-25T13:09:51.861Z"
   },
   {
    "duration": 154,
    "start_time": "2022-05-25T13:09:51.875Z"
   },
   {
    "duration": 5,
    "start_time": "2022-05-25T13:09:52.031Z"
   },
   {
    "duration": 197,
    "start_time": "2022-05-25T13:09:52.037Z"
   },
   {
    "duration": 5,
    "start_time": "2022-05-25T13:09:52.236Z"
   },
   {
    "duration": 21,
    "start_time": "2022-05-25T13:09:52.242Z"
   },
   {
    "duration": 281,
    "start_time": "2022-05-25T13:09:52.265Z"
   },
   {
    "duration": 183,
    "start_time": "2022-05-25T13:09:52.549Z"
   },
   {
    "duration": 6,
    "start_time": "2022-05-25T13:09:52.735Z"
   },
   {
    "duration": 42,
    "start_time": "2022-05-25T13:09:52.743Z"
   },
   {
    "duration": 25,
    "start_time": "2022-05-25T13:09:52.786Z"
   },
   {
    "duration": 144,
    "start_time": "2022-05-25T13:09:52.816Z"
   },
   {
    "duration": 60,
    "start_time": "2022-05-25T13:10:21.269Z"
   },
   {
    "duration": 525,
    "start_time": "2022-05-25T13:12:24.109Z"
   },
   {
    "duration": 596,
    "start_time": "2022-05-25T13:16:59.263Z"
   },
   {
    "duration": 12,
    "start_time": "2022-05-25T13:18:10.391Z"
   },
   {
    "duration": 698,
    "start_time": "2022-05-25T13:18:23.638Z"
   },
   {
    "duration": 689,
    "start_time": "2022-05-25T13:18:40.176Z"
   },
   {
    "duration": 10,
    "start_time": "2022-05-25T13:18:52.561Z"
   },
   {
    "duration": 22,
    "start_time": "2022-05-25T13:19:34.297Z"
   },
   {
    "duration": 8,
    "start_time": "2022-05-25T13:19:43.434Z"
   },
   {
    "duration": 11,
    "start_time": "2022-05-25T13:20:07.804Z"
   },
   {
    "duration": 9,
    "start_time": "2022-05-25T13:21:45.865Z"
   },
   {
    "duration": 25,
    "start_time": "2022-05-25T13:21:57.846Z"
   },
   {
    "duration": 602,
    "start_time": "2022-05-25T13:22:18.912Z"
   },
   {
    "duration": 684,
    "start_time": "2022-05-25T13:23:02.922Z"
   },
   {
    "duration": 439,
    "start_time": "2022-05-25T13:24:24.442Z"
   },
   {
    "duration": 19,
    "start_time": "2022-05-25T13:24:47.482Z"
   },
   {
    "duration": 1357,
    "start_time": "2022-05-27T08:53:56.427Z"
   },
   {
    "duration": 195,
    "start_time": "2022-05-27T08:53:57.787Z"
   },
   {
    "duration": 15,
    "start_time": "2022-05-27T08:53:57.984Z"
   },
   {
    "duration": 4,
    "start_time": "2022-05-27T08:53:58.001Z"
   },
   {
    "duration": 11,
    "start_time": "2022-05-27T08:53:58.006Z"
   },
   {
    "duration": 10,
    "start_time": "2022-05-27T08:53:58.019Z"
   },
   {
    "duration": 10,
    "start_time": "2022-05-27T08:53:58.031Z"
   },
   {
    "duration": 12,
    "start_time": "2022-05-27T08:53:58.043Z"
   },
   {
    "duration": 87,
    "start_time": "2022-05-27T08:53:58.057Z"
   },
   {
    "duration": 332,
    "start_time": "2022-05-27T08:53:58.147Z"
   },
   {
    "duration": 23,
    "start_time": "2022-05-27T08:53:58.481Z"
   },
   {
    "duration": 5,
    "start_time": "2022-05-27T08:53:58.506Z"
   },
   {
    "duration": 6,
    "start_time": "2022-05-27T08:53:58.513Z"
   },
   {
    "duration": 452,
    "start_time": "2022-05-27T08:53:58.521Z"
   },
   {
    "duration": 231,
    "start_time": "2022-05-27T08:53:58.975Z"
   },
   {
    "duration": 390,
    "start_time": "2022-05-27T08:53:59.207Z"
   },
   {
    "duration": 256,
    "start_time": "2022-05-27T08:53:59.599Z"
   },
   {
    "duration": 318,
    "start_time": "2022-05-27T08:53:59.857Z"
   },
   {
    "duration": 8,
    "start_time": "2022-05-27T08:54:00.177Z"
   },
   {
    "duration": 59,
    "start_time": "2022-05-27T08:54:00.186Z"
   },
   {
    "duration": 138,
    "start_time": "2022-05-27T08:54:00.247Z"
   },
   {
    "duration": 6,
    "start_time": "2022-05-27T08:54:00.386Z"
   },
   {
    "duration": 181,
    "start_time": "2022-05-27T08:54:00.393Z"
   },
   {
    "duration": 5,
    "start_time": "2022-05-27T08:54:00.576Z"
   },
   {
    "duration": 25,
    "start_time": "2022-05-27T08:54:00.582Z"
   },
   {
    "duration": 260,
    "start_time": "2022-05-27T08:54:00.609Z"
   },
   {
    "duration": 237,
    "start_time": "2022-05-27T08:54:00.872Z"
   },
   {
    "duration": 8,
    "start_time": "2022-05-27T08:54:01.112Z"
   },
   {
    "duration": 99,
    "start_time": "2022-05-27T08:54:01.122Z"
   },
   {
    "duration": 54,
    "start_time": "2022-05-27T08:54:01.224Z"
   },
   {
    "duration": 14,
    "start_time": "2022-05-27T08:54:01.280Z"
   },
   {
    "duration": 12,
    "start_time": "2022-05-27T08:54:01.296Z"
   },
   {
    "duration": 44,
    "start_time": "2022-05-27T08:54:01.310Z"
   },
   {
    "duration": 22,
    "start_time": "2022-05-27T08:54:01.357Z"
   },
   {
    "duration": 80,
    "start_time": "2022-05-27T10:08:14.734Z"
   },
   {
    "duration": 8,
    "start_time": "2022-05-27T10:08:15.900Z"
   },
   {
    "duration": 4,
    "start_time": "2022-05-27T10:08:16.920Z"
   },
   {
    "duration": 5,
    "start_time": "2022-05-27T10:08:17.409Z"
   },
   {
    "duration": 11,
    "start_time": "2022-05-27T10:08:17.792Z"
   },
   {
    "duration": 6,
    "start_time": "2022-05-27T10:08:18.688Z"
   },
   {
    "duration": 10,
    "start_time": "2022-05-27T10:08:19.593Z"
   },
   {
    "duration": 280,
    "start_time": "2022-05-27T10:43:35.503Z"
   },
   {
    "duration": 14,
    "start_time": "2022-05-27T10:43:37.217Z"
   },
   {
    "duration": 21,
    "start_time": "2022-05-27T10:46:08.880Z"
   },
   {
    "duration": 11,
    "start_time": "2022-05-27T10:46:55.701Z"
   },
   {
    "duration": 9,
    "start_time": "2022-05-27T10:51:17.077Z"
   },
   {
    "duration": 21,
    "start_time": "2022-05-27T10:55:48.849Z"
   },
   {
    "duration": 12,
    "start_time": "2022-05-27T10:59:54.748Z"
   },
   {
    "duration": 18,
    "start_time": "2022-05-27T11:00:01.096Z"
   },
   {
    "duration": 8,
    "start_time": "2022-05-27T11:01:11.614Z"
   },
   {
    "duration": 12,
    "start_time": "2022-05-27T11:01:49.823Z"
   },
   {
    "duration": 9,
    "start_time": "2022-05-27T11:25:22.493Z"
   },
   {
    "duration": 9,
    "start_time": "2022-05-27T11:25:59.073Z"
   },
   {
    "duration": 10,
    "start_time": "2022-05-27T11:38:51.677Z"
   },
   {
    "duration": 17,
    "start_time": "2022-05-27T12:10:41.824Z"
   },
   {
    "duration": 6,
    "start_time": "2022-05-27T12:10:55.083Z"
   },
   {
    "duration": 14,
    "start_time": "2022-05-27T12:11:09.295Z"
   },
   {
    "duration": 10,
    "start_time": "2022-05-27T12:18:09.067Z"
   },
   {
    "duration": 8,
    "start_time": "2022-05-27T12:18:33.167Z"
   },
   {
    "duration": 230,
    "start_time": "2022-05-27T12:19:45.843Z"
   },
   {
    "duration": 5,
    "start_time": "2022-05-27T12:20:56.227Z"
   },
   {
    "duration": 12,
    "start_time": "2022-05-27T12:27:58.046Z"
   },
   {
    "duration": 42,
    "start_time": "2022-05-27T12:28:09.816Z"
   },
   {
    "duration": 11,
    "start_time": "2022-05-27T12:28:18.759Z"
   },
   {
    "duration": 16,
    "start_time": "2022-05-27T12:28:53.819Z"
   },
   {
    "duration": 19,
    "start_time": "2022-05-27T12:40:46.295Z"
   },
   {
    "duration": 20,
    "start_time": "2022-05-27T12:41:23.124Z"
   },
   {
    "duration": 19,
    "start_time": "2022-05-27T12:41:45.727Z"
   },
   {
    "duration": 19,
    "start_time": "2022-05-27T12:43:59.701Z"
   },
   {
    "duration": 17,
    "start_time": "2022-05-27T12:44:20.018Z"
   },
   {
    "duration": 1210,
    "start_time": "2022-05-27T12:46:57.990Z"
   },
   {
    "duration": 86,
    "start_time": "2022-05-27T12:46:59.202Z"
   },
   {
    "duration": 19,
    "start_time": "2022-05-27T12:46:59.290Z"
   },
   {
    "duration": 10,
    "start_time": "2022-05-27T12:46:59.316Z"
   },
   {
    "duration": 21,
    "start_time": "2022-05-27T12:46:59.328Z"
   },
   {
    "duration": 16,
    "start_time": "2022-05-27T12:46:59.351Z"
   },
   {
    "duration": 6,
    "start_time": "2022-05-27T12:46:59.369Z"
   },
   {
    "duration": 15,
    "start_time": "2022-05-27T12:46:59.377Z"
   },
   {
    "duration": 28,
    "start_time": "2022-05-27T12:46:59.402Z"
   },
   {
    "duration": 13,
    "start_time": "2022-05-27T12:46:59.432Z"
   },
   {
    "duration": 76,
    "start_time": "2022-05-27T12:46:59.447Z"
   },
   {
    "duration": 338,
    "start_time": "2022-05-27T12:46:59.525Z"
   },
   {
    "duration": 12,
    "start_time": "2022-05-27T12:46:59.865Z"
   },
   {
    "duration": 5,
    "start_time": "2022-05-27T12:46:59.880Z"
   },
   {
    "duration": 9,
    "start_time": "2022-05-27T12:46:59.903Z"
   },
   {
    "duration": 458,
    "start_time": "2022-05-27T12:46:59.920Z"
   },
   {
    "duration": 248,
    "start_time": "2022-05-27T12:47:00.381Z"
   },
   {
    "duration": 354,
    "start_time": "2022-05-27T12:47:00.631Z"
   },
   {
    "duration": 288,
    "start_time": "2022-05-27T12:47:00.988Z"
   },
   {
    "duration": 406,
    "start_time": "2022-05-27T12:47:01.278Z"
   },
   {
    "duration": 18,
    "start_time": "2022-05-27T12:47:01.686Z"
   },
   {
    "duration": 30,
    "start_time": "2022-05-27T12:47:01.706Z"
   },
   {
    "duration": 214,
    "start_time": "2022-05-27T12:47:01.738Z"
   },
   {
    "duration": 6,
    "start_time": "2022-05-27T12:47:01.953Z"
   },
   {
    "duration": 7,
    "start_time": "2022-05-27T12:47:01.962Z"
   },
   {
    "duration": 0,
    "start_time": "2022-05-27T12:47:01.971Z"
   },
   {
    "duration": 0,
    "start_time": "2022-05-27T12:47:01.972Z"
   },
   {
    "duration": 0,
    "start_time": "2022-05-27T12:47:01.974Z"
   },
   {
    "duration": 0,
    "start_time": "2022-05-27T12:47:01.976Z"
   },
   {
    "duration": 0,
    "start_time": "2022-05-27T12:47:01.978Z"
   },
   {
    "duration": 0,
    "start_time": "2022-05-27T12:47:02.004Z"
   },
   {
    "duration": 0,
    "start_time": "2022-05-27T12:47:02.006Z"
   },
   {
    "duration": 0,
    "start_time": "2022-05-27T12:47:02.009Z"
   },
   {
    "duration": 0,
    "start_time": "2022-05-27T12:47:02.010Z"
   },
   {
    "duration": 0,
    "start_time": "2022-05-27T12:47:02.012Z"
   },
   {
    "duration": 0,
    "start_time": "2022-05-27T12:47:02.013Z"
   },
   {
    "duration": 0,
    "start_time": "2022-05-27T12:47:02.017Z"
   },
   {
    "duration": 205,
    "start_time": "2022-05-27T12:47:19.152Z"
   },
   {
    "duration": 1186,
    "start_time": "2022-05-27T12:47:24.378Z"
   },
   {
    "duration": 97,
    "start_time": "2022-05-27T12:47:25.567Z"
   },
   {
    "duration": 15,
    "start_time": "2022-05-27T12:47:25.665Z"
   },
   {
    "duration": 3,
    "start_time": "2022-05-27T12:47:25.683Z"
   },
   {
    "duration": 23,
    "start_time": "2022-05-27T12:47:25.687Z"
   },
   {
    "duration": 31,
    "start_time": "2022-05-27T12:47:25.711Z"
   },
   {
    "duration": 7,
    "start_time": "2022-05-27T12:47:25.744Z"
   },
   {
    "duration": 20,
    "start_time": "2022-05-27T12:47:25.753Z"
   },
   {
    "duration": 16,
    "start_time": "2022-05-27T12:47:25.775Z"
   },
   {
    "duration": 29,
    "start_time": "2022-05-27T12:47:25.796Z"
   },
   {
    "duration": 69,
    "start_time": "2022-05-27T12:47:25.827Z"
   },
   {
    "duration": 329,
    "start_time": "2022-05-27T12:47:25.898Z"
   },
   {
    "duration": 15,
    "start_time": "2022-05-27T12:47:26.229Z"
   },
   {
    "duration": 19,
    "start_time": "2022-05-27T12:47:26.245Z"
   },
   {
    "duration": 13,
    "start_time": "2022-05-27T12:47:26.265Z"
   },
   {
    "duration": 443,
    "start_time": "2022-05-27T12:47:26.280Z"
   },
   {
    "duration": 225,
    "start_time": "2022-05-27T12:47:26.725Z"
   },
   {
    "duration": 303,
    "start_time": "2022-05-27T12:47:26.951Z"
   },
   {
    "duration": 274,
    "start_time": "2022-05-27T12:47:27.256Z"
   },
   {
    "duration": 323,
    "start_time": "2022-05-27T12:47:27.532Z"
   },
   {
    "duration": 8,
    "start_time": "2022-05-27T12:47:27.858Z"
   },
   {
    "duration": 9,
    "start_time": "2022-05-27T12:47:27.868Z"
   },
   {
    "duration": 170,
    "start_time": "2022-05-27T12:47:27.879Z"
   },
   {
    "duration": 5,
    "start_time": "2022-05-27T12:47:28.051Z"
   },
   {
    "duration": 190,
    "start_time": "2022-05-27T12:47:28.058Z"
   },
   {
    "duration": 6,
    "start_time": "2022-05-27T12:47:28.250Z"
   },
   {
    "duration": 273,
    "start_time": "2022-05-27T12:47:28.258Z"
   },
   {
    "duration": 168,
    "start_time": "2022-05-27T12:47:28.539Z"
   },
   {
    "duration": 7,
    "start_time": "2022-05-27T12:47:28.709Z"
   },
   {
    "duration": 67,
    "start_time": "2022-05-27T12:47:28.718Z"
   },
   {
    "duration": 18,
    "start_time": "2022-05-27T12:47:28.787Z"
   },
   {
    "duration": 15,
    "start_time": "2022-05-27T12:47:28.810Z"
   },
   {
    "duration": 11,
    "start_time": "2022-05-27T12:47:28.826Z"
   },
   {
    "duration": 31,
    "start_time": "2022-05-27T12:47:28.838Z"
   },
   {
    "duration": 32,
    "start_time": "2022-05-27T12:47:28.872Z"
   },
   {
    "duration": 21,
    "start_time": "2022-05-27T12:47:28.912Z"
   },
   {
    "duration": 48,
    "start_time": "2022-05-27T12:48:48.520Z"
   },
   {
    "duration": 65,
    "start_time": "2022-05-27T12:49:38.775Z"
   },
   {
    "duration": 1470,
    "start_time": "2022-05-27T12:49:50.091Z"
   },
   {
    "duration": 115,
    "start_time": "2022-05-27T12:49:51.569Z"
   },
   {
    "duration": 22,
    "start_time": "2022-05-27T12:49:51.687Z"
   },
   {
    "duration": 3,
    "start_time": "2022-05-27T12:49:51.711Z"
   },
   {
    "duration": 56,
    "start_time": "2022-05-27T12:49:51.715Z"
   },
   {
    "duration": 62,
    "start_time": "2022-05-27T12:49:51.774Z"
   },
   {
    "duration": 40,
    "start_time": "2022-05-27T12:49:51.844Z"
   },
   {
    "duration": 24,
    "start_time": "2022-05-27T12:49:51.886Z"
   },
   {
    "duration": 21,
    "start_time": "2022-05-27T12:49:51.916Z"
   },
   {
    "duration": 24,
    "start_time": "2022-05-27T12:49:51.945Z"
   },
   {
    "duration": 80,
    "start_time": "2022-05-27T12:49:51.972Z"
   },
   {
    "duration": 313,
    "start_time": "2022-05-27T12:49:52.054Z"
   },
   {
    "duration": 13,
    "start_time": "2022-05-27T12:49:52.369Z"
   },
   {
    "duration": 24,
    "start_time": "2022-05-27T12:49:52.384Z"
   },
   {
    "duration": 5,
    "start_time": "2022-05-27T12:49:52.410Z"
   },
   {
    "duration": 459,
    "start_time": "2022-05-27T12:49:52.425Z"
   },
   {
    "duration": 250,
    "start_time": "2022-05-27T12:49:52.887Z"
   },
   {
    "duration": 334,
    "start_time": "2022-05-27T12:49:53.140Z"
   },
   {
    "duration": 287,
    "start_time": "2022-05-27T12:49:53.476Z"
   },
   {
    "duration": 382,
    "start_time": "2022-05-27T12:49:53.765Z"
   },
   {
    "duration": 8,
    "start_time": "2022-05-27T12:49:54.149Z"
   },
   {
    "duration": 12,
    "start_time": "2022-05-27T12:49:54.159Z"
   },
   {
    "duration": 195,
    "start_time": "2022-05-27T12:49:54.174Z"
   },
   {
    "duration": 7,
    "start_time": "2022-05-27T12:49:54.371Z"
   },
   {
    "duration": 211,
    "start_time": "2022-05-27T12:49:54.381Z"
   },
   {
    "duration": 10,
    "start_time": "2022-05-27T12:49:54.595Z"
   },
   {
    "duration": 334,
    "start_time": "2022-05-27T12:49:54.607Z"
   },
   {
    "duration": 256,
    "start_time": "2022-05-27T12:49:54.947Z"
   },
   {
    "duration": 10,
    "start_time": "2022-05-27T12:49:55.210Z"
   },
   {
    "duration": 58,
    "start_time": "2022-05-27T12:49:55.228Z"
   },
   {
    "duration": 17,
    "start_time": "2022-05-27T12:49:55.289Z"
   },
   {
    "duration": 34,
    "start_time": "2022-05-27T12:49:55.308Z"
   },
   {
    "duration": 9,
    "start_time": "2022-05-27T12:49:55.344Z"
   },
   {
    "duration": 30,
    "start_time": "2022-05-27T12:49:55.355Z"
   },
   {
    "duration": 22,
    "start_time": "2022-05-27T12:49:55.404Z"
   },
   {
    "duration": 21,
    "start_time": "2022-05-27T12:49:55.429Z"
   },
   {
    "duration": 101,
    "start_time": "2022-05-27T12:49:55.453Z"
   },
   {
    "duration": 9,
    "start_time": "2022-05-27T12:50:00.968Z"
   },
   {
    "duration": 203,
    "start_time": "2022-05-27T12:50:11.333Z"
   },
   {
    "duration": 11,
    "start_time": "2022-05-27T12:50:11.624Z"
   },
   {
    "duration": 217,
    "start_time": "2022-05-27T12:50:58.540Z"
   },
   {
    "duration": 1215,
    "start_time": "2022-05-27T12:51:07.931Z"
   },
   {
    "duration": 96,
    "start_time": "2022-05-27T12:51:09.148Z"
   },
   {
    "duration": 13,
    "start_time": "2022-05-27T12:51:09.246Z"
   },
   {
    "duration": 3,
    "start_time": "2022-05-27T12:51:09.262Z"
   },
   {
    "duration": 15,
    "start_time": "2022-05-27T12:51:09.267Z"
   },
   {
    "duration": 24,
    "start_time": "2022-05-27T12:51:09.284Z"
   },
   {
    "duration": 14,
    "start_time": "2022-05-27T12:51:09.312Z"
   },
   {
    "duration": 14,
    "start_time": "2022-05-27T12:51:09.328Z"
   },
   {
    "duration": 9,
    "start_time": "2022-05-27T12:51:09.344Z"
   },
   {
    "duration": 13,
    "start_time": "2022-05-27T12:51:09.356Z"
   },
   {
    "duration": 92,
    "start_time": "2022-05-27T12:51:09.371Z"
   },
   {
    "duration": 372,
    "start_time": "2022-05-27T12:51:09.465Z"
   },
   {
    "duration": 16,
    "start_time": "2022-05-27T12:51:09.841Z"
   },
   {
    "duration": 7,
    "start_time": "2022-05-27T12:51:09.859Z"
   },
   {
    "duration": 8,
    "start_time": "2022-05-27T12:51:09.868Z"
   },
   {
    "duration": 471,
    "start_time": "2022-05-27T12:51:09.878Z"
   },
   {
    "duration": 231,
    "start_time": "2022-05-27T12:51:10.351Z"
   },
   {
    "duration": 373,
    "start_time": "2022-05-27T12:51:10.584Z"
   },
   {
    "duration": 295,
    "start_time": "2022-05-27T12:51:10.959Z"
   },
   {
    "duration": 405,
    "start_time": "2022-05-27T12:51:11.256Z"
   },
   {
    "duration": 8,
    "start_time": "2022-05-27T12:51:11.663Z"
   },
   {
    "duration": 15,
    "start_time": "2022-05-27T12:51:11.674Z"
   },
   {
    "duration": 172,
    "start_time": "2022-05-27T12:51:11.704Z"
   },
   {
    "duration": 6,
    "start_time": "2022-05-27T12:51:11.878Z"
   },
   {
    "duration": 230,
    "start_time": "2022-05-27T12:51:11.886Z"
   },
   {
    "duration": 11,
    "start_time": "2022-05-27T12:51:12.118Z"
   },
   {
    "duration": 245,
    "start_time": "2022-05-27T12:51:12.131Z"
   },
   {
    "duration": 149,
    "start_time": "2022-05-27T12:51:12.380Z"
   },
   {
    "duration": 8,
    "start_time": "2022-05-27T12:51:12.531Z"
   },
   {
    "duration": 36,
    "start_time": "2022-05-27T12:51:12.540Z"
   },
   {
    "duration": 37,
    "start_time": "2022-05-27T12:51:12.578Z"
   },
   {
    "duration": 20,
    "start_time": "2022-05-27T12:51:12.617Z"
   },
   {
    "duration": 14,
    "start_time": "2022-05-27T12:51:12.640Z"
   },
   {
    "duration": 29,
    "start_time": "2022-05-27T12:51:12.656Z"
   },
   {
    "duration": 26,
    "start_time": "2022-05-27T12:51:12.686Z"
   },
   {
    "duration": 27,
    "start_time": "2022-05-27T12:51:12.714Z"
   },
   {
    "duration": 348,
    "start_time": "2022-05-27T12:51:12.743Z"
   },
   {
    "duration": 34,
    "start_time": "2022-05-27T12:51:13.093Z"
   },
   {
    "duration": 17,
    "start_time": "2022-05-27T13:08:03.102Z"
   },
   {
    "duration": 10,
    "start_time": "2022-05-27T13:08:08.219Z"
   },
   {
    "duration": 1103,
    "start_time": "2022-05-27T13:08:15.917Z"
   },
   {
    "duration": 93,
    "start_time": "2022-05-27T13:08:17.022Z"
   },
   {
    "duration": 13,
    "start_time": "2022-05-27T13:08:17.117Z"
   },
   {
    "duration": 17,
    "start_time": "2022-05-27T13:08:17.132Z"
   },
   {
    "duration": 24,
    "start_time": "2022-05-27T13:08:17.151Z"
   },
   {
    "duration": 15,
    "start_time": "2022-05-27T13:08:17.176Z"
   },
   {
    "duration": 5,
    "start_time": "2022-05-27T13:08:17.192Z"
   },
   {
    "duration": 26,
    "start_time": "2022-05-27T13:08:17.199Z"
   },
   {
    "duration": 12,
    "start_time": "2022-05-27T13:08:17.227Z"
   },
   {
    "duration": 13,
    "start_time": "2022-05-27T13:08:17.242Z"
   },
   {
    "duration": 69,
    "start_time": "2022-05-27T13:08:17.257Z"
   },
   {
    "duration": 301,
    "start_time": "2022-05-27T13:08:17.328Z"
   },
   {
    "duration": 14,
    "start_time": "2022-05-27T13:08:17.630Z"
   },
   {
    "duration": 7,
    "start_time": "2022-05-27T13:08:17.646Z"
   },
   {
    "duration": 6,
    "start_time": "2022-05-27T13:08:17.655Z"
   },
   {
    "duration": 477,
    "start_time": "2022-05-27T13:08:17.662Z"
   },
   {
    "duration": 233,
    "start_time": "2022-05-27T13:08:18.141Z"
   },
   {
    "duration": 359,
    "start_time": "2022-05-27T13:08:18.376Z"
   },
   {
    "duration": 250,
    "start_time": "2022-05-27T13:08:18.737Z"
   },
   {
    "duration": 350,
    "start_time": "2022-05-27T13:08:18.989Z"
   },
   {
    "duration": 8,
    "start_time": "2022-05-27T13:08:19.341Z"
   },
   {
    "duration": 9,
    "start_time": "2022-05-27T13:08:19.350Z"
   },
   {
    "duration": 175,
    "start_time": "2022-05-27T13:08:19.360Z"
   },
   {
    "duration": 5,
    "start_time": "2022-05-27T13:08:19.536Z"
   },
   {
    "duration": 190,
    "start_time": "2022-05-27T13:08:19.542Z"
   },
   {
    "duration": 6,
    "start_time": "2022-05-27T13:08:19.733Z"
   },
   {
    "duration": 249,
    "start_time": "2022-05-27T13:08:19.740Z"
   },
   {
    "duration": 160,
    "start_time": "2022-05-27T13:08:19.992Z"
   },
   {
    "duration": 7,
    "start_time": "2022-05-27T13:08:20.154Z"
   },
   {
    "duration": 61,
    "start_time": "2022-05-27T13:08:20.163Z"
   },
   {
    "duration": 11,
    "start_time": "2022-05-27T13:08:20.226Z"
   },
   {
    "duration": 12,
    "start_time": "2022-05-27T13:08:20.238Z"
   },
   {
    "duration": 17,
    "start_time": "2022-05-27T13:08:20.251Z"
   },
   {
    "duration": 56,
    "start_time": "2022-05-27T13:08:20.271Z"
   },
   {
    "duration": 17,
    "start_time": "2022-05-27T13:08:20.329Z"
   },
   {
    "duration": 5,
    "start_time": "2022-05-27T13:08:44.161Z"
   },
   {
    "duration": 13,
    "start_time": "2022-05-27T13:08:49.081Z"
   },
   {
    "duration": 10,
    "start_time": "2022-05-27T13:20:04.036Z"
   },
   {
    "duration": 10,
    "start_time": "2022-05-27T13:20:11.047Z"
   },
   {
    "duration": 12,
    "start_time": "2022-05-27T13:21:51.718Z"
   },
   {
    "duration": 11,
    "start_time": "2022-05-27T13:21:58.315Z"
   },
   {
    "duration": 11,
    "start_time": "2022-05-27T13:22:11.273Z"
   },
   {
    "duration": 5,
    "start_time": "2022-05-27T13:22:46.145Z"
   },
   {
    "duration": 6,
    "start_time": "2022-05-27T13:22:55.670Z"
   },
   {
    "duration": 1099,
    "start_time": "2022-05-27T18:53:00.673Z"
   },
   {
    "duration": 144,
    "start_time": "2022-05-27T18:53:01.774Z"
   },
   {
    "duration": 12,
    "start_time": "2022-05-27T18:53:01.921Z"
   },
   {
    "duration": 11,
    "start_time": "2022-05-27T18:53:01.935Z"
   },
   {
    "duration": 18,
    "start_time": "2022-05-27T18:53:01.949Z"
   },
   {
    "duration": 7,
    "start_time": "2022-05-27T18:53:01.968Z"
   },
   {
    "duration": 13,
    "start_time": "2022-05-27T18:53:01.977Z"
   },
   {
    "duration": 4,
    "start_time": "2022-05-27T18:53:01.995Z"
   },
   {
    "duration": 15,
    "start_time": "2022-05-27T18:53:02.002Z"
   },
   {
    "duration": 16,
    "start_time": "2022-05-27T18:53:02.019Z"
   },
   {
    "duration": 20,
    "start_time": "2022-05-27T18:53:02.037Z"
   },
   {
    "duration": 29,
    "start_time": "2022-05-27T18:53:02.059Z"
   },
   {
    "duration": 10,
    "start_time": "2022-05-27T18:53:02.089Z"
   },
   {
    "duration": 11,
    "start_time": "2022-05-27T18:53:02.102Z"
   },
   {
    "duration": 55,
    "start_time": "2022-05-27T18:53:02.115Z"
   },
   {
    "duration": 298,
    "start_time": "2022-05-27T18:53:02.172Z"
   },
   {
    "duration": 12,
    "start_time": "2022-05-27T18:53:02.472Z"
   },
   {
    "duration": 5,
    "start_time": "2022-05-27T18:53:02.494Z"
   },
   {
    "duration": 7,
    "start_time": "2022-05-27T18:53:02.501Z"
   },
   {
    "duration": 434,
    "start_time": "2022-05-27T18:53:02.510Z"
   },
   {
    "duration": 208,
    "start_time": "2022-05-27T18:53:02.945Z"
   },
   {
    "duration": 335,
    "start_time": "2022-05-27T18:53:03.155Z"
   },
   {
    "duration": 227,
    "start_time": "2022-05-27T18:53:03.495Z"
   },
   {
    "duration": 305,
    "start_time": "2022-05-27T18:53:03.725Z"
   },
   {
    "duration": 7,
    "start_time": "2022-05-27T18:53:04.032Z"
   },
   {
    "duration": 10,
    "start_time": "2022-05-27T18:53:04.041Z"
   },
   {
    "duration": 147,
    "start_time": "2022-05-27T18:53:04.052Z"
   },
   {
    "duration": 6,
    "start_time": "2022-05-27T18:53:04.201Z"
   },
   {
    "duration": 194,
    "start_time": "2022-05-27T18:53:04.209Z"
   },
   {
    "duration": 6,
    "start_time": "2022-05-27T18:53:04.405Z"
   },
   {
    "duration": 239,
    "start_time": "2022-05-27T18:53:04.413Z"
   },
   {
    "duration": 164,
    "start_time": "2022-05-27T18:53:04.654Z"
   },
   {
    "duration": 7,
    "start_time": "2022-05-27T18:53:04.819Z"
   },
   {
    "duration": 33,
    "start_time": "2022-05-27T18:53:04.827Z"
   },
   {
    "duration": 11,
    "start_time": "2022-05-27T18:53:04.861Z"
   },
   {
    "duration": 10,
    "start_time": "2022-05-27T18:53:04.894Z"
   },
   {
    "duration": 15,
    "start_time": "2022-05-27T18:53:04.905Z"
   },
   {
    "duration": 37,
    "start_time": "2022-05-27T18:53:04.921Z"
   },
   {
    "duration": 13,
    "start_time": "2022-05-27T18:53:04.960Z"
   },
   {
    "duration": 1306,
    "start_time": "2022-05-28T09:18:27.162Z"
   },
   {
    "duration": 203,
    "start_time": "2022-05-28T09:18:28.471Z"
   },
   {
    "duration": 14,
    "start_time": "2022-05-28T09:18:28.677Z"
   },
   {
    "duration": 14,
    "start_time": "2022-05-28T09:18:28.694Z"
   },
   {
    "duration": 11,
    "start_time": "2022-05-28T09:18:28.710Z"
   },
   {
    "duration": 5,
    "start_time": "2022-05-28T09:18:28.722Z"
   },
   {
    "duration": 22,
    "start_time": "2022-05-28T09:18:28.729Z"
   },
   {
    "duration": 5,
    "start_time": "2022-05-28T09:18:28.753Z"
   },
   {
    "duration": 15,
    "start_time": "2022-05-28T09:18:28.760Z"
   },
   {
    "duration": 18,
    "start_time": "2022-05-28T09:18:28.794Z"
   },
   {
    "duration": 9,
    "start_time": "2022-05-28T09:18:28.814Z"
   },
   {
    "duration": 13,
    "start_time": "2022-05-28T09:18:28.825Z"
   },
   {
    "duration": 7,
    "start_time": "2022-05-28T09:18:28.840Z"
   },
   {
    "duration": 15,
    "start_time": "2022-05-28T09:18:28.849Z"
   },
   {
    "duration": 92,
    "start_time": "2022-05-28T09:18:28.866Z"
   },
   {
    "duration": 334,
    "start_time": "2022-05-28T09:18:28.960Z"
   },
   {
    "duration": 18,
    "start_time": "2022-05-28T09:18:29.296Z"
   },
   {
    "duration": 15,
    "start_time": "2022-05-28T09:18:29.317Z"
   },
   {
    "duration": 7,
    "start_time": "2022-05-28T09:18:29.333Z"
   },
   {
    "duration": 427,
    "start_time": "2022-05-28T09:18:29.342Z"
   },
   {
    "duration": 224,
    "start_time": "2022-05-28T09:18:29.770Z"
   },
   {
    "duration": 386,
    "start_time": "2022-05-28T09:18:29.996Z"
   },
   {
    "duration": 256,
    "start_time": "2022-05-28T09:18:30.383Z"
   },
   {
    "duration": 336,
    "start_time": "2022-05-28T09:18:30.641Z"
   },
   {
    "duration": 20,
    "start_time": "2022-05-28T09:18:30.979Z"
   },
   {
    "duration": 16,
    "start_time": "2022-05-28T09:18:31.002Z"
   },
   {
    "duration": 144,
    "start_time": "2022-05-28T09:18:31.020Z"
   },
   {
    "duration": 6,
    "start_time": "2022-05-28T09:18:31.167Z"
   },
   {
    "duration": 183,
    "start_time": "2022-05-28T09:18:31.175Z"
   },
   {
    "duration": 7,
    "start_time": "2022-05-28T09:18:31.360Z"
   },
   {
    "duration": 236,
    "start_time": "2022-05-28T09:18:31.368Z"
   },
   {
    "duration": 178,
    "start_time": "2022-05-28T09:18:31.605Z"
   },
   {
    "duration": 13,
    "start_time": "2022-05-28T09:18:31.786Z"
   },
   {
    "duration": 33,
    "start_time": "2022-05-28T09:18:31.800Z"
   },
   {
    "duration": 12,
    "start_time": "2022-05-28T09:18:31.836Z"
   },
   {
    "duration": 14,
    "start_time": "2022-05-28T09:18:31.850Z"
   },
   {
    "duration": 42,
    "start_time": "2022-05-28T09:18:31.866Z"
   },
   {
    "duration": 39,
    "start_time": "2022-05-28T09:18:31.911Z"
   },
   {
    "duration": 15,
    "start_time": "2022-05-28T09:18:31.952Z"
   },
   {
    "duration": 115,
    "start_time": "2022-05-28T09:20:11.970Z"
   },
   {
    "duration": 5,
    "start_time": "2022-05-28T09:20:22.695Z"
   },
   {
    "duration": 4,
    "start_time": "2022-05-28T09:20:26.745Z"
   },
   {
    "duration": 10,
    "start_time": "2022-05-28T09:23:23.724Z"
   },
   {
    "duration": 116,
    "start_time": "2022-05-28T09:23:35.271Z"
   },
   {
    "duration": 6,
    "start_time": "2022-05-28T09:23:55.620Z"
   },
   {
    "duration": 41,
    "start_time": "2022-05-28T09:24:04.144Z"
   },
   {
    "duration": 8,
    "start_time": "2022-05-28T09:24:26.243Z"
   },
   {
    "duration": 5,
    "start_time": "2022-05-28T09:24:37.029Z"
   },
   {
    "duration": 8,
    "start_time": "2022-05-28T09:24:43.028Z"
   },
   {
    "duration": 6,
    "start_time": "2022-05-28T09:25:07.051Z"
   },
   {
    "duration": 1056,
    "start_time": "2022-05-28T09:25:20.313Z"
   },
   {
    "duration": 88,
    "start_time": "2022-05-28T09:25:21.371Z"
   },
   {
    "duration": 11,
    "start_time": "2022-05-28T09:25:21.461Z"
   },
   {
    "duration": 14,
    "start_time": "2022-05-28T09:25:21.474Z"
   },
   {
    "duration": 14,
    "start_time": "2022-05-28T09:25:21.490Z"
   },
   {
    "duration": 27,
    "start_time": "2022-05-28T09:25:21.506Z"
   },
   {
    "duration": 12,
    "start_time": "2022-05-28T09:25:21.534Z"
   },
   {
    "duration": 3,
    "start_time": "2022-05-28T09:25:21.548Z"
   },
   {
    "duration": 14,
    "start_time": "2022-05-28T09:25:21.552Z"
   },
   {
    "duration": 13,
    "start_time": "2022-05-28T09:25:21.568Z"
   },
   {
    "duration": 9,
    "start_time": "2022-05-28T09:25:21.582Z"
   },
   {
    "duration": 10,
    "start_time": "2022-05-28T09:25:21.593Z"
   },
   {
    "duration": 12,
    "start_time": "2022-05-28T09:25:21.605Z"
   },
   {
    "duration": 17,
    "start_time": "2022-05-28T09:25:21.618Z"
   },
   {
    "duration": 8,
    "start_time": "2022-05-28T09:25:21.636Z"
   },
   {
    "duration": 14,
    "start_time": "2022-05-28T09:25:21.646Z"
   },
   {
    "duration": 53,
    "start_time": "2022-05-28T09:25:21.661Z"
   },
   {
    "duration": 288,
    "start_time": "2022-05-28T09:25:21.716Z"
   },
   {
    "duration": 12,
    "start_time": "2022-05-28T09:25:22.006Z"
   },
   {
    "duration": 4,
    "start_time": "2022-05-28T09:25:22.019Z"
   },
   {
    "duration": 6,
    "start_time": "2022-05-28T09:25:22.025Z"
   },
   {
    "duration": 407,
    "start_time": "2022-05-28T09:25:22.033Z"
   },
   {
    "duration": 195,
    "start_time": "2022-05-28T09:25:22.442Z"
   },
   {
    "duration": 279,
    "start_time": "2022-05-28T09:25:22.638Z"
   },
   {
    "duration": 220,
    "start_time": "2022-05-28T09:25:22.919Z"
   },
   {
    "duration": 274,
    "start_time": "2022-05-28T09:25:23.141Z"
   },
   {
    "duration": 6,
    "start_time": "2022-05-28T09:25:23.417Z"
   },
   {
    "duration": 7,
    "start_time": "2022-05-28T09:25:23.426Z"
   },
   {
    "duration": 148,
    "start_time": "2022-05-28T09:25:23.435Z"
   },
   {
    "duration": 11,
    "start_time": "2022-05-28T09:25:23.585Z"
   },
   {
    "duration": 166,
    "start_time": "2022-05-28T09:25:23.598Z"
   },
   {
    "duration": 5,
    "start_time": "2022-05-28T09:25:23.765Z"
   },
   {
    "duration": 238,
    "start_time": "2022-05-28T09:25:23.771Z"
   },
   {
    "duration": 134,
    "start_time": "2022-05-28T09:25:24.010Z"
   },
   {
    "duration": 5,
    "start_time": "2022-05-28T09:25:24.146Z"
   },
   {
    "duration": 42,
    "start_time": "2022-05-28T09:25:24.153Z"
   },
   {
    "duration": 11,
    "start_time": "2022-05-28T09:25:24.196Z"
   },
   {
    "duration": 11,
    "start_time": "2022-05-28T09:25:24.209Z"
   },
   {
    "duration": 13,
    "start_time": "2022-05-28T09:25:24.222Z"
   },
   {
    "duration": 26,
    "start_time": "2022-05-28T09:25:24.236Z"
   },
   {
    "duration": 39,
    "start_time": "2022-05-28T09:25:24.263Z"
   },
   {
    "duration": 107,
    "start_time": "2022-05-28T09:25:42.576Z"
   },
   {
    "duration": 6,
    "start_time": "2022-05-28T09:26:39.267Z"
   },
   {
    "duration": 14,
    "start_time": "2022-05-28T09:26:40.724Z"
   },
   {
    "duration": 5,
    "start_time": "2022-05-28T09:26:55.771Z"
   },
   {
    "duration": 7,
    "start_time": "2022-05-28T09:26:56.340Z"
   },
   {
    "duration": 6,
    "start_time": "2022-05-28T09:27:44.827Z"
   },
   {
    "duration": 6,
    "start_time": "2022-05-28T09:27:45.281Z"
   },
   {
    "duration": 1105,
    "start_time": "2022-05-28T09:27:50.141Z"
   },
   {
    "duration": 80,
    "start_time": "2022-05-28T09:27:51.247Z"
   },
   {
    "duration": 11,
    "start_time": "2022-05-28T09:27:51.329Z"
   },
   {
    "duration": 19,
    "start_time": "2022-05-28T09:27:51.343Z"
   },
   {
    "duration": 27,
    "start_time": "2022-05-28T09:27:51.364Z"
   },
   {
    "duration": 22,
    "start_time": "2022-05-28T09:27:51.393Z"
   },
   {
    "duration": 29,
    "start_time": "2022-05-28T09:27:51.417Z"
   },
   {
    "duration": 13,
    "start_time": "2022-05-28T09:27:51.448Z"
   },
   {
    "duration": 22,
    "start_time": "2022-05-28T09:27:51.463Z"
   },
   {
    "duration": 27,
    "start_time": "2022-05-28T09:27:51.487Z"
   },
   {
    "duration": 11,
    "start_time": "2022-05-28T09:27:51.516Z"
   },
   {
    "duration": 26,
    "start_time": "2022-05-28T09:27:51.529Z"
   },
   {
    "duration": 19,
    "start_time": "2022-05-28T09:27:51.557Z"
   },
   {
    "duration": 24,
    "start_time": "2022-05-28T09:27:51.577Z"
   },
   {
    "duration": 28,
    "start_time": "2022-05-28T09:27:51.603Z"
   },
   {
    "duration": 36,
    "start_time": "2022-05-28T09:27:51.633Z"
   },
   {
    "duration": 74,
    "start_time": "2022-05-28T09:27:51.671Z"
   },
   {
    "duration": 275,
    "start_time": "2022-05-28T09:27:51.747Z"
   },
   {
    "duration": 13,
    "start_time": "2022-05-28T09:27:52.024Z"
   },
   {
    "duration": 15,
    "start_time": "2022-05-28T09:27:52.039Z"
   },
   {
    "duration": 15,
    "start_time": "2022-05-28T09:27:52.055Z"
   },
   {
    "duration": 390,
    "start_time": "2022-05-28T09:27:52.072Z"
   },
   {
    "duration": 210,
    "start_time": "2022-05-28T09:27:52.464Z"
   },
   {
    "duration": 311,
    "start_time": "2022-05-28T09:27:52.675Z"
   },
   {
    "duration": 224,
    "start_time": "2022-05-28T09:27:52.994Z"
   },
   {
    "duration": 289,
    "start_time": "2022-05-28T09:27:53.220Z"
   },
   {
    "duration": 7,
    "start_time": "2022-05-28T09:27:53.511Z"
   },
   {
    "duration": 12,
    "start_time": "2022-05-28T09:27:53.521Z"
   },
   {
    "duration": 149,
    "start_time": "2022-05-28T09:27:53.535Z"
   },
   {
    "duration": 12,
    "start_time": "2022-05-28T09:27:53.686Z"
   },
   {
    "duration": 179,
    "start_time": "2022-05-28T09:27:53.700Z"
   },
   {
    "duration": 5,
    "start_time": "2022-05-28T09:27:53.881Z"
   },
   {
    "duration": 209,
    "start_time": "2022-05-28T09:27:53.887Z"
   },
   {
    "duration": 128,
    "start_time": "2022-05-28T09:27:54.097Z"
   },
   {
    "duration": 6,
    "start_time": "2022-05-28T09:27:54.227Z"
   },
   {
    "duration": 39,
    "start_time": "2022-05-28T09:27:54.234Z"
   },
   {
    "duration": 22,
    "start_time": "2022-05-28T09:27:54.275Z"
   },
   {
    "duration": 11,
    "start_time": "2022-05-28T09:27:54.299Z"
   },
   {
    "duration": 20,
    "start_time": "2022-05-28T09:27:54.312Z"
   },
   {
    "duration": 40,
    "start_time": "2022-05-28T09:27:54.333Z"
   },
   {
    "duration": 13,
    "start_time": "2022-05-28T09:27:54.375Z"
   },
   {
    "duration": 113,
    "start_time": "2022-05-28T09:28:53.192Z"
   },
   {
    "duration": 8,
    "start_time": "2022-05-28T09:29:05.931Z"
   },
   {
    "duration": 5,
    "start_time": "2022-05-28T09:29:08.453Z"
   },
   {
    "duration": 12,
    "start_time": "2022-05-28T09:29:19.278Z"
   },
   {
    "duration": 5,
    "start_time": "2022-05-28T09:30:21.226Z"
   },
   {
    "duration": 12,
    "start_time": "2022-05-28T09:30:29.164Z"
   },
   {
    "duration": 17,
    "start_time": "2022-05-28T09:31:11.313Z"
   },
   {
    "duration": 12,
    "start_time": "2022-05-28T09:31:27.939Z"
   },
   {
    "duration": 17,
    "start_time": "2022-05-28T09:33:10.584Z"
   },
   {
    "duration": 17,
    "start_time": "2022-05-28T09:33:59.213Z"
   },
   {
    "duration": 16,
    "start_time": "2022-05-28T09:34:15.427Z"
   },
   {
    "duration": 11,
    "start_time": "2022-05-28T09:34:23.516Z"
   },
   {
    "duration": 12,
    "start_time": "2022-05-28T09:34:29.595Z"
   },
   {
    "duration": 11,
    "start_time": "2022-05-28T09:35:34.195Z"
   },
   {
    "duration": 17,
    "start_time": "2022-05-28T09:36:02.761Z"
   },
   {
    "duration": 12,
    "start_time": "2022-05-28T09:37:24.791Z"
   },
   {
    "duration": 10,
    "start_time": "2022-05-28T09:37:50.074Z"
   },
   {
    "duration": 18,
    "start_time": "2022-05-28T09:38:01.459Z"
   },
   {
    "duration": 17,
    "start_time": "2022-05-28T09:40:36.117Z"
   },
   {
    "duration": 24,
    "start_time": "2022-05-28T09:40:57.457Z"
   },
   {
    "duration": 22,
    "start_time": "2022-05-28T09:41:07.224Z"
   },
   {
    "duration": 16,
    "start_time": "2022-05-28T09:41:15.025Z"
   },
   {
    "duration": 9,
    "start_time": "2022-05-28T09:41:26.517Z"
   },
   {
    "duration": 11,
    "start_time": "2022-05-28T09:41:33.363Z"
   },
   {
    "duration": 13,
    "start_time": "2022-05-28T09:41:40.005Z"
   },
   {
    "duration": 17,
    "start_time": "2022-05-28T09:41:48.770Z"
   },
   {
    "duration": 1132,
    "start_time": "2022-05-28T09:41:56.354Z"
   },
   {
    "duration": 86,
    "start_time": "2022-05-28T09:41:57.488Z"
   },
   {
    "duration": 12,
    "start_time": "2022-05-28T09:41:57.576Z"
   },
   {
    "duration": 13,
    "start_time": "2022-05-28T09:41:57.590Z"
   },
   {
    "duration": 8,
    "start_time": "2022-05-28T09:41:57.605Z"
   },
   {
    "duration": 6,
    "start_time": "2022-05-28T09:41:57.614Z"
   },
   {
    "duration": 10,
    "start_time": "2022-05-28T09:41:57.622Z"
   },
   {
    "duration": 3,
    "start_time": "2022-05-28T09:41:57.634Z"
   },
   {
    "duration": 18,
    "start_time": "2022-05-28T09:41:57.639Z"
   },
   {
    "duration": 48,
    "start_time": "2022-05-28T09:41:57.659Z"
   },
   {
    "duration": 10,
    "start_time": "2022-05-28T09:41:57.709Z"
   },
   {
    "duration": 13,
    "start_time": "2022-05-28T09:41:57.721Z"
   },
   {
    "duration": 6,
    "start_time": "2022-05-28T09:41:57.736Z"
   },
   {
    "duration": 12,
    "start_time": "2022-05-28T09:41:57.745Z"
   },
   {
    "duration": 11,
    "start_time": "2022-05-28T09:41:57.758Z"
   },
   {
    "duration": 33,
    "start_time": "2022-05-28T09:41:57.771Z"
   },
   {
    "duration": 58,
    "start_time": "2022-05-28T09:41:57.805Z"
   },
   {
    "duration": 120,
    "start_time": "2022-05-28T09:41:57.865Z"
   },
   {
    "duration": 0,
    "start_time": "2022-05-28T09:41:57.987Z"
   },
   {
    "duration": 1,
    "start_time": "2022-05-28T09:41:57.994Z"
   },
   {
    "duration": 1,
    "start_time": "2022-05-28T09:41:57.995Z"
   },
   {
    "duration": 0,
    "start_time": "2022-05-28T09:41:57.996Z"
   },
   {
    "duration": 0,
    "start_time": "2022-05-28T09:41:57.997Z"
   },
   {
    "duration": 0,
    "start_time": "2022-05-28T09:41:57.998Z"
   },
   {
    "duration": 0,
    "start_time": "2022-05-28T09:41:57.999Z"
   },
   {
    "duration": 0,
    "start_time": "2022-05-28T09:41:58.000Z"
   },
   {
    "duration": 0,
    "start_time": "2022-05-28T09:41:58.001Z"
   },
   {
    "duration": 0,
    "start_time": "2022-05-28T09:41:58.002Z"
   },
   {
    "duration": 0,
    "start_time": "2022-05-28T09:41:58.003Z"
   },
   {
    "duration": 0,
    "start_time": "2022-05-28T09:41:58.004Z"
   },
   {
    "duration": 0,
    "start_time": "2022-05-28T09:41:58.005Z"
   },
   {
    "duration": 0,
    "start_time": "2022-05-28T09:41:58.006Z"
   },
   {
    "duration": 0,
    "start_time": "2022-05-28T09:41:58.007Z"
   },
   {
    "duration": 0,
    "start_time": "2022-05-28T09:41:58.007Z"
   },
   {
    "duration": 0,
    "start_time": "2022-05-28T09:41:58.008Z"
   },
   {
    "duration": 0,
    "start_time": "2022-05-28T09:41:58.010Z"
   },
   {
    "duration": 0,
    "start_time": "2022-05-28T09:41:58.011Z"
   },
   {
    "duration": 0,
    "start_time": "2022-05-28T09:41:58.012Z"
   },
   {
    "duration": 0,
    "start_time": "2022-05-28T09:41:58.013Z"
   },
   {
    "duration": 0,
    "start_time": "2022-05-28T09:41:58.014Z"
   },
   {
    "duration": 0,
    "start_time": "2022-05-28T09:41:58.015Z"
   },
   {
    "duration": 35,
    "start_time": "2022-05-28T09:43:17.584Z"
   },
   {
    "duration": 29,
    "start_time": "2022-05-28T09:43:35.565Z"
   },
   {
    "duration": 12,
    "start_time": "2022-05-28T09:43:45.965Z"
   },
   {
    "duration": 21,
    "start_time": "2022-05-28T09:46:07.240Z"
   },
   {
    "duration": 1217,
    "start_time": "2022-05-28T09:46:15.733Z"
   },
   {
    "duration": 101,
    "start_time": "2022-05-28T09:46:16.952Z"
   },
   {
    "duration": 13,
    "start_time": "2022-05-28T09:46:17.055Z"
   },
   {
    "duration": 12,
    "start_time": "2022-05-28T09:46:17.069Z"
   },
   {
    "duration": 9,
    "start_time": "2022-05-28T09:46:17.082Z"
   },
   {
    "duration": 17,
    "start_time": "2022-05-28T09:46:17.092Z"
   },
   {
    "duration": 21,
    "start_time": "2022-05-28T09:46:17.117Z"
   },
   {
    "duration": 3,
    "start_time": "2022-05-28T09:46:17.139Z"
   },
   {
    "duration": 13,
    "start_time": "2022-05-28T09:46:17.143Z"
   },
   {
    "duration": 16,
    "start_time": "2022-05-28T09:46:17.159Z"
   },
   {
    "duration": 15,
    "start_time": "2022-05-28T09:46:17.177Z"
   },
   {
    "duration": 26,
    "start_time": "2022-05-28T09:46:17.199Z"
   },
   {
    "duration": 19,
    "start_time": "2022-05-28T09:46:17.226Z"
   },
   {
    "duration": 17,
    "start_time": "2022-05-28T09:46:17.247Z"
   },
   {
    "duration": 10,
    "start_time": "2022-05-28T09:46:17.266Z"
   },
   {
    "duration": 14,
    "start_time": "2022-05-28T09:46:17.278Z"
   },
   {
    "duration": 133,
    "start_time": "2022-05-28T09:46:17.294Z"
   },
   {
    "duration": 430,
    "start_time": "2022-05-28T09:46:17.429Z"
   },
   {
    "duration": 14,
    "start_time": "2022-05-28T09:46:17.860Z"
   },
   {
    "duration": 9,
    "start_time": "2022-05-28T09:46:17.876Z"
   },
   {
    "duration": 43,
    "start_time": "2022-05-28T09:46:17.887Z"
   },
   {
    "duration": 514,
    "start_time": "2022-05-28T09:46:17.932Z"
   },
   {
    "duration": 269,
    "start_time": "2022-05-28T09:46:18.449Z"
   },
   {
    "duration": 345,
    "start_time": "2022-05-28T09:46:18.720Z"
   },
   {
    "duration": 276,
    "start_time": "2022-05-28T09:46:19.066Z"
   },
   {
    "duration": 326,
    "start_time": "2022-05-28T09:46:19.344Z"
   },
   {
    "duration": 8,
    "start_time": "2022-05-28T09:46:19.672Z"
   },
   {
    "duration": 14,
    "start_time": "2022-05-28T09:46:19.683Z"
   },
   {
    "duration": 164,
    "start_time": "2022-05-28T09:46:19.699Z"
   },
   {
    "duration": 5,
    "start_time": "2022-05-28T09:46:19.864Z"
   },
   {
    "duration": 200,
    "start_time": "2022-05-28T09:46:19.871Z"
   },
   {
    "duration": 6,
    "start_time": "2022-05-28T09:46:20.073Z"
   },
   {
    "duration": 265,
    "start_time": "2022-05-28T09:46:20.081Z"
   },
   {
    "duration": 144,
    "start_time": "2022-05-28T09:46:20.348Z"
   },
   {
    "duration": 7,
    "start_time": "2022-05-28T09:46:20.498Z"
   },
   {
    "duration": 59,
    "start_time": "2022-05-28T09:46:20.507Z"
   },
   {
    "duration": 11,
    "start_time": "2022-05-28T09:46:20.569Z"
   },
   {
    "duration": 16,
    "start_time": "2022-05-28T09:46:20.581Z"
   },
   {
    "duration": 32,
    "start_time": "2022-05-28T09:46:20.599Z"
   },
   {
    "duration": 27,
    "start_time": "2022-05-28T09:46:20.632Z"
   },
   {
    "duration": 12,
    "start_time": "2022-05-28T09:46:20.661Z"
   },
   {
    "duration": 12,
    "start_time": "2022-05-28T09:46:45.414Z"
   },
   {
    "duration": 7,
    "start_time": "2022-05-28T09:46:52.673Z"
   },
   {
    "duration": 35,
    "start_time": "2022-05-28T09:49:48.442Z"
   },
   {
    "duration": 28,
    "start_time": "2022-05-28T09:50:05.826Z"
   },
   {
    "duration": 140,
    "start_time": "2022-05-28T09:50:18.034Z"
   },
   {
    "duration": 26,
    "start_time": "2022-05-28T09:51:50.022Z"
   },
   {
    "duration": 8,
    "start_time": "2022-05-28T09:56:11.071Z"
   },
   {
    "duration": 37,
    "start_time": "2022-05-28T10:03:43.844Z"
   },
   {
    "duration": 5,
    "start_time": "2022-05-28T10:05:12.235Z"
   },
   {
    "duration": 13,
    "start_time": "2022-05-28T10:05:44.986Z"
   },
   {
    "duration": 8,
    "start_time": "2022-05-28T10:05:56.765Z"
   },
   {
    "duration": 6,
    "start_time": "2022-05-28T10:06:01.752Z"
   },
   {
    "duration": 1024,
    "start_time": "2022-05-28T10:06:16.009Z"
   },
   {
    "duration": 79,
    "start_time": "2022-05-28T10:06:17.035Z"
   },
   {
    "duration": 12,
    "start_time": "2022-05-28T10:06:17.116Z"
   },
   {
    "duration": 13,
    "start_time": "2022-05-28T10:06:17.130Z"
   },
   {
    "duration": 15,
    "start_time": "2022-05-28T10:06:17.145Z"
   },
   {
    "duration": 5,
    "start_time": "2022-05-28T10:06:17.162Z"
   },
   {
    "duration": 13,
    "start_time": "2022-05-28T10:06:17.169Z"
   },
   {
    "duration": 3,
    "start_time": "2022-05-28T10:06:17.195Z"
   },
   {
    "duration": 20,
    "start_time": "2022-05-28T10:06:17.200Z"
   },
   {
    "duration": 19,
    "start_time": "2022-05-28T10:06:17.223Z"
   },
   {
    "duration": 11,
    "start_time": "2022-05-28T10:06:17.244Z"
   },
   {
    "duration": 23,
    "start_time": "2022-05-28T10:06:17.257Z"
   },
   {
    "duration": 18,
    "start_time": "2022-05-28T10:06:17.282Z"
   },
   {
    "duration": 180,
    "start_time": "2022-05-28T10:06:17.302Z"
   },
   {
    "duration": 0,
    "start_time": "2022-05-28T10:06:17.485Z"
   },
   {
    "duration": 0,
    "start_time": "2022-05-28T10:06:17.487Z"
   },
   {
    "duration": 1,
    "start_time": "2022-05-28T10:06:17.489Z"
   },
   {
    "duration": 0,
    "start_time": "2022-05-28T10:06:17.494Z"
   },
   {
    "duration": 0,
    "start_time": "2022-05-28T10:06:17.495Z"
   },
   {
    "duration": 0,
    "start_time": "2022-05-28T10:06:17.497Z"
   },
   {
    "duration": 0,
    "start_time": "2022-05-28T10:06:17.498Z"
   },
   {
    "duration": 0,
    "start_time": "2022-05-28T10:06:17.499Z"
   },
   {
    "duration": 0,
    "start_time": "2022-05-28T10:06:17.500Z"
   },
   {
    "duration": 0,
    "start_time": "2022-05-28T10:06:17.501Z"
   },
   {
    "duration": 0,
    "start_time": "2022-05-28T10:06:17.502Z"
   },
   {
    "duration": 0,
    "start_time": "2022-05-28T10:06:17.503Z"
   },
   {
    "duration": 0,
    "start_time": "2022-05-28T10:06:17.505Z"
   },
   {
    "duration": 0,
    "start_time": "2022-05-28T10:06:17.506Z"
   },
   {
    "duration": 0,
    "start_time": "2022-05-28T10:06:17.507Z"
   },
   {
    "duration": 0,
    "start_time": "2022-05-28T10:06:17.508Z"
   },
   {
    "duration": 0,
    "start_time": "2022-05-28T10:06:17.509Z"
   },
   {
    "duration": 0,
    "start_time": "2022-05-28T10:06:17.511Z"
   },
   {
    "duration": 0,
    "start_time": "2022-05-28T10:06:17.512Z"
   },
   {
    "duration": 0,
    "start_time": "2022-05-28T10:06:17.513Z"
   },
   {
    "duration": 0,
    "start_time": "2022-05-28T10:06:17.516Z"
   },
   {
    "duration": 0,
    "start_time": "2022-05-28T10:06:17.517Z"
   },
   {
    "duration": 0,
    "start_time": "2022-05-28T10:06:17.519Z"
   },
   {
    "duration": 0,
    "start_time": "2022-05-28T10:06:17.520Z"
   },
   {
    "duration": 0,
    "start_time": "2022-05-28T10:06:17.521Z"
   },
   {
    "duration": 0,
    "start_time": "2022-05-28T10:06:17.522Z"
   },
   {
    "duration": 0,
    "start_time": "2022-05-28T10:06:17.524Z"
   },
   {
    "duration": 0,
    "start_time": "2022-05-28T10:06:17.525Z"
   },
   {
    "duration": 0,
    "start_time": "2022-05-28T10:06:17.527Z"
   },
   {
    "duration": 0,
    "start_time": "2022-05-28T10:06:17.529Z"
   },
   {
    "duration": 7,
    "start_time": "2022-05-28T10:06:40.575Z"
   },
   {
    "duration": 6,
    "start_time": "2022-05-28T10:06:41.273Z"
   },
   {
    "duration": 6,
    "start_time": "2022-05-28T10:06:45.408Z"
   },
   {
    "duration": 10,
    "start_time": "2022-05-28T10:07:00.132Z"
   },
   {
    "duration": 8,
    "start_time": "2022-05-28T10:07:00.678Z"
   },
   {
    "duration": 1043,
    "start_time": "2022-05-28T10:07:05.021Z"
   },
   {
    "duration": 89,
    "start_time": "2022-05-28T10:07:06.066Z"
   },
   {
    "duration": 12,
    "start_time": "2022-05-28T10:07:06.156Z"
   },
   {
    "duration": 11,
    "start_time": "2022-05-28T10:07:06.170Z"
   },
   {
    "duration": 8,
    "start_time": "2022-05-28T10:07:06.183Z"
   },
   {
    "duration": 6,
    "start_time": "2022-05-28T10:07:06.192Z"
   },
   {
    "duration": 13,
    "start_time": "2022-05-28T10:07:06.199Z"
   },
   {
    "duration": 6,
    "start_time": "2022-05-28T10:07:06.215Z"
   },
   {
    "duration": 24,
    "start_time": "2022-05-28T10:07:06.223Z"
   },
   {
    "duration": 21,
    "start_time": "2022-05-28T10:07:06.250Z"
   },
   {
    "duration": 15,
    "start_time": "2022-05-28T10:07:06.273Z"
   },
   {
    "duration": 8,
    "start_time": "2022-05-28T10:07:06.290Z"
   },
   {
    "duration": 6,
    "start_time": "2022-05-28T10:07:06.300Z"
   },
   {
    "duration": 7,
    "start_time": "2022-05-28T10:07:06.307Z"
   },
   {
    "duration": 11,
    "start_time": "2022-05-28T10:07:06.315Z"
   },
   {
    "duration": 12,
    "start_time": "2022-05-28T10:07:06.327Z"
   },
   {
    "duration": 11,
    "start_time": "2022-05-28T10:07:06.341Z"
   },
   {
    "duration": 72,
    "start_time": "2022-05-28T10:07:06.353Z"
   },
   {
    "duration": 123,
    "start_time": "2022-05-28T10:07:06.426Z"
   },
   {
    "duration": 0,
    "start_time": "2022-05-28T10:07:06.552Z"
   },
   {
    "duration": 0,
    "start_time": "2022-05-28T10:07:06.553Z"
   },
   {
    "duration": 0,
    "start_time": "2022-05-28T10:07:06.555Z"
   },
   {
    "duration": 0,
    "start_time": "2022-05-28T10:07:06.556Z"
   },
   {
    "duration": 0,
    "start_time": "2022-05-28T10:07:06.561Z"
   },
   {
    "duration": 0,
    "start_time": "2022-05-28T10:07:06.562Z"
   },
   {
    "duration": 0,
    "start_time": "2022-05-28T10:07:06.563Z"
   },
   {
    "duration": 0,
    "start_time": "2022-05-28T10:07:06.563Z"
   },
   {
    "duration": 0,
    "start_time": "2022-05-28T10:07:06.564Z"
   },
   {
    "duration": 0,
    "start_time": "2022-05-28T10:07:06.566Z"
   },
   {
    "duration": 0,
    "start_time": "2022-05-28T10:07:06.567Z"
   },
   {
    "duration": 0,
    "start_time": "2022-05-28T10:07:06.568Z"
   },
   {
    "duration": 0,
    "start_time": "2022-05-28T10:07:06.569Z"
   },
   {
    "duration": 0,
    "start_time": "2022-05-28T10:07:06.594Z"
   },
   {
    "duration": 0,
    "start_time": "2022-05-28T10:07:06.596Z"
   },
   {
    "duration": 0,
    "start_time": "2022-05-28T10:07:06.597Z"
   },
   {
    "duration": 0,
    "start_time": "2022-05-28T10:07:06.598Z"
   },
   {
    "duration": 1,
    "start_time": "2022-05-28T10:07:06.599Z"
   },
   {
    "duration": 0,
    "start_time": "2022-05-28T10:07:06.601Z"
   },
   {
    "duration": 0,
    "start_time": "2022-05-28T10:07:06.602Z"
   },
   {
    "duration": 0,
    "start_time": "2022-05-28T10:07:06.603Z"
   },
   {
    "duration": 0,
    "start_time": "2022-05-28T10:07:06.604Z"
   },
   {
    "duration": 0,
    "start_time": "2022-05-28T10:07:06.606Z"
   },
   {
    "duration": 13,
    "start_time": "2022-05-28T10:08:45.204Z"
   },
   {
    "duration": 37,
    "start_time": "2022-05-28T10:08:52.089Z"
   },
   {
    "duration": 18,
    "start_time": "2022-05-28T10:10:30.771Z"
   },
   {
    "duration": 25,
    "start_time": "2022-05-28T10:10:52.716Z"
   },
   {
    "duration": 484,
    "start_time": "2022-05-28T10:13:15.670Z"
   },
   {
    "duration": 11,
    "start_time": "2022-05-28T10:13:26.733Z"
   },
   {
    "duration": 479,
    "start_time": "2022-05-28T10:13:50.947Z"
   },
   {
    "duration": 22,
    "start_time": "2022-05-28T10:17:18.033Z"
   },
   {
    "duration": 6,
    "start_time": "2022-05-28T10:17:24.520Z"
   },
   {
    "duration": 1370,
    "start_time": "2022-05-28T10:18:19.477Z"
   },
   {
    "duration": 113,
    "start_time": "2022-05-28T10:18:20.850Z"
   },
   {
    "duration": 15,
    "start_time": "2022-05-28T10:18:20.966Z"
   },
   {
    "duration": 17,
    "start_time": "2022-05-28T10:18:20.983Z"
   },
   {
    "duration": 53,
    "start_time": "2022-05-28T10:18:21.002Z"
   },
   {
    "duration": 6,
    "start_time": "2022-05-28T10:18:21.057Z"
   },
   {
    "duration": 14,
    "start_time": "2022-05-28T10:18:21.065Z"
   },
   {
    "duration": 3,
    "start_time": "2022-05-28T10:18:21.081Z"
   },
   {
    "duration": 26,
    "start_time": "2022-05-28T10:18:21.086Z"
   },
   {
    "duration": 44,
    "start_time": "2022-05-28T10:18:21.115Z"
   },
   {
    "duration": 11,
    "start_time": "2022-05-28T10:18:21.161Z"
   },
   {
    "duration": 9,
    "start_time": "2022-05-28T10:18:21.173Z"
   },
   {
    "duration": 15,
    "start_time": "2022-05-28T10:18:21.183Z"
   },
   {
    "duration": 41,
    "start_time": "2022-05-28T10:18:21.199Z"
   },
   {
    "duration": 19,
    "start_time": "2022-05-28T10:18:21.243Z"
   },
   {
    "duration": 10,
    "start_time": "2022-05-28T10:18:21.264Z"
   },
   {
    "duration": 26,
    "start_time": "2022-05-28T10:18:21.276Z"
   },
   {
    "duration": 87,
    "start_time": "2022-05-28T10:18:21.304Z"
   },
   {
    "duration": 384,
    "start_time": "2022-05-28T10:18:21.393Z"
   },
   {
    "duration": 13,
    "start_time": "2022-05-28T10:18:21.779Z"
   },
   {
    "duration": 53,
    "start_time": "2022-05-28T10:18:21.794Z"
   },
   {
    "duration": 8,
    "start_time": "2022-05-28T10:18:21.849Z"
   },
   {
    "duration": 487,
    "start_time": "2022-05-28T10:18:21.859Z"
   },
   {
    "duration": 251,
    "start_time": "2022-05-28T10:18:22.348Z"
   },
   {
    "duration": 355,
    "start_time": "2022-05-28T10:18:22.606Z"
   },
   {
    "duration": 263,
    "start_time": "2022-05-28T10:18:22.963Z"
   },
   {
    "duration": 341,
    "start_time": "2022-05-28T10:18:23.229Z"
   },
   {
    "duration": 9,
    "start_time": "2022-05-28T10:18:23.576Z"
   },
   {
    "duration": 51,
    "start_time": "2022-05-28T10:18:23.587Z"
   },
   {
    "duration": 157,
    "start_time": "2022-05-28T10:18:23.640Z"
   },
   {
    "duration": 7,
    "start_time": "2022-05-28T10:18:23.799Z"
   },
   {
    "duration": 213,
    "start_time": "2022-05-28T10:18:23.807Z"
   },
   {
    "duration": 11,
    "start_time": "2022-05-28T10:18:24.022Z"
   },
   {
    "duration": 260,
    "start_time": "2022-05-28T10:18:24.035Z"
   },
   {
    "duration": 159,
    "start_time": "2022-05-28T10:18:24.301Z"
   },
   {
    "duration": 6,
    "start_time": "2022-05-28T10:18:24.463Z"
   },
   {
    "duration": 62,
    "start_time": "2022-05-28T10:18:24.471Z"
   },
   {
    "duration": 11,
    "start_time": "2022-05-28T10:18:24.535Z"
   },
   {
    "duration": 14,
    "start_time": "2022-05-28T10:18:24.548Z"
   },
   {
    "duration": 14,
    "start_time": "2022-05-28T10:18:24.564Z"
   },
   {
    "duration": 71,
    "start_time": "2022-05-28T10:18:24.580Z"
   },
   {
    "duration": 14,
    "start_time": "2022-05-28T10:18:24.653Z"
   },
   {
    "duration": 9,
    "start_time": "2022-05-28T10:20:50.749Z"
   },
   {
    "duration": 14,
    "start_time": "2022-05-28T10:20:51.329Z"
   },
   {
    "duration": 10,
    "start_time": "2022-05-28T10:21:09.416Z"
   },
   {
    "duration": 8,
    "start_time": "2022-05-28T10:21:39.949Z"
   },
   {
    "duration": 19,
    "start_time": "2022-05-28T10:21:40.728Z"
   },
   {
    "duration": 12,
    "start_time": "2022-05-28T10:21:59.919Z"
   },
   {
    "duration": 19,
    "start_time": "2022-05-28T10:22:00.284Z"
   },
   {
    "duration": 10,
    "start_time": "2022-05-28T10:22:21.651Z"
   },
   {
    "duration": 14,
    "start_time": "2022-05-28T10:22:40.727Z"
   },
   {
    "duration": 6,
    "start_time": "2022-05-28T10:23:00.313Z"
   },
   {
    "duration": 11,
    "start_time": "2022-05-28T10:23:29.152Z"
   },
   {
    "duration": 13,
    "start_time": "2022-05-28T10:23:53.968Z"
   },
   {
    "duration": 12,
    "start_time": "2022-05-28T10:24:20.189Z"
   },
   {
    "duration": 10,
    "start_time": "2022-05-28T10:24:25.578Z"
   },
   {
    "duration": 1192,
    "start_time": "2022-05-28T10:24:30.553Z"
   },
   {
    "duration": 100,
    "start_time": "2022-05-28T10:24:31.748Z"
   },
   {
    "duration": 15,
    "start_time": "2022-05-28T10:24:31.850Z"
   },
   {
    "duration": 17,
    "start_time": "2022-05-28T10:24:31.868Z"
   },
   {
    "duration": 10,
    "start_time": "2022-05-28T10:24:31.887Z"
   },
   {
    "duration": 30,
    "start_time": "2022-05-28T10:24:31.900Z"
   },
   {
    "duration": 19,
    "start_time": "2022-05-28T10:24:31.932Z"
   },
   {
    "duration": 25,
    "start_time": "2022-05-28T10:24:31.953Z"
   },
   {
    "duration": 25,
    "start_time": "2022-05-28T10:24:31.980Z"
   },
   {
    "duration": 17,
    "start_time": "2022-05-28T10:24:32.008Z"
   },
   {
    "duration": 20,
    "start_time": "2022-05-28T10:24:32.027Z"
   },
   {
    "duration": 21,
    "start_time": "2022-05-28T10:24:32.049Z"
   },
   {
    "duration": 21,
    "start_time": "2022-05-28T10:24:32.075Z"
   },
   {
    "duration": 17,
    "start_time": "2022-05-28T10:24:32.098Z"
   },
   {
    "duration": 28,
    "start_time": "2022-05-28T10:24:32.117Z"
   },
   {
    "duration": 67,
    "start_time": "2022-05-28T10:24:32.148Z"
   },
   {
    "duration": 290,
    "start_time": "2022-05-28T10:24:32.217Z"
   },
   {
    "duration": 16,
    "start_time": "2022-05-28T10:24:32.509Z"
   },
   {
    "duration": 10,
    "start_time": "2022-05-28T10:24:32.527Z"
   },
   {
    "duration": 9,
    "start_time": "2022-05-28T10:24:32.539Z"
   },
   {
    "duration": 537,
    "start_time": "2022-05-28T10:24:32.550Z"
   },
   {
    "duration": 250,
    "start_time": "2022-05-28T10:24:33.089Z"
   },
   {
    "duration": 300,
    "start_time": "2022-05-28T10:24:33.341Z"
   },
   {
    "duration": 267,
    "start_time": "2022-05-28T10:24:33.643Z"
   },
   {
    "duration": 363,
    "start_time": "2022-05-28T10:24:33.913Z"
   },
   {
    "duration": 16,
    "start_time": "2022-05-28T10:24:34.278Z"
   },
   {
    "duration": 22,
    "start_time": "2022-05-28T10:24:34.297Z"
   },
   {
    "duration": 230,
    "start_time": "2022-05-28T10:24:34.323Z"
   },
   {
    "duration": 6,
    "start_time": "2022-05-28T10:24:34.555Z"
   },
   {
    "duration": 232,
    "start_time": "2022-05-28T10:24:34.563Z"
   },
   {
    "duration": 7,
    "start_time": "2022-05-28T10:24:34.797Z"
   },
   {
    "duration": 308,
    "start_time": "2022-05-28T10:24:34.806Z"
   },
   {
    "duration": 232,
    "start_time": "2022-05-28T10:24:35.116Z"
   },
   {
    "duration": 10,
    "start_time": "2022-05-28T10:24:35.350Z"
   },
   {
    "duration": 75,
    "start_time": "2022-05-28T10:24:35.362Z"
   },
   {
    "duration": 15,
    "start_time": "2022-05-28T10:24:35.438Z"
   },
   {
    "duration": 63,
    "start_time": "2022-05-28T10:24:35.455Z"
   },
   {
    "duration": 26,
    "start_time": "2022-05-28T10:24:35.521Z"
   },
   {
    "duration": 55,
    "start_time": "2022-05-28T10:24:35.550Z"
   },
   {
    "duration": 18,
    "start_time": "2022-05-28T10:24:35.608Z"
   },
   {
    "duration": 8,
    "start_time": "2022-05-28T10:32:35.441Z"
   },
   {
    "duration": 1285,
    "start_time": "2022-05-28T11:01:18.193Z"
   },
   {
    "duration": 107,
    "start_time": "2022-05-28T11:01:19.480Z"
   },
   {
    "duration": 22,
    "start_time": "2022-05-28T11:01:19.589Z"
   },
   {
    "duration": 45,
    "start_time": "2022-05-28T11:01:19.614Z"
   },
   {
    "duration": 13,
    "start_time": "2022-05-28T11:01:19.662Z"
   },
   {
    "duration": 6,
    "start_time": "2022-05-28T11:01:19.678Z"
   },
   {
    "duration": 30,
    "start_time": "2022-05-28T11:01:19.686Z"
   },
   {
    "duration": 34,
    "start_time": "2022-05-28T11:01:19.724Z"
   },
   {
    "duration": 16,
    "start_time": "2022-05-28T11:01:19.761Z"
   },
   {
    "duration": 14,
    "start_time": "2022-05-28T11:01:19.780Z"
   },
   {
    "duration": 22,
    "start_time": "2022-05-28T11:01:19.802Z"
   },
   {
    "duration": 21,
    "start_time": "2022-05-28T11:01:19.832Z"
   },
   {
    "duration": 14,
    "start_time": "2022-05-28T11:01:19.855Z"
   },
   {
    "duration": 9,
    "start_time": "2022-05-28T11:01:19.871Z"
   },
   {
    "duration": 28,
    "start_time": "2022-05-28T11:01:19.882Z"
   },
   {
    "duration": 77,
    "start_time": "2022-05-28T11:01:19.912Z"
   },
   {
    "duration": 317,
    "start_time": "2022-05-28T11:01:19.991Z"
   },
   {
    "duration": 20,
    "start_time": "2022-05-28T11:01:20.311Z"
   },
   {
    "duration": 23,
    "start_time": "2022-05-28T11:01:20.333Z"
   },
   {
    "duration": 7,
    "start_time": "2022-05-28T11:01:20.358Z"
   },
   {
    "duration": 505,
    "start_time": "2022-05-28T11:01:20.367Z"
   },
   {
    "duration": 237,
    "start_time": "2022-05-28T11:01:20.874Z"
   },
   {
    "duration": 316,
    "start_time": "2022-05-28T11:01:21.113Z"
   },
   {
    "duration": 241,
    "start_time": "2022-05-28T11:01:21.431Z"
   },
   {
    "duration": 342,
    "start_time": "2022-05-28T11:01:21.674Z"
   },
   {
    "duration": 9,
    "start_time": "2022-05-28T11:01:22.024Z"
   },
   {
    "duration": 163,
    "start_time": "2022-05-28T11:01:22.035Z"
   },
   {
    "duration": 16,
    "start_time": "2022-05-28T11:01:22.223Z"
   },
   {
    "duration": 191,
    "start_time": "2022-05-28T11:01:22.241Z"
   },
   {
    "duration": 6,
    "start_time": "2022-05-28T11:01:22.433Z"
   },
   {
    "duration": 220,
    "start_time": "2022-05-28T11:01:22.441Z"
   },
   {
    "duration": 224,
    "start_time": "2022-05-28T11:01:22.662Z"
   },
   {
    "duration": 17,
    "start_time": "2022-05-28T11:01:22.888Z"
   },
   {
    "duration": 76,
    "start_time": "2022-05-28T11:01:22.908Z"
   },
   {
    "duration": 13,
    "start_time": "2022-05-28T11:01:22.986Z"
   },
   {
    "duration": 44,
    "start_time": "2022-05-28T11:01:23.006Z"
   },
   {
    "duration": 12,
    "start_time": "2022-05-28T11:01:23.053Z"
   },
   {
    "duration": 26,
    "start_time": "2022-05-28T11:01:23.067Z"
   },
   {
    "duration": 24,
    "start_time": "2022-05-28T11:01:23.099Z"
   }
  ],
  "kernelspec": {
   "display_name": "Python 3 (ipykernel)",
   "language": "python",
   "name": "python3"
  },
  "language_info": {
   "codemirror_mode": {
    "name": "ipython",
    "version": 3
   },
   "file_extension": ".py",
   "mimetype": "text/x-python",
   "name": "python",
   "nbconvert_exporter": "python",
   "pygments_lexer": "ipython3",
   "version": "3.9.7"
  },
  "toc": {
   "base_numbering": 1,
   "nav_menu": {},
   "number_sections": true,
   "sideBar": true,
   "skip_h1_title": true,
   "title_cell": "Table of Contents",
   "title_sidebar": "Contents",
   "toc_cell": false,
   "toc_position": {
    "height": "calc(100% - 180px)",
    "left": "10px",
    "top": "150px",
    "width": "314.332px"
   },
   "toc_section_display": true,
   "toc_window_display": true
  }
 },
 "nbformat": 4,
 "nbformat_minor": 2
}
