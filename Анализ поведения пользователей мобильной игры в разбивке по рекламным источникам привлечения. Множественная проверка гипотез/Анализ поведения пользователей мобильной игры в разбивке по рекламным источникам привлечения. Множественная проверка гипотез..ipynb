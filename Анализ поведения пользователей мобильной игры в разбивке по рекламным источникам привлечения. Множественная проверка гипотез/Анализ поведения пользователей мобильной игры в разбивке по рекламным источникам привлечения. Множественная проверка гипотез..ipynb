{
 "cells": [
  {
   "cell_type": "markdown",
   "metadata": {
    "toc": true
   },
   "source": [
    "<h1>Содержание этапов исследования проекта<span class=\"tocSkip\"></span></h1>\n",
    "<div class=\"toc\"><ul class=\"toc-item\"><li><span><a href=\"#Предобработка-данных\" data-toc-modified-id=\"Предобработка-данных-1\"><span class=\"toc-item-num\">1&nbsp;&nbsp;</span>Предобработка данных</a></span><ul class=\"toc-item\"><li><span><a href=\"#Загрузим-все-необходимые-библиотеки-и-прочитаем-датасеты\" data-toc-modified-id=\"Загрузим-все-необходимые-библиотеки-и-прочитаем-датасеты-1.1\"><span class=\"toc-item-num\">1.1&nbsp;&nbsp;</span>Загрузим все необходимые библиотеки и прочитаем датасеты</a></span></li><li><span><a href=\"#Напишем-функцию-для-ознакомления-с-данными-по-базовым-параметрам\" data-toc-modified-id=\"Напишем-функцию-для-ознакомления-с-данными-по-базовым-параметрам-1.2\"><span class=\"toc-item-num\">1.2&nbsp;&nbsp;</span>Напишем функцию для ознакомления с данными по базовым параметрам</a></span></li><li><span><a href=\"#Изучим-датасет-game_actions\" data-toc-modified-id=\"Изучим-датасет-game_actions-1.3\"><span class=\"toc-item-num\">1.3&nbsp;&nbsp;</span>Изучим датасет game_actions</a></span></li><li><span><a href=\"#Изучим-датасет-ad_costs\" data-toc-modified-id=\"Изучим-датасет-ad_costs-1.4\"><span class=\"toc-item-num\">1.4&nbsp;&nbsp;</span>Изучим датасет ad_costs</a></span></li><li><span><a href=\"#Изучим-датасет-user_source\" data-toc-modified-id=\"Изучим-датасет-user_source-1.5\"><span class=\"toc-item-num\">1.5&nbsp;&nbsp;</span>Изучим датасет user_source</a></span></li><li><span><a href=\"#Приведем-столбцы-с-датами-в-соответствующий-тип,-добавим-в-game_actions-столбец-с-датой-date\" data-toc-modified-id=\"Приведем-столбцы-с-датами-в-соответствующий-тип,-добавим-в-game_actions-столбец-с-датой-date-1.6\"><span class=\"toc-item-num\">1.6&nbsp;&nbsp;</span>Приведем столбцы с датами в соответствующий тип, добавим в game_actions столбец с датой date</a></span></li></ul></li><li><span><a href=\"#Исследовательский-анализ-данных\" data-toc-modified-id=\"Исследовательский-анализ-данных-2\"><span class=\"toc-item-num\">2&nbsp;&nbsp;</span>Исследовательский анализ данных</a></span><ul class=\"toc-item\"><li><span><a href=\"#Посмотрим-на-минимальную-и-максимальную-даты-всех-событий-датасета-game_actions\" data-toc-modified-id=\"Посмотрим-на-минимальную-и-максимальную-даты-всех-событий-датасета-game_actions-2.1\"><span class=\"toc-item-num\">2.1&nbsp;&nbsp;</span>Посмотрим на минимальную и максимальную даты всех событий датасета game_actions</a></span></li><li><span><a href=\"#Напишем-функцию,-которая-создаст-столбец-type_of_completion-и-присвоит-игрокам-статус-прохождения-первого-уровня\" data-toc-modified-id=\"Напишем-функцию,-которая-создаст-столбец-type_of_completion-и-присвоит-игрокам-статус-прохождения-первого-уровня-2.2\"><span class=\"toc-item-num\">2.2&nbsp;&nbsp;</span>Напишем функцию, которая создаст столбец type_of_completion и присвоит игрокам статус прохождения первого уровня</a></span></li><li><span><a href=\"#Определим-дату-первого-события-по-пользователям\" data-toc-modified-id=\"Определим-дату-первого-события-по-пользователям-2.3\"><span class=\"toc-item-num\">2.3&nbsp;&nbsp;</span>Определим дату первого события по пользователям</a></span></li><li><span><a href=\"#Выполним-расчет-активности-в-днях-по-пользователям-и-событиям,-добавим-столбец-day_of_activity\" data-toc-modified-id=\"Выполним-расчет-активности-в-днях-по-пользователям-и-событиям,-добавим-столбец-day_of_activity-2.4\"><span class=\"toc-item-num\">2.4&nbsp;&nbsp;</span>Выполним расчет активности в днях по пользователям и событиям, добавим столбец day_of_activity</a></span></li><li><span><a href=\"#Построим-столбчатую-гистограмму-активности-пользователей-по-датам-всех-событий\" data-toc-modified-id=\"Построим-столбчатую-гистограмму-активности-пользователей-по-датам-всех-событий-2.5\"><span class=\"toc-item-num\">2.5&nbsp;&nbsp;</span>Построим столбчатую гистограмму активности пользователей по датам всех событий</a></span></li><li><span><a href=\"#Посчитаем-99--перцентиль-количества-событий-по-датам\" data-toc-modified-id=\"Посчитаем-99--перцентиль-количества-событий-по-датам-2.6\"><span class=\"toc-item-num\">2.6&nbsp;&nbsp;</span>Посчитаем 99  перцентиль количества событий по датам</a></span></li><li><span><a href=\"#Рассмотрим-активность-уникальных-пользователей-в-оставшиеся-даты-по-каналам-привлечения\" data-toc-modified-id=\"Рассмотрим-активность-уникальных-пользователей-в-оставшиеся-даты-по-каналам-привлечения-2.7\"><span class=\"toc-item-num\">2.7&nbsp;&nbsp;</span>Рассмотрим активность уникальных пользователей в оставшиеся даты по каналам привлечения</a></span></li></ul></li><li><span><a href=\"#Анализ-влияния-источника-перехода-в-игру-на-поведение-пользователей\" data-toc-modified-id=\"Анализ-влияния-источника-перехода-в-игру-на-поведение-пользователей-3\"><span class=\"toc-item-num\">3&nbsp;&nbsp;</span>Анализ влияния источника перехода в игру на поведение пользователей</a></span><ul class=\"toc-item\"><li><span><a href=\"#Создадим-таблицу-сгруппированную-по-каналам-привлечения-и-посчитаем-количество-уникальных-пользователей-и-количество-событий,-а-именно-построек-зданий\" data-toc-modified-id=\"Создадим-таблицу-сгруппированную-по-каналам-привлечения-и-посчитаем-количество-уникальных-пользователей-и-количество-событий,-а-именно-построек-зданий-3.1\"><span class=\"toc-item-num\">3.1&nbsp;&nbsp;</span>Создадим таблицу сгруппированную по каналам привлечения и посчитаем количество уникальных пользователей и количество событий, а именно построек зданий</a></span></li><li><span><a href=\"#Визуализируем-полученную-таблицу\" data-toc-modified-id=\"Визуализируем-полученную-таблицу-3.2\"><span class=\"toc-item-num\">3.2&nbsp;&nbsp;</span>Визуализируем полученную таблицу</a></span></li><li><span><a href=\"#Построим-график-средних-значений-количества-построек-на-одного-уникального-пользователя-в-разрезе-по-каналам-привлечения\" data-toc-modified-id=\"Построим-график-средних-значений-количества-построек-на-одного-уникального-пользователя-в-разрезе-по-каналам-привлечения-3.3\"><span class=\"toc-item-num\">3.3&nbsp;&nbsp;</span>Построим график средних значений количества построек на одного уникального пользователя в разрезе по каналам привлечения</a></span></li><li><span><a href=\"#Добавим-в-таблицу-avg_cnt_build_of_source-столбец-с-рекламными-затратами-по-источникам\" data-toc-modified-id=\"Добавим-в-таблицу-avg_cnt_build_of_source-столбец-с-рекламными-затратами-по-источникам-3.4\"><span class=\"toc-item-num\">3.4&nbsp;&nbsp;</span>Добавим в таблицу avg_cnt_build_of_source столбец с рекламными затратами по источникам</a></span></li><li><span><a href=\"#Рассчитаем-затраты-привлечения-одного-уникального-пользователя-и-построим-график\" data-toc-modified-id=\"Рассчитаем-затраты-привлечения-одного-уникального-пользователя-и-построим-график-3.5\"><span class=\"toc-item-num\">3.5&nbsp;&nbsp;</span>Рассчитаем затраты привлечения одного уникального пользователя и построим график</a></span></li><li><span><a href=\"#Напишем-функцию-и-добавим-в-датасет-game_actions-стоимость-показа-рекламы-на-экране-с-постройками-зданий\" data-toc-modified-id=\"Напишем-функцию-и-добавим-в-датасет-game_actions-стоимость-показа-рекламы-на-экране-с-постройками-зданий-3.6\"><span class=\"toc-item-num\">3.6&nbsp;&nbsp;</span>Напишем функцию и добавим в датасет game_actions стоимость показа рекламы на экране с постройками зданий</a></span></li><li><span><a href=\"#Создадим-сводную-таблицу-по-уникальным-пользователям,-посчитаем-выручку,-CAC-и-ROI\" data-toc-modified-id=\"Создадим-сводную-таблицу-по-уникальным-пользователям,-посчитаем-выручку,-CAC-и-ROI-3.7\"><span class=\"toc-item-num\">3.7&nbsp;&nbsp;</span>Создадим сводную таблицу по уникальным пользователям, посчитаем выручку, CAC и ROI</a></span></li><li><span><a href=\"#Визуализируем-CAC-по-датам-привлечения-и-рекламным-источникам-в-динамике\" data-toc-modified-id=\"Визуализируем-CAC-по-датам-привлечения-и-рекламным-источникам-в-динамике-3.8\"><span class=\"toc-item-num\">3.8&nbsp;&nbsp;</span>Визуализируем CAC по датам привлечения и рекламным источникам в динамике</a></span></li><li><span><a href=\"#Визуализируем-ROI-по-датам-привлечения-и-рекламным-источникам-в-динамике\" data-toc-modified-id=\"Визуализируем-ROI-по-датам-привлечения-и-рекламным-источникам-в-динамике-3.9\"><span class=\"toc-item-num\">3.9&nbsp;&nbsp;</span>Визуализируем ROI по датам привлечения и рекламным источникам в динамике</a></span></li><li><span><a href=\"#Рассмотрим-сколько-игроки-тратят-времени-на-реализацию-проекта-и-победу-над-первым-игроком-в-разрезе-по-каналам-привлечения\" data-toc-modified-id=\"Рассмотрим-сколько-игроки-тратят-времени-на-реализацию-проекта-и-победу-над-первым-игроком-в-разрезе-по-каналам-привлечения-3.10\"><span class=\"toc-item-num\">3.10&nbsp;&nbsp;</span>Рассмотрим сколько игроки тратят времени на реализацию проекта и победу над первым игроком в разрезе по каналам привлечения</a></span></li></ul></li><li><span><a href=\"#Проверка-статистических-гипотез\" data-toc-modified-id=\"Проверка-статистических-гипотез-4\"><span class=\"toc-item-num\">4&nbsp;&nbsp;</span>Проверка статистических гипотез</a></span><ul class=\"toc-item\"><li><span><a href=\"#Гипотеза-№-1\" data-toc-modified-id=\"Гипотеза-№-1-4.1\"><span class=\"toc-item-num\">4.1&nbsp;&nbsp;</span>Гипотеза № 1</a></span></li><li><span><a href=\"#Гипотеза-№-2\" data-toc-modified-id=\"Гипотеза-№-2-4.2\"><span class=\"toc-item-num\">4.2&nbsp;&nbsp;</span>Гипотеза № 2</a></span><ul class=\"toc-item\"><li><span><a href=\"#Создадим-датасет-по-уникальным-пользователям-с-выручкой-и-рекламными-затратами-на-их-привлечение,-а-также-посчитаем-roi\" data-toc-modified-id=\"Создадим-датасет-по-уникальным-пользователям-с-выручкой-и-рекламными-затратами-на-их-привлечение,-а-также-посчитаем-roi-4.2.1\"><span class=\"toc-item-num\">4.2.1&nbsp;&nbsp;</span>Создадим датасет по уникальным пользователям с выручкой и рекламными затратами на их привлечение, а также посчитаем roi</a></span></li><li><span><a href=\"#Создадим-функцию-для-множественной-проверки-гипотезы-по-всем-рекламным-каналам\" data-toc-modified-id=\"Создадим-функцию-для-множественной-проверки-гипотезы-по-всем-рекламным-каналам-4.2.2\"><span class=\"toc-item-num\">4.2.2&nbsp;&nbsp;</span>Создадим функцию для множественной проверки гипотезы по всем рекламным каналам</a></span></li><li><span><a href=\"#Попарно-проверим-все-наши-рекламные-каналы-между-собой-по-roi\" data-toc-modified-id=\"Попарно-проверим-все-наши-рекламные-каналы-между-собой-по-roi-4.2.3\"><span class=\"toc-item-num\">4.2.3&nbsp;&nbsp;</span>Попарно проверим все наши рекламные каналы между собой по roi</a></span></li></ul></li></ul></li><li><span><a href=\"#Выводы\" data-toc-modified-id=\"Выводы-5\"><span class=\"toc-item-num\">5&nbsp;&nbsp;</span>Выводы</a></span></li></ul></div>"
   ]
  },
  {
   "cell_type": "markdown",
   "metadata": {},
   "source": [
    "# Анализ поведения пользователей мобильной игры в разбивке по рекламным источникам привлечения. Множественная проверка гипотез."
   ]
  },
  {
   "cell_type": "markdown",
   "metadata": {},
   "source": [
    "\n",
    "Мы имеем данные о событиях, совершенных в мобильной игре.\n",
    "\n",
    "Основная монетизация игры — предполагается, что в приложении будет происходить показ рекламы на экране с выбором типа объекта для постройки. С каждого показа разработчики игры будут получать 0.07 у.е. от рекламируемого ресурса.\n",
    "\n",
    "В датасете представлены данные по игре пользователей на первом уровне. Завершение первого уровня требует от игрока выполнения одного из двух условий:\n",
    "\n",
    "- Победа над первым врагом - finished_stage_1      \n",
    "- Реализация проекта - разработка орбитальной сборки спутников - project       \n",
    "- Также игроки параллельно с процессом достижения первого уровня могут строить дополнительные постройки building, именно на на этом экране с выбором типа постройки зданий и планируется генерация дохода компании \n",
    "\n",
    "В датасете содержатся данные первых пользователей приложения — когорты пользователей, которые начали пользоваться приложением в период с 4 по 10 мая включительно.\n",
    "Помимо основного датасета есть два датасета с информацией о рекламных активностях, в которых присутствует информация по затратам на привлечение всех уникальных пользователей с разбивкой по источникам переходав в приложение\n",
    "\n",
    "# Цель: \n",
    "Определить наиболее прибыльные каналы привлечения пользователей в игру\n",
    "\n",
    "# Задача: \n",
    "Выполнить анализ поведения игроков в зависимости от источников привлечения"
   ]
  },
  {
   "cell_type": "markdown",
   "metadata": {},
   "source": [
    "# Декомпозиция задачи:"
   ]
  },
  {
   "cell_type": "markdown",
   "metadata": {},
   "source": [
    "ШАГ № 1 Предобработка данных:\n",
    "- Изучение данных\n",
    "- Проверка данных на пропуски и дубликаты\n",
    "- Проверка соответствия типов данных в столбцах и названий самих столбцов\n",
    "- Приведение значений столбцов в необходимый тип данных"
   ]
  },
  {
   "cell_type": "markdown",
   "metadata": {},
   "source": [
    "ШАГ № 2 Исследовательский анализ данных:\n",
    "- Расчет и проверка минимальной и максимальной даты первого посещения по уникальным пользователям\n",
    "- Присвоение игрокам статуса прохождения первого уровня в отдельный столбец\n",
    "- Определение даты первого события по пользователям\n",
    "- Анализ активности пользователей по датам событий и по каналм привлечения"
   ]
  },
  {
   "cell_type": "markdown",
   "metadata": {},
   "source": [
    "ШАГ № 3 Выполнить анализ влияния источника перехода в игру на поведение пользователей:\n",
    "- Построение сводной таблицы по каналам привлечения с уникальными пользователями и событиями(постройка здания)\n",
    "- Построение графика распределения привлеченных уникальных пользователей и количества построенных ими зданий по каналам\n",
    "- Построение графика среднего значения построек на каждого уникального пользователя по каналам привлечения\n",
    "- Расчет рекламных затрат на привлечение одного уникального пользователя. Построение графика\n",
    "- Расчет выручки, CAC и ROI по каналам привлечения пользователей\n",
    "- Построение графиков CAC и ROI в динамике по дням рекламной кампании\n",
    "- Расчет среднего времени на завершение первого уровня игроками по типу реализации. Построение графика"
   ]
  },
  {
   "cell_type": "markdown",
   "metadata": {},
   "source": [
    "ШАГ № 4 Проверка статистических гипотез:\n",
    "    \n",
    "    1. Время завершения уровня различается в зависимости способа прохождения:\n",
    "    - *через реализацию проекта,*\n",
    "    - *через победу над первым игроком.*\n",
    "    \n",
    "    Н0 - время завершения уровня через реализацию проекта равно времени завершения уровня через победу над первым игроком\n",
    "    Н1 - время завершения уровня через реализацию проекта отличается от времени завершения уровня через победу над первым игроком\n",
    "    \n",
    "    2. Прибыль от показа рекламы по уникальным пользователям в зависимости от источника перехода в игру отличается:\n",
    "    \n",
    "    Н0 - Прибыль от уникальных пользователей за показ рекламы в разбивке по источникам привлечения одинакова\n",
    "    Н1 - Прибыль от уникальных пользователей за показ рекламы в разбивке по источникам привлечения различается"
   ]
  },
  {
   "cell_type": "markdown",
   "metadata": {},
   "source": [
    "ШАГ № 5 Выводы:\n",
    "- Из каких источников перехода пользователи приносят больше всего дохода?\n",
    "- Какой рекламный источник геренирует меньше всего дохода или убыточен?\n"
   ]
  },
  {
   "cell_type": "markdown",
   "metadata": {},
   "source": [
    "ШАГ № 6 Рекомендации:\n",
    "- Дать рекомендации компании на какие рекламные источники необходимо перераспределить свой бюджет, а от каких лучше избавиться\n",
    "- Рекомендации по оптимизации типов зданий в игре"
   ]
  },
  {
   "cell_type": "markdown",
   "metadata": {},
   "source": [
    "В нашем распоряжении 3 датасетa:\n",
    "\n",
    "/datasets/game_actions.csv - датасет содержит данные о событиях, совершенных в мобильной игре «Космические братья».В датасете содержатся данные первых пользователей приложения — когорты пользователей, которые начали пользоваться приложением в период с 4 по 10 мая включительно\n",
    "\n",
    "Структура датасета:\n",
    "\n",
    "- `event_datetime` — время события;\n",
    "- `event` — одно из трёх событий:\n",
    "    1. `building` — объект построен,\n",
    "    2. `finished_stage_1` — первый уровень завершён,\n",
    "    3. `project` — проект завершён;\n",
    "- `building_type` — один из трёх типов здания:\n",
    "    1. `assembly_shop` — сборочный цех,\n",
    "    2. `spaceport` — космопорт,\n",
    "    3. `research_center` — исследовательский центр;\n",
    "- `user_id` — идентификатор пользователя;\n",
    "- `project_type` — тип реализованного проекта;\n",
    "\n",
    "/datasets/ad_cost.csv - датасет содержит информацию о затратах на привлечение пользователей в игру по датам и по источникам \n",
    "привлечения\n",
    "\n",
    "Структура датасета:\n",
    "\n",
    "- `day` - день, в который был совершен клик по объявлению\n",
    "- `source` - источник трафика\n",
    "- `cost` - стоимость кликов\n",
    "\n",
    "/datasets/user_source.csv - датасет содержит информацию об уникальных пользователях, установивших приложение \n",
    "\n",
    "Структура датасета:\n",
    "\n",
    "- `user_id` - идентификатор пользователя\n",
    "- `source` - источников, с которого пришёл пользователь, установивший приложение в разбивке по рекламным каналам"
   ]
  },
  {
   "cell_type": "markdown",
   "metadata": {},
   "source": [
    "## Предобработка данных"
   ]
  },
  {
   "cell_type": "markdown",
   "metadata": {},
   "source": [
    "### Загрузим все необходимые библиотеки и прочитаем датасеты"
   ]
  },
  {
   "cell_type": "code",
   "execution_count": 1,
   "metadata": {},
   "outputs": [],
   "source": [
    "import pandas as pd\n",
    "import numpy as np\n",
    "from scipy import stats as st\n",
    "import matplotlib.pyplot as plt\n",
    "import matplotlib as mpl\n",
    "import seaborn as sns"
   ]
  },
  {
   "cell_type": "code",
   "execution_count": 2,
   "metadata": {},
   "outputs": [],
   "source": [
    "ad_costs = pd.read_csv('/datasets/ad_costs.csv')\n",
    "game_actions = pd.read_csv('/datasets/game_actions.csv')\n",
    "user_source = pd.read_csv('/datasets/user_source.csv')"
   ]
  },
  {
   "cell_type": "markdown",
   "metadata": {},
   "source": [
    "### Напишем функцию для ознакомления с данными по базовым параметрам"
   ]
  },
  {
   "cell_type": "code",
   "execution_count": 3,
   "metadata": {},
   "outputs": [],
   "source": [
    "def check (game_actions):\n",
    "       \n",
    "    print()\n",
    "    print(12*'=', 'Количество пропусков', 12*'=')\n",
    "    display(game_actions.isna().mean())\n",
    "    print()\n",
    "    print(12*'=', 'Общая информация', 12*'=')\n",
    "    print()\n",
    "    display(game_actions.info())\n",
    "    print()\n",
    "    print(12*'=', 'Количество дубликатов', 12*'=')\n",
    "    display(game_actions.duplicated().sum())\n",
    "    print()\n",
    "    print(12*'=', 'Корректность названия колонок', 12*'=')\n",
    "    display(game_actions.columns)\n",
    "    print()\n",
    "    print(12*'=', 'Статистические данные', 12*'=')\n",
    "    display(game_actions.describe().T)\n",
    "    print()\n",
    "    print(12*'=', 'Количество уникальных значений', 12*'=')\n",
    "    display(game_actions.nunique())\n",
    "    print()"
   ]
  },
  {
   "cell_type": "markdown",
   "metadata": {},
   "source": [
    "### Изучим датасет game_actions"
   ]
  },
  {
   "cell_type": "code",
   "execution_count": 4,
   "metadata": {
    "scrolled": false
   },
   "outputs": [
    {
     "name": "stdout",
     "output_type": "stream",
     "text": [
      "\n",
      "============ Количество пропусков ============\n"
     ]
    },
    {
     "data": {
      "text/plain": [
       "event_datetime    0.000000\n",
       "event             0.000000\n",
       "building_type     0.056643\n",
       "user_id           0.000000\n",
       "project_type      0.986243\n",
       "dtype: float64"
      ]
     },
     "metadata": {},
     "output_type": "display_data"
    },
    {
     "name": "stdout",
     "output_type": "stream",
     "text": [
      "\n",
      "============ Общая информация ============\n",
      "\n",
      "<class 'pandas.core.frame.DataFrame'>\n",
      "RangeIndex: 135640 entries, 0 to 135639\n",
      "Data columns (total 5 columns):\n",
      " #   Column          Non-Null Count   Dtype \n",
      "---  ------          --------------   ----- \n",
      " 0   event_datetime  135640 non-null  object\n",
      " 1   event           135640 non-null  object\n",
      " 2   building_type   127957 non-null  object\n",
      " 3   user_id         135640 non-null  object\n",
      " 4   project_type    1866 non-null    object\n",
      "dtypes: object(5)\n",
      "memory usage: 5.2+ MB\n"
     ]
    },
    {
     "data": {
      "text/plain": [
       "None"
      ]
     },
     "metadata": {},
     "output_type": "display_data"
    },
    {
     "name": "stdout",
     "output_type": "stream",
     "text": [
      "\n",
      "============ Количество дубликатов ============\n"
     ]
    },
    {
     "data": {
      "text/plain": [
       "1"
      ]
     },
     "metadata": {},
     "output_type": "display_data"
    },
    {
     "name": "stdout",
     "output_type": "stream",
     "text": [
      "\n",
      "============ Корректность названия колонок ============\n"
     ]
    },
    {
     "data": {
      "text/plain": [
       "Index(['event_datetime', 'event', 'building_type', 'user_id', 'project_type'], dtype='object')"
      ]
     },
     "metadata": {},
     "output_type": "display_data"
    },
    {
     "name": "stdout",
     "output_type": "stream",
     "text": [
      "\n",
      "============ Статистические данные ============\n"
     ]
    },
    {
     "data": {
      "text/html": [
       "<div>\n",
       "<style scoped>\n",
       "    .dataframe tbody tr th:only-of-type {\n",
       "        vertical-align: middle;\n",
       "    }\n",
       "\n",
       "    .dataframe tbody tr th {\n",
       "        vertical-align: top;\n",
       "    }\n",
       "\n",
       "    .dataframe thead th {\n",
       "        text-align: right;\n",
       "    }\n",
       "</style>\n",
       "<table border=\"1\" class=\"dataframe\">\n",
       "  <thead>\n",
       "    <tr style=\"text-align: right;\">\n",
       "      <th></th>\n",
       "      <th>count</th>\n",
       "      <th>unique</th>\n",
       "      <th>top</th>\n",
       "      <th>freq</th>\n",
       "    </tr>\n",
       "  </thead>\n",
       "  <tbody>\n",
       "    <tr>\n",
       "      <th>event_datetime</th>\n",
       "      <td>135640</td>\n",
       "      <td>128790</td>\n",
       "      <td>2020-05-09 12:35:56</td>\n",
       "      <td>4</td>\n",
       "    </tr>\n",
       "    <tr>\n",
       "      <th>event</th>\n",
       "      <td>135640</td>\n",
       "      <td>3</td>\n",
       "      <td>building</td>\n",
       "      <td>127957</td>\n",
       "    </tr>\n",
       "    <tr>\n",
       "      <th>building_type</th>\n",
       "      <td>127957</td>\n",
       "      <td>3</td>\n",
       "      <td>spaceport</td>\n",
       "      <td>59325</td>\n",
       "    </tr>\n",
       "    <tr>\n",
       "      <th>user_id</th>\n",
       "      <td>135640</td>\n",
       "      <td>13576</td>\n",
       "      <td>d6aca06a-cd75-4cd8-b8cd-240a3c163884</td>\n",
       "      <td>22</td>\n",
       "    </tr>\n",
       "    <tr>\n",
       "      <th>project_type</th>\n",
       "      <td>1866</td>\n",
       "      <td>1</td>\n",
       "      <td>satellite_orbital_assembly</td>\n",
       "      <td>1866</td>\n",
       "    </tr>\n",
       "  </tbody>\n",
       "</table>\n",
       "</div>"
      ],
      "text/plain": [
       "                 count  unique                                   top    freq\n",
       "event_datetime  135640  128790                   2020-05-09 12:35:56       4\n",
       "event           135640       3                              building  127957\n",
       "building_type   127957       3                             spaceport   59325\n",
       "user_id         135640   13576  d6aca06a-cd75-4cd8-b8cd-240a3c163884      22\n",
       "project_type      1866       1            satellite_orbital_assembly    1866"
      ]
     },
     "metadata": {},
     "output_type": "display_data"
    },
    {
     "name": "stdout",
     "output_type": "stream",
     "text": [
      "\n",
      "============ Количество уникальных значений ============\n"
     ]
    },
    {
     "data": {
      "text/plain": [
       "event_datetime    128790\n",
       "event                  3\n",
       "building_type          3\n",
       "user_id            13576\n",
       "project_type           1\n",
       "dtype: int64"
      ]
     },
     "metadata": {},
     "output_type": "display_data"
    },
    {
     "name": "stdout",
     "output_type": "stream",
     "text": [
      "\n"
     ]
    }
   ],
   "source": [
    "check(game_actions)"
   ]
  },
  {
   "cell_type": "markdown",
   "metadata": {},
   "source": [
    "- В столбцах event_datetime, user_id и event пропуски отсутствуют\n",
    "- В столбце building_type 5,5 % пропусков, это столбец, отображающий постройку пользователями одного из трех возможных зданий, пропуски в данном столбце означают что пользователь завершил 1 уровень или завершил специальное исследование\n",
    "- В стобце project_type всего 1866 значений не пропущено, и это не просто так, данный столбец отражает тип реализованного проекта\n",
    "- Столбец event_datetime в формате данных object, заменим его позже\n",
    "- Количество привлеченных уникальных юзеров - 13576\n",
    "- Количество уникальных построек - 3\n",
    "- Названия столбцов соответствуют нормальному типу\n",
    "- В датасете один явный дубликат, удалим его"
   ]
  },
  {
   "cell_type": "code",
   "execution_count": 5,
   "metadata": {},
   "outputs": [],
   "source": [
    "game_actions = game_actions.drop_duplicates()"
   ]
  },
  {
   "cell_type": "markdown",
   "metadata": {},
   "source": [
    "Дубликат удалили"
   ]
  },
  {
   "cell_type": "markdown",
   "metadata": {},
   "source": [
    "### Изучим датасет ad_costs"
   ]
  },
  {
   "cell_type": "code",
   "execution_count": 6,
   "metadata": {
    "scrolled": false
   },
   "outputs": [
    {
     "name": "stdout",
     "output_type": "stream",
     "text": [
      "\n",
      "============ Количество пропусков ============\n"
     ]
    },
    {
     "data": {
      "text/plain": [
       "source    0.0\n",
       "day       0.0\n",
       "cost      0.0\n",
       "dtype: float64"
      ]
     },
     "metadata": {},
     "output_type": "display_data"
    },
    {
     "name": "stdout",
     "output_type": "stream",
     "text": [
      "\n",
      "============ Общая информация ============\n",
      "\n",
      "<class 'pandas.core.frame.DataFrame'>\n",
      "RangeIndex: 28 entries, 0 to 27\n",
      "Data columns (total 3 columns):\n",
      " #   Column  Non-Null Count  Dtype  \n",
      "---  ------  --------------  -----  \n",
      " 0   source  28 non-null     object \n",
      " 1   day     28 non-null     object \n",
      " 2   cost    28 non-null     float64\n",
      "dtypes: float64(1), object(2)\n",
      "memory usage: 800.0+ bytes\n"
     ]
    },
    {
     "data": {
      "text/plain": [
       "None"
      ]
     },
     "metadata": {},
     "output_type": "display_data"
    },
    {
     "name": "stdout",
     "output_type": "stream",
     "text": [
      "\n",
      "============ Количество дубликатов ============\n"
     ]
    },
    {
     "data": {
      "text/plain": [
       "0"
      ]
     },
     "metadata": {},
     "output_type": "display_data"
    },
    {
     "name": "stdout",
     "output_type": "stream",
     "text": [
      "\n",
      "============ Корректность названия колонок ============\n"
     ]
    },
    {
     "data": {
      "text/plain": [
       "Index(['source', 'day', 'cost'], dtype='object')"
      ]
     },
     "metadata": {},
     "output_type": "display_data"
    },
    {
     "name": "stdout",
     "output_type": "stream",
     "text": [
      "\n",
      "============ Статистические данные ============\n"
     ]
    },
    {
     "data": {
      "text/html": [
       "<div>\n",
       "<style scoped>\n",
       "    .dataframe tbody tr th:only-of-type {\n",
       "        vertical-align: middle;\n",
       "    }\n",
       "\n",
       "    .dataframe tbody tr th {\n",
       "        vertical-align: top;\n",
       "    }\n",
       "\n",
       "    .dataframe thead th {\n",
       "        text-align: right;\n",
       "    }\n",
       "</style>\n",
       "<table border=\"1\" class=\"dataframe\">\n",
       "  <thead>\n",
       "    <tr style=\"text-align: right;\">\n",
       "      <th></th>\n",
       "      <th>count</th>\n",
       "      <th>mean</th>\n",
       "      <th>std</th>\n",
       "      <th>min</th>\n",
       "      <th>25%</th>\n",
       "      <th>50%</th>\n",
       "      <th>75%</th>\n",
       "      <th>max</th>\n",
       "    </tr>\n",
       "  </thead>\n",
       "  <tbody>\n",
       "    <tr>\n",
       "      <th>cost</th>\n",
       "      <td>28.0</td>\n",
       "      <td>271.556321</td>\n",
       "      <td>286.86765</td>\n",
       "      <td>23.314669</td>\n",
       "      <td>66.747365</td>\n",
       "      <td>160.056443</td>\n",
       "      <td>349.034473</td>\n",
       "      <td>969.139394</td>\n",
       "    </tr>\n",
       "  </tbody>\n",
       "</table>\n",
       "</div>"
      ],
      "text/plain": [
       "      count        mean        std        min        25%         50%  \\\n",
       "cost   28.0  271.556321  286.86765  23.314669  66.747365  160.056443   \n",
       "\n",
       "             75%         max  \n",
       "cost  349.034473  969.139394  "
      ]
     },
     "metadata": {},
     "output_type": "display_data"
    },
    {
     "name": "stdout",
     "output_type": "stream",
     "text": [
      "\n",
      "============ Количество уникальных значений ============\n"
     ]
    },
    {
     "data": {
      "text/plain": [
       "source     4\n",
       "day        7\n",
       "cost      28\n",
       "dtype: int64"
      ]
     },
     "metadata": {},
     "output_type": "display_data"
    },
    {
     "name": "stdout",
     "output_type": "stream",
     "text": [
      "\n"
     ]
    }
   ],
   "source": [
    "check(ad_costs)"
   ]
  },
  {
   "cell_type": "markdown",
   "metadata": {},
   "source": [
    "- Пропусков данных нет\n",
    "- Стобец day в формате данных object, переведем в необходимый формат\n",
    "- Названия столбцов соответствуют нормальному типу\n",
    "- Дубликаты отсутствуют\n",
    "- Имеем 4 рекламный источника и период привлечения пользователей в 7 дней"
   ]
  },
  {
   "cell_type": "markdown",
   "metadata": {},
   "source": [
    "### Изучим датасет user_source"
   ]
  },
  {
   "cell_type": "code",
   "execution_count": 7,
   "metadata": {
    "scrolled": false
   },
   "outputs": [
    {
     "name": "stdout",
     "output_type": "stream",
     "text": [
      "\n",
      "============ Количество пропусков ============\n"
     ]
    },
    {
     "data": {
      "text/plain": [
       "user_id    0.0\n",
       "source     0.0\n",
       "dtype: float64"
      ]
     },
     "metadata": {},
     "output_type": "display_data"
    },
    {
     "name": "stdout",
     "output_type": "stream",
     "text": [
      "\n",
      "============ Общая информация ============\n",
      "\n",
      "<class 'pandas.core.frame.DataFrame'>\n",
      "RangeIndex: 13576 entries, 0 to 13575\n",
      "Data columns (total 2 columns):\n",
      " #   Column   Non-Null Count  Dtype \n",
      "---  ------   --------------  ----- \n",
      " 0   user_id  13576 non-null  object\n",
      " 1   source   13576 non-null  object\n",
      "dtypes: object(2)\n",
      "memory usage: 212.2+ KB\n"
     ]
    },
    {
     "data": {
      "text/plain": [
       "None"
      ]
     },
     "metadata": {},
     "output_type": "display_data"
    },
    {
     "name": "stdout",
     "output_type": "stream",
     "text": [
      "\n",
      "============ Количество дубликатов ============\n"
     ]
    },
    {
     "data": {
      "text/plain": [
       "0"
      ]
     },
     "metadata": {},
     "output_type": "display_data"
    },
    {
     "name": "stdout",
     "output_type": "stream",
     "text": [
      "\n",
      "============ Корректность названия колонок ============\n"
     ]
    },
    {
     "data": {
      "text/plain": [
       "Index(['user_id', 'source'], dtype='object')"
      ]
     },
     "metadata": {},
     "output_type": "display_data"
    },
    {
     "name": "stdout",
     "output_type": "stream",
     "text": [
      "\n",
      "============ Статистические данные ============\n"
     ]
    },
    {
     "data": {
      "text/html": [
       "<div>\n",
       "<style scoped>\n",
       "    .dataframe tbody tr th:only-of-type {\n",
       "        vertical-align: middle;\n",
       "    }\n",
       "\n",
       "    .dataframe tbody tr th {\n",
       "        vertical-align: top;\n",
       "    }\n",
       "\n",
       "    .dataframe thead th {\n",
       "        text-align: right;\n",
       "    }\n",
       "</style>\n",
       "<table border=\"1\" class=\"dataframe\">\n",
       "  <thead>\n",
       "    <tr style=\"text-align: right;\">\n",
       "      <th></th>\n",
       "      <th>count</th>\n",
       "      <th>unique</th>\n",
       "      <th>top</th>\n",
       "      <th>freq</th>\n",
       "    </tr>\n",
       "  </thead>\n",
       "  <tbody>\n",
       "    <tr>\n",
       "      <th>user_id</th>\n",
       "      <td>13576</td>\n",
       "      <td>13576</td>\n",
       "      <td>707434f1-a8fc-4ae7-b16a-4f46240f6539</td>\n",
       "      <td>1</td>\n",
       "    </tr>\n",
       "    <tr>\n",
       "      <th>source</th>\n",
       "      <td>13576</td>\n",
       "      <td>4</td>\n",
       "      <td>yandex_direct</td>\n",
       "      <td>4817</td>\n",
       "    </tr>\n",
       "  </tbody>\n",
       "</table>\n",
       "</div>"
      ],
      "text/plain": [
       "         count unique                                   top  freq\n",
       "user_id  13576  13576  707434f1-a8fc-4ae7-b16a-4f46240f6539     1\n",
       "source   13576      4                         yandex_direct  4817"
      ]
     },
     "metadata": {},
     "output_type": "display_data"
    },
    {
     "name": "stdout",
     "output_type": "stream",
     "text": [
      "\n",
      "============ Количество уникальных значений ============\n"
     ]
    },
    {
     "data": {
      "text/plain": [
       "user_id    13576\n",
       "source         4\n",
       "dtype: int64"
      ]
     },
     "metadata": {},
     "output_type": "display_data"
    },
    {
     "name": "stdout",
     "output_type": "stream",
     "text": [
      "\n"
     ]
    }
   ],
   "source": [
    "check(user_source)"
   ]
  },
  {
   "cell_type": "markdown",
   "metadata": {},
   "source": [
    "- Пропусков данных нет\n",
    "- Названия столбцов соответствуют нормальному типу\n",
    "- Дубликаты отсутствуют\n",
    "- Имеем 4 рекламный источника и 13576 уникальных пользователя, привлеченных этими каналами, соответственно данные пользователи присутствуют и в датасете game_actions"
   ]
  },
  {
   "cell_type": "markdown",
   "metadata": {},
   "source": [
    "### Приведем столбцы с датами в соответствующий тип, добавим в game_actions столбец с датой date"
   ]
  },
  {
   "cell_type": "code",
   "execution_count": 8,
   "metadata": {},
   "outputs": [],
   "source": [
    "game_actions['event_datetime'] = pd.to_datetime(game_actions['event_datetime'], format='%Y-%m-%d %H:%M:%S')\n",
    "game_actions['date'] = pd.to_datetime(game_actions['event_datetime']).dt.date\n",
    "ad_costs['day'] = pd.to_datetime(ad_costs['day'])\n"
   ]
  },
  {
   "cell_type": "markdown",
   "metadata": {},
   "source": [
    "##  Исследовательский анализ данных"
   ]
  },
  {
   "cell_type": "markdown",
   "metadata": {},
   "source": [
    "### Посмотрим на минимальную и максимальную даты всех событий датасета game_actions"
   ]
  },
  {
   "cell_type": "code",
   "execution_count": 9,
   "metadata": {},
   "outputs": [
    {
     "name": "stdout",
     "output_type": "stream",
     "text": [
      "Минимальна дата событий: 2020-05-04 00:00:01\n",
      "Максимальна дата событий: 2020-06-05 12:32:49\n"
     ]
    }
   ],
   "source": [
    "print(f'Минимальна дата событий: {game_actions.event_datetime.min()}')\n",
    "print(f'Максимальна дата событий: {game_actions.event_datetime.max()}')"
   ]
  },
  {
   "cell_type": "markdown",
   "metadata": {},
   "source": [
    "### Напишем функцию, которая создаст столбец type_of_completion и присвоит игрокам статус прохождения первого уровня"
   ]
  },
  {
   "cell_type": "code",
   "execution_count": 10,
   "metadata": {},
   "outputs": [],
   "source": [
    "users_project = game_actions.loc[game_actions['event'] == 'project', 'user_id'].values\n",
    "\n",
    "game_actions.loc[game_actions['event'] != 'finished_stage_1', 'type_of_completion'] = 'not_completed'\n",
    "\n",
    "game_actions.loc[(game_actions['event'] == 'finished_stage_1') \n",
    "                  & ~(game_actions['user_id']\n",
    "                      .isin(users_project))\n",
    "                 , 'type_of_completion'] = 'victory_over_the_player'\n",
    "\n",
    "game_actions.loc[(game_actions['event'] == 'finished_stage_1') \n",
    "                  & (game_actions['user_id']\n",
    "                    .isin(users_project))\n",
    "                 , 'type_of_completion'] = 'project'\n",
    "                 "
   ]
  },
  {
   "cell_type": "code",
   "execution_count": 11,
   "metadata": {},
   "outputs": [
    {
     "data": {
      "text/html": [
       "<div>\n",
       "<style scoped>\n",
       "    .dataframe tbody tr th:only-of-type {\n",
       "        vertical-align: middle;\n",
       "    }\n",
       "\n",
       "    .dataframe tbody tr th {\n",
       "        vertical-align: top;\n",
       "    }\n",
       "\n",
       "    .dataframe thead th {\n",
       "        text-align: right;\n",
       "    }\n",
       "</style>\n",
       "<table border=\"1\" class=\"dataframe\">\n",
       "  <thead>\n",
       "    <tr style=\"text-align: right;\">\n",
       "      <th></th>\n",
       "      <th>event_datetime</th>\n",
       "      <th>event</th>\n",
       "      <th>building_type</th>\n",
       "      <th>user_id</th>\n",
       "      <th>project_type</th>\n",
       "      <th>date</th>\n",
       "      <th>type_of_completion</th>\n",
       "    </tr>\n",
       "  </thead>\n",
       "  <tbody>\n",
       "    <tr>\n",
       "      <th>0</th>\n",
       "      <td>2020-05-04 00:00:01</td>\n",
       "      <td>building</td>\n",
       "      <td>assembly_shop</td>\n",
       "      <td>55e92310-cb8e-4754-b622-597e124b03de</td>\n",
       "      <td>NaN</td>\n",
       "      <td>2020-05-04</td>\n",
       "      <td>not_completed</td>\n",
       "    </tr>\n",
       "    <tr>\n",
       "      <th>1</th>\n",
       "      <td>2020-05-04 00:00:03</td>\n",
       "      <td>building</td>\n",
       "      <td>assembly_shop</td>\n",
       "      <td>c07b1c10-f477-44dc-81dc-ec82254b1347</td>\n",
       "      <td>NaN</td>\n",
       "      <td>2020-05-04</td>\n",
       "      <td>not_completed</td>\n",
       "    </tr>\n",
       "    <tr>\n",
       "      <th>2</th>\n",
       "      <td>2020-05-04 00:00:16</td>\n",
       "      <td>building</td>\n",
       "      <td>assembly_shop</td>\n",
       "      <td>6edd42cc-e753-4ff6-a947-2107cd560710</td>\n",
       "      <td>NaN</td>\n",
       "      <td>2020-05-04</td>\n",
       "      <td>not_completed</td>\n",
       "    </tr>\n",
       "    <tr>\n",
       "      <th>3</th>\n",
       "      <td>2020-05-04 00:00:16</td>\n",
       "      <td>building</td>\n",
       "      <td>assembly_shop</td>\n",
       "      <td>92c69003-d60a-444a-827f-8cc51bf6bf4c</td>\n",
       "      <td>NaN</td>\n",
       "      <td>2020-05-04</td>\n",
       "      <td>not_completed</td>\n",
       "    </tr>\n",
       "    <tr>\n",
       "      <th>4</th>\n",
       "      <td>2020-05-04 00:00:35</td>\n",
       "      <td>building</td>\n",
       "      <td>assembly_shop</td>\n",
       "      <td>cdc6bb92-0ccb-4490-9866-ef142f09139d</td>\n",
       "      <td>NaN</td>\n",
       "      <td>2020-05-04</td>\n",
       "      <td>not_completed</td>\n",
       "    </tr>\n",
       "  </tbody>\n",
       "</table>\n",
       "</div>"
      ],
      "text/plain": [
       "       event_datetime     event  building_type  \\\n",
       "0 2020-05-04 00:00:01  building  assembly_shop   \n",
       "1 2020-05-04 00:00:03  building  assembly_shop   \n",
       "2 2020-05-04 00:00:16  building  assembly_shop   \n",
       "3 2020-05-04 00:00:16  building  assembly_shop   \n",
       "4 2020-05-04 00:00:35  building  assembly_shop   \n",
       "\n",
       "                                user_id project_type        date  \\\n",
       "0  55e92310-cb8e-4754-b622-597e124b03de          NaN  2020-05-04   \n",
       "1  c07b1c10-f477-44dc-81dc-ec82254b1347          NaN  2020-05-04   \n",
       "2  6edd42cc-e753-4ff6-a947-2107cd560710          NaN  2020-05-04   \n",
       "3  92c69003-d60a-444a-827f-8cc51bf6bf4c          NaN  2020-05-04   \n",
       "4  cdc6bb92-0ccb-4490-9866-ef142f09139d          NaN  2020-05-04   \n",
       "\n",
       "  type_of_completion  \n",
       "0      not_completed  \n",
       "1      not_completed  \n",
       "2      not_completed  \n",
       "3      not_completed  \n",
       "4      not_completed  "
      ]
     },
     "execution_count": 11,
     "metadata": {},
     "output_type": "execute_result"
    }
   ],
   "source": [
    "game_actions.head()"
   ]
  },
  {
   "cell_type": "code",
   "execution_count": 12,
   "metadata": {},
   "outputs": [
    {
     "data": {
      "text/plain": [
       "0"
      ]
     },
     "execution_count": 12,
     "metadata": {},
     "output_type": "execute_result"
    }
   ],
   "source": [
    "len(set(game_actions.query('type_of_completion == \"victory_over_the_player\"')['user_id'].unique()) & \n",
    "set(game_actions.query('type_of_completion == \"project\"')['user_id'].unique()))"
   ]
  },
  {
   "cell_type": "code",
   "execution_count": 13,
   "metadata": {},
   "outputs": [
    {
     "data": {
      "text/plain": [
       "not_completed              129822\n",
       "victory_over_the_player      3951\n",
       "project                      1866\n",
       "Name: type_of_completion, dtype: int64"
      ]
     },
     "execution_count": 13,
     "metadata": {},
     "output_type": "execute_result"
    }
   ],
   "source": [
    "game_actions['type_of_completion'].value_counts()"
   ]
  },
  {
   "cell_type": "markdown",
   "metadata": {},
   "source": [
    "### Определим дату первого события по пользователям"
   ]
  },
  {
   "cell_type": "code",
   "execution_count": 14,
   "metadata": {},
   "outputs": [
    {
     "data": {
      "text/html": [
       "<div>\n",
       "<style scoped>\n",
       "    .dataframe tbody tr th:only-of-type {\n",
       "        vertical-align: middle;\n",
       "    }\n",
       "\n",
       "    .dataframe tbody tr th {\n",
       "        vertical-align: top;\n",
       "    }\n",
       "\n",
       "    .dataframe thead th {\n",
       "        text-align: right;\n",
       "    }\n",
       "</style>\n",
       "<table border=\"1\" class=\"dataframe\">\n",
       "  <thead>\n",
       "    <tr style=\"text-align: right;\">\n",
       "      <th></th>\n",
       "      <th>user_id</th>\n",
       "      <th>first_event_datetime</th>\n",
       "      <th>first_event_date</th>\n",
       "    </tr>\n",
       "  </thead>\n",
       "  <tbody>\n",
       "    <tr>\n",
       "      <th>0</th>\n",
       "      <td>0001f83c-c6ac-4621-b7f0-8a28b283ac30</td>\n",
       "      <td>2020-05-06 01:07:37</td>\n",
       "      <td>2020-05-06</td>\n",
       "    </tr>\n",
       "  </tbody>\n",
       "</table>\n",
       "</div>"
      ],
      "text/plain": [
       "                                user_id first_event_datetime first_event_date\n",
       "0  0001f83c-c6ac-4621-b7f0-8a28b283ac30  2020-05-06 01:07:37       2020-05-06"
      ]
     },
     "execution_count": 14,
     "metadata": {},
     "output_type": "execute_result"
    }
   ],
   "source": [
    "user_uniq_first_even = game_actions.groupby('user_id')['event_datetime'].first().reset_index()\n",
    "user_uniq_first_even['first_event_date'] = pd.to_datetime(user_uniq_first_even['event_datetime']).dt.date\n",
    "user_uniq_first_even.columns = ['user_id', 'first_event_datetime', 'first_event_date']\n",
    "user_uniq_first_even.head(1)"
   ]
  },
  {
   "cell_type": "code",
   "execution_count": 15,
   "metadata": {},
   "outputs": [],
   "source": [
    "game_actions = game_actions.merge(user_uniq_first_even[['user_id', 'first_event_date']], on='user_id', how='left')\n",
    "game_actions = game_actions.merge(user_source, on='user_id', how='left')\n"
   ]
  },
  {
   "cell_type": "code",
   "execution_count": 16,
   "metadata": {},
   "outputs": [
    {
     "data": {
      "text/html": [
       "<div>\n",
       "<style scoped>\n",
       "    .dataframe tbody tr th:only-of-type {\n",
       "        vertical-align: middle;\n",
       "    }\n",
       "\n",
       "    .dataframe tbody tr th {\n",
       "        vertical-align: top;\n",
       "    }\n",
       "\n",
       "    .dataframe thead th {\n",
       "        text-align: right;\n",
       "    }\n",
       "</style>\n",
       "<table border=\"1\" class=\"dataframe\">\n",
       "  <thead>\n",
       "    <tr style=\"text-align: right;\">\n",
       "      <th></th>\n",
       "      <th>event_datetime</th>\n",
       "      <th>event</th>\n",
       "      <th>building_type</th>\n",
       "      <th>user_id</th>\n",
       "      <th>project_type</th>\n",
       "      <th>date</th>\n",
       "      <th>type_of_completion</th>\n",
       "      <th>first_event_date</th>\n",
       "      <th>source</th>\n",
       "    </tr>\n",
       "  </thead>\n",
       "  <tbody>\n",
       "    <tr>\n",
       "      <th>0</th>\n",
       "      <td>2020-05-04 00:00:01</td>\n",
       "      <td>building</td>\n",
       "      <td>assembly_shop</td>\n",
       "      <td>55e92310-cb8e-4754-b622-597e124b03de</td>\n",
       "      <td>NaN</td>\n",
       "      <td>2020-05-04</td>\n",
       "      <td>not_completed</td>\n",
       "      <td>2020-05-04</td>\n",
       "      <td>youtube_channel_reklama</td>\n",
       "    </tr>\n",
       "  </tbody>\n",
       "</table>\n",
       "</div>"
      ],
      "text/plain": [
       "       event_datetime     event  building_type  \\\n",
       "0 2020-05-04 00:00:01  building  assembly_shop   \n",
       "\n",
       "                                user_id project_type        date  \\\n",
       "0  55e92310-cb8e-4754-b622-597e124b03de          NaN  2020-05-04   \n",
       "\n",
       "  type_of_completion first_event_date                   source  \n",
       "0      not_completed       2020-05-04  youtube_channel_reklama  "
      ]
     },
     "execution_count": 16,
     "metadata": {},
     "output_type": "execute_result"
    }
   ],
   "source": [
    "game_actions.head(1)"
   ]
  },
  {
   "cell_type": "markdown",
   "metadata": {},
   "source": [
    "### Выполним расчет активности в днях по пользователям и событиям, добавим столбец day_of_activity"
   ]
  },
  {
   "cell_type": "code",
   "execution_count": 17,
   "metadata": {},
   "outputs": [],
   "source": [
    "game_actions['day_of_activity'] = (game_actions['date'] - game_actions['first_event_date']).dt.days"
   ]
  },
  {
   "cell_type": "markdown",
   "metadata": {},
   "source": [
    "### Построим столбчатую гистограмму активности пользователей по датам всех событий"
   ]
  },
  {
   "cell_type": "code",
   "execution_count": 18,
   "metadata": {},
   "outputs": [
    {
     "data": {
      "image/png": "[encoded data removed]",
      "text/plain": [
       "<Figure size 1152x360 with 1 Axes>"
      ]
     },
     "metadata": {
      "needs_background": "light"
     },
     "output_type": "display_data"
    }
   ],
   "source": [
    "activity_by_day = game_actions.groupby('date').agg({'user_id': 'nunique'}\n",
    "            ).plot(kind='bar', figsize=(16,5), title='Активность пользователей по датам событий', xlabel='Дата', ylabel='Количество событий', legend=False)"
   ]
  },
  {
   "cell_type": "markdown",
   "metadata": {},
   "source": [
    "Начиная с 2020-05-04 по 2020-05-10 наблюдается линейный рост активности пользователей, после 2020-05-10 эта активность резко уменьшается и имеет постоянную тенденцию к снижению, вероятно это связано с рекламной кампанией. После 2020-05-24 активность пользователей практически сходится на нет."
   ]
  },
  {
   "cell_type": "markdown",
   "metadata": {},
   "source": [
    "### Посчитаем 99  перцентиль количества событий по датам"
   ]
  },
  {
   "cell_type": "code",
   "execution_count": 19,
   "metadata": {},
   "outputs": [
    {
     "data": {
      "text/plain": [
       "datetime.date(2020, 5, 24)"
      ]
     },
     "execution_count": 19,
     "metadata": {},
     "output_type": "execute_result"
    }
   ],
   "source": [
    "perc_99 = np.percentile(game_actions['date'], 99)\n",
    "perc_99"
   ]
  },
  {
   "cell_type": "code",
   "execution_count": 20,
   "metadata": {},
   "outputs": [],
   "source": [
    "abnormal_users = game_actions.loc[game_actions['date'] > perc_99, 'user_id'].unique()\n",
    "game_actions = game_actions.loc[~(game_actions['user_id'].isin(abnormal_users))]"
   ]
  },
  {
   "cell_type": "markdown",
   "metadata": {},
   "source": [
    "Расчет 99 перцентиля показал нам что 1% продолжают соверщать какие либо действия в игре после 2020-05-24, отбросим их"
   ]
  },
  {
   "cell_type": "markdown",
   "metadata": {},
   "source": [
    "### Рассмотрим активность уникальных пользователей в оставшиеся даты по каналам привлечения"
   ]
  },
  {
   "cell_type": "code",
   "execution_count": 21,
   "metadata": {},
   "outputs": [
    {
     "data": {
      "image/png": "[encoded data removed]",
      "text/plain": [
       "<Figure size 1440x720 with 1 Axes>"
      ]
     },
     "metadata": {
      "needs_background": "light"
     },
     "output_type": "display_data"
    }
   ],
   "source": [
    "activity_by_day = game_actions.groupby(['date','source']).agg({'user_id': 'nunique'}).reset_index()\n",
    "activity_by_day\n",
    "plt.figure(figsize = (20,10))\n",
    "ax = sns.barplot(x='date', y='user_id', hue = 'source', data=activity_by_day)\n",
    "ax.set_xticklabels(ax.get_xticklabels(),rotation = 90)\n",
    "ax.set_title('Действия уникальных пользователей по исчтоникам перехода', fontsize = 20)\n",
    "ax.set_ylabel('Количество действий', fontsize = 15)\n",
    "ax.set_xlabel('Дата', fontsize = 15)\n",
    "ax.set\n",
    "plt.show()"
   ]
  },
  {
   "cell_type": "markdown",
   "metadata": {},
   "source": [
    "Как и на графике выше мы видим активность по всем каналам привлечения до 2020-05-10. Визуально можно заметить что пользователи со всех 4-х каналов проявляют активность примерно одинаково по датам. Что сразу можно увидеть так это то что пользователи, привлеченные с Яндекса совершили больше событий чем с остальных источников перехода, а пользователи Ютуба меньше всего. Рассмотрим дальше почему именно так."
   ]
  },
  {
   "cell_type": "markdown",
   "metadata": {},
   "source": [
    "## Анализ влияния источника перехода в игру на поведение пользователей"
   ]
  },
  {
   "cell_type": "markdown",
   "metadata": {},
   "source": [
    "### Создадим таблицу сгруппированную по каналам привлечения и посчитаем количество уникальных пользователей и количество событий, а именно построек зданий"
   ]
  },
  {
   "cell_type": "code",
   "execution_count": 22,
   "metadata": {},
   "outputs": [],
   "source": [
    "avg_cnt_build_of_source = game_actions.groupby('source').agg({'user_id':'nunique', 'building_type':'count'}).reset_index()"
   ]
  },
  {
   "cell_type": "code",
   "execution_count": 23,
   "metadata": {},
   "outputs": [],
   "source": [
    "avg_cnt_build_of_source['avg_cnt_build_of_source'] = avg_cnt_build_of_source['building_type']/avg_cnt_build_of_source['user_id']\n",
    "avg_cnt_build_of_source['avg_cnt_build_of_source'] = avg_cnt_build_of_source['avg_cnt_build_of_source'].round(2)"
   ]
  },
  {
   "cell_type": "code",
   "execution_count": 24,
   "metadata": {},
   "outputs": [
    {
     "data": {
      "text/html": [
       "<div>\n",
       "<style scoped>\n",
       "    .dataframe tbody tr th:only-of-type {\n",
       "        vertical-align: middle;\n",
       "    }\n",
       "\n",
       "    .dataframe tbody tr th {\n",
       "        vertical-align: top;\n",
       "    }\n",
       "\n",
       "    .dataframe thead th {\n",
       "        text-align: right;\n",
       "    }\n",
       "</style>\n",
       "<table border=\"1\" class=\"dataframe\">\n",
       "  <thead>\n",
       "    <tr style=\"text-align: right;\">\n",
       "      <th></th>\n",
       "      <th>source</th>\n",
       "      <th>user_id</th>\n",
       "      <th>building_type</th>\n",
       "      <th>avg_cnt_build_of_source</th>\n",
       "    </tr>\n",
       "  </thead>\n",
       "  <tbody>\n",
       "    <tr>\n",
       "      <th>0</th>\n",
       "      <td>facebook_ads</td>\n",
       "      <td>2617</td>\n",
       "      <td>24873</td>\n",
       "      <td>9.50</td>\n",
       "    </tr>\n",
       "    <tr>\n",
       "      <th>1</th>\n",
       "      <td>instagram_new_adverts</td>\n",
       "      <td>3208</td>\n",
       "      <td>30203</td>\n",
       "      <td>9.41</td>\n",
       "    </tr>\n",
       "    <tr>\n",
       "      <th>2</th>\n",
       "      <td>yandex_direct</td>\n",
       "      <td>4642</td>\n",
       "      <td>43103</td>\n",
       "      <td>9.29</td>\n",
       "    </tr>\n",
       "    <tr>\n",
       "      <th>3</th>\n",
       "      <td>youtube_channel_reklama</td>\n",
       "      <td>2588</td>\n",
       "      <td>23868</td>\n",
       "      <td>9.22</td>\n",
       "    </tr>\n",
       "  </tbody>\n",
       "</table>\n",
       "</div>"
      ],
      "text/plain": [
       "                    source  user_id  building_type  avg_cnt_build_of_source\n",
       "0             facebook_ads     2617          24873                     9.50\n",
       "1    instagram_new_adverts     3208          30203                     9.41\n",
       "2            yandex_direct     4642          43103                     9.29\n",
       "3  youtube_channel_reklama     2588          23868                     9.22"
      ]
     },
     "execution_count": 24,
     "metadata": {},
     "output_type": "execute_result"
    }
   ],
   "source": [
    "avg_cnt_build_of_source"
   ]
  },
  {
   "cell_type": "markdown",
   "metadata": {},
   "source": [
    "### Визуализируем полученную таблицу"
   ]
  },
  {
   "cell_type": "code",
   "execution_count": 25,
   "metadata": {},
   "outputs": [
    {
     "data": {
      "image/png": "[encoded data removed]",
      "text/plain": [
       "<Figure size 864x504 with 2 Axes>"
      ]
     },
     "metadata": {
      "needs_background": "light"
     },
     "output_type": "display_data"
    }
   ],
   "source": [
    "fig = plt.figure(figsize=(12,7))\n",
    "\n",
    "ax1 = fig.add_subplot(1,2,1)\n",
    "ax1 = sns.barplot(x='source', y='user_id', data=avg_cnt_build_of_source.sort_values('user_id', ascending=False))\n",
    "for p in ax1.patches:\n",
    "    ax1.annotate(format(p.get_height(), '.1f'), \n",
    "                   (p.get_x() + p.get_width() / 2., p.get_height()), \n",
    "                   ha = 'center', va = 'center', \n",
    "                   size=15,\n",
    "                   xytext = (0, -12), \n",
    "                   textcoords = 'offset points')\n",
    "ax1.set_title('Количество привлеченных юзеров по источникам перехода', fontsize = 15)\n",
    "ax1.set_ylabel('Количество уникальных пользователей', fontsize = 13)\n",
    "ax1.set_xlabel('Источники перехода', fontsize = 13)\n",
    "ax1.set_xticklabels(ax1.get_xticklabels(),rotation = 15)\n",
    "\n",
    "\n",
    "ax2 = fig.add_subplot(1,2,2)\n",
    "ax2 = sns.barplot(x='source', y='building_type', data=avg_cnt_build_of_source.sort_values('building_type', ascending=False))\n",
    "for p in ax2.patches:\n",
    "    ax2.annotate(format(p.get_height(), '.1f'), \n",
    "                   (p.get_x() + p.get_width() / 2., p.get_height()), \n",
    "                   ha = 'center', va = 'center', \n",
    "                   size=15,\n",
    "                   xytext = (0, -12), \n",
    "                   textcoords = 'offset points')\n",
    "ax2.set_title('Количество построек по источникам перехода', fontsize = 15)\n",
    "ax2.set_ylabel('Количество построек', fontsize = 13)\n",
    "ax2.set_xlabel('Источники перехода', fontsize = 13)\n",
    "ax2.set_xticklabels(ax2.get_xticklabels(),rotation = 15)\n",
    "# plt.xticks(rotation=45, ha='right')\n",
    "\n",
    "sns.despine()\n",
    "plt.tight_layout()\n",
    "plt.show()\n"
   ]
  },
  {
   "cell_type": "markdown",
   "metadata": {},
   "source": [
    "По графику выше мы уже заметили разницу в количестве событий по источникам перехода и вот почему:\n",
    "- Количество пользователей установивших приложение через рекламу на Яндекс лидирует с большим отрывом\n",
    "- Инстаграм на втором месте после Яндекса, но так или иначе с большой разницей\n",
    "- Фэйсбук и Ютуб привлекли примерно одинаковое количество пользователей\n",
    "- По количеству построек ситуация приблизительно такая же"
   ]
  },
  {
   "cell_type": "markdown",
   "metadata": {},
   "source": [
    "### Построим график средних значений количества построек на одного уникального пользователя в разрезе по каналам привлечения"
   ]
  },
  {
   "cell_type": "code",
   "execution_count": 26,
   "metadata": {},
   "outputs": [
    {
     "data": {
      "image/png": "[encoded data removed]",
      "text/plain": [
       "<Figure size 504x360 with 1 Axes>"
      ]
     },
     "metadata": {
      "needs_background": "light"
     },
     "output_type": "display_data"
    }
   ],
   "source": [
    "fig = plt.figure(figsize=(7,5))\n",
    "ax = fig.add_subplot()\n",
    "ax = sns.barplot(x='source', y='avg_cnt_build_of_source', data=avg_cnt_build_of_source)\n",
    "for p in ax.patches:\n",
    "    ax.annotate(format(p.get_height(), '.1f'), \n",
    "                   (p.get_x() + p.get_width() / 2., p.get_height()), \n",
    "                   ha = 'center', va = 'center', \n",
    "                   size=15,\n",
    "                   xytext = (0, -12), \n",
    "                   textcoords = 'offset points')\n",
    "ax.set_title('Среднее количество построек на одного уникального юзера по источникам перехода', fontsize = 15)\n",
    "ax.set_ylabel('Количество построек', fontsize = 13)\n",
    "ax.set_xlabel('Источники перехода', fontsize = 13)\n",
    "\n",
    "\n",
    "plt.tight_layout()\n",
    "sns.despine()\n",
    "plt.show()\n",
    "\n"
   ]
  },
  {
   "cell_type": "markdown",
   "metadata": {},
   "source": [
    "Отношение количества привлеченных пользователей и количества построенных ими зданий практически одинаково для всех рекламных каналов, можно сказать что каждый рекламный канал привлекает пользователей, поведение которых одинаково. "
   ]
  },
  {
   "cell_type": "code",
   "execution_count": 27,
   "metadata": {},
   "outputs": [
    {
     "data": {
      "text/html": [
       "<div>\n",
       "<style scoped>\n",
       "    .dataframe tbody tr th:only-of-type {\n",
       "        vertical-align: middle;\n",
       "    }\n",
       "\n",
       "    .dataframe tbody tr th {\n",
       "        vertical-align: top;\n",
       "    }\n",
       "\n",
       "    .dataframe thead th {\n",
       "        text-align: right;\n",
       "    }\n",
       "</style>\n",
       "<table border=\"1\" class=\"dataframe\">\n",
       "  <thead>\n",
       "    <tr style=\"text-align: right;\">\n",
       "      <th></th>\n",
       "      <th>event_datetime</th>\n",
       "      <th>event</th>\n",
       "      <th>building_type</th>\n",
       "      <th>user_id</th>\n",
       "      <th>project_type</th>\n",
       "      <th>date</th>\n",
       "      <th>type_of_completion</th>\n",
       "      <th>first_event_date</th>\n",
       "      <th>source</th>\n",
       "      <th>day_of_activity</th>\n",
       "    </tr>\n",
       "  </thead>\n",
       "  <tbody>\n",
       "    <tr>\n",
       "      <th>0</th>\n",
       "      <td>2020-05-04 00:00:01</td>\n",
       "      <td>building</td>\n",
       "      <td>assembly_shop</td>\n",
       "      <td>55e92310-cb8e-4754-b622-597e124b03de</td>\n",
       "      <td>NaN</td>\n",
       "      <td>2020-05-04</td>\n",
       "      <td>not_completed</td>\n",
       "      <td>2020-05-04</td>\n",
       "      <td>youtube_channel_reklama</td>\n",
       "      <td>0</td>\n",
       "    </tr>\n",
       "    <tr>\n",
       "      <th>1</th>\n",
       "      <td>2020-05-04 00:00:03</td>\n",
       "      <td>building</td>\n",
       "      <td>assembly_shop</td>\n",
       "      <td>c07b1c10-f477-44dc-81dc-ec82254b1347</td>\n",
       "      <td>NaN</td>\n",
       "      <td>2020-05-04</td>\n",
       "      <td>not_completed</td>\n",
       "      <td>2020-05-04</td>\n",
       "      <td>facebook_ads</td>\n",
       "      <td>0</td>\n",
       "    </tr>\n",
       "    <tr>\n",
       "      <th>2</th>\n",
       "      <td>2020-05-04 00:00:16</td>\n",
       "      <td>building</td>\n",
       "      <td>assembly_shop</td>\n",
       "      <td>6edd42cc-e753-4ff6-a947-2107cd560710</td>\n",
       "      <td>NaN</td>\n",
       "      <td>2020-05-04</td>\n",
       "      <td>not_completed</td>\n",
       "      <td>2020-05-04</td>\n",
       "      <td>instagram_new_adverts</td>\n",
       "      <td>0</td>\n",
       "    </tr>\n",
       "    <tr>\n",
       "      <th>3</th>\n",
       "      <td>2020-05-04 00:00:16</td>\n",
       "      <td>building</td>\n",
       "      <td>assembly_shop</td>\n",
       "      <td>92c69003-d60a-444a-827f-8cc51bf6bf4c</td>\n",
       "      <td>NaN</td>\n",
       "      <td>2020-05-04</td>\n",
       "      <td>not_completed</td>\n",
       "      <td>2020-05-04</td>\n",
       "      <td>facebook_ads</td>\n",
       "      <td>0</td>\n",
       "    </tr>\n",
       "    <tr>\n",
       "      <th>4</th>\n",
       "      <td>2020-05-04 00:00:35</td>\n",
       "      <td>building</td>\n",
       "      <td>assembly_shop</td>\n",
       "      <td>cdc6bb92-0ccb-4490-9866-ef142f09139d</td>\n",
       "      <td>NaN</td>\n",
       "      <td>2020-05-04</td>\n",
       "      <td>not_completed</td>\n",
       "      <td>2020-05-04</td>\n",
       "      <td>yandex_direct</td>\n",
       "      <td>0</td>\n",
       "    </tr>\n",
       "  </tbody>\n",
       "</table>\n",
       "</div>"
      ],
      "text/plain": [
       "       event_datetime     event  building_type  \\\n",
       "0 2020-05-04 00:00:01  building  assembly_shop   \n",
       "1 2020-05-04 00:00:03  building  assembly_shop   \n",
       "2 2020-05-04 00:00:16  building  assembly_shop   \n",
       "3 2020-05-04 00:00:16  building  assembly_shop   \n",
       "4 2020-05-04 00:00:35  building  assembly_shop   \n",
       "\n",
       "                                user_id project_type        date  \\\n",
       "0  55e92310-cb8e-4754-b622-597e124b03de          NaN  2020-05-04   \n",
       "1  c07b1c10-f477-44dc-81dc-ec82254b1347          NaN  2020-05-04   \n",
       "2  6edd42cc-e753-4ff6-a947-2107cd560710          NaN  2020-05-04   \n",
       "3  92c69003-d60a-444a-827f-8cc51bf6bf4c          NaN  2020-05-04   \n",
       "4  cdc6bb92-0ccb-4490-9866-ef142f09139d          NaN  2020-05-04   \n",
       "\n",
       "  type_of_completion first_event_date                   source  \\\n",
       "0      not_completed       2020-05-04  youtube_channel_reklama   \n",
       "1      not_completed       2020-05-04             facebook_ads   \n",
       "2      not_completed       2020-05-04    instagram_new_adverts   \n",
       "3      not_completed       2020-05-04             facebook_ads   \n",
       "4      not_completed       2020-05-04            yandex_direct   \n",
       "\n",
       "   day_of_activity  \n",
       "0                0  \n",
       "1                0  \n",
       "2                0  \n",
       "3                0  \n",
       "4                0  "
      ]
     },
     "execution_count": 27,
     "metadata": {},
     "output_type": "execute_result"
    }
   ],
   "source": [
    "game_actions.head(5)"
   ]
  },
  {
   "cell_type": "markdown",
   "metadata": {},
   "source": [
    "### Добавим в таблицу avg_cnt_build_of_source столбец с рекламными затратами по источникам"
   ]
  },
  {
   "cell_type": "code",
   "execution_count": 28,
   "metadata": {},
   "outputs": [],
   "source": [
    "ad_costs ['day'] = ad_costs['day'] + pd.DateOffset(days=1)"
   ]
  },
  {
   "cell_type": "markdown",
   "metadata": {},
   "source": [
    "Так как было сказано что оплата рекламы производится по предоплате на день вперед, мы сместили дату в датасете ad_costs на один деь вперед"
   ]
  },
  {
   "cell_type": "code",
   "execution_count": 29,
   "metadata": {},
   "outputs": [],
   "source": [
    "avg_cnt_build_of_source = avg_cnt_build_of_source.merge(ad_costs.groupby('source'\n",
    "                           )['cost'].sum().round(2).reset_index(), on='source')"
   ]
  },
  {
   "cell_type": "code",
   "execution_count": 30,
   "metadata": {},
   "outputs": [
    {
     "data": {
      "text/html": [
       "<div>\n",
       "<style scoped>\n",
       "    .dataframe tbody tr th:only-of-type {\n",
       "        vertical-align: middle;\n",
       "    }\n",
       "\n",
       "    .dataframe tbody tr th {\n",
       "        vertical-align: top;\n",
       "    }\n",
       "\n",
       "    .dataframe thead th {\n",
       "        text-align: right;\n",
       "    }\n",
       "</style>\n",
       "<table border=\"1\" class=\"dataframe\">\n",
       "  <thead>\n",
       "    <tr style=\"text-align: right;\">\n",
       "      <th></th>\n",
       "      <th>source</th>\n",
       "      <th>user_id</th>\n",
       "      <th>building_type</th>\n",
       "      <th>avg_cnt_build_of_source</th>\n",
       "      <th>cost</th>\n",
       "    </tr>\n",
       "  </thead>\n",
       "  <tbody>\n",
       "    <tr>\n",
       "      <th>0</th>\n",
       "      <td>facebook_ads</td>\n",
       "      <td>2617</td>\n",
       "      <td>24873</td>\n",
       "      <td>9.50</td>\n",
       "      <td>2140.90</td>\n",
       "    </tr>\n",
       "    <tr>\n",
       "      <th>1</th>\n",
       "      <td>instagram_new_adverts</td>\n",
       "      <td>3208</td>\n",
       "      <td>30203</td>\n",
       "      <td>9.41</td>\n",
       "      <td>2161.44</td>\n",
       "    </tr>\n",
       "    <tr>\n",
       "      <th>2</th>\n",
       "      <td>yandex_direct</td>\n",
       "      <td>4642</td>\n",
       "      <td>43103</td>\n",
       "      <td>9.29</td>\n",
       "      <td>2233.11</td>\n",
       "    </tr>\n",
       "    <tr>\n",
       "      <th>3</th>\n",
       "      <td>youtube_channel_reklama</td>\n",
       "      <td>2588</td>\n",
       "      <td>23868</td>\n",
       "      <td>9.22</td>\n",
       "      <td>1068.12</td>\n",
       "    </tr>\n",
       "  </tbody>\n",
       "</table>\n",
       "</div>"
      ],
      "text/plain": [
       "                    source  user_id  building_type  avg_cnt_build_of_source  \\\n",
       "0             facebook_ads     2617          24873                     9.50   \n",
       "1    instagram_new_adverts     3208          30203                     9.41   \n",
       "2            yandex_direct     4642          43103                     9.29   \n",
       "3  youtube_channel_reklama     2588          23868                     9.22   \n",
       "\n",
       "      cost  \n",
       "0  2140.90  \n",
       "1  2161.44  \n",
       "2  2233.11  \n",
       "3  1068.12  "
      ]
     },
     "execution_count": 30,
     "metadata": {},
     "output_type": "execute_result"
    }
   ],
   "source": [
    "avg_cnt_build_of_source"
   ]
  },
  {
   "cell_type": "markdown",
   "metadata": {},
   "source": [
    "Стобец с рекламными затратами добавлен"
   ]
  },
  {
   "cell_type": "markdown",
   "metadata": {},
   "source": [
    "### Рассчитаем затраты привлечения одного уникального пользователя и построим график "
   ]
  },
  {
   "cell_type": "code",
   "execution_count": 31,
   "metadata": {},
   "outputs": [],
   "source": [
    "avg_cnt_build_of_source['avg_ad_cost_user'] = avg_cnt_build_of_source['cost'\n",
    "                                                  ]/avg_cnt_build_of_source['user_id']"
   ]
  },
  {
   "cell_type": "code",
   "execution_count": 32,
   "metadata": {},
   "outputs": [
    {
     "data": {
      "text/html": [
       "<div>\n",
       "<style scoped>\n",
       "    .dataframe tbody tr th:only-of-type {\n",
       "        vertical-align: middle;\n",
       "    }\n",
       "\n",
       "    .dataframe tbody tr th {\n",
       "        vertical-align: top;\n",
       "    }\n",
       "\n",
       "    .dataframe thead th {\n",
       "        text-align: right;\n",
       "    }\n",
       "</style>\n",
       "<table border=\"1\" class=\"dataframe\">\n",
       "  <thead>\n",
       "    <tr style=\"text-align: right;\">\n",
       "      <th></th>\n",
       "      <th>source</th>\n",
       "      <th>user_id</th>\n",
       "      <th>building_type</th>\n",
       "      <th>avg_cnt_build_of_source</th>\n",
       "      <th>cost</th>\n",
       "      <th>avg_ad_cost_user</th>\n",
       "    </tr>\n",
       "  </thead>\n",
       "  <tbody>\n",
       "    <tr>\n",
       "      <th>0</th>\n",
       "      <td>facebook_ads</td>\n",
       "      <td>2617</td>\n",
       "      <td>24873</td>\n",
       "      <td>9.50</td>\n",
       "      <td>2140.90</td>\n",
       "      <td>0.818074</td>\n",
       "    </tr>\n",
       "    <tr>\n",
       "      <th>1</th>\n",
       "      <td>instagram_new_adverts</td>\n",
       "      <td>3208</td>\n",
       "      <td>30203</td>\n",
       "      <td>9.41</td>\n",
       "      <td>2161.44</td>\n",
       "      <td>0.673766</td>\n",
       "    </tr>\n",
       "    <tr>\n",
       "      <th>2</th>\n",
       "      <td>yandex_direct</td>\n",
       "      <td>4642</td>\n",
       "      <td>43103</td>\n",
       "      <td>9.29</td>\n",
       "      <td>2233.11</td>\n",
       "      <td>0.481066</td>\n",
       "    </tr>\n",
       "    <tr>\n",
       "      <th>3</th>\n",
       "      <td>youtube_channel_reklama</td>\n",
       "      <td>2588</td>\n",
       "      <td>23868</td>\n",
       "      <td>9.22</td>\n",
       "      <td>1068.12</td>\n",
       "      <td>0.412720</td>\n",
       "    </tr>\n",
       "  </tbody>\n",
       "</table>\n",
       "</div>"
      ],
      "text/plain": [
       "                    source  user_id  building_type  avg_cnt_build_of_source  \\\n",
       "0             facebook_ads     2617          24873                     9.50   \n",
       "1    instagram_new_adverts     3208          30203                     9.41   \n",
       "2            yandex_direct     4642          43103                     9.29   \n",
       "3  youtube_channel_reklama     2588          23868                     9.22   \n",
       "\n",
       "      cost  avg_ad_cost_user  \n",
       "0  2140.90          0.818074  \n",
       "1  2161.44          0.673766  \n",
       "2  2233.11          0.481066  \n",
       "3  1068.12          0.412720  "
      ]
     },
     "execution_count": 32,
     "metadata": {},
     "output_type": "execute_result"
    }
   ],
   "source": [
    "avg_cnt_build_of_source"
   ]
  },
  {
   "cell_type": "code",
   "execution_count": 33,
   "metadata": {},
   "outputs": [
    {
     "data": {
      "image/png": "[encoded data removed]",
      "text/plain": [
       "<Figure size 864x360 with 3 Axes>"
      ]
     },
     "metadata": {
      "needs_background": "light"
     },
     "output_type": "display_data"
    }
   ],
   "source": [
    "fig, (ax1, ax2, ax3) = plt.subplots(ncols=3, figsize=(12,5))\n",
    "\n",
    "ax1 = avg_cnt_build_of_source.cost.plot.barh(ax=ax1)\n",
    "ax2 = avg_cnt_build_of_source.user_id.plot.barh(ax=ax2)\n",
    "ax3 = avg_cnt_build_of_source.avg_ad_cost_user.plot.barh(ax=ax3, color='orange')\n",
    "ax1.set_title('Рекламные затраты,\\n у.е.')\n",
    "ax2.set_title('Привлеченные пользователи, \\n шт.')\n",
    "ax3.set_title('Затраты на привлечение,\\n у.е./шт.')\n",
    "\n",
    "\n",
    "ax1.set(\n",
    "    ylabel='Источники трафика',\n",
    "    xlabel=''\n",
    ")\n",
    "\n",
    "ax1.set_yticklabels([y for y in avg_cnt_build_of_source.source])\n",
    "ax2.set_yticks([])\n",
    "ax3.set_yticks([])\n",
    "\n",
    "for i, value in enumerate(avg_cnt_build_of_source.iterrows()):\n",
    "    ax1.text(\n",
    "            value[1]['cost']/2, i,\n",
    "            '{:.0f}\\n({:.0%})'.format(value[1]['cost'] , value[1]['cost']/avg_cnt_build_of_source['cost'].sum()),\n",
    "            ha='center', va='center', color='white'\n",
    "\n",
    "        )\n",
    "    ax2.text(\n",
    "            value[1]['user_id']/2, i,\n",
    "        '{:.0f}\\n({:.0%})'.format(value[1]['user_id'] , value[1]['user_id']/avg_cnt_build_of_source['user_id'].sum()),\n",
    "            ha='center', va='center', color='white'\n",
    "\n",
    "        )\n",
    "    \n",
    "    ax3.text(\n",
    "            value[1]['avg_ad_cost_user']/2, i,\n",
    "            '{:.3f}'.format(value[1]['avg_ad_cost_user']),\n",
    "            ha='center', va='center', color='black'\n",
    "\n",
    "        )\n",
    "sns.despine()\n",
    "plt.tight_layout()\n",
    "plt.show()"
   ]
  },
  {
   "cell_type": "markdown",
   "metadata": {},
   "source": [
    "Не смотря на то что игра привлекла меньше всего пользователей с Ютуба, затраты на привлечение именно с этого канала оказались сымыми низкими, для сравнения затраты на привлечене с Фэйсбук практически в два раза выше. Затраты на рекламу в Яндекс так же существенно ниже чем у Фейсбука и Инстраграм. Далее рассмотрим много это или мало."
   ]
  },
  {
   "cell_type": "markdown",
   "metadata": {},
   "source": [
    "### Напишем функцию и добавим в датасет game_actions стоимость показа рекламы на экране с постройками зданий"
   ]
  },
  {
   "cell_type": "code",
   "execution_count": 34,
   "metadata": {},
   "outputs": [],
   "source": [
    "def revenue (row):\n",
    "    event = row['event']\n",
    "    \n",
    "    if event == 'building':\n",
    "        return 0.07\n",
    "    else:\n",
    "        return 0"
   ]
  },
  {
   "cell_type": "code",
   "execution_count": 35,
   "metadata": {},
   "outputs": [],
   "source": [
    "game_actions['revenue'] = game_actions.apply(revenue, axis=1)"
   ]
  },
  {
   "cell_type": "markdown",
   "metadata": {},
   "source": [
    "### Создадим сводную таблицу по уникальным пользователям, посчитаем выручку, CAC и ROI"
   ]
  },
  {
   "cell_type": "code",
   "execution_count": 36,
   "metadata": {},
   "outputs": [
    {
     "data": {
      "text/html": [
       "<div>\n",
       "<style scoped>\n",
       "    .dataframe tbody tr th:only-of-type {\n",
       "        vertical-align: middle;\n",
       "    }\n",
       "\n",
       "    .dataframe tbody tr th {\n",
       "        vertical-align: top;\n",
       "    }\n",
       "\n",
       "    .dataframe thead th {\n",
       "        text-align: right;\n",
       "    }\n",
       "</style>\n",
       "<table border=\"1\" class=\"dataframe\">\n",
       "  <thead>\n",
       "    <tr style=\"text-align: right;\">\n",
       "      <th></th>\n",
       "      <th>source</th>\n",
       "      <th>first_event_date</th>\n",
       "      <th>user_id</th>\n",
       "      <th>building_type</th>\n",
       "      <th>revenue</th>\n",
       "      <th>cost</th>\n",
       "      <th>acquisition_cost</th>\n",
       "      <th>roi</th>\n",
       "    </tr>\n",
       "  </thead>\n",
       "  <tbody>\n",
       "    <tr>\n",
       "      <th>0</th>\n",
       "      <td>facebook_ads</td>\n",
       "      <td>2020-05-04</td>\n",
       "      <td>1162</td>\n",
       "      <td>12219</td>\n",
       "      <td>855.33</td>\n",
       "      <td>935.882786</td>\n",
       "      <td>0.81</td>\n",
       "      <td>0.91</td>\n",
       "    </tr>\n",
       "    <tr>\n",
       "      <th>1</th>\n",
       "      <td>facebook_ads</td>\n",
       "      <td>2020-05-05</td>\n",
       "      <td>674</td>\n",
       "      <td>6651</td>\n",
       "      <td>465.57</td>\n",
       "      <td>548.354480</td>\n",
       "      <td>0.81</td>\n",
       "      <td>0.85</td>\n",
       "    </tr>\n",
       "    <tr>\n",
       "      <th>2</th>\n",
       "      <td>facebook_ads</td>\n",
       "      <td>2020-05-06</td>\n",
       "      <td>330</td>\n",
       "      <td>2892</td>\n",
       "      <td>202.44</td>\n",
       "      <td>260.185754</td>\n",
       "      <td>0.79</td>\n",
       "      <td>0.78</td>\n",
       "    </tr>\n",
       "    <tr>\n",
       "      <th>3</th>\n",
       "      <td>facebook_ads</td>\n",
       "      <td>2020-05-07</td>\n",
       "      <td>205</td>\n",
       "      <td>1579</td>\n",
       "      <td>110.53</td>\n",
       "      <td>177.982200</td>\n",
       "      <td>0.87</td>\n",
       "      <td>0.62</td>\n",
       "    </tr>\n",
       "    <tr>\n",
       "      <th>4</th>\n",
       "      <td>facebook_ads</td>\n",
       "      <td>2020-05-08</td>\n",
       "      <td>127</td>\n",
       "      <td>825</td>\n",
       "      <td>57.75</td>\n",
       "      <td>111.766796</td>\n",
       "      <td>0.88</td>\n",
       "      <td>0.52</td>\n",
       "    </tr>\n",
       "  </tbody>\n",
       "</table>\n",
       "</div>"
      ],
      "text/plain": [
       "         source first_event_date  user_id  building_type  revenue        cost  \\\n",
       "0  facebook_ads       2020-05-04     1162          12219   855.33  935.882786   \n",
       "1  facebook_ads       2020-05-05      674           6651   465.57  548.354480   \n",
       "2  facebook_ads       2020-05-06      330           2892   202.44  260.185754   \n",
       "3  facebook_ads       2020-05-07      205           1579   110.53  177.982200   \n",
       "4  facebook_ads       2020-05-08      127            825    57.75  111.766796   \n",
       "\n",
       "   acquisition_cost   roi  \n",
       "0              0.81  0.91  \n",
       "1              0.81  0.85  \n",
       "2              0.79  0.78  \n",
       "3              0.87  0.62  \n",
       "4              0.88  0.52  "
      ]
     },
     "execution_count": 36,
     "metadata": {},
     "output_type": "execute_result"
    }
   ],
   "source": [
    "uniq_user_revenue = game_actions.groupby(['source','first_event_date']\n",
    "                                        ).agg({'user_id':'nunique', 'building_type':'count', 'revenue':'sum', }).reset_index()\n",
    "uniq_user_revenue['cost'] = ad_costs['cost']\n",
    "uniq_user_revenue['acquisition_cost'] = round(uniq_user_revenue['cost'] / uniq_user_revenue['user_id'], 2)\n",
    "uniq_user_revenue['roi'] = round(uniq_user_revenue['revenue'] / uniq_user_revenue['cost'], 2)\n",
    "uniq_user_revenue.head(5)"
   ]
  },
  {
   "cell_type": "markdown",
   "metadata": {},
   "source": [
    "### Визуализируем CAC по датам привлечения и рекламным источникам в динамике"
   ]
  },
  {
   "cell_type": "code",
   "execution_count": 37,
   "metadata": {},
   "outputs": [
    {
     "data": {
      "image/png": "[encoded data removed]",
      "text/plain": [
       "<Figure size 1080x360 with 1 Axes>"
      ]
     },
     "metadata": {
      "needs_background": "light"
     },
     "output_type": "display_data"
    }
   ],
   "source": [
    "uniq_user_revenue.pivot_table(\n",
    "    index='first_event_date', columns='source', values='acquisition_cost', aggfunc='mean'\n",
    ").plot(grid=True, figsize=(15, 5))\n",
    "plt.ylabel('CAC, у.е')\n",
    "plt.xlabel('Дата привлечения')\n",
    "plt.legend(loc='upper left')\n",
    "plt.axhline(y=uniq_user_revenue['acquisition_cost'].mean(), color='black', linestyle='--')\n",
    "plt.title('Динамика САС по каналам привлечения')\n",
    "plt.show()"
   ]
  },
  {
   "cell_type": "markdown",
   "metadata": {},
   "source": [
    "- В качестве сигнальной линиии мы отобразили средний CAC по всем источникам\n",
    "- САС по всем источникам имеет тенденцию к увеличению\n",
    "- По Фэйсбук видимо мы имее какой то выброс в самый последний день\n",
    "- Яндекс и Ютуб показывают САС ниже средней линии по всем источникам\n",
    "- Фэйсбук и Инстаграм находятся выше линии"
   ]
  },
  {
   "cell_type": "markdown",
   "metadata": {},
   "source": [
    "### Визуализируем ROI по датам привлечения и рекламным источникам в динамике"
   ]
  },
  {
   "cell_type": "code",
   "execution_count": 38,
   "metadata": {},
   "outputs": [
    {
     "data": {
      "image/png": "[encoded data removed]",
      "text/plain": [
       "<Figure size 720x360 with 1 Axes>"
      ]
     },
     "metadata": {
      "needs_background": "light"
     },
     "output_type": "display_data"
    }
   ],
   "source": [
    "uniq_user_revenue.pivot_table(\n",
    "    index='first_event_date', columns='source', values='roi', aggfunc='mean'\n",
    ").plot(grid=True, figsize=(10, 5))\n",
    "\n",
    "plt.title('ROI с разбивкой по каналам привлечения')\n",
    "plt.ylabel('ROI')\n",
    "plt.xlabel('Дата привлечения')\n",
    "plt.axhline(y=1, color='red', linestyle='--', label='Уровень окупаемости')\n",
    "plt.legend()\n",
    "plt.show()"
   ]
  },
  {
   "cell_type": "markdown",
   "metadata": {},
   "source": [
    "- Практически с первого дня рекламной компании каналы Фэйсбук и Инстаграм оказались ниже линии окупаемости, данные рекламные источники убыточны уже с первых дней\n",
    "- Яндекс и Ютуб прибыльны до 2020-05-08, далее также спустились за линию окупаемости"
   ]
  },
  {
   "cell_type": "code",
   "execution_count": 39,
   "metadata": {},
   "outputs": [
    {
     "data": {
      "image/png": "[encoded data removed]",
      "text/plain": [
       "<Figure size 720x360 with 1 Axes>"
      ]
     },
     "metadata": {
      "needs_background": "light"
     },
     "output_type": "display_data"
    }
   ],
   "source": [
    "fig = plt.figure(figsize=(10,5))\n",
    "ax = fig.add_subplot()\n",
    "ax = sns.barplot(x='source', y='roi', data=uniq_user_revenue, ci=None)\n",
    "for p in ax.patches:\n",
    "    ax.annotate(format(p.get_height(), '.1f'), \n",
    "                   (p.get_x() + p.get_width() / 2., p.get_height()), \n",
    "                   ha = 'center', va = 'center', \n",
    "                   size=15,\n",
    "                   xytext = (0, -12), \n",
    "                   textcoords = 'offset points')\n",
    "ax.set_title('Среднее значение ROI по каналам привлечения', fontsize = 15)\n",
    "ax.set_ylabel('ROI', fontsize = 13)\n",
    "ax.set_xlabel('Источники перехода', fontsize = 13)\n",
    "\n",
    "\n",
    "plt.tight_layout()\n",
    "sns.despine()\n",
    "plt.show()"
   ]
  },
  {
   "cell_type": "markdown",
   "metadata": {},
   "source": [
    "- На рассматриваемый период рекламной кампании Фэйсбук и Инстраграм убыточны\n",
    "- Яндекс и Ютуб прибыльны\n",
    "- Ютуб показывает самую лучшу картину"
   ]
  },
  {
   "cell_type": "markdown",
   "metadata": {},
   "source": [
    "### Рассмотрим сколько игроки тратят времени на реализацию проекта и победу над первым игроком в разрезе по каналам привлечения"
   ]
  },
  {
   "cell_type": "code",
   "execution_count": 40,
   "metadata": {},
   "outputs": [
    {
     "data": {
      "text/html": [
       "<div>\n",
       "<style scoped>\n",
       "    .dataframe tbody tr th:only-of-type {\n",
       "        vertical-align: middle;\n",
       "    }\n",
       "\n",
       "    .dataframe tbody tr th {\n",
       "        vertical-align: top;\n",
       "    }\n",
       "\n",
       "    .dataframe thead th {\n",
       "        text-align: right;\n",
       "    }\n",
       "</style>\n",
       "<table border=\"1\" class=\"dataframe\">\n",
       "  <thead>\n",
       "    <tr style=\"text-align: right;\">\n",
       "      <th></th>\n",
       "      <th>source</th>\n",
       "      <th>user_id</th>\n",
       "      <th>type_of_completion</th>\n",
       "      <th>day_of_activity</th>\n",
       "    </tr>\n",
       "  </thead>\n",
       "  <tbody>\n",
       "    <tr>\n",
       "      <th>0</th>\n",
       "      <td>yandex_direct</td>\n",
       "      <td>9e57e5bb-49f4-4efb-991c-747d7a88e446</td>\n",
       "      <td>project</td>\n",
       "      <td>6</td>\n",
       "    </tr>\n",
       "    <tr>\n",
       "      <th>1</th>\n",
       "      <td>youtube_channel_reklama</td>\n",
       "      <td>e3c66498-9d45-4000-9392-f81e6796e7da</td>\n",
       "      <td>project</td>\n",
       "      <td>6</td>\n",
       "    </tr>\n",
       "    <tr>\n",
       "      <th>2</th>\n",
       "      <td>yandex_direct</td>\n",
       "      <td>a4491c86-c498-4f74-a56e-65c136d0e9a1</td>\n",
       "      <td>project</td>\n",
       "      <td>6</td>\n",
       "    </tr>\n",
       "    <tr>\n",
       "      <th>3</th>\n",
       "      <td>instagram_new_adverts</td>\n",
       "      <td>9f63fad6-17b0-493f-938b-8d19e6d6c38c</td>\n",
       "      <td>project</td>\n",
       "      <td>7</td>\n",
       "    </tr>\n",
       "    <tr>\n",
       "      <th>4</th>\n",
       "      <td>yandex_direct</td>\n",
       "      <td>ee21905b-ab5a-44c6-9196-e5c9f8fada19</td>\n",
       "      <td>project</td>\n",
       "      <td>7</td>\n",
       "    </tr>\n",
       "  </tbody>\n",
       "</table>\n",
       "</div>"
      ],
      "text/plain": [
       "                    source                               user_id  \\\n",
       "0            yandex_direct  9e57e5bb-49f4-4efb-991c-747d7a88e446   \n",
       "1  youtube_channel_reklama  e3c66498-9d45-4000-9392-f81e6796e7da   \n",
       "2            yandex_direct  a4491c86-c498-4f74-a56e-65c136d0e9a1   \n",
       "3    instagram_new_adverts  9f63fad6-17b0-493f-938b-8d19e6d6c38c   \n",
       "4            yandex_direct  ee21905b-ab5a-44c6-9196-e5c9f8fada19   \n",
       "\n",
       "  type_of_completion  day_of_activity  \n",
       "0            project                6  \n",
       "1            project                6  \n",
       "2            project                6  \n",
       "3            project                7  \n",
       "4            project                7  "
      ]
     },
     "execution_count": 40,
     "metadata": {},
     "output_type": "execute_result"
    }
   ],
   "source": [
    "users_built_project = game_actions.query('type_of_completion == \"project\"')[['source','user_id', 'type_of_completion','day_of_activity']].copy()\n",
    "\n",
    "users_won_first_enemy = game_actions.query('type_of_completion == \"victory_over_the_player\"').groupby(\n",
    "    ['source','user_id','type_of_completion','day_of_activity'])['date'].last().reset_index().copy()\n",
    "users_won_first_enemy.drop(columns=['date'], inplace=True)\n",
    "\n",
    "time_to_finish_stage_1 = pd.concat(\n",
    "    [users_built_project, users_won_first_enemy],\n",
    "    ignore_index=True).reset_index(drop=True)\n",
    "\n",
    "time_to_finish_stage_1.head(5)"
   ]
  },
  {
   "cell_type": "code",
   "execution_count": 41,
   "metadata": {},
   "outputs": [
    {
     "data": {
      "text/plain": [
       "victory_over_the_player    3783\n",
       "project                    1737\n",
       "Name: type_of_completion, dtype: int64"
      ]
     },
     "execution_count": 41,
     "metadata": {},
     "output_type": "execute_result"
    }
   ],
   "source": [
    "time_to_finish_stage_1.type_of_completion.value_counts()"
   ]
  },
  {
   "cell_type": "code",
   "execution_count": 42,
   "metadata": {},
   "outputs": [
    {
     "data": {
      "image/png": "[encoded data removed]",
      "text/plain": [
       "<Figure size 864x504 with 1 Axes>"
      ]
     },
     "metadata": {
      "needs_background": "light"
     },
     "output_type": "display_data"
    }
   ],
   "source": [
    "time_to_finish_stage_1\n",
    "plt.figure(figsize=(12,7))\n",
    "sns.boxplot(\n",
    "    y='day_of_activity',\n",
    "    x='type_of_completion', \n",
    "    data=time_to_finish_stage_1,\n",
    "    hue='source'\n",
    ")\n",
    "plt.title('Распределение времени для завершение первого уровня')\n",
    "plt.ylabel('Дни')\n",
    "plt.legend(loc='upper right')\n",
    "plt.xlabel('Тип завершения уровня')\n",
    "plt.gca().set_xticklabels(['Реализация проекта', 'Победа над игроком'])\n",
    "sns.despine()\n",
    "plt.show()"
   ]
  },
  {
   "cell_type": "markdown",
   "metadata": {},
   "source": [
    "- Среднее время прохождения игры при победе над игроком на 2 дня меньше чем при реализации проекта\n",
    "- По каналам особой разницы в каждом из типа реализации нет\n"
   ]
  },
  {
   "cell_type": "code",
   "execution_count": 43,
   "metadata": {
    "scrolled": false
   },
   "outputs": [
    {
     "name": "stdout",
     "output_type": "stream",
     "text": [
      "Время для завершения первого уровня: project\n"
     ]
    },
    {
     "data": {
      "text/html": [
       "<div>\n",
       "<style scoped>\n",
       "    .dataframe tbody tr th:only-of-type {\n",
       "        vertical-align: middle;\n",
       "    }\n",
       "\n",
       "    .dataframe tbody tr th {\n",
       "        vertical-align: top;\n",
       "    }\n",
       "\n",
       "    .dataframe thead th {\n",
       "        text-align: right;\n",
       "    }\n",
       "</style>\n",
       "<table border=\"1\" class=\"dataframe\">\n",
       "  <thead>\n",
       "    <tr style=\"text-align: right;\">\n",
       "      <th></th>\n",
       "      <th>day_of_activity</th>\n",
       "    </tr>\n",
       "  </thead>\n",
       "  <tbody>\n",
       "    <tr>\n",
       "      <th>count</th>\n",
       "      <td>1737.000000</td>\n",
       "    </tr>\n",
       "    <tr>\n",
       "      <th>mean</th>\n",
       "      <td>12.835348</td>\n",
       "    </tr>\n",
       "    <tr>\n",
       "      <th>std</th>\n",
       "      <td>2.870366</td>\n",
       "    </tr>\n",
       "    <tr>\n",
       "      <th>min</th>\n",
       "      <td>5.000000</td>\n",
       "    </tr>\n",
       "    <tr>\n",
       "      <th>25%</th>\n",
       "      <td>11.000000</td>\n",
       "    </tr>\n",
       "    <tr>\n",
       "      <th>50%</th>\n",
       "      <td>13.000000</td>\n",
       "    </tr>\n",
       "    <tr>\n",
       "      <th>75%</th>\n",
       "      <td>15.000000</td>\n",
       "    </tr>\n",
       "    <tr>\n",
       "      <th>max</th>\n",
       "      <td>20.000000</td>\n",
       "    </tr>\n",
       "  </tbody>\n",
       "</table>\n",
       "</div>"
      ],
      "text/plain": [
       "       day_of_activity\n",
       "count      1737.000000\n",
       "mean         12.835348\n",
       "std           2.870366\n",
       "min           5.000000\n",
       "25%          11.000000\n",
       "50%          13.000000\n",
       "75%          15.000000\n",
       "max          20.000000"
      ]
     },
     "metadata": {},
     "output_type": "display_data"
    },
    {
     "name": "stdout",
     "output_type": "stream",
     "text": [
      "\n",
      "Время для завершения первого уровня: victory_over_the_player\n"
     ]
    },
    {
     "data": {
      "text/html": [
       "<div>\n",
       "<style scoped>\n",
       "    .dataframe tbody tr th:only-of-type {\n",
       "        vertical-align: middle;\n",
       "    }\n",
       "\n",
       "    .dataframe tbody tr th {\n",
       "        vertical-align: top;\n",
       "    }\n",
       "\n",
       "    .dataframe thead th {\n",
       "        text-align: right;\n",
       "    }\n",
       "</style>\n",
       "<table border=\"1\" class=\"dataframe\">\n",
       "  <thead>\n",
       "    <tr style=\"text-align: right;\">\n",
       "      <th></th>\n",
       "      <th>day_of_activity</th>\n",
       "    </tr>\n",
       "  </thead>\n",
       "  <tbody>\n",
       "    <tr>\n",
       "      <th>count</th>\n",
       "      <td>3783.000000</td>\n",
       "    </tr>\n",
       "    <tr>\n",
       "      <th>mean</th>\n",
       "      <td>10.631774</td>\n",
       "    </tr>\n",
       "    <tr>\n",
       "      <th>std</th>\n",
       "      <td>3.587394</td>\n",
       "    </tr>\n",
       "    <tr>\n",
       "      <th>min</th>\n",
       "      <td>0.000000</td>\n",
       "    </tr>\n",
       "    <tr>\n",
       "      <th>25%</th>\n",
       "      <td>8.000000</td>\n",
       "    </tr>\n",
       "    <tr>\n",
       "      <th>50%</th>\n",
       "      <td>11.000000</td>\n",
       "    </tr>\n",
       "    <tr>\n",
       "      <th>75%</th>\n",
       "      <td>13.000000</td>\n",
       "    </tr>\n",
       "    <tr>\n",
       "      <th>max</th>\n",
       "      <td>20.000000</td>\n",
       "    </tr>\n",
       "  </tbody>\n",
       "</table>\n",
       "</div>"
      ],
      "text/plain": [
       "       day_of_activity\n",
       "count      3783.000000\n",
       "mean         10.631774\n",
       "std           3.587394\n",
       "min           0.000000\n",
       "25%           8.000000\n",
       "50%          11.000000\n",
       "75%          13.000000\n",
       "max          20.000000"
      ]
     },
     "metadata": {},
     "output_type": "display_data"
    },
    {
     "name": "stdout",
     "output_type": "stream",
     "text": [
      "\n"
     ]
    }
   ],
   "source": [
    "for feature in time_to_finish_stage_1.type_of_completion.unique():\n",
    "    print(\"Время для завершения первого уровня:\", feature)\n",
    "    display(time_to_finish_stage_1.query('type_of_completion == @feature').describe())\n",
    "    print()"
   ]
  },
  {
   "cell_type": "markdown",
   "metadata": {},
   "source": [
    "- Еще раз подтвердили что есть разница по времени в типе прохлождения игры"
   ]
  },
  {
   "cell_type": "markdown",
   "metadata": {},
   "source": [
    "## Проверка статистических гипотез"
   ]
  },
  {
   "cell_type": "markdown",
   "metadata": {},
   "source": [
    "### Гипотеза № 1"
   ]
  },
  {
   "cell_type": "markdown",
   "metadata": {},
   "source": [
    "- Н0 - время завершения уровня через реализацию проекта равно времени завершения уровня через победу над первым игроком\n",
    "- Н1 - время завершения уровня через реализацию проекта отличается от времени завершения уровня через победу над первым игроком"
   ]
  },
  {
   "cell_type": "code",
   "execution_count": 44,
   "metadata": {},
   "outputs": [
    {
     "name": "stdout",
     "output_type": "stream",
     "text": [
      "Среднее время до завершения уровня 1:\n",
      "  - Победа над врагом, дни: 10.632.\n",
      "  - Реализация проекта, дни: 12.835.\n",
      "\n",
      "p-значение: 0.00\n",
      "Отвергаем нулевую гипотезу. Время завершения первого уровня зависит от способа прохождения.\n"
     ]
    }
   ],
   "source": [
    "alpha = 0.05\n",
    "time_built_project = time_to_finish_stage_1.query('type_of_completion == \"project\"')['day_of_activity']\n",
    "time_won_first_enemy = time_to_finish_stage_1.query('type_of_completion == \"victory_over_the_player\"')['day_of_activity']\n",
    "\n",
    "results = st.ttest_ind(\n",
    "    time_built_project, \n",
    "    time_won_first_enemy)\n",
    "\n",
    "print('Среднее время до завершения уровня 1:')\n",
    "print('  - Победа над врагом, дни: {:.3f}.'.format(time_won_first_enemy.mean()))\n",
    "print('  - Реализация проекта, дни: {:.3f}.'.format(time_built_project.mean()))\n",
    "print()\n",
    "\n",
    "print('p-значение: {:.2f}'.format(results.pvalue))\n",
    "\n",
    "if (results.pvalue < alpha):\n",
    "    print('Отвергаем нулевую гипотезу. Время завершения первого уровня зависит от способа прохождения.')\n",
    "else:\n",
    "    print('Не получилось отвергнуть нулевую гипотезу. \\nВремя завершения первого уровня не зависит от способа прохождения.')"
   ]
  },
  {
   "cell_type": "markdown",
   "metadata": {},
   "source": [
    "### Гипотеза № 2"
   ]
  },
  {
   "cell_type": "markdown",
   "metadata": {},
   "source": [
    "- Н0 - различий в roi между рекламными каналами нет\n",
    "- Н1 - есть различия в roi между рекламными каналами"
   ]
  },
  {
   "cell_type": "markdown",
   "metadata": {},
   "source": [
    "#### Создадим датасет по уникальным пользователям с выручкой и рекламными затратами на их привлечение, а также посчитаем roi"
   ]
  },
  {
   "cell_type": "code",
   "execution_count": 45,
   "metadata": {},
   "outputs": [
    {
     "data": {
      "text/html": [
       "<div>\n",
       "<style scoped>\n",
       "    .dataframe tbody tr th:only-of-type {\n",
       "        vertical-align: middle;\n",
       "    }\n",
       "\n",
       "    .dataframe tbody tr th {\n",
       "        vertical-align: top;\n",
       "    }\n",
       "\n",
       "    .dataframe thead th {\n",
       "        text-align: right;\n",
       "    }\n",
       "</style>\n",
       "<table border=\"1\" class=\"dataframe\">\n",
       "  <thead>\n",
       "    <tr style=\"text-align: right;\">\n",
       "      <th></th>\n",
       "      <th>first_event_date</th>\n",
       "      <th>source</th>\n",
       "      <th>revenue</th>\n",
       "      <th>acquisition_cost</th>\n",
       "      <th>roi</th>\n",
       "    </tr>\n",
       "  </thead>\n",
       "  <tbody>\n",
       "    <tr>\n",
       "      <th>0</th>\n",
       "      <td>2020-05-06</td>\n",
       "      <td>facebook_ads</td>\n",
       "      <td>0.91</td>\n",
       "      <td>0.79</td>\n",
       "      <td>1.151899</td>\n",
       "    </tr>\n",
       "    <tr>\n",
       "      <th>1</th>\n",
       "      <td>2020-05-06</td>\n",
       "      <td>facebook_ads</td>\n",
       "      <td>0.28</td>\n",
       "      <td>0.79</td>\n",
       "      <td>0.354430</td>\n",
       "    </tr>\n",
       "    <tr>\n",
       "      <th>2</th>\n",
       "      <td>2020-05-06</td>\n",
       "      <td>facebook_ads</td>\n",
       "      <td>0.84</td>\n",
       "      <td>0.79</td>\n",
       "      <td>1.063291</td>\n",
       "    </tr>\n",
       "    <tr>\n",
       "      <th>3</th>\n",
       "      <td>2020-05-06</td>\n",
       "      <td>facebook_ads</td>\n",
       "      <td>0.63</td>\n",
       "      <td>0.79</td>\n",
       "      <td>0.797468</td>\n",
       "    </tr>\n",
       "    <tr>\n",
       "      <th>4</th>\n",
       "      <td>2020-05-06</td>\n",
       "      <td>facebook_ads</td>\n",
       "      <td>0.63</td>\n",
       "      <td>0.79</td>\n",
       "      <td>0.797468</td>\n",
       "    </tr>\n",
       "  </tbody>\n",
       "</table>\n",
       "</div>"
      ],
      "text/plain": [
       "  first_event_date        source  revenue  acquisition_cost       roi\n",
       "0       2020-05-06  facebook_ads     0.91              0.79  1.151899\n",
       "1       2020-05-06  facebook_ads     0.28              0.79  0.354430\n",
       "2       2020-05-06  facebook_ads     0.84              0.79  1.063291\n",
       "3       2020-05-06  facebook_ads     0.63              0.79  0.797468\n",
       "4       2020-05-06  facebook_ads     0.63              0.79  0.797468"
      ]
     },
     "execution_count": 45,
     "metadata": {},
     "output_type": "execute_result"
    }
   ],
   "source": [
    "k = uniq_user_revenue.groupby(['first_event_date', 'source'])['acquisition_cost'].first().reset_index()\n",
    "roi = game_actions.groupby(['user_id', 'first_event_date', 'source']).agg({'revenue':'sum'})                                                                 \n",
    "roi = roi.merge(k, how='inner', on=['first_event_date', 'source'])\n",
    "roi['roi'] = roi['revenue'] / roi['acquisition_cost']\n",
    "roi.head()"
   ]
  },
  {
   "cell_type": "markdown",
   "metadata": {},
   "source": [
    "#### Создадим функцию для множественной проверки гипотезы по всем рекламным каналам"
   ]
  },
  {
   "cell_type": "code",
   "execution_count": 46,
   "metadata": {},
   "outputs": [],
   "source": [
    "def ttest_ind(roi, source_1, source_2, param):\n",
    "   \n",
    "    roi1 = roi.loc[(roi['source'] == source_1), param] \n",
    "    roi2 = roi.loc[(roi['source'] == source_2), param]\n",
    "    \n",
    "    print('Сформулируем нулевую и альтернативную гипотезы:')\n",
    "    print()\n",
    "    print('- H0 - различий в roi между рекламными каналами', source_1, 'и', source_2, 'нет.')\n",
    "    print('- H1 - различия в roi между рекламными каналами', source_1, 'и', source_2, 'есть.')\n",
    "\n",
    "    alpha = 0.05/6\n",
    "\n",
    "    results = st.ttest_ind(roi1, roi2)\n",
    "    \n",
    "    print('p-значение: {:.5f}'.format(results.pvalue))\n",
    "\n",
    "    if results.pvalue < alpha:\n",
    "        print('Принимаем альтернативную гипотезу')\n",
    "    else:\n",
    "        print('Не получилось отвергнуть нулевую гипотезу')"
   ]
  },
  {
   "cell_type": "markdown",
   "metadata": {},
   "source": [
    "Так как мы решили проверить статистическую разницу по roi между всеми рекламными каналами то наше число парных проверок составит 6. К данному тесту мы применим поправку по Бонферрони, то есть мы разделим наш критерий статистической значимости p-value на 6"
   ]
  },
  {
   "cell_type": "markdown",
   "metadata": {},
   "source": [
    "#### Попарно проверим все наши рекламные каналы между собой по roi"
   ]
  },
  {
   "cell_type": "code",
   "execution_count": 47,
   "metadata": {},
   "outputs": [
    {
     "name": "stdout",
     "output_type": "stream",
     "text": [
      "Сформулируем нулевую и альтернативную гипотезы:\n",
      "\n",
      "- H0 - различий в roi между рекламными каналами yandex_direct и instagram_new_adverts нет.\n",
      "- H1 - различия в roi между рекламными каналами yandex_direct и instagram_new_adverts есть.\n",
      "p-значение: 0.00000\n",
      "Принимаем альтернативную гипотезу\n"
     ]
    }
   ],
   "source": [
    "ttest_ind(roi, 'yandex_direct', 'instagram_new_adverts', 'roi')"
   ]
  },
  {
   "cell_type": "code",
   "execution_count": 48,
   "metadata": {},
   "outputs": [
    {
     "name": "stdout",
     "output_type": "stream",
     "text": [
      "Сформулируем нулевую и альтернативную гипотезы:\n",
      "\n",
      "- H0 - различий в roi между рекламными каналами yandex_direct и facebook_ads нет.\n",
      "- H1 - различия в roi между рекламными каналами yandex_direct и facebook_ads есть.\n",
      "p-значение: 0.00000\n",
      "Принимаем альтернативную гипотезу\n"
     ]
    }
   ],
   "source": [
    "ttest_ind(roi, 'yandex_direct', 'facebook_ads', 'roi')"
   ]
  },
  {
   "cell_type": "code",
   "execution_count": 49,
   "metadata": {},
   "outputs": [
    {
     "name": "stdout",
     "output_type": "stream",
     "text": [
      "Сформулируем нулевую и альтернативную гипотезы:\n",
      "\n",
      "- H0 - различий в roi между рекламными каналами yandex_direct и youtube_channel_reklama нет.\n",
      "- H1 - различия в roi между рекламными каналами yandex_direct и youtube_channel_reklama есть.\n",
      "p-значение: 0.00000\n",
      "Принимаем альтернативную гипотезу\n"
     ]
    }
   ],
   "source": [
    "ttest_ind(roi, 'yandex_direct', 'youtube_channel_reklama', 'roi')"
   ]
  },
  {
   "cell_type": "code",
   "execution_count": 50,
   "metadata": {},
   "outputs": [
    {
     "name": "stdout",
     "output_type": "stream",
     "text": [
      "Сформулируем нулевую и альтернативную гипотезы:\n",
      "\n",
      "- H0 - различий в roi между рекламными каналами instagram_new_adverts и facebook_ads нет.\n",
      "- H1 - различия в roi между рекламными каналами instagram_new_adverts и facebook_ads есть.\n",
      "p-значение: 0.00000\n",
      "Принимаем альтернативную гипотезу\n"
     ]
    }
   ],
   "source": [
    "ttest_ind(roi, 'instagram_new_adverts', 'facebook_ads', 'roi')"
   ]
  },
  {
   "cell_type": "code",
   "execution_count": 51,
   "metadata": {},
   "outputs": [
    {
     "name": "stdout",
     "output_type": "stream",
     "text": [
      "Сформулируем нулевую и альтернативную гипотезы:\n",
      "\n",
      "- H0 - различий в roi между рекламными каналами instagram_new_adverts и youtube_channel_reklama нет.\n",
      "- H1 - различия в roi между рекламными каналами instagram_new_adverts и youtube_channel_reklama есть.\n",
      "p-значение: 0.00000\n",
      "Принимаем альтернативную гипотезу\n"
     ]
    }
   ],
   "source": [
    "ttest_ind(roi, 'instagram_new_adverts', 'youtube_channel_reklama', 'roi')"
   ]
  },
  {
   "cell_type": "code",
   "execution_count": 52,
   "metadata": {},
   "outputs": [
    {
     "name": "stdout",
     "output_type": "stream",
     "text": [
      "Сформулируем нулевую и альтернативную гипотезы:\n",
      "\n",
      "- H0 - различий в roi между рекламными каналами facebook_ads и youtube_channel_reklama нет.\n",
      "- H1 - различия в roi между рекламными каналами facebook_ads и youtube_channel_reklama есть.\n",
      "p-значение: 0.00000\n",
      "Принимаем альтернативную гипотезу\n"
     ]
    }
   ],
   "source": [
    "ttest_ind(roi, 'facebook_ads', 'youtube_channel_reklama', 'roi')"
   ]
  },
  {
   "cell_type": "markdown",
   "metadata": {},
   "source": [
    "Абсолютно во всех тестах мы получили значение p-value равное 0. Мы уже выше анализировали рекламные затраты, выручку и roi по каналам, но еще раз проверили его статистическим методом по всем уникальным пользователям. Для всех рекламных источников roi различается."
   ]
  },
  {
   "cell_type": "markdown",
   "metadata": {},
   "source": [
    "## Выводы"
   ]
  },
  {
   "cell_type": "markdown",
   "metadata": {},
   "source": [
    "Нет ни какой зависимости между поведениями пользователей в игре в разбивке по каналам их привлечения. Пользователи строят одинаковое количество зданий, пользователи тратят одинаковое количество времени на прохождение уровня будь то реализация проекта будь то победа над игроком в разбивке по каналам. Выручка с показов рекламы также одинакова.\n",
    "\n",
    "Не до конца понятна суть такого разбиения рекламного бюджета, но так или иначе. Существенные различия присутствуют в затратах на привлечение игроков по рекламным каналам. Компании стоит отказаться от Инстаграм и Фэйсбук, т.к. эти источники убыточны с первого дня. Особое внимание стоит обратить на Ютуб, потенциально это самый эффективный канал для привлечения пользователей. Также стоит задуматься об увеличении разнообразия количества построек, экран которых будет генерировать рекламу, это существенно увеличит окупаемость рекламных затрат."
   ]
  }
 ],
 "metadata": {
  "ExecuteTimeLog": [
   {
    "duration": 1341,
    "start_time": "2022-08-05T13:34:56.378Z"
   },
   {
    "duration": 5,
    "start_time": "2022-08-05T13:35:01.497Z"
   },
   {
    "duration": 122,
    "start_time": "2022-08-05T13:35:40.982Z"
   },
   {
    "duration": 622,
    "start_time": "2022-08-05T13:37:51.627Z"
   },
   {
    "duration": 4,
    "start_time": "2022-08-05T13:38:01.095Z"
   },
   {
    "duration": 351,
    "start_time": "2022-08-05T13:38:07.242Z"
   },
   {
    "duration": 30,
    "start_time": "2022-08-05T13:38:14.272Z"
   },
   {
    "duration": 39,
    "start_time": "2022-08-05T13:38:20.621Z"
   },
   {
    "duration": 33,
    "start_time": "2022-08-05T13:38:27.820Z"
   },
   {
    "duration": 51,
    "start_time": "2022-08-05T13:38:34.217Z"
   },
   {
    "duration": 3,
    "start_time": "2022-08-05T13:38:55.245Z"
   },
   {
    "duration": 1451,
    "start_time": "2022-08-05T13:39:00.699Z"
   },
   {
    "duration": 13,
    "start_time": "2022-08-05T13:39:05.316Z"
   },
   {
    "duration": 49,
    "start_time": "2022-08-05T13:39:15.205Z"
   },
   {
    "duration": 78,
    "start_time": "2022-08-05T13:39:30.167Z"
   },
   {
    "duration": 200,
    "start_time": "2022-08-05T13:39:36.857Z"
   },
   {
    "duration": 434,
    "start_time": "2022-08-05T13:49:39.038Z"
   },
   {
    "duration": 169,
    "start_time": "2022-08-05T13:50:45.206Z"
   },
   {
    "duration": 167,
    "start_time": "2022-08-05T13:51:41.666Z"
   },
   {
    "duration": 172,
    "start_time": "2022-08-05T13:52:18.935Z"
   },
   {
    "duration": 173,
    "start_time": "2022-08-05T13:53:09.007Z"
   },
   {
    "duration": 320,
    "start_time": "2022-08-05T13:53:21.053Z"
   },
   {
    "duration": 303,
    "start_time": "2022-08-05T13:53:33.891Z"
   },
   {
    "duration": 367,
    "start_time": "2022-08-05T13:54:53.649Z"
   },
   {
    "duration": 412,
    "start_time": "2022-08-05T14:10:11.926Z"
   },
   {
    "duration": 49,
    "start_time": "2022-08-05T15:35:15.322Z"
   },
   {
    "duration": 59,
    "start_time": "2022-08-05T15:35:21.760Z"
   },
   {
    "duration": 54,
    "start_time": "2022-08-05T15:35:36.513Z"
   },
   {
    "duration": 59,
    "start_time": "2022-08-05T15:35:49.182Z"
   },
   {
    "duration": 102,
    "start_time": "2022-08-05T15:36:10.230Z"
   },
   {
    "duration": 86,
    "start_time": "2022-08-05T15:36:25.318Z"
   },
   {
    "duration": 91,
    "start_time": "2022-08-05T15:36:34.371Z"
   },
   {
    "duration": 1330,
    "start_time": "2022-08-05T15:36:54.098Z"
   },
   {
    "duration": 187,
    "start_time": "2022-08-05T15:37:32.061Z"
   },
   {
    "duration": 329,
    "start_time": "2022-08-05T15:37:43.291Z"
   },
   {
    "duration": 357,
    "start_time": "2022-08-05T15:38:23.117Z"
   },
   {
    "duration": 56,
    "start_time": "2022-08-05T15:39:49.713Z"
   },
   {
    "duration": 52,
    "start_time": "2022-08-05T15:39:57.288Z"
   },
   {
    "duration": 55,
    "start_time": "2022-08-05T15:41:05.085Z"
   },
   {
    "duration": 48,
    "start_time": "2022-08-05T15:41:37.029Z"
   },
   {
    "duration": 212,
    "start_time": "2022-08-05T15:41:54.813Z"
   },
   {
    "duration": 340,
    "start_time": "2022-08-05T15:42:11.260Z"
   },
   {
    "duration": 169,
    "start_time": "2022-08-05T15:42:27.215Z"
   },
   {
    "duration": 231,
    "start_time": "2022-08-05T15:42:52.636Z"
   },
   {
    "duration": 251,
    "start_time": "2022-08-05T15:43:13.962Z"
   },
   {
    "duration": 241,
    "start_time": "2022-08-05T15:43:29.915Z"
   },
   {
    "duration": 251,
    "start_time": "2022-08-05T15:44:08.529Z"
   },
   {
    "duration": 55,
    "start_time": "2022-08-05T15:44:35.232Z"
   },
   {
    "duration": 337,
    "start_time": "2022-08-05T15:44:43.484Z"
   },
   {
    "duration": 1493,
    "start_time": "2022-08-07T06:17:50.400Z"
   },
   {
    "duration": 956,
    "start_time": "2022-08-07T06:17:51.895Z"
   },
   {
    "duration": 6,
    "start_time": "2022-08-07T06:17:52.857Z"
   },
   {
    "duration": 371,
    "start_time": "2022-08-07T06:17:52.865Z"
   },
   {
    "duration": 50,
    "start_time": "2022-08-07T06:17:53.238Z"
   },
   {
    "duration": 108,
    "start_time": "2022-08-07T06:17:53.290Z"
   },
   {
    "duration": 41,
    "start_time": "2022-08-07T06:17:53.400Z"
   },
   {
    "duration": 111,
    "start_time": "2022-08-07T06:17:53.446Z"
   },
   {
    "duration": 8,
    "start_time": "2022-08-07T06:17:53.560Z"
   },
   {
    "duration": 1555,
    "start_time": "2022-08-07T06:17:53.570Z"
   },
   {
    "duration": 16,
    "start_time": "2022-08-07T06:17:55.127Z"
   },
   {
    "duration": 135,
    "start_time": "2022-08-07T06:17:55.145Z"
   },
   {
    "duration": 99,
    "start_time": "2022-08-07T06:17:55.282Z"
   },
   {
    "duration": 312,
    "start_time": "2022-08-07T06:17:55.383Z"
   },
   {
    "duration": 408,
    "start_time": "2022-08-07T06:17:55.697Z"
   },
   {
    "duration": 464,
    "start_time": "2022-08-07T06:17:56.107Z"
   },
   {
    "duration": 504,
    "start_time": "2022-08-07T06:17:56.574Z"
   },
   {
    "duration": 43,
    "start_time": "2022-08-07T06:19:11.689Z"
   },
   {
    "duration": 4,
    "start_time": "2022-08-07T06:22:11.890Z"
   },
   {
    "duration": 1196,
    "start_time": "2022-08-07T06:22:18.657Z"
   },
   {
    "duration": 316,
    "start_time": "2022-08-07T06:22:19.855Z"
   },
   {
    "duration": 9,
    "start_time": "2022-08-07T06:22:20.178Z"
   },
   {
    "duration": 380,
    "start_time": "2022-08-07T06:22:20.189Z"
   },
   {
    "duration": 38,
    "start_time": "2022-08-07T06:22:20.573Z"
   },
   {
    "duration": 99,
    "start_time": "2022-08-07T06:22:20.613Z"
   },
   {
    "duration": 63,
    "start_time": "2022-08-07T06:22:20.714Z"
   },
   {
    "duration": 62,
    "start_time": "2022-08-07T06:22:20.780Z"
   },
   {
    "duration": 4,
    "start_time": "2022-08-07T06:22:20.844Z"
   },
   {
    "duration": 1839,
    "start_time": "2022-08-07T06:22:20.850Z"
   },
   {
    "duration": 17,
    "start_time": "2022-08-07T06:22:22.691Z"
   },
   {
    "duration": 98,
    "start_time": "2022-08-07T06:22:22.710Z"
   },
   {
    "duration": 106,
    "start_time": "2022-08-07T06:22:22.810Z"
   },
   {
    "duration": 288,
    "start_time": "2022-08-07T06:22:22.919Z"
   },
   {
    "duration": 188,
    "start_time": "2022-08-07T06:22:23.209Z"
   },
   {
    "duration": 0,
    "start_time": "2022-08-07T06:22:23.400Z"
   },
   {
    "duration": 0,
    "start_time": "2022-08-07T06:22:23.401Z"
   },
   {
    "duration": 0,
    "start_time": "2022-08-07T06:22:23.402Z"
   },
   {
    "duration": 388,
    "start_time": "2022-08-07T06:27:14.951Z"
   },
   {
    "duration": 407,
    "start_time": "2022-08-07T06:27:18.905Z"
   },
   {
    "duration": 331,
    "start_time": "2022-08-07T06:27:20.586Z"
   },
   {
    "duration": 21,
    "start_time": "2022-08-07T06:27:34.902Z"
   },
   {
    "duration": 14,
    "start_time": "2022-08-07T06:27:40.686Z"
   },
   {
    "duration": 17,
    "start_time": "2022-08-07T06:28:33.946Z"
   },
   {
    "duration": 1548,
    "start_time": "2022-08-07T06:28:46.676Z"
   },
   {
    "duration": 1617,
    "start_time": "2022-08-07T06:29:32.153Z"
   },
   {
    "duration": 1540,
    "start_time": "2022-08-07T06:29:59.305Z"
   },
   {
    "duration": 1230,
    "start_time": "2022-08-07T06:34:53.780Z"
   },
   {
    "duration": 942,
    "start_time": "2022-08-07T06:34:55.012Z"
   },
   {
    "duration": 6,
    "start_time": "2022-08-07T06:34:55.956Z"
   },
   {
    "duration": 387,
    "start_time": "2022-08-07T06:34:55.964Z"
   },
   {
    "duration": 54,
    "start_time": "2022-08-07T06:34:56.354Z"
   },
   {
    "duration": 112,
    "start_time": "2022-08-07T06:34:56.410Z"
   },
   {
    "duration": 60,
    "start_time": "2022-08-07T06:34:56.523Z"
   },
   {
    "duration": 108,
    "start_time": "2022-08-07T06:34:56.585Z"
   },
   {
    "duration": 6,
    "start_time": "2022-08-07T06:34:56.695Z"
   },
   {
    "duration": 1681,
    "start_time": "2022-08-07T06:34:56.703Z"
   },
   {
    "duration": 19,
    "start_time": "2022-08-07T06:34:58.386Z"
   },
   {
    "duration": 69,
    "start_time": "2022-08-07T06:34:58.407Z"
   },
   {
    "duration": 94,
    "start_time": "2022-08-07T06:34:58.478Z"
   },
   {
    "duration": 241,
    "start_time": "2022-08-07T06:34:58.575Z"
   },
   {
    "duration": 398,
    "start_time": "2022-08-07T06:34:58.818Z"
   },
   {
    "duration": 402,
    "start_time": "2022-08-07T06:34:59.218Z"
   },
   {
    "duration": 12,
    "start_time": "2022-08-07T06:34:59.622Z"
   },
   {
    "duration": 207,
    "start_time": "2022-08-07T06:35:47.242Z"
   },
   {
    "duration": 56,
    "start_time": "2022-08-07T06:37:58.700Z"
   },
   {
    "duration": 5,
    "start_time": "2022-08-07T06:38:30.578Z"
   },
   {
    "duration": 1364,
    "start_time": "2022-08-07T06:38:45.629Z"
   },
   {
    "duration": 265,
    "start_time": "2022-08-07T06:38:46.996Z"
   },
   {
    "duration": 5,
    "start_time": "2022-08-07T06:38:47.263Z"
   },
   {
    "duration": 467,
    "start_time": "2022-08-07T06:38:47.271Z"
   },
   {
    "duration": 54,
    "start_time": "2022-08-07T06:38:47.740Z"
   },
   {
    "duration": 96,
    "start_time": "2022-08-07T06:38:47.797Z"
   },
   {
    "duration": 45,
    "start_time": "2022-08-07T06:38:47.895Z"
   },
   {
    "duration": 81,
    "start_time": "2022-08-07T06:38:47.941Z"
   },
   {
    "duration": 10,
    "start_time": "2022-08-07T06:38:48.025Z"
   },
   {
    "duration": 1708,
    "start_time": "2022-08-07T06:38:48.037Z"
   },
   {
    "duration": 24,
    "start_time": "2022-08-07T06:38:49.747Z"
   },
   {
    "duration": 67,
    "start_time": "2022-08-07T06:38:49.774Z"
   },
   {
    "duration": 112,
    "start_time": "2022-08-07T06:38:49.843Z"
   },
   {
    "duration": 314,
    "start_time": "2022-08-07T06:38:49.958Z"
   },
   {
    "duration": 389,
    "start_time": "2022-08-07T06:38:50.274Z"
   },
   {
    "duration": 396,
    "start_time": "2022-08-07T06:38:50.668Z"
   },
   {
    "duration": 13,
    "start_time": "2022-08-07T06:38:51.067Z"
   },
   {
    "duration": 9,
    "start_time": "2022-08-07T06:38:51.081Z"
   },
   {
    "duration": 166,
    "start_time": "2022-08-07T06:38:51.092Z"
   },
   {
    "duration": 5,
    "start_time": "2022-08-07T06:39:40.990Z"
   },
   {
    "duration": 5,
    "start_time": "2022-08-07T06:39:45.746Z"
   },
   {
    "duration": 12,
    "start_time": "2022-08-07T06:39:51.947Z"
   },
   {
    "duration": 280,
    "start_time": "2022-08-07T06:40:05.563Z"
   },
   {
    "duration": 416,
    "start_time": "2022-08-07T06:40:07.613Z"
   },
   {
    "duration": 12,
    "start_time": "2022-08-07T06:40:09.988Z"
   },
   {
    "duration": 52,
    "start_time": "2022-08-07T06:40:29.288Z"
   },
   {
    "duration": 67,
    "start_time": "2022-08-07T06:40:34.854Z"
   },
   {
    "duration": 10,
    "start_time": "2022-08-07T06:40:56.447Z"
   },
   {
    "duration": 59,
    "start_time": "2022-08-07T06:41:09.592Z"
   },
   {
    "duration": 60,
    "start_time": "2022-08-07T06:41:17.964Z"
   },
   {
    "duration": 65,
    "start_time": "2022-08-07T06:41:23.725Z"
   },
   {
    "duration": 534,
    "start_time": "2022-08-07T06:41:45.088Z"
   },
   {
    "duration": 502,
    "start_time": "2022-08-07T06:42:03.424Z"
   },
   {
    "duration": 510,
    "start_time": "2022-08-07T06:42:46.880Z"
   },
   {
    "duration": 1307,
    "start_time": "2022-08-07T06:55:09.556Z"
   },
   {
    "duration": 1273,
    "start_time": "2022-08-07T06:55:45.155Z"
   },
   {
    "duration": 1459,
    "start_time": "2022-08-07T06:56:46.587Z"
   },
   {
    "duration": 1161,
    "start_time": "2022-08-07T06:56:56.550Z"
   },
   {
    "duration": 115,
    "start_time": "2022-08-07T06:57:59.618Z"
   },
   {
    "duration": 1088,
    "start_time": "2022-08-07T06:58:10.229Z"
   },
   {
    "duration": 806,
    "start_time": "2022-08-07T07:01:25.937Z"
   },
   {
    "duration": 822,
    "start_time": "2022-08-07T07:02:41.065Z"
   },
   {
    "duration": 753,
    "start_time": "2022-08-07T07:14:08.300Z"
   },
   {
    "duration": 1176,
    "start_time": "2022-08-07T07:14:26.630Z"
   },
   {
    "duration": 1253,
    "start_time": "2022-08-07T07:14:44.855Z"
   },
   {
    "duration": 1269,
    "start_time": "2022-08-07T07:18:19.055Z"
   },
   {
    "duration": 252,
    "start_time": "2022-08-07T07:18:20.326Z"
   },
   {
    "duration": 7,
    "start_time": "2022-08-07T07:18:20.580Z"
   },
   {
    "duration": 418,
    "start_time": "2022-08-07T07:18:20.589Z"
   },
   {
    "duration": 59,
    "start_time": "2022-08-07T07:18:21.010Z"
   },
   {
    "duration": 58,
    "start_time": "2022-08-07T07:18:21.071Z"
   },
   {
    "duration": 74,
    "start_time": "2022-08-07T07:18:21.131Z"
   },
   {
    "duration": 93,
    "start_time": "2022-08-07T07:18:21.206Z"
   },
   {
    "duration": 4,
    "start_time": "2022-08-07T07:18:21.301Z"
   },
   {
    "duration": 1648,
    "start_time": "2022-08-07T07:18:21.307Z"
   },
   {
    "duration": 21,
    "start_time": "2022-08-07T07:18:22.957Z"
   },
   {
    "duration": 70,
    "start_time": "2022-08-07T07:18:22.979Z"
   },
   {
    "duration": 91,
    "start_time": "2022-08-07T07:18:23.051Z"
   },
   {
    "duration": 357,
    "start_time": "2022-08-07T07:18:23.145Z"
   },
   {
    "duration": 435,
    "start_time": "2022-08-07T07:18:23.504Z"
   },
   {
    "duration": 402,
    "start_time": "2022-08-07T07:18:23.941Z"
   },
   {
    "duration": 13,
    "start_time": "2022-08-07T07:18:24.345Z"
   },
   {
    "duration": 909,
    "start_time": "2022-08-07T07:18:24.367Z"
   },
   {
    "duration": 1010,
    "start_time": "2022-08-07T07:18:25.279Z"
   },
   {
    "duration": 79,
    "start_time": "2022-08-07T07:20:08.695Z"
   },
   {
    "duration": 15,
    "start_time": "2022-08-07T07:22:27.646Z"
   },
   {
    "duration": 57,
    "start_time": "2022-08-07T07:22:47.537Z"
   },
   {
    "duration": 1068,
    "start_time": "2022-08-07T07:28:38.344Z"
   },
   {
    "duration": 924,
    "start_time": "2022-08-07T07:28:47.746Z"
   },
   {
    "duration": 977,
    "start_time": "2022-08-07T07:29:43.841Z"
   },
   {
    "duration": 896,
    "start_time": "2022-08-07T07:29:49.119Z"
   },
   {
    "duration": 1102,
    "start_time": "2022-08-07T07:31:25.493Z"
   },
   {
    "duration": 894,
    "start_time": "2022-08-07T07:31:44.725Z"
   },
   {
    "duration": 900,
    "start_time": "2022-08-07T07:32:04.280Z"
   },
   {
    "duration": 1068,
    "start_time": "2022-08-07T07:33:53.286Z"
   },
   {
    "duration": 978,
    "start_time": "2022-08-07T07:34:04.661Z"
   },
   {
    "duration": 1099,
    "start_time": "2022-08-07T07:34:15.272Z"
   },
   {
    "duration": 1053,
    "start_time": "2022-08-07T07:34:47.119Z"
   },
   {
    "duration": 16,
    "start_time": "2022-08-07T07:41:43.697Z"
   },
   {
    "duration": 29,
    "start_time": "2022-08-07T07:43:46.334Z"
   },
   {
    "duration": 65,
    "start_time": "2022-08-07T07:44:02.695Z"
   },
   {
    "duration": 68,
    "start_time": "2022-08-07T07:44:22.766Z"
   },
   {
    "duration": 70,
    "start_time": "2022-08-07T07:44:47.835Z"
   },
   {
    "duration": 61,
    "start_time": "2022-08-07T07:44:53.310Z"
   },
   {
    "duration": 205,
    "start_time": "2022-08-07T07:45:22.487Z"
   },
   {
    "duration": 73,
    "start_time": "2022-08-07T07:46:01.421Z"
   },
   {
    "duration": 72,
    "start_time": "2022-08-07T07:46:21.160Z"
   },
   {
    "duration": 64,
    "start_time": "2022-08-07T07:46:54.486Z"
   },
   {
    "duration": 298,
    "start_time": "2022-08-07T07:47:23.231Z"
   },
   {
    "duration": 359,
    "start_time": "2022-08-07T07:48:02.112Z"
   },
   {
    "duration": 458,
    "start_time": "2022-08-07T07:48:55.993Z"
   },
   {
    "duration": 340,
    "start_time": "2022-08-07T07:49:06.059Z"
   },
   {
    "duration": 303,
    "start_time": "2022-08-07T07:52:19.838Z"
   },
   {
    "duration": 281,
    "start_time": "2022-08-07T07:58:11.447Z"
   },
   {
    "duration": 333,
    "start_time": "2022-08-07T07:58:29.327Z"
   },
   {
    "duration": 278,
    "start_time": "2022-08-07T07:59:58.425Z"
   },
   {
    "duration": 229,
    "start_time": "2022-08-07T08:00:15.738Z"
   },
   {
    "duration": 221,
    "start_time": "2022-08-07T08:08:02.342Z"
   },
   {
    "duration": 1268,
    "start_time": "2022-08-07T08:08:24.343Z"
   },
   {
    "duration": 300,
    "start_time": "2022-08-07T08:08:25.613Z"
   },
   {
    "duration": 6,
    "start_time": "2022-08-07T08:08:25.914Z"
   },
   {
    "duration": 380,
    "start_time": "2022-08-07T08:08:25.922Z"
   },
   {
    "duration": 32,
    "start_time": "2022-08-07T08:08:26.304Z"
   },
   {
    "duration": 84,
    "start_time": "2022-08-07T08:08:26.337Z"
   },
   {
    "duration": 68,
    "start_time": "2022-08-07T08:08:26.422Z"
   },
   {
    "duration": 86,
    "start_time": "2022-08-07T08:08:26.497Z"
   },
   {
    "duration": 5,
    "start_time": "2022-08-07T08:08:26.586Z"
   },
   {
    "duration": 1780,
    "start_time": "2022-08-07T08:08:26.592Z"
   },
   {
    "duration": 21,
    "start_time": "2022-08-07T08:08:28.380Z"
   },
   {
    "duration": 81,
    "start_time": "2022-08-07T08:08:28.402Z"
   },
   {
    "duration": 130,
    "start_time": "2022-08-07T08:08:28.485Z"
   },
   {
    "duration": 241,
    "start_time": "2022-08-07T08:08:28.618Z"
   },
   {
    "duration": 497,
    "start_time": "2022-08-07T08:08:28.867Z"
   },
   {
    "duration": 23,
    "start_time": "2022-08-07T08:08:29.367Z"
   },
   {
    "duration": 59,
    "start_time": "2022-08-07T08:08:29.392Z"
   },
   {
    "duration": 1111,
    "start_time": "2022-08-07T08:08:29.453Z"
   },
   {
    "duration": 23,
    "start_time": "2022-08-07T08:08:30.566Z"
   },
   {
    "duration": 247,
    "start_time": "2022-08-07T08:08:30.591Z"
   },
   {
    "duration": 213,
    "start_time": "2022-08-07T08:08:30.840Z"
   },
   {
    "duration": 214,
    "start_time": "2022-08-07T08:08:58.742Z"
   },
   {
    "duration": 255,
    "start_time": "2022-08-07T08:09:37.783Z"
   },
   {
    "duration": 250,
    "start_time": "2022-08-07T08:09:50.407Z"
   },
   {
    "duration": 352,
    "start_time": "2022-08-07T08:09:58.250Z"
   },
   {
    "duration": 224,
    "start_time": "2022-08-07T08:10:10.482Z"
   },
   {
    "duration": 204,
    "start_time": "2022-08-07T08:10:20.257Z"
   },
   {
    "duration": 120,
    "start_time": "2022-08-07T08:17:05.641Z"
   },
   {
    "duration": 119,
    "start_time": "2022-08-07T08:17:53.533Z"
   },
   {
    "duration": 252,
    "start_time": "2022-08-07T08:18:15.341Z"
   },
   {
    "duration": 420,
    "start_time": "2022-08-07T08:19:07.231Z"
   },
   {
    "duration": 291,
    "start_time": "2022-08-07T08:19:29.424Z"
   },
   {
    "duration": 659,
    "start_time": "2022-08-07T08:21:16.455Z"
   },
   {
    "duration": 289,
    "start_time": "2022-08-07T08:21:36.828Z"
   },
   {
    "duration": 404,
    "start_time": "2022-08-07T08:22:42.956Z"
   },
   {
    "duration": 584,
    "start_time": "2022-08-07T08:22:51.150Z"
   },
   {
    "duration": 446,
    "start_time": "2022-08-07T08:22:59.882Z"
   },
   {
    "duration": 458,
    "start_time": "2022-08-07T08:23:42.889Z"
   },
   {
    "duration": 454,
    "start_time": "2022-08-07T08:24:53.799Z"
   },
   {
    "duration": 480,
    "start_time": "2022-08-07T08:25:21.489Z"
   },
   {
    "duration": 60,
    "start_time": "2022-08-07T08:27:44.899Z"
   },
   {
    "duration": 72,
    "start_time": "2022-08-07T08:28:23.213Z"
   },
   {
    "duration": 11,
    "start_time": "2022-08-07T08:28:35.911Z"
   },
   {
    "duration": 22,
    "start_time": "2022-08-07T08:29:25.491Z"
   },
   {
    "duration": 6,
    "start_time": "2022-08-07T08:29:35.422Z"
   },
   {
    "duration": 10,
    "start_time": "2022-08-07T08:29:40.871Z"
   },
   {
    "duration": 198,
    "start_time": "2022-08-07T08:36:16.373Z"
   },
   {
    "duration": 172,
    "start_time": "2022-08-07T08:36:48.306Z"
   },
   {
    "duration": 309,
    "start_time": "2022-08-07T08:37:24.115Z"
   },
   {
    "duration": 188,
    "start_time": "2022-08-07T08:37:31.035Z"
   },
   {
    "duration": 169,
    "start_time": "2022-08-07T08:37:34.532Z"
   },
   {
    "duration": 333,
    "start_time": "2022-08-07T08:37:46.528Z"
   },
   {
    "duration": 178,
    "start_time": "2022-08-07T08:38:52.654Z"
   },
   {
    "duration": 171,
    "start_time": "2022-08-07T08:39:13.545Z"
   },
   {
    "duration": 183,
    "start_time": "2022-08-07T08:41:04.537Z"
   },
   {
    "duration": 203,
    "start_time": "2022-08-07T08:41:10.283Z"
   },
   {
    "duration": 174,
    "start_time": "2022-08-07T08:41:18.427Z"
   },
   {
    "duration": 7,
    "start_time": "2022-08-07T08:42:00.223Z"
   },
   {
    "duration": 185,
    "start_time": "2022-08-07T08:43:34.361Z"
   },
   {
    "duration": 198,
    "start_time": "2022-08-07T08:43:45.066Z"
   },
   {
    "duration": 233,
    "start_time": "2022-08-07T08:44:11.173Z"
   },
   {
    "duration": 240,
    "start_time": "2022-08-07T08:45:15.339Z"
   },
   {
    "duration": 229,
    "start_time": "2022-08-07T08:46:19.624Z"
   },
   {
    "duration": 265,
    "start_time": "2022-08-07T08:46:24.285Z"
   },
   {
    "duration": 220,
    "start_time": "2022-08-07T08:46:45.422Z"
   },
   {
    "duration": 138,
    "start_time": "2022-08-07T08:47:02.869Z"
   },
   {
    "duration": 140,
    "start_time": "2022-08-07T08:47:13.222Z"
   },
   {
    "duration": 245,
    "start_time": "2022-08-07T08:48:29.898Z"
   },
   {
    "duration": 217,
    "start_time": "2022-08-07T08:48:48.187Z"
   },
   {
    "duration": 254,
    "start_time": "2022-08-07T08:49:23.977Z"
   },
   {
    "duration": 293,
    "start_time": "2022-08-07T08:56:26.997Z"
   },
   {
    "duration": 274,
    "start_time": "2022-08-07T08:56:39.773Z"
   },
   {
    "duration": 284,
    "start_time": "2022-08-07T08:56:45.809Z"
   },
   {
    "duration": 400,
    "start_time": "2022-08-07T08:56:51.062Z"
   },
   {
    "duration": 277,
    "start_time": "2022-08-07T08:56:57.917Z"
   },
   {
    "duration": 277,
    "start_time": "2022-08-07T08:57:17.723Z"
   },
   {
    "duration": 293,
    "start_time": "2022-08-07T08:57:33.856Z"
   },
   {
    "duration": 312,
    "start_time": "2022-08-07T08:57:45.945Z"
   },
   {
    "duration": 297,
    "start_time": "2022-08-07T08:58:06.833Z"
   },
   {
    "duration": 310,
    "start_time": "2022-08-07T08:58:53.865Z"
   },
   {
    "duration": 322,
    "start_time": "2022-08-07T08:59:00.823Z"
   },
   {
    "duration": 304,
    "start_time": "2022-08-07T08:59:14.601Z"
   },
   {
    "duration": 398,
    "start_time": "2022-08-07T09:01:24.484Z"
   },
   {
    "duration": 336,
    "start_time": "2022-08-07T09:01:34.185Z"
   },
   {
    "duration": 514,
    "start_time": "2022-08-07T09:02:50.720Z"
   },
   {
    "duration": 369,
    "start_time": "2022-08-07T09:03:06.250Z"
   },
   {
    "duration": 362,
    "start_time": "2022-08-07T09:03:12.200Z"
   },
   {
    "duration": 311,
    "start_time": "2022-08-07T09:06:56.793Z"
   },
   {
    "duration": 317,
    "start_time": "2022-08-07T09:10:40.797Z"
   },
   {
    "duration": 328,
    "start_time": "2022-08-07T09:10:50.730Z"
   },
   {
    "duration": 345,
    "start_time": "2022-08-07T09:10:55.378Z"
   },
   {
    "duration": 329,
    "start_time": "2022-08-07T09:11:29.466Z"
   },
   {
    "duration": 356,
    "start_time": "2022-08-07T09:13:11.241Z"
   },
   {
    "duration": 308,
    "start_time": "2022-08-07T09:13:20.918Z"
   },
   {
    "duration": 306,
    "start_time": "2022-08-07T09:13:27.968Z"
   },
   {
    "duration": 447,
    "start_time": "2022-08-07T09:13:34.594Z"
   },
   {
    "duration": 297,
    "start_time": "2022-08-07T09:13:43.738Z"
   },
   {
    "duration": 320,
    "start_time": "2022-08-07T09:14:00.449Z"
   },
   {
    "duration": 280,
    "start_time": "2022-08-07T09:14:12.032Z"
   },
   {
    "duration": 57,
    "start_time": "2022-08-07T09:15:02.376Z"
   },
   {
    "duration": 23,
    "start_time": "2022-08-07T09:15:09.959Z"
   },
   {
    "duration": 69,
    "start_time": "2022-08-07T09:15:21.670Z"
   },
   {
    "duration": 314,
    "start_time": "2022-08-07T09:15:24.510Z"
   },
   {
    "duration": 75,
    "start_time": "2022-08-07T09:22:09.149Z"
   },
   {
    "duration": 9,
    "start_time": "2022-08-07T09:22:19.425Z"
   },
   {
    "duration": 134,
    "start_time": "2022-08-07T09:24:22.791Z"
   },
   {
    "duration": 123,
    "start_time": "2022-08-07T09:24:57.680Z"
   },
   {
    "duration": 284,
    "start_time": "2022-08-07T09:25:54.670Z"
   },
   {
    "duration": 6,
    "start_time": "2022-08-07T09:27:07.649Z"
   },
   {
    "duration": 7,
    "start_time": "2022-08-07T09:27:13.614Z"
   },
   {
    "duration": 86,
    "start_time": "2022-08-07T09:27:24.276Z"
   },
   {
    "duration": 5,
    "start_time": "2022-08-07T09:27:42.411Z"
   },
   {
    "duration": 8,
    "start_time": "2022-08-07T09:27:47.567Z"
   },
   {
    "duration": 9,
    "start_time": "2022-08-07T09:28:35.955Z"
   },
   {
    "duration": 8,
    "start_time": "2022-08-07T09:28:36.151Z"
   },
   {
    "duration": 53,
    "start_time": "2022-08-07T09:28:46.922Z"
   },
   {
    "duration": 5,
    "start_time": "2022-08-07T09:28:47.054Z"
   },
   {
    "duration": 8,
    "start_time": "2022-08-07T09:28:47.322Z"
   },
   {
    "duration": 59,
    "start_time": "2022-08-07T09:30:06.753Z"
   },
   {
    "duration": 5,
    "start_time": "2022-08-07T09:30:07.069Z"
   },
   {
    "duration": 9,
    "start_time": "2022-08-07T09:30:07.492Z"
   },
   {
    "duration": 54,
    "start_time": "2022-08-07T09:30:54.472Z"
   },
   {
    "duration": 5,
    "start_time": "2022-08-07T09:30:54.808Z"
   },
   {
    "duration": 8,
    "start_time": "2022-08-07T09:30:55.208Z"
   },
   {
    "duration": 312,
    "start_time": "2022-08-07T09:31:45.238Z"
   },
   {
    "duration": 367,
    "start_time": "2022-08-07T09:32:26.187Z"
   },
   {
    "duration": 308,
    "start_time": "2022-08-07T09:32:50.170Z"
   },
   {
    "duration": 477,
    "start_time": "2022-08-07T09:33:01.232Z"
   },
   {
    "duration": 424,
    "start_time": "2022-08-07T09:34:39.572Z"
   },
   {
    "duration": 430,
    "start_time": "2022-08-07T09:35:09.647Z"
   },
   {
    "duration": 404,
    "start_time": "2022-08-07T09:35:26.424Z"
   },
   {
    "duration": 393,
    "start_time": "2022-08-07T09:35:45.035Z"
   },
   {
    "duration": 445,
    "start_time": "2022-08-07T09:35:53.860Z"
   },
   {
    "duration": 655,
    "start_time": "2022-08-07T09:36:45.422Z"
   },
   {
    "duration": 482,
    "start_time": "2022-08-07T09:37:02.913Z"
   },
   {
    "duration": 307,
    "start_time": "2022-08-07T09:38:29.094Z"
   },
   {
    "duration": 300,
    "start_time": "2022-08-07T09:38:38.271Z"
   },
   {
    "duration": 297,
    "start_time": "2022-08-07T09:38:44.951Z"
   },
   {
    "duration": 308,
    "start_time": "2022-08-07T09:38:52.268Z"
   },
   {
    "duration": 170,
    "start_time": "2022-08-07T09:39:54.720Z"
   },
   {
    "duration": 186,
    "start_time": "2022-08-07T09:40:10.585Z"
   },
   {
    "duration": 309,
    "start_time": "2022-08-07T09:40:26.940Z"
   },
   {
    "duration": 623,
    "start_time": "2022-08-07T09:40:38.167Z"
   },
   {
    "duration": 205,
    "start_time": "2022-08-07T09:40:41.412Z"
   },
   {
    "duration": 203,
    "start_time": "2022-08-07T09:40:55.715Z"
   },
   {
    "duration": 183,
    "start_time": "2022-08-07T09:41:16.051Z"
   },
   {
    "duration": 176,
    "start_time": "2022-08-07T09:41:19.511Z"
   },
   {
    "duration": 174,
    "start_time": "2022-08-07T09:41:44.679Z"
   },
   {
    "duration": 177,
    "start_time": "2022-08-07T09:42:32.138Z"
   },
   {
    "duration": 182,
    "start_time": "2022-08-07T09:42:59.348Z"
   },
   {
    "duration": 183,
    "start_time": "2022-08-07T09:43:08.013Z"
   },
   {
    "duration": 18,
    "start_time": "2022-08-07T09:45:40.552Z"
   },
   {
    "duration": 14,
    "start_time": "2022-08-07T09:45:57.674Z"
   },
   {
    "duration": 20,
    "start_time": "2022-08-07T09:46:36.762Z"
   },
   {
    "duration": 8,
    "start_time": "2022-08-07T09:47:02.031Z"
   },
   {
    "duration": 5,
    "start_time": "2022-08-07T09:47:13.189Z"
   },
   {
    "duration": 16,
    "start_time": "2022-08-07T09:47:45.252Z"
   },
   {
    "duration": 11,
    "start_time": "2022-08-07T09:48:04.857Z"
   },
   {
    "duration": 4,
    "start_time": "2022-08-07T09:51:13.639Z"
   },
   {
    "duration": 11,
    "start_time": "2022-08-07T09:51:19.234Z"
   },
   {
    "duration": 1104,
    "start_time": "2022-08-07T09:51:54.923Z"
   },
   {
    "duration": 286,
    "start_time": "2022-08-07T09:51:56.030Z"
   },
   {
    "duration": 5,
    "start_time": "2022-08-07T09:51:56.318Z"
   },
   {
    "duration": 450,
    "start_time": "2022-08-07T09:51:56.325Z"
   },
   {
    "duration": 34,
    "start_time": "2022-08-07T09:51:56.778Z"
   },
   {
    "duration": 80,
    "start_time": "2022-08-07T09:51:56.813Z"
   },
   {
    "duration": 37,
    "start_time": "2022-08-07T09:51:56.894Z"
   },
   {
    "duration": 77,
    "start_time": "2022-08-07T09:51:56.933Z"
   },
   {
    "duration": 3,
    "start_time": "2022-08-07T09:51:57.012Z"
   },
   {
    "duration": 1604,
    "start_time": "2022-08-07T09:51:57.017Z"
   },
   {
    "duration": 15,
    "start_time": "2022-08-07T09:51:58.623Z"
   },
   {
    "duration": 69,
    "start_time": "2022-08-07T09:51:58.640Z"
   },
   {
    "duration": 89,
    "start_time": "2022-08-07T09:51:58.711Z"
   },
   {
    "duration": 241,
    "start_time": "2022-08-07T09:51:58.803Z"
   },
   {
    "duration": 456,
    "start_time": "2022-08-07T09:51:59.046Z"
   },
   {
    "duration": 17,
    "start_time": "2022-08-07T09:51:59.504Z"
   },
   {
    "duration": 72,
    "start_time": "2022-08-07T09:51:59.523Z"
   },
   {
    "duration": 951,
    "start_time": "2022-08-07T09:51:59.597Z"
   },
   {
    "duration": 67,
    "start_time": "2022-08-07T09:52:00.551Z"
   },
   {
    "duration": 5,
    "start_time": "2022-08-07T09:52:00.621Z"
   },
   {
    "duration": 15,
    "start_time": "2022-08-07T09:52:00.628Z"
   },
   {
    "duration": 297,
    "start_time": "2022-08-07T09:52:00.645Z"
   },
   {
    "duration": 0,
    "start_time": "2022-08-07T09:52:00.944Z"
   },
   {
    "duration": 0,
    "start_time": "2022-08-07T09:52:00.945Z"
   },
   {
    "duration": 0,
    "start_time": "2022-08-07T09:52:00.947Z"
   },
   {
    "duration": 309,
    "start_time": "2022-08-07T09:54:34.910Z"
   },
   {
    "duration": 1269,
    "start_time": "2022-08-07T09:54:43.138Z"
   },
   {
    "duration": 286,
    "start_time": "2022-08-07T09:54:44.410Z"
   },
   {
    "duration": 6,
    "start_time": "2022-08-07T09:54:44.700Z"
   },
   {
    "duration": 378,
    "start_time": "2022-08-07T09:54:44.708Z"
   },
   {
    "duration": 36,
    "start_time": "2022-08-07T09:54:45.087Z"
   },
   {
    "duration": 78,
    "start_time": "2022-08-07T09:54:45.125Z"
   },
   {
    "duration": 36,
    "start_time": "2022-08-07T09:54:45.205Z"
   },
   {
    "duration": 84,
    "start_time": "2022-08-07T09:54:45.243Z"
   },
   {
    "duration": 4,
    "start_time": "2022-08-07T09:54:45.329Z"
   },
   {
    "duration": 1896,
    "start_time": "2022-08-07T09:54:45.334Z"
   },
   {
    "duration": 15,
    "start_time": "2022-08-07T09:54:47.232Z"
   },
   {
    "duration": 67,
    "start_time": "2022-08-07T09:54:47.249Z"
   },
   {
    "duration": 95,
    "start_time": "2022-08-07T09:54:47.318Z"
   },
   {
    "duration": 293,
    "start_time": "2022-08-07T09:54:47.415Z"
   },
   {
    "duration": 478,
    "start_time": "2022-08-07T09:54:47.710Z"
   },
   {
    "duration": 13,
    "start_time": "2022-08-07T09:54:48.190Z"
   },
   {
    "duration": 102,
    "start_time": "2022-08-07T09:54:48.205Z"
   },
   {
    "duration": 1001,
    "start_time": "2022-08-07T09:54:48.309Z"
   },
   {
    "duration": 64,
    "start_time": "2022-08-07T09:54:49.311Z"
   },
   {
    "duration": 5,
    "start_time": "2022-08-07T09:54:49.377Z"
   },
   {
    "duration": 12,
    "start_time": "2022-08-07T09:54:49.383Z"
   },
   {
    "duration": 321,
    "start_time": "2022-08-07T09:54:49.396Z"
   },
   {
    "duration": 180,
    "start_time": "2022-08-07T09:54:49.718Z"
   },
   {
    "duration": 67,
    "start_time": "2022-08-07T09:54:49.900Z"
   },
   {
    "duration": 17,
    "start_time": "2022-08-07T09:54:49.969Z"
   },
   {
    "duration": 16,
    "start_time": "2022-08-07T09:56:36.479Z"
   },
   {
    "duration": 74,
    "start_time": "2022-08-07T09:58:05.810Z"
   },
   {
    "duration": 68,
    "start_time": "2022-08-07T09:58:19.543Z"
   },
   {
    "duration": 76,
    "start_time": "2022-08-07T09:59:03.711Z"
   },
   {
    "duration": 87,
    "start_time": "2022-08-07T09:59:11.538Z"
   },
   {
    "duration": 3,
    "start_time": "2022-08-07T10:00:42.174Z"
   },
   {
    "duration": 7,
    "start_time": "2022-08-07T10:00:54.248Z"
   },
   {
    "duration": 110,
    "start_time": "2022-08-07T10:01:37.845Z"
   },
   {
    "duration": 19,
    "start_time": "2022-08-07T10:02:57.549Z"
   },
   {
    "duration": 77,
    "start_time": "2022-08-07T10:05:32.269Z"
   },
   {
    "duration": 65,
    "start_time": "2022-08-07T10:05:43.225Z"
   },
   {
    "duration": 21,
    "start_time": "2022-08-07T10:05:51.466Z"
   },
   {
    "duration": 94,
    "start_time": "2022-08-07T10:07:06.615Z"
   },
   {
    "duration": 4,
    "start_time": "2022-08-07T10:08:47.622Z"
   },
   {
    "duration": 9,
    "start_time": "2022-08-07T10:08:53.885Z"
   },
   {
    "duration": 10,
    "start_time": "2022-08-07T10:09:03.412Z"
   },
   {
    "duration": 10,
    "start_time": "2022-08-07T10:09:25.217Z"
   },
   {
    "duration": 10,
    "start_time": "2022-08-07T10:09:30.432Z"
   },
   {
    "duration": 13,
    "start_time": "2022-08-07T10:09:34.045Z"
   },
   {
    "duration": 13,
    "start_time": "2022-08-07T10:10:39.722Z"
   },
   {
    "duration": 8,
    "start_time": "2022-08-07T10:10:43.791Z"
   },
   {
    "duration": 1098,
    "start_time": "2022-08-07T10:10:49.225Z"
   },
   {
    "duration": 272,
    "start_time": "2022-08-07T10:10:50.326Z"
   },
   {
    "duration": 4,
    "start_time": "2022-08-07T10:10:50.600Z"
   },
   {
    "duration": 373,
    "start_time": "2022-08-07T10:10:50.606Z"
   },
   {
    "duration": 33,
    "start_time": "2022-08-07T10:10:50.981Z"
   },
   {
    "duration": 80,
    "start_time": "2022-08-07T10:10:51.016Z"
   },
   {
    "duration": 37,
    "start_time": "2022-08-07T10:10:51.098Z"
   },
   {
    "duration": 85,
    "start_time": "2022-08-07T10:10:51.137Z"
   },
   {
    "duration": 4,
    "start_time": "2022-08-07T10:10:51.224Z"
   },
   {
    "duration": 1628,
    "start_time": "2022-08-07T10:10:51.229Z"
   },
   {
    "duration": 19,
    "start_time": "2022-08-07T10:10:52.859Z"
   },
   {
    "duration": 49,
    "start_time": "2022-08-07T10:10:52.880Z"
   },
   {
    "duration": 108,
    "start_time": "2022-08-07T10:10:52.931Z"
   },
   {
    "duration": 227,
    "start_time": "2022-08-07T10:10:53.042Z"
   },
   {
    "duration": 440,
    "start_time": "2022-08-07T10:10:53.271Z"
   },
   {
    "duration": 13,
    "start_time": "2022-08-07T10:10:53.713Z"
   },
   {
    "duration": 71,
    "start_time": "2022-08-07T10:10:53.728Z"
   },
   {
    "duration": 916,
    "start_time": "2022-08-07T10:10:53.801Z"
   },
   {
    "duration": 65,
    "start_time": "2022-08-07T10:10:54.719Z"
   },
   {
    "duration": 5,
    "start_time": "2022-08-07T10:10:54.785Z"
   },
   {
    "duration": 10,
    "start_time": "2022-08-07T10:10:54.791Z"
   },
   {
    "duration": 310,
    "start_time": "2022-08-07T10:10:54.803Z"
   },
   {
    "duration": 195,
    "start_time": "2022-08-07T10:10:55.115Z"
   },
   {
    "duration": 57,
    "start_time": "2022-08-07T10:10:55.311Z"
   },
   {
    "duration": 153,
    "start_time": "2022-08-07T10:10:55.370Z"
   },
   {
    "duration": 12,
    "start_time": "2022-08-07T10:10:55.525Z"
   },
   {
    "duration": 33,
    "start_time": "2022-08-07T10:10:55.538Z"
   },
   {
    "duration": 102,
    "start_time": "2022-08-07T10:11:35.161Z"
   },
   {
    "duration": 14,
    "start_time": "2022-08-07T10:11:41.317Z"
   },
   {
    "duration": 1244,
    "start_time": "2022-08-07T10:12:27.071Z"
   },
   {
    "duration": 1417,
    "start_time": "2022-08-07T10:12:39.312Z"
   },
   {
    "duration": 4,
    "start_time": "2022-08-07T10:12:50.992Z"
   },
   {
    "duration": 13,
    "start_time": "2022-08-07T10:12:52.887Z"
   },
   {
    "duration": 1302,
    "start_time": "2022-08-07T10:13:00.848Z"
   },
   {
    "duration": 1160,
    "start_time": "2022-08-07T10:13:17.598Z"
   },
   {
    "duration": 257,
    "start_time": "2022-08-07T10:13:18.761Z"
   },
   {
    "duration": 4,
    "start_time": "2022-08-07T10:13:19.020Z"
   },
   {
    "duration": 331,
    "start_time": "2022-08-07T10:13:19.026Z"
   },
   {
    "duration": 39,
    "start_time": "2022-08-07T10:13:19.359Z"
   },
   {
    "duration": 79,
    "start_time": "2022-08-07T10:13:19.399Z"
   },
   {
    "duration": 46,
    "start_time": "2022-08-07T10:13:19.479Z"
   },
   {
    "duration": 75,
    "start_time": "2022-08-07T10:13:19.527Z"
   },
   {
    "duration": 4,
    "start_time": "2022-08-07T10:13:19.604Z"
   },
   {
    "duration": 1564,
    "start_time": "2022-08-07T10:13:19.609Z"
   },
   {
    "duration": 15,
    "start_time": "2022-08-07T10:13:21.175Z"
   },
   {
    "duration": 52,
    "start_time": "2022-08-07T10:13:21.192Z"
   },
   {
    "duration": 96,
    "start_time": "2022-08-07T10:13:21.246Z"
   },
   {
    "duration": 247,
    "start_time": "2022-08-07T10:13:21.345Z"
   },
   {
    "duration": 437,
    "start_time": "2022-08-07T10:13:21.594Z"
   },
   {
    "duration": 11,
    "start_time": "2022-08-07T10:13:22.032Z"
   },
   {
    "duration": 62,
    "start_time": "2022-08-07T10:13:22.045Z"
   },
   {
    "duration": 921,
    "start_time": "2022-08-07T10:13:22.110Z"
   },
   {
    "duration": 62,
    "start_time": "2022-08-07T10:13:23.032Z"
   },
   {
    "duration": 5,
    "start_time": "2022-08-07T10:13:23.096Z"
   },
   {
    "duration": 12,
    "start_time": "2022-08-07T10:13:23.102Z"
   },
   {
    "duration": 315,
    "start_time": "2022-08-07T10:13:23.116Z"
   },
   {
    "duration": 191,
    "start_time": "2022-08-07T10:13:23.432Z"
   },
   {
    "duration": 52,
    "start_time": "2022-08-07T10:13:23.625Z"
   },
   {
    "duration": 145,
    "start_time": "2022-08-07T10:13:23.679Z"
   },
   {
    "duration": 4,
    "start_time": "2022-08-07T10:13:23.826Z"
   },
   {
    "duration": 7,
    "start_time": "2022-08-07T10:13:23.831Z"
   },
   {
    "duration": 13,
    "start_time": "2022-08-07T10:13:23.840Z"
   },
   {
    "duration": 72,
    "start_time": "2022-08-07T10:13:36.328Z"
   },
   {
    "duration": 1359,
    "start_time": "2022-08-07T10:13:37.053Z"
   },
   {
    "duration": 0,
    "start_time": "2022-08-07T10:13:38.413Z"
   },
   {
    "duration": 0,
    "start_time": "2022-08-07T10:13:38.415Z"
   },
   {
    "duration": 1208,
    "start_time": "2022-08-07T10:14:07.128Z"
   },
   {
    "duration": 279,
    "start_time": "2022-08-07T10:14:08.339Z"
   },
   {
    "duration": 5,
    "start_time": "2022-08-07T10:14:08.620Z"
   },
   {
    "duration": 335,
    "start_time": "2022-08-07T10:14:08.626Z"
   },
   {
    "duration": 34,
    "start_time": "2022-08-07T10:14:08.968Z"
   },
   {
    "duration": 86,
    "start_time": "2022-08-07T10:14:09.004Z"
   },
   {
    "duration": 38,
    "start_time": "2022-08-07T10:14:09.092Z"
   },
   {
    "duration": 82,
    "start_time": "2022-08-07T10:14:09.131Z"
   },
   {
    "duration": 3,
    "start_time": "2022-08-07T10:14:09.215Z"
   },
   {
    "duration": 1721,
    "start_time": "2022-08-07T10:14:09.220Z"
   },
   {
    "duration": 15,
    "start_time": "2022-08-07T10:14:10.943Z"
   },
   {
    "duration": 57,
    "start_time": "2022-08-07T10:14:10.960Z"
   },
   {
    "duration": 106,
    "start_time": "2022-08-07T10:14:11.018Z"
   },
   {
    "duration": 241,
    "start_time": "2022-08-07T10:14:11.128Z"
   },
   {
    "duration": 473,
    "start_time": "2022-08-07T10:14:11.371Z"
   },
   {
    "duration": 12,
    "start_time": "2022-08-07T10:14:11.846Z"
   },
   {
    "duration": 57,
    "start_time": "2022-08-07T10:14:11.868Z"
   },
   {
    "duration": 957,
    "start_time": "2022-08-07T10:14:11.927Z"
   },
   {
    "duration": 58,
    "start_time": "2022-08-07T10:14:12.886Z"
   },
   {
    "duration": 5,
    "start_time": "2022-08-07T10:14:12.945Z"
   },
   {
    "duration": 25,
    "start_time": "2022-08-07T10:14:12.951Z"
   },
   {
    "duration": 332,
    "start_time": "2022-08-07T10:14:12.978Z"
   },
   {
    "duration": 192,
    "start_time": "2022-08-07T10:14:13.312Z"
   },
   {
    "duration": 63,
    "start_time": "2022-08-07T10:14:13.506Z"
   },
   {
    "duration": 143,
    "start_time": "2022-08-07T10:14:13.571Z"
   },
   {
    "duration": 5,
    "start_time": "2022-08-07T10:14:13.716Z"
   },
   {
    "duration": 23,
    "start_time": "2022-08-07T10:14:13.722Z"
   },
   {
    "duration": 17,
    "start_time": "2022-08-07T10:14:13.747Z"
   },
   {
    "duration": 9,
    "start_time": "2022-08-07T10:15:56.972Z"
   },
   {
    "duration": 13,
    "start_time": "2022-08-07T10:17:40.935Z"
   },
   {
    "duration": 1288,
    "start_time": "2022-08-07T10:18:10.677Z"
   },
   {
    "duration": 1282,
    "start_time": "2022-08-07T10:18:15.764Z"
   },
   {
    "duration": 273,
    "start_time": "2022-08-07T10:18:17.049Z"
   },
   {
    "duration": 5,
    "start_time": "2022-08-07T10:18:17.325Z"
   },
   {
    "duration": 370,
    "start_time": "2022-08-07T10:18:17.332Z"
   },
   {
    "duration": 35,
    "start_time": "2022-08-07T10:18:17.703Z"
   },
   {
    "duration": 74,
    "start_time": "2022-08-07T10:18:17.739Z"
   },
   {
    "duration": 66,
    "start_time": "2022-08-07T10:18:17.815Z"
   },
   {
    "duration": 60,
    "start_time": "2022-08-07T10:18:17.882Z"
   },
   {
    "duration": 4,
    "start_time": "2022-08-07T10:18:17.944Z"
   },
   {
    "duration": 1621,
    "start_time": "2022-08-07T10:18:17.968Z"
   },
   {
    "duration": 15,
    "start_time": "2022-08-07T10:18:19.591Z"
   },
   {
    "duration": 72,
    "start_time": "2022-08-07T10:18:19.607Z"
   },
   {
    "duration": 97,
    "start_time": "2022-08-07T10:18:19.682Z"
   },
   {
    "duration": 232,
    "start_time": "2022-08-07T10:18:19.781Z"
   },
   {
    "duration": 466,
    "start_time": "2022-08-07T10:18:20.015Z"
   },
   {
    "duration": 13,
    "start_time": "2022-08-07T10:18:20.482Z"
   },
   {
    "duration": 72,
    "start_time": "2022-08-07T10:18:20.497Z"
   },
   {
    "duration": 923,
    "start_time": "2022-08-07T10:18:20.570Z"
   },
   {
    "duration": 84,
    "start_time": "2022-08-07T10:18:21.496Z"
   },
   {
    "duration": 5,
    "start_time": "2022-08-07T10:18:21.582Z"
   },
   {
    "duration": 12,
    "start_time": "2022-08-07T10:18:21.589Z"
   },
   {
    "duration": 314,
    "start_time": "2022-08-07T10:18:21.602Z"
   },
   {
    "duration": 181,
    "start_time": "2022-08-07T10:18:21.918Z"
   },
   {
    "duration": 13,
    "start_time": "2022-08-07T10:18:22.102Z"
   },
   {
    "duration": 187,
    "start_time": "2022-08-07T10:18:22.117Z"
   },
   {
    "duration": 12,
    "start_time": "2022-08-07T10:18:22.306Z"
   },
   {
    "duration": 7,
    "start_time": "2022-08-07T10:18:22.320Z"
   },
   {
    "duration": 13,
    "start_time": "2022-08-07T10:18:22.329Z"
   },
   {
    "duration": 31,
    "start_time": "2022-08-07T10:18:22.343Z"
   },
   {
    "duration": 1380,
    "start_time": "2022-08-07T10:18:41.141Z"
   },
   {
    "duration": 1282,
    "start_time": "2022-08-07T10:19:03.776Z"
   },
   {
    "duration": 1202,
    "start_time": "2022-08-07T10:19:11.051Z"
   },
   {
    "duration": 271,
    "start_time": "2022-08-07T10:19:12.256Z"
   },
   {
    "duration": 4,
    "start_time": "2022-08-07T10:19:12.529Z"
   },
   {
    "duration": 343,
    "start_time": "2022-08-07T10:19:12.535Z"
   },
   {
    "duration": 32,
    "start_time": "2022-08-07T10:19:12.880Z"
   },
   {
    "duration": 77,
    "start_time": "2022-08-07T10:19:12.913Z"
   },
   {
    "duration": 35,
    "start_time": "2022-08-07T10:19:12.992Z"
   },
   {
    "duration": 78,
    "start_time": "2022-08-07T10:19:13.029Z"
   },
   {
    "duration": 3,
    "start_time": "2022-08-07T10:19:13.109Z"
   },
   {
    "duration": 1573,
    "start_time": "2022-08-07T10:19:13.114Z"
   },
   {
    "duration": 15,
    "start_time": "2022-08-07T10:19:14.689Z"
   },
   {
    "duration": 71,
    "start_time": "2022-08-07T10:19:14.706Z"
   },
   {
    "duration": 98,
    "start_time": "2022-08-07T10:19:14.779Z"
   },
   {
    "duration": 228,
    "start_time": "2022-08-07T10:19:14.881Z"
   },
   {
    "duration": 464,
    "start_time": "2022-08-07T10:19:15.111Z"
   },
   {
    "duration": 12,
    "start_time": "2022-08-07T10:19:15.577Z"
   },
   {
    "duration": 60,
    "start_time": "2022-08-07T10:19:15.591Z"
   },
   {
    "duration": 970,
    "start_time": "2022-08-07T10:19:15.652Z"
   },
   {
    "duration": 74,
    "start_time": "2022-08-07T10:19:16.625Z"
   },
   {
    "duration": 6,
    "start_time": "2022-08-07T10:19:16.702Z"
   },
   {
    "duration": 23,
    "start_time": "2022-08-07T10:19:16.710Z"
   },
   {
    "duration": 319,
    "start_time": "2022-08-07T10:19:16.735Z"
   },
   {
    "duration": 194,
    "start_time": "2022-08-07T10:19:17.055Z"
   },
   {
    "duration": 28,
    "start_time": "2022-08-07T10:19:17.251Z"
   },
   {
    "duration": 4,
    "start_time": "2022-08-07T10:19:17.419Z"
   },
   {
    "duration": 101,
    "start_time": "2022-08-07T10:19:17.425Z"
   },
   {
    "duration": 10,
    "start_time": "2022-08-07T10:20:04.624Z"
   },
   {
    "duration": 7,
    "start_time": "2022-08-07T10:20:32.128Z"
   },
   {
    "duration": 105,
    "start_time": "2022-08-07T10:20:38.116Z"
   },
   {
    "duration": 10,
    "start_time": "2022-08-07T10:20:42.051Z"
   },
   {
    "duration": 10,
    "start_time": "2022-08-07T10:21:04.653Z"
   },
   {
    "duration": 15,
    "start_time": "2022-08-07T10:21:55.622Z"
   },
   {
    "duration": 8,
    "start_time": "2022-08-07T10:22:04.390Z"
   },
   {
    "duration": 9,
    "start_time": "2022-08-07T10:22:07.146Z"
   },
   {
    "duration": 9,
    "start_time": "2022-08-07T10:22:26.056Z"
   },
   {
    "duration": 11,
    "start_time": "2022-08-07T10:22:26.387Z"
   },
   {
    "duration": 1118,
    "start_time": "2022-08-07T10:22:39.418Z"
   },
   {
    "duration": 274,
    "start_time": "2022-08-07T10:22:40.538Z"
   },
   {
    "duration": 4,
    "start_time": "2022-08-07T10:22:40.814Z"
   },
   {
    "duration": 347,
    "start_time": "2022-08-07T10:22:40.820Z"
   },
   {
    "duration": 37,
    "start_time": "2022-08-07T10:22:41.170Z"
   },
   {
    "duration": 89,
    "start_time": "2022-08-07T10:22:41.209Z"
   },
   {
    "duration": 36,
    "start_time": "2022-08-07T10:22:41.300Z"
   },
   {
    "duration": 84,
    "start_time": "2022-08-07T10:22:41.338Z"
   },
   {
    "duration": 4,
    "start_time": "2022-08-07T10:22:41.424Z"
   },
   {
    "duration": 1639,
    "start_time": "2022-08-07T10:22:41.430Z"
   },
   {
    "duration": 21,
    "start_time": "2022-08-07T10:22:43.072Z"
   },
   {
    "duration": 79,
    "start_time": "2022-08-07T10:22:43.095Z"
   },
   {
    "duration": 91,
    "start_time": "2022-08-07T10:22:43.176Z"
   },
   {
    "duration": 243,
    "start_time": "2022-08-07T10:22:43.270Z"
   },
   {
    "duration": 457,
    "start_time": "2022-08-07T10:22:43.515Z"
   },
   {
    "duration": 11,
    "start_time": "2022-08-07T10:22:43.974Z"
   },
   {
    "duration": 60,
    "start_time": "2022-08-07T10:22:43.987Z"
   },
   {
    "duration": 934,
    "start_time": "2022-08-07T10:22:44.049Z"
   },
   {
    "duration": 56,
    "start_time": "2022-08-07T10:22:44.985Z"
   },
   {
    "duration": 5,
    "start_time": "2022-08-07T10:22:45.042Z"
   },
   {
    "duration": 27,
    "start_time": "2022-08-07T10:22:45.049Z"
   },
   {
    "duration": 309,
    "start_time": "2022-08-07T10:22:45.078Z"
   },
   {
    "duration": 184,
    "start_time": "2022-08-07T10:22:45.389Z"
   },
   {
    "duration": 14,
    "start_time": "2022-08-07T10:22:45.575Z"
   },
   {
    "duration": 78,
    "start_time": "2022-08-07T10:22:45.591Z"
   },
   {
    "duration": 15,
    "start_time": "2022-08-07T10:22:45.671Z"
   },
   {
    "duration": 13,
    "start_time": "2022-08-07T10:22:45.688Z"
   },
   {
    "duration": 4,
    "start_time": "2022-08-07T10:25:01.408Z"
   },
   {
    "duration": 11,
    "start_time": "2022-08-07T10:25:05.145Z"
   },
   {
    "duration": 300,
    "start_time": "2022-08-07T10:33:17.427Z"
   },
   {
    "duration": 314,
    "start_time": "2022-08-07T10:33:34.749Z"
   },
   {
    "duration": 373,
    "start_time": "2022-08-07T10:38:56.696Z"
   },
   {
    "duration": 231,
    "start_time": "2022-08-07T10:39:44.758Z"
   },
   {
    "duration": 321,
    "start_time": "2022-08-07T10:40:03.459Z"
   },
   {
    "duration": 319,
    "start_time": "2022-08-07T10:40:28.388Z"
   },
   {
    "duration": 343,
    "start_time": "2022-08-07T10:41:33.758Z"
   },
   {
    "duration": 330,
    "start_time": "2022-08-07T10:42:43.159Z"
   },
   {
    "duration": 282,
    "start_time": "2022-08-07T10:42:53.661Z"
   },
   {
    "duration": 301,
    "start_time": "2022-08-07T10:43:04.904Z"
   },
   {
    "duration": 432,
    "start_time": "2022-08-07T10:43:17.365Z"
   },
   {
    "duration": 262,
    "start_time": "2022-08-07T10:45:33.243Z"
   },
   {
    "duration": 391,
    "start_time": "2022-08-07T10:45:54.056Z"
   },
   {
    "duration": 284,
    "start_time": "2022-08-07T10:46:22.237Z"
   },
   {
    "duration": 93,
    "start_time": "2022-08-07T10:50:06.912Z"
   },
   {
    "duration": 80,
    "start_time": "2022-08-07T10:50:10.894Z"
   },
   {
    "duration": 258,
    "start_time": "2022-08-07T10:50:50.839Z"
   },
   {
    "duration": 1409,
    "start_time": "2022-08-07T10:51:12.593Z"
   },
   {
    "duration": 1575,
    "start_time": "2022-08-07T10:53:13.763Z"
   },
   {
    "duration": 421,
    "start_time": "2022-08-07T10:53:59.041Z"
   },
   {
    "duration": 561,
    "start_time": "2022-08-07T10:54:29.716Z"
   },
   {
    "duration": 444,
    "start_time": "2022-08-07T10:55:59.765Z"
   },
   {
    "duration": 463,
    "start_time": "2022-08-07T10:56:21.232Z"
   },
   {
    "duration": 315,
    "start_time": "2022-08-07T10:56:49.940Z"
   },
   {
    "duration": 450,
    "start_time": "2022-08-07T10:57:04.865Z"
   },
   {
    "duration": 321,
    "start_time": "2022-08-07T10:57:35.707Z"
   },
   {
    "duration": 285,
    "start_time": "2022-08-07T10:57:47.939Z"
   },
   {
    "duration": 460,
    "start_time": "2022-08-07T10:58:47.412Z"
   },
   {
    "duration": 501,
    "start_time": "2022-08-07T10:59:20.709Z"
   },
   {
    "duration": 553,
    "start_time": "2022-08-07T11:00:55.344Z"
   },
   {
    "duration": 536,
    "start_time": "2022-08-07T11:01:06.054Z"
   },
   {
    "duration": 440,
    "start_time": "2022-08-07T11:01:22.988Z"
   },
   {
    "duration": 525,
    "start_time": "2022-08-07T11:02:57.638Z"
   },
   {
    "duration": 638,
    "start_time": "2022-08-07T11:03:46.530Z"
   },
   {
    "duration": 559,
    "start_time": "2022-08-07T11:04:10.893Z"
   },
   {
    "duration": 463,
    "start_time": "2022-08-07T11:04:22.535Z"
   },
   {
    "duration": 78,
    "start_time": "2022-08-07T11:06:07.942Z"
   },
   {
    "duration": 471,
    "start_time": "2022-08-07T11:06:10.396Z"
   },
   {
    "duration": 485,
    "start_time": "2022-08-07T11:08:04.474Z"
   },
   {
    "duration": 438,
    "start_time": "2022-08-07T11:08:16.889Z"
   },
   {
    "duration": 402,
    "start_time": "2022-08-07T11:09:35.361Z"
   },
   {
    "duration": 369,
    "start_time": "2022-08-07T11:09:58.949Z"
   },
   {
    "duration": 427,
    "start_time": "2022-08-07T11:10:16.766Z"
   },
   {
    "duration": 414,
    "start_time": "2022-08-07T11:10:25.474Z"
   },
   {
    "duration": 483,
    "start_time": "2022-08-07T11:11:15.326Z"
   },
   {
    "duration": 453,
    "start_time": "2022-08-07T11:13:16.843Z"
   },
   {
    "duration": 497,
    "start_time": "2022-08-07T11:17:39.963Z"
   },
   {
    "duration": 470,
    "start_time": "2022-08-07T11:17:44.664Z"
   },
   {
    "duration": 322,
    "start_time": "2022-08-07T11:19:10.707Z"
   },
   {
    "duration": 469,
    "start_time": "2022-08-07T11:19:25.411Z"
   },
   {
    "duration": 447,
    "start_time": "2022-08-07T11:19:49.932Z"
   },
   {
    "duration": 421,
    "start_time": "2022-08-07T11:20:10.744Z"
   },
   {
    "duration": 484,
    "start_time": "2022-08-07T11:20:21.166Z"
   },
   {
    "duration": 600,
    "start_time": "2022-08-07T12:03:45.182Z"
   },
   {
    "duration": 11,
    "start_time": "2022-08-07T12:12:40.097Z"
   },
   {
    "duration": 4,
    "start_time": "2022-08-07T12:23:16.802Z"
   },
   {
    "duration": 11,
    "start_time": "2022-08-07T12:23:20.679Z"
   },
   {
    "duration": 438,
    "start_time": "2022-08-07T12:30:11.917Z"
   },
   {
    "duration": 86,
    "start_time": "2022-08-07T12:33:11.712Z"
   },
   {
    "duration": 295,
    "start_time": "2022-08-07T12:33:26.110Z"
   },
   {
    "duration": 358,
    "start_time": "2022-08-07T12:33:34.422Z"
   },
   {
    "duration": 580,
    "start_time": "2022-08-07T12:34:08.415Z"
   },
   {
    "duration": 731,
    "start_time": "2022-08-07T12:34:54.393Z"
   },
   {
    "duration": 630,
    "start_time": "2022-08-07T12:35:02.769Z"
   },
   {
    "duration": 4,
    "start_time": "2022-08-07T12:38:15.146Z"
   },
   {
    "duration": 14,
    "start_time": "2022-08-07T12:38:15.587Z"
   },
   {
    "duration": 589,
    "start_time": "2022-08-07T12:38:16.224Z"
   },
   {
    "duration": 4,
    "start_time": "2022-08-07T12:38:34.459Z"
   },
   {
    "duration": 10,
    "start_time": "2022-08-07T12:38:34.855Z"
   },
   {
    "duration": 551,
    "start_time": "2022-08-07T12:38:35.186Z"
   },
   {
    "duration": 8199,
    "start_time": "2022-08-07T12:40:21.016Z"
   },
   {
    "duration": 10,
    "start_time": "2022-08-07T12:41:02.574Z"
   },
   {
    "duration": 4,
    "start_time": "2022-08-07T12:41:11.884Z"
   },
   {
    "duration": 12,
    "start_time": "2022-08-07T12:41:26.033Z"
   },
   {
    "duration": 12,
    "start_time": "2022-08-07T12:41:35.736Z"
   },
   {
    "duration": 3,
    "start_time": "2022-08-07T12:42:22.138Z"
   },
   {
    "duration": 13,
    "start_time": "2022-08-07T12:42:22.768Z"
   },
   {
    "duration": 11,
    "start_time": "2022-08-07T12:42:27.948Z"
   },
   {
    "duration": 3,
    "start_time": "2022-08-07T12:45:55.883Z"
   },
   {
    "duration": 12,
    "start_time": "2022-08-07T12:45:56.334Z"
   },
   {
    "duration": 12,
    "start_time": "2022-08-07T12:46:19.137Z"
   },
   {
    "duration": 73,
    "start_time": "2022-08-07T12:47:18.557Z"
   },
   {
    "duration": 4,
    "start_time": "2022-08-07T12:47:38.553Z"
   },
   {
    "duration": 11,
    "start_time": "2022-08-07T12:47:45.158Z"
   },
   {
    "duration": 12,
    "start_time": "2022-08-07T12:47:51.857Z"
   },
   {
    "duration": 578,
    "start_time": "2022-08-07T12:47:52.137Z"
   },
   {
    "duration": 420,
    "start_time": "2022-08-07T12:49:18.412Z"
   },
   {
    "duration": 234,
    "start_time": "2022-08-07T12:50:04.429Z"
   },
   {
    "duration": 139,
    "start_time": "2022-08-07T12:50:17.758Z"
   },
   {
    "duration": 102,
    "start_time": "2022-08-07T12:50:39.989Z"
   },
   {
    "duration": 532,
    "start_time": "2022-08-07T12:50:56.325Z"
   },
   {
    "duration": 474,
    "start_time": "2022-08-07T12:51:05.574Z"
   },
   {
    "duration": 484,
    "start_time": "2022-08-07T12:51:33.647Z"
   },
   {
    "duration": 482,
    "start_time": "2022-08-07T12:52:01.428Z"
   },
   {
    "duration": 1163,
    "start_time": "2022-08-07T12:52:51.115Z"
   },
   {
    "duration": 275,
    "start_time": "2022-08-07T12:52:52.280Z"
   },
   {
    "duration": 5,
    "start_time": "2022-08-07T12:52:52.556Z"
   },
   {
    "duration": 370,
    "start_time": "2022-08-07T12:52:52.563Z"
   },
   {
    "duration": 53,
    "start_time": "2022-08-07T12:52:52.935Z"
   },
   {
    "duration": 47,
    "start_time": "2022-08-07T12:52:52.989Z"
   },
   {
    "duration": 38,
    "start_time": "2022-08-07T12:52:53.068Z"
   },
   {
    "duration": 71,
    "start_time": "2022-08-07T12:52:53.108Z"
   },
   {
    "duration": 4,
    "start_time": "2022-08-07T12:52:53.181Z"
   },
   {
    "duration": 1590,
    "start_time": "2022-08-07T12:52:53.187Z"
   },
   {
    "duration": 15,
    "start_time": "2022-08-07T12:52:54.779Z"
   },
   {
    "duration": 56,
    "start_time": "2022-08-07T12:52:54.795Z"
   },
   {
    "duration": 94,
    "start_time": "2022-08-07T12:52:54.853Z"
   },
   {
    "duration": 259,
    "start_time": "2022-08-07T12:52:54.949Z"
   },
   {
    "duration": 450,
    "start_time": "2022-08-07T12:52:55.209Z"
   },
   {
    "duration": 15,
    "start_time": "2022-08-07T12:52:55.661Z"
   },
   {
    "duration": 57,
    "start_time": "2022-08-07T12:52:55.678Z"
   },
   {
    "duration": 989,
    "start_time": "2022-08-07T12:52:55.737Z"
   },
   {
    "duration": 79,
    "start_time": "2022-08-07T12:52:56.728Z"
   },
   {
    "duration": 7,
    "start_time": "2022-08-07T12:52:56.809Z"
   },
   {
    "duration": 15,
    "start_time": "2022-08-07T12:52:56.818Z"
   },
   {
    "duration": 446,
    "start_time": "2022-08-07T12:52:56.835Z"
   },
   {
    "duration": 260,
    "start_time": "2022-08-07T12:52:57.282Z"
   },
   {
    "duration": 34,
    "start_time": "2022-08-07T12:52:57.544Z"
   },
   {
    "duration": 10,
    "start_time": "2022-08-07T12:52:57.580Z"
   },
   {
    "duration": 15,
    "start_time": "2022-08-07T12:52:57.592Z"
   },
   {
    "duration": 12,
    "start_time": "2022-08-07T12:52:57.609Z"
   },
   {
    "duration": 4,
    "start_time": "2022-08-07T12:52:57.624Z"
   },
   {
    "duration": 12,
    "start_time": "2022-08-07T12:52:57.630Z"
   },
   {
    "duration": 499,
    "start_time": "2022-08-07T12:52:57.644Z"
   },
   {
    "duration": 4,
    "start_time": "2022-08-07T12:52:58.144Z"
   },
   {
    "duration": 22,
    "start_time": "2022-08-07T12:52:58.149Z"
   },
   {
    "duration": 569,
    "start_time": "2022-08-07T12:52:58.173Z"
   },
   {
    "duration": 428,
    "start_time": "2022-08-07T12:53:21.610Z"
   },
   {
    "duration": 466,
    "start_time": "2022-08-07T12:56:18.777Z"
   },
   {
    "duration": 447,
    "start_time": "2022-08-07T12:56:29.418Z"
   },
   {
    "duration": 437,
    "start_time": "2022-08-07T12:56:37.495Z"
   },
   {
    "duration": 395,
    "start_time": "2022-08-07T12:58:41.606Z"
   },
   {
    "duration": 571,
    "start_time": "2022-08-07T12:59:12.655Z"
   },
   {
    "duration": 312,
    "start_time": "2022-08-07T12:59:23.900Z"
   },
   {
    "duration": 482,
    "start_time": "2022-08-07T12:59:31.546Z"
   },
   {
    "duration": 325,
    "start_time": "2022-08-07T13:00:39.470Z"
   },
   {
    "duration": 449,
    "start_time": "2022-08-07T13:00:55.049Z"
   },
   {
    "duration": 575,
    "start_time": "2022-08-07T13:01:18.855Z"
   },
   {
    "duration": 472,
    "start_time": "2022-08-07T13:01:39.159Z"
   },
   {
    "duration": 1125,
    "start_time": "2022-08-07T13:01:44.880Z"
   },
   {
    "duration": 282,
    "start_time": "2022-08-07T13:01:46.007Z"
   },
   {
    "duration": 5,
    "start_time": "2022-08-07T13:01:46.290Z"
   },
   {
    "duration": 398,
    "start_time": "2022-08-07T13:01:46.297Z"
   },
   {
    "duration": 41,
    "start_time": "2022-08-07T13:01:46.697Z"
   },
   {
    "duration": 73,
    "start_time": "2022-08-07T13:01:46.740Z"
   },
   {
    "duration": 64,
    "start_time": "2022-08-07T13:01:46.815Z"
   },
   {
    "duration": 53,
    "start_time": "2022-08-07T13:01:46.881Z"
   },
   {
    "duration": 3,
    "start_time": "2022-08-07T13:01:46.936Z"
   },
   {
    "duration": 1533,
    "start_time": "2022-08-07T13:01:46.941Z"
   },
   {
    "duration": 15,
    "start_time": "2022-08-07T13:01:48.476Z"
   },
   {
    "duration": 51,
    "start_time": "2022-08-07T13:01:48.492Z"
   },
   {
    "duration": 99,
    "start_time": "2022-08-07T13:01:48.544Z"
   },
   {
    "duration": 223,
    "start_time": "2022-08-07T13:01:48.645Z"
   },
   {
    "duration": 449,
    "start_time": "2022-08-07T13:01:48.869Z"
   },
   {
    "duration": 11,
    "start_time": "2022-08-07T13:01:49.319Z"
   },
   {
    "duration": 63,
    "start_time": "2022-08-07T13:01:49.331Z"
   },
   {
    "duration": 916,
    "start_time": "2022-08-07T13:01:49.396Z"
   },
   {
    "duration": 66,
    "start_time": "2022-08-07T13:01:50.314Z"
   },
   {
    "duration": 4,
    "start_time": "2022-08-07T13:01:50.382Z"
   },
   {
    "duration": 20,
    "start_time": "2022-08-07T13:01:50.387Z"
   },
   {
    "duration": 428,
    "start_time": "2022-08-07T13:01:50.408Z"
   },
   {
    "duration": 284,
    "start_time": "2022-08-07T13:01:50.838Z"
   },
   {
    "duration": 14,
    "start_time": "2022-08-07T13:01:51.123Z"
   },
   {
    "duration": 33,
    "start_time": "2022-08-07T13:01:51.139Z"
   },
   {
    "duration": 42,
    "start_time": "2022-08-07T13:01:51.173Z"
   },
   {
    "duration": 29,
    "start_time": "2022-08-07T13:01:51.217Z"
   },
   {
    "duration": 30,
    "start_time": "2022-08-07T13:01:51.250Z"
   },
   {
    "duration": 36,
    "start_time": "2022-08-07T13:01:51.282Z"
   },
   {
    "duration": 532,
    "start_time": "2022-08-07T13:01:51.320Z"
   },
   {
    "duration": 17,
    "start_time": "2022-08-07T13:01:51.854Z"
   },
   {
    "duration": 32,
    "start_time": "2022-08-07T13:01:51.873Z"
   },
   {
    "duration": 595,
    "start_time": "2022-08-07T13:01:51.908Z"
   },
   {
    "duration": 407,
    "start_time": "2022-08-07T13:02:45.183Z"
   },
   {
    "duration": 299,
    "start_time": "2022-08-07T13:02:54.337Z"
   },
   {
    "duration": 160,
    "start_time": "2022-08-07T13:07:53.474Z"
   },
   {
    "duration": 492,
    "start_time": "2022-08-07T13:08:04.858Z"
   },
   {
    "duration": 491,
    "start_time": "2022-08-07T13:09:45.123Z"
   },
   {
    "duration": 593,
    "start_time": "2022-08-07T13:10:51.086Z"
   },
   {
    "duration": 1159,
    "start_time": "2022-08-07T13:13:03.875Z"
   },
   {
    "duration": 285,
    "start_time": "2022-08-07T13:13:05.037Z"
   },
   {
    "duration": 5,
    "start_time": "2022-08-07T13:13:05.324Z"
   },
   {
    "duration": 349,
    "start_time": "2022-08-07T13:13:05.332Z"
   },
   {
    "duration": 33,
    "start_time": "2022-08-07T13:13:05.682Z"
   },
   {
    "duration": 78,
    "start_time": "2022-08-07T13:13:05.717Z"
   },
   {
    "duration": 36,
    "start_time": "2022-08-07T13:13:05.797Z"
   },
   {
    "duration": 76,
    "start_time": "2022-08-07T13:13:05.834Z"
   },
   {
    "duration": 3,
    "start_time": "2022-08-07T13:13:05.912Z"
   },
   {
    "duration": 1723,
    "start_time": "2022-08-07T13:13:05.918Z"
   },
   {
    "duration": 15,
    "start_time": "2022-08-07T13:13:07.643Z"
   },
   {
    "duration": 52,
    "start_time": "2022-08-07T13:13:07.668Z"
   },
   {
    "duration": 98,
    "start_time": "2022-08-07T13:13:07.722Z"
   },
   {
    "duration": 235,
    "start_time": "2022-08-07T13:13:07.822Z"
   },
   {
    "duration": 463,
    "start_time": "2022-08-07T13:13:08.059Z"
   },
   {
    "duration": 11,
    "start_time": "2022-08-07T13:13:08.523Z"
   },
   {
    "duration": 66,
    "start_time": "2022-08-07T13:13:08.536Z"
   },
   {
    "duration": 960,
    "start_time": "2022-08-07T13:13:08.603Z"
   },
   {
    "duration": 56,
    "start_time": "2022-08-07T13:13:09.565Z"
   },
   {
    "duration": 5,
    "start_time": "2022-08-07T13:13:09.622Z"
   },
   {
    "duration": 13,
    "start_time": "2022-08-07T13:13:09.629Z"
   },
   {
    "duration": 509,
    "start_time": "2022-08-07T13:13:09.644Z"
   },
   {
    "duration": 295,
    "start_time": "2022-08-07T13:13:10.155Z"
   },
   {
    "duration": 22,
    "start_time": "2022-08-07T13:13:10.452Z"
   },
   {
    "duration": 9,
    "start_time": "2022-08-07T13:13:10.476Z"
   },
   {
    "duration": 14,
    "start_time": "2022-08-07T13:13:10.486Z"
   },
   {
    "duration": 17,
    "start_time": "2022-08-07T13:13:10.501Z"
   },
   {
    "duration": 9,
    "start_time": "2022-08-07T13:13:10.521Z"
   },
   {
    "duration": 14,
    "start_time": "2022-08-07T13:13:10.532Z"
   },
   {
    "duration": 500,
    "start_time": "2022-08-07T13:13:10.548Z"
   },
   {
    "duration": 3,
    "start_time": "2022-08-07T13:13:11.050Z"
   },
   {
    "duration": 20,
    "start_time": "2022-08-07T13:13:11.055Z"
   },
   {
    "duration": 582,
    "start_time": "2022-08-07T13:13:11.077Z"
   },
   {
    "duration": 525,
    "start_time": "2022-08-07T13:23:30.910Z"
   },
   {
    "duration": 512,
    "start_time": "2022-08-07T13:23:48.633Z"
   },
   {
    "duration": 398,
    "start_time": "2022-08-07T13:24:35.338Z"
   },
   {
    "duration": 492,
    "start_time": "2022-08-07T13:24:49.077Z"
   },
   {
    "duration": 489,
    "start_time": "2022-08-07T13:24:53.256Z"
   },
   {
    "duration": 513,
    "start_time": "2022-08-07T13:24:57.023Z"
   },
   {
    "duration": 453,
    "start_time": "2022-08-07T13:27:07.781Z"
   },
   {
    "duration": 462,
    "start_time": "2022-08-07T13:27:23.007Z"
   },
   {
    "duration": 109,
    "start_time": "2022-08-07T13:30:54.206Z"
   },
   {
    "duration": 92,
    "start_time": "2022-08-07T13:31:02.290Z"
   },
   {
    "duration": 79,
    "start_time": "2022-08-07T13:31:21.782Z"
   },
   {
    "duration": 478,
    "start_time": "2022-08-07T13:32:13.041Z"
   },
   {
    "duration": 310,
    "start_time": "2022-08-07T13:32:30.763Z"
   },
   {
    "duration": 547,
    "start_time": "2022-08-07T13:33:29.743Z"
   },
   {
    "duration": 1134,
    "start_time": "2022-08-07T14:12:12.897Z"
   },
   {
    "duration": 818,
    "start_time": "2022-08-07T14:12:14.034Z"
   },
   {
    "duration": 5,
    "start_time": "2022-08-07T14:12:14.853Z"
   },
   {
    "duration": 361,
    "start_time": "2022-08-07T14:12:14.859Z"
   },
   {
    "duration": 51,
    "start_time": "2022-08-07T14:12:15.222Z"
   },
   {
    "duration": 47,
    "start_time": "2022-08-07T14:12:15.275Z"
   },
   {
    "duration": 63,
    "start_time": "2022-08-07T14:12:15.324Z"
   },
   {
    "duration": 57,
    "start_time": "2022-08-07T14:12:15.389Z"
   },
   {
    "duration": 20,
    "start_time": "2022-08-07T14:12:15.448Z"
   },
   {
    "duration": 1644,
    "start_time": "2022-08-07T14:12:15.470Z"
   },
   {
    "duration": 15,
    "start_time": "2022-08-07T14:12:17.116Z"
   },
   {
    "duration": 67,
    "start_time": "2022-08-07T14:12:17.133Z"
   },
   {
    "duration": 106,
    "start_time": "2022-08-07T14:12:17.201Z"
   },
   {
    "duration": 240,
    "start_time": "2022-08-07T14:12:17.310Z"
   },
   {
    "duration": 473,
    "start_time": "2022-08-07T14:12:17.553Z"
   },
   {
    "duration": 12,
    "start_time": "2022-08-07T14:12:18.028Z"
   },
   {
    "duration": 71,
    "start_time": "2022-08-07T14:12:18.041Z"
   },
   {
    "duration": 949,
    "start_time": "2022-08-07T14:12:18.114Z"
   },
   {
    "duration": 56,
    "start_time": "2022-08-07T14:12:19.068Z"
   },
   {
    "duration": 6,
    "start_time": "2022-08-07T14:12:19.125Z"
   },
   {
    "duration": 10,
    "start_time": "2022-08-07T14:12:19.133Z"
   },
   {
    "duration": 460,
    "start_time": "2022-08-07T14:12:19.168Z"
   },
   {
    "duration": 305,
    "start_time": "2022-08-07T14:12:19.629Z"
   },
   {
    "duration": 30,
    "start_time": "2022-08-07T14:12:19.937Z"
   },
   {
    "duration": 7,
    "start_time": "2022-08-07T14:12:19.970Z"
   },
   {
    "duration": 16,
    "start_time": "2022-08-07T14:12:19.979Z"
   },
   {
    "duration": 13,
    "start_time": "2022-08-07T14:12:19.998Z"
   },
   {
    "duration": 19,
    "start_time": "2022-08-07T14:12:20.013Z"
   },
   {
    "duration": 21,
    "start_time": "2022-08-07T14:12:20.034Z"
   },
   {
    "duration": 489,
    "start_time": "2022-08-07T14:12:20.056Z"
   },
   {
    "duration": 3,
    "start_time": "2022-08-07T14:12:20.547Z"
   },
   {
    "duration": 23,
    "start_time": "2022-08-07T14:12:20.551Z"
   },
   {
    "duration": 558,
    "start_time": "2022-08-07T14:12:20.576Z"
   },
   {
    "duration": 265,
    "start_time": "2022-08-07T14:14:15.773Z"
   },
   {
    "duration": 1468,
    "start_time": "2022-08-08T07:40:25.761Z"
   },
   {
    "duration": 805,
    "start_time": "2022-08-08T07:40:27.231Z"
   },
   {
    "duration": 5,
    "start_time": "2022-08-08T07:40:28.038Z"
   },
   {
    "duration": 414,
    "start_time": "2022-08-08T07:40:28.045Z"
   },
   {
    "duration": 59,
    "start_time": "2022-08-08T07:40:28.461Z"
   },
   {
    "duration": 84,
    "start_time": "2022-08-08T07:40:28.523Z"
   },
   {
    "duration": 33,
    "start_time": "2022-08-08T07:40:28.609Z"
   },
   {
    "duration": 85,
    "start_time": "2022-08-08T07:40:28.644Z"
   },
   {
    "duration": 3,
    "start_time": "2022-08-08T07:40:28.730Z"
   },
   {
    "duration": 1623,
    "start_time": "2022-08-08T07:40:28.736Z"
   },
   {
    "duration": 16,
    "start_time": "2022-08-08T07:40:30.361Z"
   },
   {
    "duration": 70,
    "start_time": "2022-08-08T07:40:30.378Z"
   },
   {
    "duration": 108,
    "start_time": "2022-08-08T07:40:30.449Z"
   },
   {
    "duration": 235,
    "start_time": "2022-08-08T07:40:30.559Z"
   },
   {
    "duration": 505,
    "start_time": "2022-08-08T07:40:30.797Z"
   },
   {
    "duration": 11,
    "start_time": "2022-08-08T07:40:31.304Z"
   },
   {
    "duration": 73,
    "start_time": "2022-08-08T07:40:31.317Z"
   },
   {
    "duration": 985,
    "start_time": "2022-08-08T07:40:31.392Z"
   },
   {
    "duration": 67,
    "start_time": "2022-08-08T07:40:32.378Z"
   },
   {
    "duration": 4,
    "start_time": "2022-08-08T07:40:32.447Z"
   },
   {
    "duration": 19,
    "start_time": "2022-08-08T07:40:32.452Z"
   },
   {
    "duration": 539,
    "start_time": "2022-08-08T07:40:32.475Z"
   },
   {
    "duration": 293,
    "start_time": "2022-08-08T07:40:33.017Z"
   },
   {
    "duration": 12,
    "start_time": "2022-08-08T07:40:33.312Z"
   },
   {
    "duration": 7,
    "start_time": "2022-08-08T07:40:33.326Z"
   },
   {
    "duration": 10,
    "start_time": "2022-08-08T07:40:33.334Z"
   },
   {
    "duration": 12,
    "start_time": "2022-08-08T07:40:33.346Z"
   },
   {
    "duration": 26,
    "start_time": "2022-08-08T07:40:33.361Z"
   },
   {
    "duration": 20,
    "start_time": "2022-08-08T07:40:33.391Z"
   },
   {
    "duration": 461,
    "start_time": "2022-08-08T07:40:33.412Z"
   },
   {
    "duration": 4,
    "start_time": "2022-08-08T07:40:33.874Z"
   },
   {
    "duration": 38,
    "start_time": "2022-08-08T07:40:33.879Z"
   },
   {
    "duration": 560,
    "start_time": "2022-08-08T07:40:33.918Z"
   },
   {
    "duration": 515,
    "start_time": "2022-08-08T08:02:27.980Z"
   },
   {
    "duration": 16,
    "start_time": "2022-08-08T08:04:52.853Z"
   },
   {
    "duration": 13,
    "start_time": "2022-08-08T08:05:05.770Z"
   },
   {
    "duration": 41,
    "start_time": "2022-08-08T08:06:00.912Z"
   },
   {
    "duration": 142,
    "start_time": "2022-08-08T08:07:11.565Z"
   },
   {
    "duration": 43,
    "start_time": "2022-08-08T08:07:23.303Z"
   },
   {
    "duration": 26,
    "start_time": "2022-08-08T08:07:58.166Z"
   },
   {
    "duration": 33,
    "start_time": "2022-08-08T08:08:38.111Z"
   },
   {
    "duration": 41,
    "start_time": "2022-08-08T08:09:16.066Z"
   },
   {
    "duration": 63,
    "start_time": "2022-08-08T08:21:20.808Z"
   },
   {
    "duration": 57,
    "start_time": "2022-08-08T08:22:42.385Z"
   },
   {
    "duration": 4,
    "start_time": "2022-08-08T08:22:54.549Z"
   },
   {
    "duration": 60,
    "start_time": "2022-08-08T08:24:09.385Z"
   },
   {
    "duration": 1109,
    "start_time": "2022-08-08T08:24:37.396Z"
   },
   {
    "duration": 258,
    "start_time": "2022-08-08T08:24:38.507Z"
   },
   {
    "duration": 5,
    "start_time": "2022-08-08T08:24:38.767Z"
   },
   {
    "duration": 321,
    "start_time": "2022-08-08T08:24:38.774Z"
   },
   {
    "duration": 29,
    "start_time": "2022-08-08T08:24:39.097Z"
   },
   {
    "duration": 93,
    "start_time": "2022-08-08T08:24:39.128Z"
   },
   {
    "duration": 34,
    "start_time": "2022-08-08T08:24:39.222Z"
   },
   {
    "duration": 77,
    "start_time": "2022-08-08T08:24:39.258Z"
   },
   {
    "duration": 3,
    "start_time": "2022-08-08T08:24:39.337Z"
   },
   {
    "duration": 1431,
    "start_time": "2022-08-08T08:24:39.342Z"
   },
   {
    "duration": 18,
    "start_time": "2022-08-08T08:24:40.775Z"
   },
   {
    "duration": 52,
    "start_time": "2022-08-08T08:24:40.795Z"
   },
   {
    "duration": 94,
    "start_time": "2022-08-08T08:24:40.848Z"
   },
   {
    "duration": 198,
    "start_time": "2022-08-08T08:24:40.945Z"
   },
   {
    "duration": 402,
    "start_time": "2022-08-08T08:24:41.145Z"
   },
   {
    "duration": 11,
    "start_time": "2022-08-08T08:24:41.548Z"
   },
   {
    "duration": 71,
    "start_time": "2022-08-08T08:24:41.560Z"
   },
   {
    "duration": 885,
    "start_time": "2022-08-08T08:24:41.633Z"
   },
   {
    "duration": 53,
    "start_time": "2022-08-08T08:24:42.520Z"
   },
   {
    "duration": 14,
    "start_time": "2022-08-08T08:24:42.575Z"
   },
   {
    "duration": 10,
    "start_time": "2022-08-08T08:24:42.591Z"
   },
   {
    "duration": 424,
    "start_time": "2022-08-08T08:24:42.603Z"
   },
   {
    "duration": 292,
    "start_time": "2022-08-08T08:24:43.029Z"
   },
   {
    "duration": 11,
    "start_time": "2022-08-08T08:24:43.323Z"
   },
   {
    "duration": 7,
    "start_time": "2022-08-08T08:24:43.336Z"
   },
   {
    "duration": 10,
    "start_time": "2022-08-08T08:24:43.345Z"
   },
   {
    "duration": 12,
    "start_time": "2022-08-08T08:24:43.356Z"
   },
   {
    "duration": 4,
    "start_time": "2022-08-08T08:24:43.387Z"
   },
   {
    "duration": 12,
    "start_time": "2022-08-08T08:24:43.392Z"
   },
   {
    "duration": 435,
    "start_time": "2022-08-08T08:24:43.406Z"
   },
   {
    "duration": 3,
    "start_time": "2022-08-08T08:24:43.843Z"
   },
   {
    "duration": 16,
    "start_time": "2022-08-08T08:24:43.847Z"
   },
   {
    "duration": 556,
    "start_time": "2022-08-08T08:24:43.864Z"
   },
   {
    "duration": 12,
    "start_time": "2022-08-08T08:24:44.422Z"
   },
   {
    "duration": 56,
    "start_time": "2022-08-08T08:24:44.435Z"
   },
   {
    "duration": 58,
    "start_time": "2022-08-08T08:24:44.493Z"
   },
   {
    "duration": 4,
    "start_time": "2022-08-08T08:24:44.553Z"
   },
   {
    "duration": 46,
    "start_time": "2022-08-08T08:25:08.662Z"
   },
   {
    "duration": 1139,
    "start_time": "2022-08-08T08:25:22.365Z"
   },
   {
    "duration": 250,
    "start_time": "2022-08-08T08:25:23.506Z"
   },
   {
    "duration": 4,
    "start_time": "2022-08-08T08:25:23.758Z"
   },
   {
    "duration": 370,
    "start_time": "2022-08-08T08:25:23.764Z"
   },
   {
    "duration": 59,
    "start_time": "2022-08-08T08:25:24.136Z"
   },
   {
    "duration": 51,
    "start_time": "2022-08-08T08:25:24.198Z"
   },
   {
    "duration": 68,
    "start_time": "2022-08-08T08:25:24.251Z"
   },
   {
    "duration": 75,
    "start_time": "2022-08-08T08:25:24.321Z"
   },
   {
    "duration": 4,
    "start_time": "2022-08-08T08:25:24.398Z"
   },
   {
    "duration": 1435,
    "start_time": "2022-08-08T08:25:24.404Z"
   },
   {
    "duration": 14,
    "start_time": "2022-08-08T08:25:25.841Z"
   },
   {
    "duration": 67,
    "start_time": "2022-08-08T08:25:25.856Z"
   },
   {
    "duration": 88,
    "start_time": "2022-08-08T08:25:25.925Z"
   },
   {
    "duration": 219,
    "start_time": "2022-08-08T08:25:26.017Z"
   },
   {
    "duration": 509,
    "start_time": "2022-08-08T08:25:26.238Z"
   },
   {
    "duration": 11,
    "start_time": "2022-08-08T08:25:26.749Z"
   },
   {
    "duration": 72,
    "start_time": "2022-08-08T08:25:26.762Z"
   },
   {
    "duration": 854,
    "start_time": "2022-08-08T08:25:26.835Z"
   },
   {
    "duration": 50,
    "start_time": "2022-08-08T08:25:27.690Z"
   },
   {
    "duration": 4,
    "start_time": "2022-08-08T08:25:27.742Z"
   },
   {
    "duration": 12,
    "start_time": "2022-08-08T08:25:27.748Z"
   },
   {
    "duration": 417,
    "start_time": "2022-08-08T08:25:27.761Z"
   },
   {
    "duration": 257,
    "start_time": "2022-08-08T08:25:28.180Z"
   },
   {
    "duration": 13,
    "start_time": "2022-08-08T08:25:28.439Z"
   },
   {
    "duration": 10,
    "start_time": "2022-08-08T08:25:28.453Z"
   },
   {
    "duration": 22,
    "start_time": "2022-08-08T08:25:28.465Z"
   },
   {
    "duration": 13,
    "start_time": "2022-08-08T08:25:28.488Z"
   },
   {
    "duration": 8,
    "start_time": "2022-08-08T08:25:28.502Z"
   },
   {
    "duration": 18,
    "start_time": "2022-08-08T08:25:28.512Z"
   },
   {
    "duration": 429,
    "start_time": "2022-08-08T08:25:28.531Z"
   },
   {
    "duration": 4,
    "start_time": "2022-08-08T08:25:28.962Z"
   },
   {
    "duration": 29,
    "start_time": "2022-08-08T08:25:28.968Z"
   },
   {
    "duration": 540,
    "start_time": "2022-08-08T08:25:29.000Z"
   },
   {
    "duration": 12,
    "start_time": "2022-08-08T08:25:29.542Z"
   },
   {
    "duration": 59,
    "start_time": "2022-08-08T08:25:29.556Z"
   },
   {
    "duration": 71,
    "start_time": "2022-08-08T08:25:29.617Z"
   },
   {
    "duration": 48,
    "start_time": "2022-08-08T08:25:29.690Z"
   },
   {
    "duration": 4,
    "start_time": "2022-08-08T08:25:29.740Z"
   },
   {
    "duration": 47,
    "start_time": "2022-08-08T08:26:32.856Z"
   },
   {
    "duration": 14,
    "start_time": "2022-08-08T08:28:35.680Z"
   },
   {
    "duration": 17,
    "start_time": "2022-08-08T08:34:13.495Z"
   },
   {
    "duration": 24,
    "start_time": "2022-08-08T08:34:39.277Z"
   },
   {
    "duration": 68,
    "start_time": "2022-08-08T08:37:57.765Z"
   },
   {
    "duration": 116,
    "start_time": "2022-08-08T08:38:11.619Z"
   },
   {
    "duration": 42,
    "start_time": "2022-08-08T08:38:20.917Z"
   },
   {
    "duration": 26,
    "start_time": "2022-08-08T08:38:56.211Z"
   },
   {
    "duration": 33,
    "start_time": "2022-08-08T08:39:01.519Z"
   },
   {
    "duration": 67,
    "start_time": "2022-08-08T08:42:05.098Z"
   },
   {
    "duration": 14,
    "start_time": "2022-08-08T08:42:14.695Z"
   },
   {
    "duration": 18,
    "start_time": "2022-08-08T08:42:46.023Z"
   },
   {
    "duration": 11,
    "start_time": "2022-08-08T09:15:14.677Z"
   },
   {
    "duration": 6,
    "start_time": "2022-08-08T09:15:18.184Z"
   },
   {
    "duration": 13,
    "start_time": "2022-08-08T09:17:01.758Z"
   },
   {
    "duration": 9,
    "start_time": "2022-08-08T09:17:03.125Z"
   },
   {
    "duration": 11,
    "start_time": "2022-08-08T09:17:12.005Z"
   },
   {
    "duration": 7,
    "start_time": "2022-08-08T09:17:13.275Z"
   },
   {
    "duration": 81,
    "start_time": "2022-08-08T09:17:45.202Z"
   },
   {
    "duration": 94,
    "start_time": "2022-08-08T09:19:57.102Z"
   },
   {
    "duration": 33,
    "start_time": "2022-08-08T09:20:20.966Z"
   },
   {
    "duration": 29,
    "start_time": "2022-08-08T09:20:29.723Z"
   },
   {
    "duration": 35,
    "start_time": "2022-08-08T09:21:03.906Z"
   },
   {
    "duration": 23,
    "start_time": "2022-08-08T09:23:19.628Z"
   },
   {
    "duration": 36,
    "start_time": "2022-08-08T09:24:08.054Z"
   },
   {
    "duration": 1089,
    "start_time": "2022-08-08T09:24:47.402Z"
   },
   {
    "duration": 248,
    "start_time": "2022-08-08T09:24:48.493Z"
   },
   {
    "duration": 4,
    "start_time": "2022-08-08T09:24:48.743Z"
   },
   {
    "duration": 298,
    "start_time": "2022-08-08T09:24:48.748Z"
   },
   {
    "duration": 48,
    "start_time": "2022-08-08T09:24:49.048Z"
   },
   {
    "duration": 42,
    "start_time": "2022-08-08T09:24:49.098Z"
   },
   {
    "duration": 62,
    "start_time": "2022-08-08T09:24:49.142Z"
   },
   {
    "duration": 49,
    "start_time": "2022-08-08T09:24:49.206Z"
   },
   {
    "duration": 4,
    "start_time": "2022-08-08T09:24:49.257Z"
   },
   {
    "duration": 1447,
    "start_time": "2022-08-08T09:24:49.262Z"
   },
   {
    "duration": 15,
    "start_time": "2022-08-08T09:24:50.710Z"
   },
   {
    "duration": 65,
    "start_time": "2022-08-08T09:24:50.727Z"
   },
   {
    "duration": 79,
    "start_time": "2022-08-08T09:24:50.794Z"
   },
   {
    "duration": 210,
    "start_time": "2022-08-08T09:24:50.889Z"
   },
   {
    "duration": 420,
    "start_time": "2022-08-08T09:24:51.101Z"
   },
   {
    "duration": 11,
    "start_time": "2022-08-08T09:24:51.522Z"
   },
   {
    "duration": 68,
    "start_time": "2022-08-08T09:24:51.536Z"
   },
   {
    "duration": 872,
    "start_time": "2022-08-08T09:24:51.606Z"
   },
   {
    "duration": 53,
    "start_time": "2022-08-08T09:24:52.480Z"
   },
   {
    "duration": 5,
    "start_time": "2022-08-08T09:24:52.535Z"
   },
   {
    "duration": 11,
    "start_time": "2022-08-08T09:24:52.542Z"
   },
   {
    "duration": 422,
    "start_time": "2022-08-08T09:24:52.555Z"
   },
   {
    "duration": 280,
    "start_time": "2022-08-08T09:24:52.979Z"
   },
   {
    "duration": 12,
    "start_time": "2022-08-08T09:24:53.261Z"
   },
   {
    "duration": 3,
    "start_time": "2022-08-08T09:24:53.287Z"
   },
   {
    "duration": 13,
    "start_time": "2022-08-08T09:24:53.292Z"
   },
   {
    "duration": 11,
    "start_time": "2022-08-08T09:24:53.306Z"
   },
   {
    "duration": 7,
    "start_time": "2022-08-08T09:24:53.318Z"
   },
   {
    "duration": 14,
    "start_time": "2022-08-08T09:24:53.326Z"
   },
   {
    "duration": 450,
    "start_time": "2022-08-08T09:24:53.341Z"
   },
   {
    "duration": 3,
    "start_time": "2022-08-08T09:24:53.793Z"
   },
   {
    "duration": 27,
    "start_time": "2022-08-08T09:24:53.798Z"
   },
   {
    "duration": 507,
    "start_time": "2022-08-08T09:24:53.827Z"
   },
   {
    "duration": 12,
    "start_time": "2022-08-08T09:24:54.335Z"
   },
   {
    "duration": 54,
    "start_time": "2022-08-08T09:24:54.348Z"
   },
   {
    "duration": 57,
    "start_time": "2022-08-08T09:24:54.403Z"
   },
   {
    "duration": 59,
    "start_time": "2022-08-08T09:24:54.462Z"
   },
   {
    "duration": 4,
    "start_time": "2022-08-08T09:24:54.523Z"
   },
   {
    "duration": 26,
    "start_time": "2022-08-08T09:24:54.529Z"
   },
   {
    "duration": 38,
    "start_time": "2022-08-08T09:24:54.557Z"
   },
   {
    "duration": 59,
    "start_time": "2022-08-08T09:24:54.598Z"
   },
   {
    "duration": 16,
    "start_time": "2022-08-08T09:24:54.658Z"
   },
   {
    "duration": 15,
    "start_time": "2022-08-08T09:24:54.687Z"
   },
   {
    "duration": 46,
    "start_time": "2022-08-08T09:24:54.704Z"
   },
   {
    "duration": 38,
    "start_time": "2022-08-08T09:25:16.203Z"
   },
   {
    "duration": 1049,
    "start_time": "2022-08-08T09:25:33.046Z"
   },
   {
    "duration": 257,
    "start_time": "2022-08-08T09:25:34.097Z"
   },
   {
    "duration": 5,
    "start_time": "2022-08-08T09:25:34.355Z"
   },
   {
    "duration": 318,
    "start_time": "2022-08-08T09:25:34.362Z"
   },
   {
    "duration": 31,
    "start_time": "2022-08-08T09:25:34.686Z"
   },
   {
    "duration": 76,
    "start_time": "2022-08-08T09:25:34.718Z"
   },
   {
    "duration": 33,
    "start_time": "2022-08-08T09:25:34.796Z"
   },
   {
    "duration": 68,
    "start_time": "2022-08-08T09:25:34.831Z"
   },
   {
    "duration": 4,
    "start_time": "2022-08-08T09:25:34.900Z"
   },
   {
    "duration": 1488,
    "start_time": "2022-08-08T09:25:34.906Z"
   },
   {
    "duration": 17,
    "start_time": "2022-08-08T09:25:36.396Z"
   },
   {
    "duration": 78,
    "start_time": "2022-08-08T09:25:36.415Z"
   },
   {
    "duration": 79,
    "start_time": "2022-08-08T09:25:36.494Z"
   },
   {
    "duration": 220,
    "start_time": "2022-08-08T09:25:36.574Z"
   },
   {
    "duration": 429,
    "start_time": "2022-08-08T09:25:36.795Z"
   },
   {
    "duration": 10,
    "start_time": "2022-08-08T09:25:37.226Z"
   },
   {
    "duration": 72,
    "start_time": "2022-08-08T09:25:37.238Z"
   },
   {
    "duration": 825,
    "start_time": "2022-08-08T09:25:37.312Z"
   },
   {
    "duration": 55,
    "start_time": "2022-08-08T09:25:38.139Z"
   },
   {
    "duration": 4,
    "start_time": "2022-08-08T09:25:38.195Z"
   },
   {
    "duration": 16,
    "start_time": "2022-08-08T09:25:38.201Z"
   },
   {
    "duration": 415,
    "start_time": "2022-08-08T09:25:38.218Z"
   },
   {
    "duration": 285,
    "start_time": "2022-08-08T09:25:38.634Z"
   },
   {
    "duration": 12,
    "start_time": "2022-08-08T09:25:38.921Z"
   },
   {
    "duration": 9,
    "start_time": "2022-08-08T09:25:38.935Z"
   },
   {
    "duration": 10,
    "start_time": "2022-08-08T09:25:38.946Z"
   },
   {
    "duration": 12,
    "start_time": "2022-08-08T09:25:38.958Z"
   },
   {
    "duration": 3,
    "start_time": "2022-08-08T09:25:38.989Z"
   },
   {
    "duration": 14,
    "start_time": "2022-08-08T09:25:38.994Z"
   },
   {
    "duration": 433,
    "start_time": "2022-08-08T09:25:39.009Z"
   },
   {
    "duration": 3,
    "start_time": "2022-08-08T09:25:39.444Z"
   },
   {
    "duration": 15,
    "start_time": "2022-08-08T09:25:39.448Z"
   },
   {
    "duration": 509,
    "start_time": "2022-08-08T09:25:39.465Z"
   },
   {
    "duration": 17,
    "start_time": "2022-08-08T09:25:39.975Z"
   },
   {
    "duration": 59,
    "start_time": "2022-08-08T09:25:39.994Z"
   },
   {
    "duration": 76,
    "start_time": "2022-08-08T09:25:40.055Z"
   },
   {
    "duration": 44,
    "start_time": "2022-08-08T09:25:40.133Z"
   },
   {
    "duration": 10,
    "start_time": "2022-08-08T09:25:40.178Z"
   },
   {
    "duration": 18,
    "start_time": "2022-08-08T09:25:40.189Z"
   },
   {
    "duration": 31,
    "start_time": "2022-08-08T09:25:40.208Z"
   },
   {
    "duration": 77,
    "start_time": "2022-08-08T09:25:40.241Z"
   },
   {
    "duration": 16,
    "start_time": "2022-08-08T09:25:40.320Z"
   },
   {
    "duration": 19,
    "start_time": "2022-08-08T09:25:40.338Z"
   },
   {
    "duration": 44,
    "start_time": "2022-08-08T09:25:40.359Z"
   },
   {
    "duration": 11,
    "start_time": "2022-08-08T09:27:02.562Z"
   },
   {
    "duration": 20,
    "start_time": "2022-08-08T09:27:10.822Z"
   },
   {
    "duration": 25,
    "start_time": "2022-08-08T09:27:31.306Z"
   },
   {
    "duration": 27,
    "start_time": "2022-08-08T09:27:33.900Z"
   },
   {
    "duration": 1122,
    "start_time": "2022-08-08T09:27:42.178Z"
   },
   {
    "duration": 248,
    "start_time": "2022-08-08T09:27:43.301Z"
   },
   {
    "duration": 4,
    "start_time": "2022-08-08T09:27:43.551Z"
   },
   {
    "duration": 302,
    "start_time": "2022-08-08T09:27:43.556Z"
   },
   {
    "duration": 44,
    "start_time": "2022-08-08T09:27:43.860Z"
   },
   {
    "duration": 41,
    "start_time": "2022-08-08T09:27:43.906Z"
   },
   {
    "duration": 69,
    "start_time": "2022-08-08T09:27:43.949Z"
   },
   {
    "duration": 75,
    "start_time": "2022-08-08T09:27:44.020Z"
   },
   {
    "duration": 3,
    "start_time": "2022-08-08T09:27:44.097Z"
   },
   {
    "duration": 1426,
    "start_time": "2022-08-08T09:27:44.101Z"
   },
   {
    "duration": 14,
    "start_time": "2022-08-08T09:27:45.529Z"
   },
   {
    "duration": 62,
    "start_time": "2022-08-08T09:27:45.545Z"
   },
   {
    "duration": 81,
    "start_time": "2022-08-08T09:27:45.608Z"
   },
   {
    "duration": 207,
    "start_time": "2022-08-08T09:27:45.692Z"
   },
   {
    "duration": 451,
    "start_time": "2022-08-08T09:27:45.900Z"
   },
   {
    "duration": 14,
    "start_time": "2022-08-08T09:27:46.353Z"
   },
   {
    "duration": 86,
    "start_time": "2022-08-08T09:27:46.369Z"
   },
   {
    "duration": 853,
    "start_time": "2022-08-08T09:27:46.457Z"
   },
   {
    "duration": 50,
    "start_time": "2022-08-08T09:27:47.311Z"
   },
   {
    "duration": 4,
    "start_time": "2022-08-08T09:27:47.363Z"
   },
   {
    "duration": 21,
    "start_time": "2022-08-08T09:27:47.368Z"
   },
   {
    "duration": 407,
    "start_time": "2022-08-08T09:27:47.390Z"
   },
   {
    "duration": 246,
    "start_time": "2022-08-08T09:27:47.798Z"
   },
   {
    "duration": 11,
    "start_time": "2022-08-08T09:27:48.046Z"
   },
   {
    "duration": 19,
    "start_time": "2022-08-08T09:27:48.058Z"
   },
   {
    "duration": 17,
    "start_time": "2022-08-08T09:27:48.078Z"
   },
   {
    "duration": 25,
    "start_time": "2022-08-08T09:27:48.097Z"
   },
   {
    "duration": 22,
    "start_time": "2022-08-08T09:27:48.124Z"
   },
   {
    "duration": 18,
    "start_time": "2022-08-08T09:27:48.148Z"
   },
   {
    "duration": 455,
    "start_time": "2022-08-08T09:27:48.168Z"
   },
   {
    "duration": 4,
    "start_time": "2022-08-08T09:27:48.625Z"
   },
   {
    "duration": 19,
    "start_time": "2022-08-08T09:27:48.630Z"
   },
   {
    "duration": 479,
    "start_time": "2022-08-08T09:27:48.651Z"
   },
   {
    "duration": 12,
    "start_time": "2022-08-08T09:27:49.132Z"
   },
   {
    "duration": 55,
    "start_time": "2022-08-08T09:27:49.146Z"
   },
   {
    "duration": 58,
    "start_time": "2022-08-08T09:27:49.203Z"
   },
   {
    "duration": 63,
    "start_time": "2022-08-08T09:27:49.263Z"
   },
   {
    "duration": 4,
    "start_time": "2022-08-08T09:27:49.328Z"
   },
   {
    "duration": 13,
    "start_time": "2022-08-08T09:27:49.334Z"
   },
   {
    "duration": 43,
    "start_time": "2022-08-08T09:27:49.349Z"
   },
   {
    "duration": 58,
    "start_time": "2022-08-08T09:27:49.396Z"
   },
   {
    "duration": 32,
    "start_time": "2022-08-08T09:27:49.456Z"
   },
   {
    "duration": 19,
    "start_time": "2022-08-08T09:27:49.490Z"
   },
   {
    "duration": 24,
    "start_time": "2022-08-08T09:27:49.510Z"
   },
   {
    "duration": 13,
    "start_time": "2022-08-08T12:37:18.509Z"
   },
   {
    "duration": 16,
    "start_time": "2022-08-08T12:37:22.519Z"
   },
   {
    "duration": 7,
    "start_time": "2022-08-08T12:39:47.360Z"
   },
   {
    "duration": 105,
    "start_time": "2022-08-08T12:40:06.384Z"
   },
   {
    "duration": 8,
    "start_time": "2022-08-08T12:40:28.791Z"
   },
   {
    "duration": 9,
    "start_time": "2022-08-08T12:40:53.683Z"
   },
   {
    "duration": 9,
    "start_time": "2022-08-08T12:42:08.245Z"
   },
   {
    "duration": 8,
    "start_time": "2022-08-08T12:42:17.690Z"
   },
   {
    "duration": 11,
    "start_time": "2022-08-08T12:42:26.392Z"
   },
   {
    "duration": 7,
    "start_time": "2022-08-08T12:43:09.243Z"
   },
   {
    "duration": 8,
    "start_time": "2022-08-08T12:43:09.908Z"
   },
   {
    "duration": 8,
    "start_time": "2022-08-08T12:59:40.455Z"
   },
   {
    "duration": 10,
    "start_time": "2022-08-08T12:59:44.081Z"
   },
   {
    "duration": 9,
    "start_time": "2022-08-08T13:00:24.864Z"
   },
   {
    "duration": 14,
    "start_time": "2022-08-08T13:03:33.549Z"
   },
   {
    "duration": 68,
    "start_time": "2022-08-08T13:04:41.900Z"
   },
   {
    "duration": 64,
    "start_time": "2022-08-08T13:04:58.761Z"
   },
   {
    "duration": 56,
    "start_time": "2022-08-08T13:06:36.988Z"
   },
   {
    "duration": 62,
    "start_time": "2022-08-08T13:06:52.461Z"
   },
   {
    "duration": 4,
    "start_time": "2022-08-08T13:07:31.081Z"
   },
   {
    "duration": 10,
    "start_time": "2022-08-08T13:07:35.456Z"
   },
   {
    "duration": 58,
    "start_time": "2022-08-08T13:07:41.804Z"
   },
   {
    "duration": 78,
    "start_time": "2022-08-08T13:07:55.609Z"
   },
   {
    "duration": 59,
    "start_time": "2022-08-08T13:09:28.315Z"
   },
   {
    "duration": 63,
    "start_time": "2022-08-08T13:09:38.462Z"
   },
   {
    "duration": 220,
    "start_time": "2022-08-08T13:10:30.003Z"
   },
   {
    "duration": 192,
    "start_time": "2022-08-08T13:10:44.418Z"
   },
   {
    "duration": 63,
    "start_time": "2022-08-08T13:11:18.875Z"
   },
   {
    "duration": 214,
    "start_time": "2022-08-08T13:11:57.580Z"
   },
   {
    "duration": 12,
    "start_time": "2022-08-08T13:20:51.671Z"
   },
   {
    "duration": 35,
    "start_time": "2022-08-08T13:22:42.653Z"
   },
   {
    "duration": 32,
    "start_time": "2022-08-08T13:23:31.594Z"
   },
   {
    "duration": 8,
    "start_time": "2022-08-08T13:23:35.411Z"
   },
   {
    "duration": 4,
    "start_time": "2022-08-08T13:23:45.306Z"
   },
   {
    "duration": 8,
    "start_time": "2022-08-08T13:23:58.387Z"
   },
   {
    "duration": 34,
    "start_time": "2022-08-08T13:24:59.075Z"
   },
   {
    "duration": 36,
    "start_time": "2022-08-08T13:25:06.516Z"
   },
   {
    "duration": 39,
    "start_time": "2022-08-08T13:25:09.513Z"
   },
   {
    "duration": 30,
    "start_time": "2022-08-08T13:30:22.817Z"
   },
   {
    "duration": 44,
    "start_time": "2022-08-08T13:30:30.775Z"
   },
   {
    "duration": 40,
    "start_time": "2022-08-08T13:33:46.514Z"
   },
   {
    "duration": 41,
    "start_time": "2022-08-08T13:34:26.123Z"
   },
   {
    "duration": 42,
    "start_time": "2022-08-08T13:34:32.704Z"
   },
   {
    "duration": 65,
    "start_time": "2022-08-08T13:34:54.773Z"
   },
   {
    "duration": 199,
    "start_time": "2022-08-08T13:34:55.298Z"
   },
   {
    "duration": 41,
    "start_time": "2022-08-08T13:34:57.268Z"
   },
   {
    "duration": 40,
    "start_time": "2022-08-08T13:35:05.409Z"
   },
   {
    "duration": 39,
    "start_time": "2022-08-08T13:36:12.586Z"
   },
   {
    "duration": 13,
    "start_time": "2022-08-08T13:36:51.604Z"
   },
   {
    "duration": 305,
    "start_time": "2022-08-08T13:37:47.795Z"
   },
   {
    "duration": 332,
    "start_time": "2022-08-08T13:37:53.868Z"
   },
   {
    "duration": 45,
    "start_time": "2022-08-08T13:39:43.820Z"
   },
   {
    "duration": 310,
    "start_time": "2022-08-08T13:42:51.739Z"
   },
   {
    "duration": 34,
    "start_time": "2022-08-08T13:43:09.968Z"
   },
   {
    "duration": 249,
    "start_time": "2022-08-08T13:45:54.487Z"
   },
   {
    "duration": 268,
    "start_time": "2022-08-08T13:53:49.244Z"
   },
   {
    "duration": 1144,
    "start_time": "2022-08-08T13:56:53.369Z"
   },
   {
    "duration": 259,
    "start_time": "2022-08-08T13:56:54.515Z"
   },
   {
    "duration": 4,
    "start_time": "2022-08-08T13:56:54.776Z"
   },
   {
    "duration": 322,
    "start_time": "2022-08-08T13:56:54.782Z"
   },
   {
    "duration": 33,
    "start_time": "2022-08-08T13:56:55.106Z"
   },
   {
    "duration": 74,
    "start_time": "2022-08-08T13:56:55.141Z"
   },
   {
    "duration": 34,
    "start_time": "2022-08-08T13:56:55.216Z"
   },
   {
    "duration": 90,
    "start_time": "2022-08-08T13:56:55.252Z"
   },
   {
    "duration": 4,
    "start_time": "2022-08-08T13:56:55.344Z"
   },
   {
    "duration": 1518,
    "start_time": "2022-08-08T13:56:55.350Z"
   },
   {
    "duration": 20,
    "start_time": "2022-08-08T13:56:56.870Z"
   },
   {
    "duration": 49,
    "start_time": "2022-08-08T13:56:56.892Z"
   },
   {
    "duration": 91,
    "start_time": "2022-08-08T13:56:56.943Z"
   },
   {
    "duration": 196,
    "start_time": "2022-08-08T13:56:57.036Z"
   },
   {
    "duration": 403,
    "start_time": "2022-08-08T13:56:57.233Z"
   },
   {
    "duration": 18,
    "start_time": "2022-08-08T13:56:57.638Z"
   },
   {
    "duration": 68,
    "start_time": "2022-08-08T13:56:57.658Z"
   },
   {
    "duration": 800,
    "start_time": "2022-08-08T13:56:57.727Z"
   },
   {
    "duration": 58,
    "start_time": "2022-08-08T13:56:58.529Z"
   },
   {
    "duration": 5,
    "start_time": "2022-08-08T13:56:58.588Z"
   },
   {
    "duration": 12,
    "start_time": "2022-08-08T13:56:58.594Z"
   },
   {
    "duration": 436,
    "start_time": "2022-08-08T13:56:58.607Z"
   },
   {
    "duration": 284,
    "start_time": "2022-08-08T13:56:59.045Z"
   },
   {
    "duration": 11,
    "start_time": "2022-08-08T13:56:59.330Z"
   },
   {
    "duration": 6,
    "start_time": "2022-08-08T13:56:59.343Z"
   },
   {
    "duration": 11,
    "start_time": "2022-08-08T13:56:59.351Z"
   },
   {
    "duration": 14,
    "start_time": "2022-08-08T13:56:59.363Z"
   },
   {
    "duration": 3,
    "start_time": "2022-08-08T13:56:59.387Z"
   },
   {
    "duration": 12,
    "start_time": "2022-08-08T13:56:59.392Z"
   },
   {
    "duration": 435,
    "start_time": "2022-08-08T13:56:59.405Z"
   },
   {
    "duration": 4,
    "start_time": "2022-08-08T13:56:59.841Z"
   },
   {
    "duration": 15,
    "start_time": "2022-08-08T13:56:59.846Z"
   },
   {
    "duration": 77,
    "start_time": "2022-08-08T13:56:59.863Z"
   },
   {
    "duration": 227,
    "start_time": "2022-08-08T13:56:59.942Z"
   },
   {
    "duration": 50,
    "start_time": "2022-08-08T13:57:00.171Z"
   },
   {
    "duration": 394,
    "start_time": "2022-08-08T13:57:00.222Z"
   },
   {
    "duration": 44,
    "start_time": "2022-08-08T13:58:36.786Z"
   },
   {
    "duration": 334,
    "start_time": "2022-08-08T13:58:42.852Z"
   },
   {
    "duration": 334,
    "start_time": "2022-08-08T13:58:48.453Z"
   },
   {
    "duration": 43,
    "start_time": "2022-08-08T13:59:00.432Z"
   },
   {
    "duration": 359,
    "start_time": "2022-08-08T13:59:01.125Z"
   },
   {
    "duration": 45,
    "start_time": "2022-08-08T14:06:08.213Z"
   },
   {
    "duration": 327,
    "start_time": "2022-08-08T14:06:08.430Z"
   },
   {
    "duration": 92,
    "start_time": "2022-08-08T14:07:23.308Z"
   },
   {
    "duration": 8,
    "start_time": "2022-08-08T14:07:39.728Z"
   },
   {
    "duration": 9,
    "start_time": "2022-08-08T14:07:48.508Z"
   },
   {
    "duration": 1175,
    "start_time": "2022-08-08T14:09:53.557Z"
   },
   {
    "duration": 267,
    "start_time": "2022-08-08T14:09:54.735Z"
   },
   {
    "duration": 5,
    "start_time": "2022-08-08T14:09:55.003Z"
   },
   {
    "duration": 339,
    "start_time": "2022-08-08T14:09:55.009Z"
   },
   {
    "duration": 53,
    "start_time": "2022-08-08T14:09:55.351Z"
   },
   {
    "duration": 47,
    "start_time": "2022-08-08T14:09:55.405Z"
   },
   {
    "duration": 65,
    "start_time": "2022-08-08T14:09:55.454Z"
   },
   {
    "duration": 70,
    "start_time": "2022-08-08T14:09:55.521Z"
   },
   {
    "duration": 4,
    "start_time": "2022-08-08T14:09:55.593Z"
   },
   {
    "duration": 1593,
    "start_time": "2022-08-08T14:09:55.601Z"
   },
   {
    "duration": 13,
    "start_time": "2022-08-08T14:09:57.196Z"
   },
   {
    "duration": 54,
    "start_time": "2022-08-08T14:09:57.210Z"
   },
   {
    "duration": 91,
    "start_time": "2022-08-08T14:09:57.266Z"
   },
   {
    "duration": 222,
    "start_time": "2022-08-08T14:09:57.359Z"
   },
   {
    "duration": 413,
    "start_time": "2022-08-08T14:09:57.587Z"
   },
   {
    "duration": 14,
    "start_time": "2022-08-08T14:09:58.001Z"
   },
   {
    "duration": 78,
    "start_time": "2022-08-08T14:09:58.017Z"
   },
   {
    "duration": 825,
    "start_time": "2022-08-08T14:09:58.097Z"
   },
   {
    "duration": 63,
    "start_time": "2022-08-08T14:09:58.924Z"
   },
   {
    "duration": 5,
    "start_time": "2022-08-08T14:09:58.989Z"
   },
   {
    "duration": 11,
    "start_time": "2022-08-08T14:09:58.995Z"
   },
   {
    "duration": 447,
    "start_time": "2022-08-08T14:09:59.008Z"
   },
   {
    "duration": 277,
    "start_time": "2022-08-08T14:09:59.457Z"
   },
   {
    "duration": 12,
    "start_time": "2022-08-08T14:09:59.736Z"
   },
   {
    "duration": 8,
    "start_time": "2022-08-08T14:09:59.750Z"
   },
   {
    "duration": 29,
    "start_time": "2022-08-08T14:09:59.759Z"
   },
   {
    "duration": 11,
    "start_time": "2022-08-08T14:09:59.789Z"
   },
   {
    "duration": 6,
    "start_time": "2022-08-08T14:09:59.801Z"
   },
   {
    "duration": 10,
    "start_time": "2022-08-08T14:09:59.809Z"
   },
   {
    "duration": 431,
    "start_time": "2022-08-08T14:09:59.821Z"
   },
   {
    "duration": 4,
    "start_time": "2022-08-08T14:10:00.254Z"
   },
   {
    "duration": 31,
    "start_time": "2022-08-08T14:10:00.259Z"
   },
   {
    "duration": 74,
    "start_time": "2022-08-08T14:10:00.292Z"
   },
   {
    "duration": 219,
    "start_time": "2022-08-08T14:10:00.368Z"
   },
   {
    "duration": 48,
    "start_time": "2022-08-08T14:10:00.589Z"
   },
   {
    "duration": 9,
    "start_time": "2022-08-08T14:10:00.638Z"
   },
   {
    "duration": 120,
    "start_time": "2022-08-08T14:10:00.649Z"
   },
   {
    "duration": 414,
    "start_time": "2022-08-08T14:10:15.036Z"
   },
   {
    "duration": 340,
    "start_time": "2022-08-08T14:11:58.955Z"
   },
   {
    "duration": 39,
    "start_time": "2022-08-08T14:17:47.448Z"
   },
   {
    "duration": 342,
    "start_time": "2022-08-08T14:18:07.447Z"
   },
   {
    "duration": 18,
    "start_time": "2022-08-08T14:40:26.644Z"
   },
   {
    "duration": 13,
    "start_time": "2022-08-08T14:41:29.217Z"
   },
   {
    "duration": 25,
    "start_time": "2022-08-08T14:41:46.427Z"
   },
   {
    "duration": 15,
    "start_time": "2022-08-08T15:09:27.214Z"
   },
   {
    "duration": 58,
    "start_time": "2022-08-08T15:09:35.135Z"
   },
   {
    "duration": 26,
    "start_time": "2022-08-08T15:10:56.150Z"
   },
   {
    "duration": 39,
    "start_time": "2022-08-08T15:14:23.114Z"
   },
   {
    "duration": 41,
    "start_time": "2022-08-08T15:14:50.342Z"
   },
   {
    "duration": 38,
    "start_time": "2022-08-08T15:15:55.805Z"
   },
   {
    "duration": 25,
    "start_time": "2022-08-08T15:15:57.958Z"
   },
   {
    "duration": 25,
    "start_time": "2022-08-08T16:21:43.124Z"
   },
   {
    "duration": 44,
    "start_time": "2022-08-08T16:21:55.424Z"
   },
   {
    "duration": 61,
    "start_time": "2022-08-08T16:22:04.244Z"
   },
   {
    "duration": 73,
    "start_time": "2022-08-08T16:22:47.793Z"
   },
   {
    "duration": 66,
    "start_time": "2022-08-08T16:23:22.865Z"
   },
   {
    "duration": 71,
    "start_time": "2022-08-08T16:23:33.084Z"
   },
   {
    "duration": 12,
    "start_time": "2022-08-08T16:23:55.793Z"
   },
   {
    "duration": 5,
    "start_time": "2022-08-08T16:27:12.366Z"
   },
   {
    "duration": 8,
    "start_time": "2022-08-08T16:27:57.587Z"
   },
   {
    "duration": 9,
    "start_time": "2022-08-08T16:34:58.744Z"
   },
   {
    "duration": 10,
    "start_time": "2022-08-08T16:35:18.971Z"
   },
   {
    "duration": 11,
    "start_time": "2022-08-08T16:35:27.791Z"
   },
   {
    "duration": 11,
    "start_time": "2022-08-08T16:36:10.917Z"
   },
   {
    "duration": 12,
    "start_time": "2022-08-08T16:36:18.655Z"
   },
   {
    "duration": 10,
    "start_time": "2022-08-08T16:36:23.317Z"
   },
   {
    "duration": 11,
    "start_time": "2022-08-08T16:36:30.143Z"
   },
   {
    "duration": 11,
    "start_time": "2022-08-08T16:37:25.263Z"
   },
   {
    "duration": 1061,
    "start_time": "2022-08-08T16:37:33.118Z"
   },
   {
    "duration": 251,
    "start_time": "2022-08-08T16:37:34.181Z"
   },
   {
    "duration": 4,
    "start_time": "2022-08-08T16:37:34.433Z"
   },
   {
    "duration": 312,
    "start_time": "2022-08-08T16:37:34.440Z"
   },
   {
    "duration": 51,
    "start_time": "2022-08-08T16:37:34.754Z"
   },
   {
    "duration": 41,
    "start_time": "2022-08-08T16:37:34.807Z"
   },
   {
    "duration": 69,
    "start_time": "2022-08-08T16:37:34.849Z"
   },
   {
    "duration": 67,
    "start_time": "2022-08-08T16:37:34.920Z"
   },
   {
    "duration": 3,
    "start_time": "2022-08-08T16:37:34.989Z"
   },
   {
    "duration": 1433,
    "start_time": "2022-08-08T16:37:34.994Z"
   },
   {
    "duration": 14,
    "start_time": "2022-08-08T16:37:36.428Z"
   },
   {
    "duration": 60,
    "start_time": "2022-08-08T16:37:36.443Z"
   },
   {
    "duration": 92,
    "start_time": "2022-08-08T16:37:36.505Z"
   },
   {
    "duration": 215,
    "start_time": "2022-08-08T16:37:36.599Z"
   },
   {
    "duration": 407,
    "start_time": "2022-08-08T16:37:36.816Z"
   },
   {
    "duration": 12,
    "start_time": "2022-08-08T16:37:37.225Z"
   },
   {
    "duration": 80,
    "start_time": "2022-08-08T16:37:37.238Z"
   },
   {
    "duration": 832,
    "start_time": "2022-08-08T16:37:37.319Z"
   },
   {
    "duration": 58,
    "start_time": "2022-08-08T16:37:38.152Z"
   },
   {
    "duration": 4,
    "start_time": "2022-08-08T16:37:38.211Z"
   },
   {
    "duration": 10,
    "start_time": "2022-08-08T16:37:38.216Z"
   },
   {
    "duration": 396,
    "start_time": "2022-08-08T16:37:38.227Z"
   },
   {
    "duration": 295,
    "start_time": "2022-08-08T16:37:38.625Z"
   },
   {
    "duration": 12,
    "start_time": "2022-08-08T16:37:38.921Z"
   },
   {
    "duration": 6,
    "start_time": "2022-08-08T16:37:38.935Z"
   },
   {
    "duration": 10,
    "start_time": "2022-08-08T16:37:38.942Z"
   },
   {
    "duration": 11,
    "start_time": "2022-08-08T16:37:38.954Z"
   },
   {
    "duration": 4,
    "start_time": "2022-08-08T16:37:38.987Z"
   },
   {
    "duration": 11,
    "start_time": "2022-08-08T16:37:38.992Z"
   },
   {
    "duration": 423,
    "start_time": "2022-08-08T16:37:39.004Z"
   },
   {
    "duration": 3,
    "start_time": "2022-08-08T16:37:39.429Z"
   },
   {
    "duration": 15,
    "start_time": "2022-08-08T16:37:39.434Z"
   },
   {
    "duration": 72,
    "start_time": "2022-08-08T16:37:39.450Z"
   },
   {
    "duration": 216,
    "start_time": "2022-08-08T16:37:39.524Z"
   },
   {
    "duration": 45,
    "start_time": "2022-08-08T16:37:39.742Z"
   },
   {
    "duration": 8,
    "start_time": "2022-08-08T16:37:39.789Z"
   },
   {
    "duration": 391,
    "start_time": "2022-08-08T16:37:39.798Z"
   },
   {
    "duration": 311,
    "start_time": "2022-08-08T16:37:40.191Z"
   },
   {
    "duration": 11,
    "start_time": "2022-08-08T16:37:40.504Z"
   },
   {
    "duration": 72,
    "start_time": "2022-08-08T16:37:40.516Z"
   },
   {
    "duration": 24,
    "start_time": "2022-08-08T16:37:40.589Z"
   },
   {
    "duration": 11,
    "start_time": "2022-08-08T16:37:40.615Z"
   },
   {
    "duration": 11,
    "start_time": "2022-08-08T16:43:20.495Z"
   },
   {
    "duration": 13,
    "start_time": "2022-08-08T16:43:29.025Z"
   },
   {
    "duration": 59,
    "start_time": "2022-08-08T17:00:10.729Z"
   },
   {
    "duration": 46,
    "start_time": "2022-08-08T17:00:32.879Z"
   },
   {
    "duration": 41,
    "start_time": "2022-08-08T17:16:59.140Z"
   },
   {
    "duration": 18,
    "start_time": "2022-08-08T17:18:30.181Z"
   },
   {
    "duration": 20,
    "start_time": "2022-08-08T17:18:52.368Z"
   },
   {
    "duration": 19,
    "start_time": "2022-08-08T17:19:19.920Z"
   },
   {
    "duration": 17,
    "start_time": "2022-08-08T17:19:23.341Z"
   },
   {
    "duration": 1133,
    "start_time": "2022-08-08T17:19:28.164Z"
   },
   {
    "duration": 258,
    "start_time": "2022-08-08T17:19:29.299Z"
   },
   {
    "duration": 5,
    "start_time": "2022-08-08T17:19:29.558Z"
   },
   {
    "duration": 309,
    "start_time": "2022-08-08T17:19:29.564Z"
   },
   {
    "duration": 39,
    "start_time": "2022-08-08T17:19:29.876Z"
   },
   {
    "duration": 71,
    "start_time": "2022-08-08T17:19:29.916Z"
   },
   {
    "duration": 35,
    "start_time": "2022-08-08T17:19:29.988Z"
   },
   {
    "duration": 71,
    "start_time": "2022-08-08T17:19:30.025Z"
   },
   {
    "duration": 2,
    "start_time": "2022-08-08T17:19:30.098Z"
   },
   {
    "duration": 1406,
    "start_time": "2022-08-08T17:19:30.102Z"
   },
   {
    "duration": 14,
    "start_time": "2022-08-08T17:19:31.510Z"
   },
   {
    "duration": 62,
    "start_time": "2022-08-08T17:19:31.525Z"
   },
   {
    "duration": 73,
    "start_time": "2022-08-08T17:19:31.588Z"
   },
   {
    "duration": 209,
    "start_time": "2022-08-08T17:19:31.664Z"
   },
   {
    "duration": 407,
    "start_time": "2022-08-08T17:19:31.874Z"
   },
   {
    "duration": 12,
    "start_time": "2022-08-08T17:19:32.283Z"
   },
   {
    "duration": 62,
    "start_time": "2022-08-08T17:19:32.296Z"
   },
   {
    "duration": 810,
    "start_time": "2022-08-08T17:19:32.360Z"
   },
   {
    "duration": 53,
    "start_time": "2022-08-08T17:19:33.172Z"
   },
   {
    "duration": 4,
    "start_time": "2022-08-08T17:19:33.227Z"
   },
   {
    "duration": 11,
    "start_time": "2022-08-08T17:19:33.232Z"
   },
   {
    "duration": 384,
    "start_time": "2022-08-08T17:19:33.244Z"
   },
   {
    "duration": 286,
    "start_time": "2022-08-08T17:19:33.629Z"
   },
   {
    "duration": 11,
    "start_time": "2022-08-08T17:19:33.916Z"
   },
   {
    "duration": 7,
    "start_time": "2022-08-08T17:19:33.929Z"
   },
   {
    "duration": 12,
    "start_time": "2022-08-08T17:19:33.938Z"
   },
   {
    "duration": 16,
    "start_time": "2022-08-08T17:19:33.951Z"
   },
   {
    "duration": 19,
    "start_time": "2022-08-08T17:19:33.968Z"
   },
   {
    "duration": 11,
    "start_time": "2022-08-08T17:19:33.988Z"
   },
   {
    "duration": 432,
    "start_time": "2022-08-08T17:19:34.001Z"
   },
   {
    "duration": 3,
    "start_time": "2022-08-08T17:19:34.434Z"
   },
   {
    "duration": 16,
    "start_time": "2022-08-08T17:19:34.439Z"
   },
   {
    "duration": 81,
    "start_time": "2022-08-08T17:19:34.456Z"
   },
   {
    "duration": 213,
    "start_time": "2022-08-08T17:19:34.539Z"
   },
   {
    "duration": 49,
    "start_time": "2022-08-08T17:19:34.754Z"
   },
   {
    "duration": 18,
    "start_time": "2022-08-08T17:19:34.804Z"
   },
   {
    "duration": 8,
    "start_time": "2022-08-08T17:19:34.823Z"
   },
   {
    "duration": 410,
    "start_time": "2022-08-08T17:19:34.832Z"
   },
   {
    "duration": 333,
    "start_time": "2022-08-08T17:19:35.243Z"
   },
   {
    "duration": 15,
    "start_time": "2022-08-08T17:19:35.578Z"
   },
   {
    "duration": 17,
    "start_time": "2022-08-08T17:19:35.596Z"
   },
   {
    "duration": 74,
    "start_time": "2022-08-08T17:19:35.615Z"
   },
   {
    "duration": 22,
    "start_time": "2022-08-08T17:19:35.691Z"
   },
   {
    "duration": 10,
    "start_time": "2022-08-08T17:19:35.715Z"
   },
   {
    "duration": 43,
    "start_time": "2022-08-08T17:20:02.281Z"
   },
   {
    "duration": 43,
    "start_time": "2022-08-08T17:20:14.601Z"
   },
   {
    "duration": 1192,
    "start_time": "2022-08-09T05:29:34.692Z"
   },
   {
    "duration": 1215,
    "start_time": "2022-08-09T05:29:35.886Z"
   },
   {
    "duration": 4,
    "start_time": "2022-08-09T05:29:37.103Z"
   },
   {
    "duration": 376,
    "start_time": "2022-08-09T05:29:37.110Z"
   },
   {
    "duration": 41,
    "start_time": "2022-08-09T05:29:37.488Z"
   },
   {
    "duration": 62,
    "start_time": "2022-08-09T05:29:37.530Z"
   },
   {
    "duration": 62,
    "start_time": "2022-08-09T05:29:37.593Z"
   },
   {
    "duration": 49,
    "start_time": "2022-08-09T05:29:37.657Z"
   },
   {
    "duration": 3,
    "start_time": "2022-08-09T05:29:37.708Z"
   },
   {
    "duration": 1510,
    "start_time": "2022-08-09T05:29:37.715Z"
   },
   {
    "duration": 13,
    "start_time": "2022-08-09T05:29:39.227Z"
   },
   {
    "duration": 59,
    "start_time": "2022-08-09T05:29:39.242Z"
   },
   {
    "duration": 84,
    "start_time": "2022-08-09T05:29:39.302Z"
   },
   {
    "duration": 200,
    "start_time": "2022-08-09T05:29:39.388Z"
   },
   {
    "duration": 383,
    "start_time": "2022-08-09T05:29:39.590Z"
   },
   {
    "duration": 10,
    "start_time": "2022-08-09T05:29:39.975Z"
   },
   {
    "duration": 48,
    "start_time": "2022-08-09T05:29:39.987Z"
   },
   {
    "duration": 793,
    "start_time": "2022-08-09T05:29:40.037Z"
   },
   {
    "duration": 53,
    "start_time": "2022-08-09T05:29:40.832Z"
   },
   {
    "duration": 4,
    "start_time": "2022-08-09T05:29:40.886Z"
   },
   {
    "duration": 8,
    "start_time": "2022-08-09T05:29:40.892Z"
   },
   {
    "duration": 427,
    "start_time": "2022-08-09T05:29:40.902Z"
   },
   {
    "duration": 264,
    "start_time": "2022-08-09T05:29:41.332Z"
   },
   {
    "duration": 11,
    "start_time": "2022-08-09T05:29:41.597Z"
   },
   {
    "duration": 7,
    "start_time": "2022-08-09T05:29:41.609Z"
   },
   {
    "duration": 10,
    "start_time": "2022-08-09T05:29:41.617Z"
   },
   {
    "duration": 27,
    "start_time": "2022-08-09T05:29:41.628Z"
   },
   {
    "duration": 7,
    "start_time": "2022-08-09T05:29:41.658Z"
   },
   {
    "duration": 11,
    "start_time": "2022-08-09T05:29:41.667Z"
   },
   {
    "duration": 404,
    "start_time": "2022-08-09T05:29:41.679Z"
   },
   {
    "duration": 3,
    "start_time": "2022-08-09T05:29:42.084Z"
   },
   {
    "duration": 17,
    "start_time": "2022-08-09T05:29:42.088Z"
   },
   {
    "duration": 73,
    "start_time": "2022-08-09T05:29:42.107Z"
   },
   {
    "duration": 212,
    "start_time": "2022-08-09T05:29:42.182Z"
   },
   {
    "duration": 39,
    "start_time": "2022-08-09T05:29:42.396Z"
   },
   {
    "duration": 30,
    "start_time": "2022-08-09T05:29:42.437Z"
   },
   {
    "duration": 10,
    "start_time": "2022-08-09T05:29:42.468Z"
   },
   {
    "duration": 387,
    "start_time": "2022-08-09T05:29:42.480Z"
   },
   {
    "duration": 292,
    "start_time": "2022-08-09T05:29:42.869Z"
   },
   {
    "duration": 11,
    "start_time": "2022-08-09T05:29:43.162Z"
   },
   {
    "duration": 29,
    "start_time": "2022-08-09T05:29:43.175Z"
   },
   {
    "duration": 67,
    "start_time": "2022-08-09T05:29:43.206Z"
   },
   {
    "duration": 23,
    "start_time": "2022-08-09T05:29:43.275Z"
   },
   {
    "duration": 11,
    "start_time": "2022-08-09T05:29:43.300Z"
   },
   {
    "duration": 9,
    "start_time": "2022-08-09T05:42:49.475Z"
   },
   {
    "duration": 9,
    "start_time": "2022-08-09T05:43:00.287Z"
   },
   {
    "duration": 13,
    "start_time": "2022-08-09T05:47:03.220Z"
   },
   {
    "duration": 43,
    "start_time": "2022-08-09T05:48:15.532Z"
   },
   {
    "duration": 12,
    "start_time": "2022-08-09T05:50:59.517Z"
   },
   {
    "duration": 36,
    "start_time": "2022-08-09T05:53:16.116Z"
   },
   {
    "duration": 37,
    "start_time": "2022-08-09T05:53:50.405Z"
   },
   {
    "duration": 40,
    "start_time": "2022-08-09T05:53:56.292Z"
   },
   {
    "duration": 41,
    "start_time": "2022-08-09T05:54:03.966Z"
   },
   {
    "duration": 301,
    "start_time": "2022-08-09T05:55:14.513Z"
   },
   {
    "duration": 348,
    "start_time": "2022-08-09T05:55:34.974Z"
   },
   {
    "duration": 289,
    "start_time": "2022-08-09T05:57:01.801Z"
   },
   {
    "duration": 334,
    "start_time": "2022-08-09T05:57:35.994Z"
   },
   {
    "duration": 299,
    "start_time": "2022-08-09T05:57:41.666Z"
   },
   {
    "duration": 355,
    "start_time": "2022-08-09T05:58:27.108Z"
   },
   {
    "duration": 222,
    "start_time": "2022-08-09T05:58:38.908Z"
   },
   {
    "duration": 23,
    "start_time": "2022-08-09T06:00:04.823Z"
   },
   {
    "duration": 16,
    "start_time": "2022-08-09T06:00:08.951Z"
   },
   {
    "duration": 24,
    "start_time": "2022-08-09T06:28:45.511Z"
   },
   {
    "duration": 15,
    "start_time": "2022-08-09T06:28:54.236Z"
   },
   {
    "duration": 22,
    "start_time": "2022-08-09T06:29:04.429Z"
   },
   {
    "duration": 16,
    "start_time": "2022-08-09T06:29:05.397Z"
   },
   {
    "duration": 23,
    "start_time": "2022-08-09T06:29:42.410Z"
   },
   {
    "duration": 16,
    "start_time": "2022-08-09T06:29:42.775Z"
   },
   {
    "duration": 85,
    "start_time": "2022-08-09T06:31:28.107Z"
   },
   {
    "duration": 35,
    "start_time": "2022-08-09T06:31:37.364Z"
   },
   {
    "duration": 16,
    "start_time": "2022-08-09T06:31:46.956Z"
   },
   {
    "duration": 34,
    "start_time": "2022-08-09T06:36:54.403Z"
   },
   {
    "duration": 21,
    "start_time": "2022-08-09T06:37:05.222Z"
   },
   {
    "duration": 24,
    "start_time": "2022-08-09T06:37:05.245Z"
   },
   {
    "duration": 45,
    "start_time": "2022-08-09T06:37:05.271Z"
   },
   {
    "duration": 1080,
    "start_time": "2022-08-09T06:37:14.093Z"
   },
   {
    "duration": 226,
    "start_time": "2022-08-09T06:37:15.175Z"
   },
   {
    "duration": 4,
    "start_time": "2022-08-09T06:37:15.402Z"
   },
   {
    "duration": 274,
    "start_time": "2022-08-09T06:37:15.408Z"
   },
   {
    "duration": 30,
    "start_time": "2022-08-09T06:37:15.683Z"
   },
   {
    "duration": 66,
    "start_time": "2022-08-09T06:37:15.714Z"
   },
   {
    "duration": 30,
    "start_time": "2022-08-09T06:37:15.781Z"
   },
   {
    "duration": 77,
    "start_time": "2022-08-09T06:37:15.812Z"
   },
   {
    "duration": 3,
    "start_time": "2022-08-09T06:37:15.890Z"
   },
   {
    "duration": 1391,
    "start_time": "2022-08-09T06:37:15.895Z"
   },
   {
    "duration": 18,
    "start_time": "2022-08-09T06:37:17.288Z"
   },
   {
    "duration": 65,
    "start_time": "2022-08-09T06:37:17.308Z"
   },
   {
    "duration": 103,
    "start_time": "2022-08-09T06:37:17.375Z"
   },
   {
    "duration": 199,
    "start_time": "2022-08-09T06:37:17.480Z"
   },
   {
    "duration": 397,
    "start_time": "2022-08-09T06:37:17.681Z"
   },
   {
    "duration": 11,
    "start_time": "2022-08-09T06:37:18.079Z"
   },
   {
    "duration": 70,
    "start_time": "2022-08-09T06:37:18.092Z"
   },
   {
    "duration": 781,
    "start_time": "2022-08-09T06:37:18.164Z"
   },
   {
    "duration": 80,
    "start_time": "2022-08-09T06:37:18.946Z"
   },
   {
    "duration": 5,
    "start_time": "2022-08-09T06:37:19.028Z"
   },
   {
    "duration": 23,
    "start_time": "2022-08-09T06:37:19.035Z"
   },
   {
    "duration": 415,
    "start_time": "2022-08-09T06:37:19.060Z"
   },
   {
    "duration": 240,
    "start_time": "2022-08-09T06:37:19.477Z"
   },
   {
    "duration": 11,
    "start_time": "2022-08-09T06:37:19.718Z"
   },
   {
    "duration": 24,
    "start_time": "2022-08-09T06:37:19.731Z"
   },
   {
    "duration": 13,
    "start_time": "2022-08-09T06:37:19.757Z"
   },
   {
    "duration": 10,
    "start_time": "2022-08-09T06:37:19.771Z"
   },
   {
    "duration": 5,
    "start_time": "2022-08-09T06:37:19.785Z"
   },
   {
    "duration": 14,
    "start_time": "2022-08-09T06:37:19.792Z"
   },
   {
    "duration": 408,
    "start_time": "2022-08-09T06:37:19.808Z"
   },
   {
    "duration": 4,
    "start_time": "2022-08-09T06:37:20.218Z"
   },
   {
    "duration": 13,
    "start_time": "2022-08-09T06:37:20.224Z"
   },
   {
    "duration": 73,
    "start_time": "2022-08-09T06:37:20.239Z"
   },
   {
    "duration": 213,
    "start_time": "2022-08-09T06:37:20.314Z"
   },
   {
    "duration": 52,
    "start_time": "2022-08-09T06:37:20.529Z"
   },
   {
    "duration": 19,
    "start_time": "2022-08-09T06:37:20.583Z"
   },
   {
    "duration": 9,
    "start_time": "2022-08-09T06:37:20.603Z"
   },
   {
    "duration": 461,
    "start_time": "2022-08-09T06:37:20.614Z"
   },
   {
    "duration": 296,
    "start_time": "2022-08-09T06:37:21.077Z"
   },
   {
    "duration": 12,
    "start_time": "2022-08-09T06:37:21.375Z"
   },
   {
    "duration": 78,
    "start_time": "2022-08-09T06:37:21.389Z"
   },
   {
    "duration": 231,
    "start_time": "2022-08-09T06:37:21.469Z"
   },
   {
    "duration": 24,
    "start_time": "2022-08-09T06:37:21.702Z"
   },
   {
    "duration": 29,
    "start_time": "2022-08-09T06:37:21.728Z"
   },
   {
    "duration": 24,
    "start_time": "2022-08-09T06:37:21.759Z"
   },
   {
    "duration": 16,
    "start_time": "2022-08-09T06:37:21.785Z"
   },
   {
    "duration": 54,
    "start_time": "2022-08-09T06:37:21.803Z"
   },
   {
    "duration": 15,
    "start_time": "2022-08-09T07:38:32.424Z"
   },
   {
    "duration": 62,
    "start_time": "2022-08-09T07:39:45.036Z"
   },
   {
    "duration": 53,
    "start_time": "2022-08-09T07:39:58.838Z"
   },
   {
    "duration": 10,
    "start_time": "2022-08-09T07:40:00.655Z"
   },
   {
    "duration": 53,
    "start_time": "2022-08-09T07:40:33.038Z"
   },
   {
    "duration": 12,
    "start_time": "2022-08-09T07:40:34.164Z"
   },
   {
    "duration": 10,
    "start_time": "2022-08-09T07:45:27.098Z"
   },
   {
    "duration": 12,
    "start_time": "2022-08-09T07:46:02.323Z"
   },
   {
    "duration": 14,
    "start_time": "2022-08-09T07:50:05.471Z"
   },
   {
    "duration": 165,
    "start_time": "2022-08-09T07:51:13.325Z"
   },
   {
    "duration": 67,
    "start_time": "2022-08-09T07:51:19.824Z"
   },
   {
    "duration": 1553,
    "start_time": "2022-08-09T07:51:39.570Z"
   },
   {
    "duration": 67,
    "start_time": "2022-08-09T07:53:12.294Z"
   },
   {
    "duration": 482,
    "start_time": "2022-08-09T07:54:32.824Z"
   },
   {
    "duration": 17,
    "start_time": "2022-08-09T07:56:24.110Z"
   },
   {
    "duration": 16,
    "start_time": "2022-08-09T07:56:48.888Z"
   },
   {
    "duration": 722,
    "start_time": "2022-08-09T07:56:55.489Z"
   },
   {
    "duration": 365,
    "start_time": "2022-08-09T07:57:15.645Z"
   },
   {
    "duration": 13,
    "start_time": "2022-08-09T08:27:52.752Z"
   },
   {
    "duration": 35,
    "start_time": "2022-08-09T08:29:58.082Z"
   },
   {
    "duration": 74,
    "start_time": "2022-08-09T08:30:19.447Z"
   },
   {
    "duration": 377,
    "start_time": "2022-08-09T08:31:05.314Z"
   },
   {
    "duration": 336,
    "start_time": "2022-08-09T08:31:31.141Z"
   },
   {
    "duration": 351,
    "start_time": "2022-08-09T08:32:23.110Z"
   },
   {
    "duration": 72,
    "start_time": "2022-08-09T08:33:22.895Z"
   },
   {
    "duration": 75,
    "start_time": "2022-08-09T08:33:34.098Z"
   },
   {
    "duration": 341,
    "start_time": "2022-08-09T08:33:34.744Z"
   },
   {
    "duration": 322,
    "start_time": "2022-08-09T08:33:50.541Z"
   },
   {
    "duration": 73,
    "start_time": "2022-08-09T08:34:51.761Z"
   },
   {
    "duration": 62,
    "start_time": "2022-08-09T08:36:04.606Z"
   },
   {
    "duration": 15,
    "start_time": "2022-08-09T08:36:12.093Z"
   },
   {
    "duration": 346,
    "start_time": "2022-08-09T08:36:20.209Z"
   },
   {
    "duration": 73,
    "start_time": "2022-08-09T08:39:03.899Z"
   },
   {
    "duration": 66,
    "start_time": "2022-08-09T08:39:50.656Z"
   },
   {
    "duration": 13,
    "start_time": "2022-08-09T08:40:08.120Z"
   },
   {
    "duration": 334,
    "start_time": "2022-08-09T08:40:13.402Z"
   },
   {
    "duration": 15,
    "start_time": "2022-08-09T09:50:20.462Z"
   },
   {
    "duration": 9,
    "start_time": "2022-08-09T09:50:34.032Z"
   },
   {
    "duration": 44,
    "start_time": "2022-08-09T09:50:55.978Z"
   },
   {
    "duration": 1181,
    "start_time": "2022-08-09T09:52:02.935Z"
   },
   {
    "duration": 263,
    "start_time": "2022-08-09T09:52:04.118Z"
   },
   {
    "duration": 4,
    "start_time": "2022-08-09T09:52:04.382Z"
   },
   {
    "duration": 292,
    "start_time": "2022-08-09T09:52:04.387Z"
   },
   {
    "duration": 29,
    "start_time": "2022-08-09T09:52:04.681Z"
   },
   {
    "duration": 67,
    "start_time": "2022-08-09T09:52:04.712Z"
   },
   {
    "duration": 56,
    "start_time": "2022-08-09T09:52:04.780Z"
   },
   {
    "duration": 67,
    "start_time": "2022-08-09T09:52:04.837Z"
   },
   {
    "duration": 4,
    "start_time": "2022-08-09T09:52:04.905Z"
   },
   {
    "duration": 1460,
    "start_time": "2022-08-09T09:52:04.910Z"
   },
   {
    "duration": 14,
    "start_time": "2022-08-09T09:52:06.372Z"
   },
   {
    "duration": 47,
    "start_time": "2022-08-09T09:52:06.387Z"
   },
   {
    "duration": 95,
    "start_time": "2022-08-09T09:52:06.436Z"
   },
   {
    "duration": 241,
    "start_time": "2022-08-09T09:52:06.534Z"
   },
   {
    "duration": 407,
    "start_time": "2022-08-09T09:52:06.776Z"
   },
   {
    "duration": 10,
    "start_time": "2022-08-09T09:52:07.184Z"
   },
   {
    "duration": 10,
    "start_time": "2022-08-09T09:52:07.196Z"
   },
   {
    "duration": 895,
    "start_time": "2022-08-09T09:52:07.208Z"
   },
   {
    "duration": 61,
    "start_time": "2022-08-09T09:52:08.104Z"
   },
   {
    "duration": 5,
    "start_time": "2022-08-09T09:52:08.167Z"
   },
   {
    "duration": 10,
    "start_time": "2022-08-09T09:52:08.174Z"
   },
   {
    "duration": 407,
    "start_time": "2022-08-09T09:52:08.185Z"
   },
   {
    "duration": 221,
    "start_time": "2022-08-09T09:52:08.594Z"
   },
   {
    "duration": 53,
    "start_time": "2022-08-09T09:52:08.817Z"
   },
   {
    "duration": 3,
    "start_time": "2022-08-09T09:52:08.872Z"
   },
   {
    "duration": 8,
    "start_time": "2022-08-09T09:52:08.877Z"
   },
   {
    "duration": 10,
    "start_time": "2022-08-09T09:52:08.886Z"
   },
   {
    "duration": 5,
    "start_time": "2022-08-09T09:52:08.897Z"
   },
   {
    "duration": 10,
    "start_time": "2022-08-09T09:52:08.904Z"
   },
   {
    "duration": 473,
    "start_time": "2022-08-09T09:52:08.916Z"
   },
   {
    "duration": 3,
    "start_time": "2022-08-09T09:52:09.391Z"
   },
   {
    "duration": 12,
    "start_time": "2022-08-09T09:52:09.396Z"
   },
   {
    "duration": 81,
    "start_time": "2022-08-09T09:52:09.410Z"
   },
   {
    "duration": 210,
    "start_time": "2022-08-09T09:52:09.493Z"
   },
   {
    "duration": 36,
    "start_time": "2022-08-09T09:52:09.704Z"
   },
   {
    "duration": 20,
    "start_time": "2022-08-09T09:52:09.741Z"
   },
   {
    "duration": 393,
    "start_time": "2022-08-09T09:52:09.763Z"
   },
   {
    "duration": 324,
    "start_time": "2022-08-09T09:52:10.158Z"
   },
   {
    "duration": 12,
    "start_time": "2022-08-09T09:52:10.484Z"
   },
   {
    "duration": 75,
    "start_time": "2022-08-09T09:52:10.497Z"
   },
   {
    "duration": 240,
    "start_time": "2022-08-09T09:52:10.575Z"
   },
   {
    "duration": 26,
    "start_time": "2022-08-09T09:52:10.816Z"
   },
   {
    "duration": 26,
    "start_time": "2022-08-09T09:52:10.843Z"
   },
   {
    "duration": 26,
    "start_time": "2022-08-09T09:52:10.870Z"
   },
   {
    "duration": 17,
    "start_time": "2022-08-09T09:52:10.898Z"
   },
   {
    "duration": 65,
    "start_time": "2022-08-09T09:52:10.917Z"
   },
   {
    "duration": 81,
    "start_time": "2022-08-09T09:52:10.983Z"
   },
   {
    "duration": 431,
    "start_time": "2022-08-09T09:52:11.066Z"
   },
   {
    "duration": 14,
    "start_time": "2022-08-09T09:52:55.929Z"
   },
   {
    "duration": 53,
    "start_time": "2022-08-09T09:52:57.140Z"
   },
   {
    "duration": 3,
    "start_time": "2022-08-09T09:52:57.876Z"
   },
   {
    "duration": 1464,
    "start_time": "2022-08-09T09:52:58.367Z"
   },
   {
    "duration": 15,
    "start_time": "2022-08-09T09:52:59.833Z"
   },
   {
    "duration": 47,
    "start_time": "2022-08-09T09:52:59.855Z"
   },
   {
    "duration": 15,
    "start_time": "2022-08-09T09:53:08.330Z"
   },
   {
    "duration": 43,
    "start_time": "2022-08-09T09:53:08.897Z"
   },
   {
    "duration": 81,
    "start_time": "2022-08-09T09:53:09.630Z"
   },
   {
    "duration": 1508,
    "start_time": "2022-08-09T09:53:10.370Z"
   },
   {
    "duration": 0,
    "start_time": "2022-08-09T09:53:11.879Z"
   },
   {
    "duration": 1078,
    "start_time": "2022-08-09T09:53:36.586Z"
   },
   {
    "duration": 256,
    "start_time": "2022-08-09T09:53:37.667Z"
   },
   {
    "duration": 4,
    "start_time": "2022-08-09T09:53:37.925Z"
   },
   {
    "duration": 328,
    "start_time": "2022-08-09T09:53:37.932Z"
   },
   {
    "duration": 31,
    "start_time": "2022-08-09T09:53:38.262Z"
   },
   {
    "duration": 81,
    "start_time": "2022-08-09T09:53:38.294Z"
   },
   {
    "duration": 32,
    "start_time": "2022-08-09T09:53:38.377Z"
   },
   {
    "duration": 70,
    "start_time": "2022-08-09T09:53:38.410Z"
   },
   {
    "duration": 3,
    "start_time": "2022-08-09T09:53:38.482Z"
   },
   {
    "duration": 1460,
    "start_time": "2022-08-09T09:53:38.488Z"
   },
   {
    "duration": 21,
    "start_time": "2022-08-09T09:53:39.950Z"
   },
   {
    "duration": 47,
    "start_time": "2022-08-09T09:53:39.973Z"
   },
   {
    "duration": 87,
    "start_time": "2022-08-09T09:53:40.021Z"
   },
   {
    "duration": 212,
    "start_time": "2022-08-09T09:53:40.110Z"
   },
   {
    "duration": 411,
    "start_time": "2022-08-09T09:53:40.324Z"
   },
   {
    "duration": 10,
    "start_time": "2022-08-09T09:53:40.737Z"
   },
   {
    "duration": 11,
    "start_time": "2022-08-09T09:53:40.765Z"
   },
   {
    "duration": 816,
    "start_time": "2022-08-09T09:53:40.778Z"
   },
   {
    "duration": 48,
    "start_time": "2022-08-09T09:53:41.595Z"
   },
   {
    "duration": 13,
    "start_time": "2022-08-09T09:53:41.645Z"
   },
   {
    "duration": 14,
    "start_time": "2022-08-09T09:53:41.660Z"
   },
   {
    "duration": 418,
    "start_time": "2022-08-09T09:53:41.676Z"
   },
   {
    "duration": 275,
    "start_time": "2022-08-09T09:53:42.096Z"
   },
   {
    "duration": 13,
    "start_time": "2022-08-09T09:53:42.372Z"
   },
   {
    "duration": 5,
    "start_time": "2022-08-09T09:53:42.386Z"
   },
   {
    "duration": 10,
    "start_time": "2022-08-09T09:53:42.392Z"
   },
   {
    "duration": 10,
    "start_time": "2022-08-09T09:53:42.404Z"
   },
   {
    "duration": 5,
    "start_time": "2022-08-09T09:53:42.417Z"
   },
   {
    "duration": 10,
    "start_time": "2022-08-09T09:53:42.423Z"
   },
   {
    "duration": 453,
    "start_time": "2022-08-09T09:53:42.434Z"
   },
   {
    "duration": 3,
    "start_time": "2022-08-09T09:53:42.889Z"
   },
   {
    "duration": 13,
    "start_time": "2022-08-09T09:53:42.893Z"
   },
   {
    "duration": 75,
    "start_time": "2022-08-09T09:53:42.907Z"
   },
   {
    "duration": 209,
    "start_time": "2022-08-09T09:53:42.984Z"
   },
   {
    "duration": 35,
    "start_time": "2022-08-09T09:53:43.195Z"
   },
   {
    "duration": 8,
    "start_time": "2022-08-09T09:53:43.231Z"
   },
   {
    "duration": 424,
    "start_time": "2022-08-09T09:53:43.240Z"
   },
   {
    "duration": 303,
    "start_time": "2022-08-09T09:53:43.665Z"
   },
   {
    "duration": 11,
    "start_time": "2022-08-09T09:53:43.969Z"
   },
   {
    "duration": 58,
    "start_time": "2022-08-09T09:53:43.981Z"
   },
   {
    "duration": 236,
    "start_time": "2022-08-09T09:53:44.041Z"
   },
   {
    "duration": 22,
    "start_time": "2022-08-09T09:53:44.279Z"
   },
   {
    "duration": 9,
    "start_time": "2022-08-09T09:53:44.302Z"
   },
   {
    "duration": 43,
    "start_time": "2022-08-09T09:53:44.312Z"
   },
   {
    "duration": 20,
    "start_time": "2022-08-09T09:53:44.357Z"
   },
   {
    "duration": 38,
    "start_time": "2022-08-09T09:53:44.379Z"
   },
   {
    "duration": 81,
    "start_time": "2022-08-09T09:53:44.419Z"
   },
   {
    "duration": 397,
    "start_time": "2022-08-09T09:53:44.501Z"
   },
   {
    "duration": 1056,
    "start_time": "2022-08-09T09:54:28.492Z"
   },
   {
    "duration": 256,
    "start_time": "2022-08-09T09:54:29.550Z"
   },
   {
    "duration": 4,
    "start_time": "2022-08-09T09:54:29.808Z"
   },
   {
    "duration": 290,
    "start_time": "2022-08-09T09:54:29.814Z"
   },
   {
    "duration": 49,
    "start_time": "2022-08-09T09:54:30.106Z"
   },
   {
    "duration": 40,
    "start_time": "2022-08-09T09:54:30.157Z"
   },
   {
    "duration": 69,
    "start_time": "2022-08-09T09:54:30.198Z"
   },
   {
    "duration": 53,
    "start_time": "2022-08-09T09:54:30.269Z"
   },
   {
    "duration": 4,
    "start_time": "2022-08-09T09:54:30.323Z"
   },
   {
    "duration": 1428,
    "start_time": "2022-08-09T09:54:30.329Z"
   },
   {
    "duration": 23,
    "start_time": "2022-08-09T09:54:31.760Z"
   },
   {
    "duration": 49,
    "start_time": "2022-08-09T09:54:31.784Z"
   },
   {
    "duration": 89,
    "start_time": "2022-08-09T09:54:31.834Z"
   },
   {
    "duration": 206,
    "start_time": "2022-08-09T09:54:31.926Z"
   },
   {
    "duration": 404,
    "start_time": "2022-08-09T09:54:32.133Z"
   },
   {
    "duration": 19,
    "start_time": "2022-08-09T09:54:32.538Z"
   },
   {
    "duration": 15,
    "start_time": "2022-08-09T09:54:32.559Z"
   },
   {
    "duration": 828,
    "start_time": "2022-08-09T09:54:32.576Z"
   },
   {
    "duration": 61,
    "start_time": "2022-08-09T09:54:33.405Z"
   },
   {
    "duration": 4,
    "start_time": "2022-08-09T09:54:33.467Z"
   },
   {
    "duration": 18,
    "start_time": "2022-08-09T09:54:33.473Z"
   },
   {
    "duration": 411,
    "start_time": "2022-08-09T09:54:33.492Z"
   },
   {
    "duration": 300,
    "start_time": "2022-08-09T09:54:33.904Z"
   },
   {
    "duration": 12,
    "start_time": "2022-08-09T09:54:34.205Z"
   },
   {
    "duration": 4,
    "start_time": "2022-08-09T09:54:34.218Z"
   },
   {
    "duration": 14,
    "start_time": "2022-08-09T09:54:34.223Z"
   },
   {
    "duration": 22,
    "start_time": "2022-08-09T09:54:34.238Z"
   },
   {
    "duration": 19,
    "start_time": "2022-08-09T09:54:34.262Z"
   },
   {
    "duration": 53,
    "start_time": "2022-08-09T09:54:34.282Z"
   },
   {
    "duration": 467,
    "start_time": "2022-08-09T09:54:34.337Z"
   },
   {
    "duration": 3,
    "start_time": "2022-08-09T09:54:34.806Z"
   },
   {
    "duration": 13,
    "start_time": "2022-08-09T09:54:34.810Z"
   },
   {
    "duration": 76,
    "start_time": "2022-08-09T09:54:34.824Z"
   },
   {
    "duration": 233,
    "start_time": "2022-08-09T09:54:34.902Z"
   },
   {
    "duration": 51,
    "start_time": "2022-08-09T09:54:35.137Z"
   },
   {
    "duration": 8,
    "start_time": "2022-08-09T09:54:35.190Z"
   },
   {
    "duration": 436,
    "start_time": "2022-08-09T09:54:35.200Z"
   },
   {
    "duration": 333,
    "start_time": "2022-08-09T09:54:35.638Z"
   },
   {
    "duration": 11,
    "start_time": "2022-08-09T09:54:35.973Z"
   },
   {
    "duration": 85,
    "start_time": "2022-08-09T09:54:35.986Z"
   },
   {
    "duration": 236,
    "start_time": "2022-08-09T09:54:36.074Z"
   },
   {
    "duration": 23,
    "start_time": "2022-08-09T09:54:36.311Z"
   },
   {
    "duration": 27,
    "start_time": "2022-08-09T09:54:36.336Z"
   },
   {
    "duration": 37,
    "start_time": "2022-08-09T09:54:36.364Z"
   },
   {
    "duration": 20,
    "start_time": "2022-08-09T09:54:36.402Z"
   },
   {
    "duration": 49,
    "start_time": "2022-08-09T09:54:36.424Z"
   },
   {
    "duration": 66,
    "start_time": "2022-08-09T09:54:36.475Z"
   },
   {
    "duration": 450,
    "start_time": "2022-08-09T09:54:36.542Z"
   },
   {
    "duration": 45,
    "start_time": "2022-08-09T09:54:48.996Z"
   },
   {
    "duration": 62,
    "start_time": "2022-08-09T09:55:22.656Z"
   },
   {
    "duration": 447,
    "start_time": "2022-08-09T09:55:35.273Z"
   },
   {
    "duration": 22,
    "start_time": "2022-08-09T09:56:49.083Z"
   },
   {
    "duration": 34,
    "start_time": "2022-08-09T09:57:30.067Z"
   },
   {
    "duration": 559,
    "start_time": "2022-08-09T09:57:33.226Z"
   },
   {
    "duration": 1078,
    "start_time": "2022-08-09T09:57:40.700Z"
   },
   {
    "duration": 254,
    "start_time": "2022-08-09T09:57:41.780Z"
   },
   {
    "duration": 4,
    "start_time": "2022-08-09T09:57:42.036Z"
   },
   {
    "duration": 323,
    "start_time": "2022-08-09T09:57:42.041Z"
   },
   {
    "duration": 30,
    "start_time": "2022-08-09T09:57:42.367Z"
   },
   {
    "duration": 80,
    "start_time": "2022-08-09T09:57:42.399Z"
   },
   {
    "duration": 42,
    "start_time": "2022-08-09T09:57:42.480Z"
   },
   {
    "duration": 74,
    "start_time": "2022-08-09T09:57:42.523Z"
   },
   {
    "duration": 3,
    "start_time": "2022-08-09T09:57:42.598Z"
   },
   {
    "duration": 1524,
    "start_time": "2022-08-09T09:57:42.602Z"
   },
   {
    "duration": 13,
    "start_time": "2022-08-09T09:57:44.127Z"
   },
   {
    "duration": 65,
    "start_time": "2022-08-09T09:57:44.141Z"
   },
   {
    "duration": 78,
    "start_time": "2022-08-09T09:57:44.208Z"
   },
   {
    "duration": 205,
    "start_time": "2022-08-09T09:57:44.289Z"
   },
   {
    "duration": 406,
    "start_time": "2022-08-09T09:57:44.495Z"
   },
   {
    "duration": 9,
    "start_time": "2022-08-09T09:57:44.903Z"
   },
   {
    "duration": 62,
    "start_time": "2022-08-09T09:57:44.914Z"
   },
   {
    "duration": 57,
    "start_time": "2022-08-09T09:57:44.977Z"
   },
   {
    "duration": 604,
    "start_time": "2022-08-09T09:57:45.036Z"
   },
   {
    "duration": 54,
    "start_time": "2022-08-09T09:57:45.642Z"
   },
   {
    "duration": 4,
    "start_time": "2022-08-09T09:57:45.698Z"
   },
   {
    "duration": 9,
    "start_time": "2022-08-09T09:57:45.704Z"
   },
   {
    "duration": 402,
    "start_time": "2022-08-09T09:57:45.715Z"
   },
   {
    "duration": 275,
    "start_time": "2022-08-09T09:57:46.119Z"
   },
   {
    "duration": 10,
    "start_time": "2022-08-09T09:57:46.396Z"
   },
   {
    "duration": 5,
    "start_time": "2022-08-09T09:57:46.408Z"
   },
   {
    "duration": 8,
    "start_time": "2022-08-09T09:57:46.414Z"
   },
   {
    "duration": 11,
    "start_time": "2022-08-09T09:57:46.423Z"
   },
   {
    "duration": 20,
    "start_time": "2022-08-09T09:57:46.435Z"
   },
   {
    "duration": 11,
    "start_time": "2022-08-09T09:57:46.457Z"
   },
   {
    "duration": 459,
    "start_time": "2022-08-09T09:57:46.470Z"
   },
   {
    "duration": 4,
    "start_time": "2022-08-09T09:57:46.931Z"
   },
   {
    "duration": 20,
    "start_time": "2022-08-09T09:57:46.936Z"
   },
   {
    "duration": 76,
    "start_time": "2022-08-09T09:57:46.958Z"
   },
   {
    "duration": 214,
    "start_time": "2022-08-09T09:57:47.036Z"
   },
   {
    "duration": 48,
    "start_time": "2022-08-09T09:57:47.251Z"
   },
   {
    "duration": 14,
    "start_time": "2022-08-09T09:57:47.300Z"
   },
   {
    "duration": 377,
    "start_time": "2022-08-09T09:57:47.316Z"
   },
   {
    "duration": 346,
    "start_time": "2022-08-09T09:57:47.695Z"
   },
   {
    "duration": 14,
    "start_time": "2022-08-09T09:57:48.043Z"
   },
   {
    "duration": 134,
    "start_time": "2022-08-09T09:57:48.062Z"
   },
   {
    "duration": 235,
    "start_time": "2022-08-09T09:57:48.197Z"
   },
   {
    "duration": 40,
    "start_time": "2022-08-09T09:57:48.434Z"
   },
   {
    "duration": 11,
    "start_time": "2022-08-09T09:57:48.475Z"
   },
   {
    "duration": 22,
    "start_time": "2022-08-09T09:57:48.487Z"
   },
   {
    "duration": 14,
    "start_time": "2022-08-09T09:57:48.511Z"
   },
   {
    "duration": 65,
    "start_time": "2022-08-09T09:57:48.527Z"
   },
   {
    "duration": 86,
    "start_time": "2022-08-09T09:57:48.594Z"
   },
   {
    "duration": 418,
    "start_time": "2022-08-09T09:57:48.682Z"
   },
   {
    "duration": 61,
    "start_time": "2022-08-09T10:03:09.110Z"
   },
   {
    "duration": 270,
    "start_time": "2022-08-09T10:06:01.036Z"
   },
   {
    "duration": 444,
    "start_time": "2022-08-09T10:22:55.186Z"
   },
   {
    "duration": 436,
    "start_time": "2022-08-09T10:23:23.462Z"
   },
   {
    "duration": 351,
    "start_time": "2022-08-09T10:23:50.704Z"
   },
   {
    "duration": 1184,
    "start_time": "2022-08-09T10:26:26.548Z"
   },
   {
    "duration": 294,
    "start_time": "2022-08-09T10:26:27.734Z"
   },
   {
    "duration": 5,
    "start_time": "2022-08-09T10:26:28.030Z"
   },
   {
    "duration": 402,
    "start_time": "2022-08-09T10:26:28.037Z"
   },
   {
    "duration": 45,
    "start_time": "2022-08-09T10:26:28.442Z"
   },
   {
    "duration": 95,
    "start_time": "2022-08-09T10:26:28.489Z"
   },
   {
    "duration": 51,
    "start_time": "2022-08-09T10:26:28.586Z"
   },
   {
    "duration": 79,
    "start_time": "2022-08-09T10:26:28.639Z"
   },
   {
    "duration": 5,
    "start_time": "2022-08-09T10:26:28.720Z"
   },
   {
    "duration": 1561,
    "start_time": "2022-08-09T10:26:28.727Z"
   },
   {
    "duration": 21,
    "start_time": "2022-08-09T10:26:30.290Z"
   },
   {
    "duration": 74,
    "start_time": "2022-08-09T10:26:30.313Z"
   },
   {
    "duration": 91,
    "start_time": "2022-08-09T10:26:30.389Z"
   },
   {
    "duration": 211,
    "start_time": "2022-08-09T10:26:30.483Z"
   },
   {
    "duration": 442,
    "start_time": "2022-08-09T10:26:30.697Z"
   },
   {
    "duration": 59,
    "start_time": "2022-08-09T10:26:31.140Z"
   },
   {
    "duration": 349,
    "start_time": "2022-08-09T10:26:31.201Z"
   },
   {
    "duration": 55,
    "start_time": "2022-08-09T10:26:31.551Z"
   },
   {
    "duration": 633,
    "start_time": "2022-08-09T10:26:31.608Z"
   },
   {
    "duration": 55,
    "start_time": "2022-08-09T10:26:32.243Z"
   },
   {
    "duration": 5,
    "start_time": "2022-08-09T10:26:32.300Z"
   },
   {
    "duration": 13,
    "start_time": "2022-08-09T10:26:32.307Z"
   },
   {
    "duration": 450,
    "start_time": "2022-08-09T10:26:32.322Z"
   },
   {
    "duration": 278,
    "start_time": "2022-08-09T10:26:32.777Z"
   },
   {
    "duration": 14,
    "start_time": "2022-08-09T10:26:33.057Z"
   },
   {
    "duration": 14,
    "start_time": "2022-08-09T10:26:33.073Z"
   },
   {
    "duration": 13,
    "start_time": "2022-08-09T10:26:33.089Z"
   },
   {
    "duration": 11,
    "start_time": "2022-08-09T10:26:33.104Z"
   },
   {
    "duration": 6,
    "start_time": "2022-08-09T10:26:33.116Z"
   },
   {
    "duration": 13,
    "start_time": "2022-08-09T10:26:33.124Z"
   },
   {
    "duration": 471,
    "start_time": "2022-08-09T10:26:33.138Z"
   },
   {
    "duration": 3,
    "start_time": "2022-08-09T10:26:33.611Z"
   },
   {
    "duration": 16,
    "start_time": "2022-08-09T10:26:33.615Z"
   },
   {
    "duration": 89,
    "start_time": "2022-08-09T10:26:33.633Z"
   },
   {
    "duration": 383,
    "start_time": "2022-08-09T10:26:33.724Z"
   },
   {
    "duration": 47,
    "start_time": "2022-08-09T10:26:34.109Z"
   },
   {
    "duration": 12,
    "start_time": "2022-08-09T10:26:34.158Z"
   },
   {
    "duration": 471,
    "start_time": "2022-08-09T10:26:34.173Z"
   },
   {
    "duration": 335,
    "start_time": "2022-08-09T10:26:34.646Z"
   },
   {
    "duration": 16,
    "start_time": "2022-08-09T10:26:34.982Z"
   },
   {
    "duration": 74,
    "start_time": "2022-08-09T10:26:35.002Z"
   },
   {
    "duration": 258,
    "start_time": "2022-08-09T10:26:35.077Z"
   },
   {
    "duration": 35,
    "start_time": "2022-08-09T10:26:35.336Z"
   },
   {
    "duration": 16,
    "start_time": "2022-08-09T10:26:35.373Z"
   },
   {
    "duration": 6,
    "start_time": "2022-08-09T10:53:10.626Z"
   },
   {
    "duration": 5,
    "start_time": "2022-08-09T11:06:26.084Z"
   },
   {
    "duration": 197,
    "start_time": "2022-08-09T11:06:26.814Z"
   },
   {
    "duration": 5,
    "start_time": "2022-08-09T11:06:58.619Z"
   },
   {
    "duration": 286,
    "start_time": "2022-08-09T11:07:04.020Z"
   },
   {
    "duration": 1038,
    "start_time": "2022-08-09T11:07:21.415Z"
   },
   {
    "duration": 252,
    "start_time": "2022-08-09T11:07:22.454Z"
   },
   {
    "duration": 4,
    "start_time": "2022-08-09T11:07:22.708Z"
   },
   {
    "duration": 411,
    "start_time": "2022-08-09T11:07:22.714Z"
   },
   {
    "duration": 55,
    "start_time": "2022-08-09T11:07:23.127Z"
   },
   {
    "duration": 87,
    "start_time": "2022-08-09T11:07:23.184Z"
   },
   {
    "duration": 42,
    "start_time": "2022-08-09T11:07:23.273Z"
   },
   {
    "duration": 65,
    "start_time": "2022-08-09T11:07:23.316Z"
   },
   {
    "duration": 3,
    "start_time": "2022-08-09T11:07:23.383Z"
   },
   {
    "duration": 1441,
    "start_time": "2022-08-09T11:07:23.387Z"
   },
   {
    "duration": 12,
    "start_time": "2022-08-09T11:07:24.830Z"
   },
   {
    "duration": 62,
    "start_time": "2022-08-09T11:07:24.844Z"
   },
   {
    "duration": 97,
    "start_time": "2022-08-09T11:07:24.908Z"
   },
   {
    "duration": 210,
    "start_time": "2022-08-09T11:07:25.008Z"
   },
   {
    "duration": 387,
    "start_time": "2022-08-09T11:07:25.219Z"
   },
   {
    "duration": 59,
    "start_time": "2022-08-09T11:07:25.608Z"
   },
   {
    "duration": 319,
    "start_time": "2022-08-09T11:07:25.671Z"
   },
   {
    "duration": 76,
    "start_time": "2022-08-09T11:07:25.992Z"
   },
   {
    "duration": 607,
    "start_time": "2022-08-09T11:07:26.072Z"
   },
   {
    "duration": 54,
    "start_time": "2022-08-09T11:07:26.681Z"
   },
   {
    "duration": 25,
    "start_time": "2022-08-09T11:07:26.737Z"
   },
   {
    "duration": 27,
    "start_time": "2022-08-09T11:07:26.766Z"
   },
   {
    "duration": 428,
    "start_time": "2022-08-09T11:07:26.795Z"
   },
   {
    "duration": 279,
    "start_time": "2022-08-09T11:07:27.225Z"
   },
   {
    "duration": 15,
    "start_time": "2022-08-09T11:07:27.506Z"
   },
   {
    "duration": 5,
    "start_time": "2022-08-09T11:07:27.555Z"
   },
   {
    "duration": 32,
    "start_time": "2022-08-09T11:07:27.561Z"
   },
   {
    "duration": 17,
    "start_time": "2022-08-09T11:07:27.594Z"
   },
   {
    "duration": 6,
    "start_time": "2022-08-09T11:07:27.612Z"
   },
   {
    "duration": 12,
    "start_time": "2022-08-09T11:07:27.619Z"
   },
   {
    "duration": 550,
    "start_time": "2022-08-09T11:07:27.633Z"
   },
   {
    "duration": 3,
    "start_time": "2022-08-09T11:07:28.185Z"
   },
   {
    "duration": 15,
    "start_time": "2022-08-09T11:07:28.189Z"
   },
   {
    "duration": 67,
    "start_time": "2022-08-09T11:07:28.254Z"
   },
   {
    "duration": 363,
    "start_time": "2022-08-09T11:07:28.322Z"
   },
   {
    "duration": 37,
    "start_time": "2022-08-09T11:07:28.687Z"
   },
   {
    "duration": 9,
    "start_time": "2022-08-09T11:07:28.726Z"
   },
   {
    "duration": 427,
    "start_time": "2022-08-09T11:07:28.755Z"
   },
   {
    "duration": 12,
    "start_time": "2022-08-09T11:07:29.183Z"
   },
   {
    "duration": 42,
    "start_time": "2022-08-09T11:07:29.196Z"
   },
   {
    "duration": 245,
    "start_time": "2022-08-09T11:07:29.257Z"
   },
   {
    "duration": 26,
    "start_time": "2022-08-09T11:07:29.503Z"
   },
   {
    "duration": 33,
    "start_time": "2022-08-09T11:07:29.532Z"
   },
   {
    "duration": 6,
    "start_time": "2022-08-09T11:07:38.341Z"
   },
   {
    "duration": 303,
    "start_time": "2022-08-09T11:07:38.630Z"
   },
   {
    "duration": 4,
    "start_time": "2022-08-09T11:08:29.911Z"
   },
   {
    "duration": 301,
    "start_time": "2022-08-09T11:08:30.267Z"
   },
   {
    "duration": 1142,
    "start_time": "2022-08-09T11:08:39.130Z"
   },
   {
    "duration": 251,
    "start_time": "2022-08-09T11:08:40.274Z"
   },
   {
    "duration": 5,
    "start_time": "2022-08-09T11:08:40.527Z"
   },
   {
    "duration": 380,
    "start_time": "2022-08-09T11:08:40.533Z"
   },
   {
    "duration": 50,
    "start_time": "2022-08-09T11:08:40.915Z"
   },
   {
    "duration": 60,
    "start_time": "2022-08-09T11:08:40.966Z"
   },
   {
    "duration": 46,
    "start_time": "2022-08-09T11:08:41.057Z"
   },
   {
    "duration": 74,
    "start_time": "2022-08-09T11:08:41.105Z"
   },
   {
    "duration": 3,
    "start_time": "2022-08-09T11:08:41.181Z"
   },
   {
    "duration": 1441,
    "start_time": "2022-08-09T11:08:41.186Z"
   },
   {
    "duration": 14,
    "start_time": "2022-08-09T11:08:42.628Z"
   },
   {
    "duration": 56,
    "start_time": "2022-08-09T11:08:42.660Z"
   },
   {
    "duration": 80,
    "start_time": "2022-08-09T11:08:42.717Z"
   },
   {
    "duration": 204,
    "start_time": "2022-08-09T11:08:42.800Z"
   },
   {
    "duration": 404,
    "start_time": "2022-08-09T11:08:43.005Z"
   },
   {
    "duration": 62,
    "start_time": "2022-08-09T11:08:43.411Z"
   },
   {
    "duration": 320,
    "start_time": "2022-08-09T11:08:43.475Z"
   },
   {
    "duration": 67,
    "start_time": "2022-08-09T11:08:43.797Z"
   },
   {
    "duration": 602,
    "start_time": "2022-08-09T11:08:43.869Z"
   },
   {
    "duration": 46,
    "start_time": "2022-08-09T11:08:44.473Z"
   },
   {
    "duration": 4,
    "start_time": "2022-08-09T11:08:44.521Z"
   },
   {
    "duration": 10,
    "start_time": "2022-08-09T11:08:44.526Z"
   },
   {
    "duration": 401,
    "start_time": "2022-08-09T11:08:44.537Z"
   },
   {
    "duration": 271,
    "start_time": "2022-08-09T11:08:44.940Z"
   },
   {
    "duration": 11,
    "start_time": "2022-08-09T11:08:45.213Z"
   },
   {
    "duration": 11,
    "start_time": "2022-08-09T11:08:45.226Z"
   },
   {
    "duration": 12,
    "start_time": "2022-08-09T11:08:45.239Z"
   },
   {
    "duration": 27,
    "start_time": "2022-08-09T11:08:45.252Z"
   },
   {
    "duration": 6,
    "start_time": "2022-08-09T11:08:45.280Z"
   },
   {
    "duration": 15,
    "start_time": "2022-08-09T11:08:45.287Z"
   },
   {
    "duration": 413,
    "start_time": "2022-08-09T11:08:45.303Z"
   },
   {
    "duration": 3,
    "start_time": "2022-08-09T11:08:45.718Z"
   },
   {
    "duration": 17,
    "start_time": "2022-08-09T11:08:45.722Z"
   },
   {
    "duration": 80,
    "start_time": "2022-08-09T11:08:45.741Z"
   },
   {
    "duration": 356,
    "start_time": "2022-08-09T11:08:45.822Z"
   },
   {
    "duration": 34,
    "start_time": "2022-08-09T11:08:46.180Z"
   },
   {
    "duration": 8,
    "start_time": "2022-08-09T11:08:46.216Z"
   },
   {
    "duration": 454,
    "start_time": "2022-08-09T11:08:46.225Z"
   },
   {
    "duration": 11,
    "start_time": "2022-08-09T11:08:46.681Z"
   },
   {
    "duration": 44,
    "start_time": "2022-08-09T11:08:46.694Z"
   },
   {
    "duration": 254,
    "start_time": "2022-08-09T11:08:46.756Z"
   },
   {
    "duration": 25,
    "start_time": "2022-08-09T11:08:47.012Z"
   },
   {
    "duration": 29,
    "start_time": "2022-08-09T11:08:47.039Z"
   },
   {
    "duration": 5,
    "start_time": "2022-08-09T11:09:14.926Z"
   },
   {
    "duration": 283,
    "start_time": "2022-08-09T11:09:15.662Z"
   },
   {
    "duration": 1162,
    "start_time": "2022-08-09T11:09:30.127Z"
   },
   {
    "duration": 246,
    "start_time": "2022-08-09T11:09:31.291Z"
   },
   {
    "duration": 5,
    "start_time": "2022-08-09T11:09:31.538Z"
   },
   {
    "duration": 424,
    "start_time": "2022-08-09T11:09:31.544Z"
   },
   {
    "duration": 36,
    "start_time": "2022-08-09T11:09:31.970Z"
   },
   {
    "duration": 83,
    "start_time": "2022-08-09T11:09:32.007Z"
   },
   {
    "duration": 31,
    "start_time": "2022-08-09T11:09:32.091Z"
   },
   {
    "duration": 71,
    "start_time": "2022-08-09T11:09:32.123Z"
   },
   {
    "duration": 3,
    "start_time": "2022-08-09T11:09:32.196Z"
   },
   {
    "duration": 1469,
    "start_time": "2022-08-09T11:09:32.200Z"
   },
   {
    "duration": 15,
    "start_time": "2022-08-09T11:09:33.671Z"
   },
   {
    "duration": 56,
    "start_time": "2022-08-09T11:09:33.688Z"
   },
   {
    "duration": 83,
    "start_time": "2022-08-09T11:09:33.756Z"
   },
   {
    "duration": 247,
    "start_time": "2022-08-09T11:09:33.842Z"
   },
   {
    "duration": 422,
    "start_time": "2022-08-09T11:09:34.090Z"
   },
   {
    "duration": 62,
    "start_time": "2022-08-09T11:09:34.513Z"
   },
   {
    "duration": 332,
    "start_time": "2022-08-09T11:09:34.576Z"
   },
   {
    "duration": 62,
    "start_time": "2022-08-09T11:09:34.910Z"
   },
   {
    "duration": 607,
    "start_time": "2022-08-09T11:09:34.973Z"
   },
   {
    "duration": 47,
    "start_time": "2022-08-09T11:09:35.582Z"
   },
   {
    "duration": 4,
    "start_time": "2022-08-09T11:09:35.631Z"
   },
   {
    "duration": 35,
    "start_time": "2022-08-09T11:09:35.636Z"
   },
   {
    "duration": 432,
    "start_time": "2022-08-09T11:09:35.673Z"
   },
   {
    "duration": 279,
    "start_time": "2022-08-09T11:09:36.106Z"
   },
   {
    "duration": 12,
    "start_time": "2022-08-09T11:09:36.387Z"
   },
   {
    "duration": 6,
    "start_time": "2022-08-09T11:09:36.400Z"
   },
   {
    "duration": 9,
    "start_time": "2022-08-09T11:09:36.408Z"
   },
   {
    "duration": 30,
    "start_time": "2022-08-09T11:09:36.419Z"
   },
   {
    "duration": 15,
    "start_time": "2022-08-09T11:09:36.456Z"
   },
   {
    "duration": 14,
    "start_time": "2022-08-09T11:09:36.473Z"
   },
   {
    "duration": 435,
    "start_time": "2022-08-09T11:09:36.488Z"
   },
   {
    "duration": 4,
    "start_time": "2022-08-09T11:09:36.925Z"
   },
   {
    "duration": 40,
    "start_time": "2022-08-09T11:09:36.930Z"
   },
   {
    "duration": 84,
    "start_time": "2022-08-09T11:09:36.972Z"
   },
   {
    "duration": 343,
    "start_time": "2022-08-09T11:09:37.059Z"
   },
   {
    "duration": 55,
    "start_time": "2022-08-09T11:09:37.406Z"
   },
   {
    "duration": 15,
    "start_time": "2022-08-09T11:09:37.463Z"
   },
   {
    "duration": 497,
    "start_time": "2022-08-09T11:09:37.480Z"
   },
   {
    "duration": 12,
    "start_time": "2022-08-09T11:09:37.979Z"
   },
   {
    "duration": 64,
    "start_time": "2022-08-09T11:09:37.993Z"
   },
   {
    "duration": 243,
    "start_time": "2022-08-09T11:09:38.066Z"
   },
   {
    "duration": 23,
    "start_time": "2022-08-09T11:09:38.311Z"
   },
   {
    "duration": 37,
    "start_time": "2022-08-09T11:09:38.335Z"
   },
   {
    "duration": 123,
    "start_time": "2022-08-09T11:28:51.985Z"
   },
   {
    "duration": 1142,
    "start_time": "2022-08-09T11:29:03.324Z"
   },
   {
    "duration": 253,
    "start_time": "2022-08-09T11:29:04.468Z"
   },
   {
    "duration": 5,
    "start_time": "2022-08-09T11:29:04.723Z"
   },
   {
    "duration": 402,
    "start_time": "2022-08-09T11:29:04.729Z"
   },
   {
    "duration": 90,
    "start_time": "2022-08-09T11:29:05.134Z"
   },
   {
    "duration": 53,
    "start_time": "2022-08-09T11:29:05.226Z"
   },
   {
    "duration": 89,
    "start_time": "2022-08-09T11:29:05.281Z"
   },
   {
    "duration": 48,
    "start_time": "2022-08-09T11:29:05.372Z"
   },
   {
    "duration": 74,
    "start_time": "2022-08-09T11:29:05.422Z"
   },
   {
    "duration": 3,
    "start_time": "2022-08-09T11:29:05.498Z"
   },
   {
    "duration": 1472,
    "start_time": "2022-08-09T11:29:05.503Z"
   },
   {
    "duration": 18,
    "start_time": "2022-08-09T11:29:06.976Z"
   },
   {
    "duration": 67,
    "start_time": "2022-08-09T11:29:06.995Z"
   },
   {
    "duration": 98,
    "start_time": "2022-08-09T11:29:07.064Z"
   },
   {
    "duration": 243,
    "start_time": "2022-08-09T11:29:07.164Z"
   },
   {
    "duration": 448,
    "start_time": "2022-08-09T11:29:07.409Z"
   },
   {
    "duration": 50,
    "start_time": "2022-08-09T11:29:07.858Z"
   },
   {
    "duration": 398,
    "start_time": "2022-08-09T11:29:07.913Z"
   },
   {
    "duration": 63,
    "start_time": "2022-08-09T11:29:08.313Z"
   },
   {
    "duration": 621,
    "start_time": "2022-08-09T11:29:08.378Z"
   },
   {
    "duration": 54,
    "start_time": "2022-08-09T11:29:09.001Z"
   },
   {
    "duration": 4,
    "start_time": "2022-08-09T11:29:09.057Z"
   },
   {
    "duration": 9,
    "start_time": "2022-08-09T11:29:09.063Z"
   },
   {
    "duration": 425,
    "start_time": "2022-08-09T11:29:09.074Z"
   },
   {
    "duration": 306,
    "start_time": "2022-08-09T11:29:09.501Z"
   },
   {
    "duration": 12,
    "start_time": "2022-08-09T11:29:09.809Z"
   },
   {
    "duration": 8,
    "start_time": "2022-08-09T11:29:09.823Z"
   },
   {
    "duration": 24,
    "start_time": "2022-08-09T11:29:09.833Z"
   },
   {
    "duration": 13,
    "start_time": "2022-08-09T11:29:09.859Z"
   },
   {
    "duration": 5,
    "start_time": "2022-08-09T11:29:09.874Z"
   },
   {
    "duration": 15,
    "start_time": "2022-08-09T11:29:09.881Z"
   },
   {
    "duration": 433,
    "start_time": "2022-08-09T11:29:09.897Z"
   },
   {
    "duration": 4,
    "start_time": "2022-08-09T11:29:10.332Z"
   },
   {
    "duration": 29,
    "start_time": "2022-08-09T11:29:10.338Z"
   },
   {
    "duration": 94,
    "start_time": "2022-08-09T11:29:10.369Z"
   },
   {
    "duration": 313,
    "start_time": "2022-08-09T11:29:10.464Z"
   },
   {
    "duration": 37,
    "start_time": "2022-08-09T11:29:10.779Z"
   },
   {
    "duration": 12,
    "start_time": "2022-08-09T11:29:10.818Z"
   },
   {
    "duration": 450,
    "start_time": "2022-08-09T11:29:10.832Z"
   },
   {
    "duration": 14,
    "start_time": "2022-08-09T11:29:11.284Z"
   },
   {
    "duration": 66,
    "start_time": "2022-08-09T11:29:11.301Z"
   },
   {
    "duration": 243,
    "start_time": "2022-08-09T11:29:11.369Z"
   },
   {
    "duration": 27,
    "start_time": "2022-08-09T11:29:11.614Z"
   },
   {
    "duration": 17,
    "start_time": "2022-08-09T11:29:11.643Z"
   },
   {
    "duration": 89,
    "start_time": "2022-08-09T11:29:30.771Z"
   },
   {
    "duration": 318,
    "start_time": "2022-08-09T11:33:27.204Z"
   },
   {
    "duration": 46,
    "start_time": "2022-08-09T11:34:22.492Z"
   },
   {
    "duration": 13,
    "start_time": "2022-08-09T11:37:36.617Z"
   },
   {
    "duration": 4,
    "start_time": "2022-08-09T11:37:56.011Z"
   },
   {
    "duration": 48,
    "start_time": "2022-08-09T11:38:01.081Z"
   },
   {
    "duration": 4,
    "start_time": "2022-08-09T11:38:02.183Z"
   },
   {
    "duration": 3,
    "start_time": "2022-08-09T11:38:02.655Z"
   },
   {
    "duration": 1305,
    "start_time": "2022-08-09T11:38:03.310Z"
   },
   {
    "duration": 95,
    "start_time": "2022-08-09T11:52:26.120Z"
   },
   {
    "duration": 11,
    "start_time": "2022-08-09T11:52:32.103Z"
   },
   {
    "duration": 1049,
    "start_time": "2022-08-09T11:52:42.089Z"
   },
   {
    "duration": 229,
    "start_time": "2022-08-09T11:52:43.140Z"
   },
   {
    "duration": 4,
    "start_time": "2022-08-09T11:52:43.371Z"
   },
   {
    "duration": 365,
    "start_time": "2022-08-09T11:52:43.376Z"
   },
   {
    "duration": 75,
    "start_time": "2022-08-09T11:52:43.754Z"
   },
   {
    "duration": 46,
    "start_time": "2022-08-09T11:52:43.831Z"
   },
   {
    "duration": 43,
    "start_time": "2022-08-09T11:52:43.878Z"
   },
   {
    "duration": 103,
    "start_time": "2022-08-09T11:52:43.922Z"
   },
   {
    "duration": 4,
    "start_time": "2022-08-09T11:52:44.027Z"
   },
   {
    "duration": 5,
    "start_time": "2022-08-09T11:52:44.032Z"
   },
   {
    "duration": 1386,
    "start_time": "2022-08-09T11:52:44.038Z"
   },
   {
    "duration": 10,
    "start_time": "2022-08-09T11:52:45.426Z"
   },
   {
    "duration": 54,
    "start_time": "2022-08-09T11:52:45.437Z"
   },
   {
    "duration": 74,
    "start_time": "2022-08-09T11:52:45.494Z"
   },
   {
    "duration": 195,
    "start_time": "2022-08-09T11:52:45.569Z"
   },
   {
    "duration": 325,
    "start_time": "2022-08-09T11:52:45.765Z"
   },
   {
    "duration": 88,
    "start_time": "2022-08-09T11:52:46.092Z"
   },
   {
    "duration": 444,
    "start_time": "2022-08-09T11:52:46.182Z"
   },
   {
    "duration": 62,
    "start_time": "2022-08-09T11:52:46.627Z"
   },
   {
    "duration": 584,
    "start_time": "2022-08-09T11:52:46.691Z"
   },
   {
    "duration": 57,
    "start_time": "2022-08-09T11:52:47.277Z"
   },
   {
    "duration": 19,
    "start_time": "2022-08-09T11:52:47.336Z"
   },
   {
    "duration": 12,
    "start_time": "2022-08-09T11:52:47.357Z"
   },
   {
    "duration": 430,
    "start_time": "2022-08-09T11:52:47.370Z"
   },
   {
    "duration": 293,
    "start_time": "2022-08-09T11:52:47.802Z"
   },
   {
    "duration": 11,
    "start_time": "2022-08-09T11:52:48.097Z"
   },
   {
    "duration": 7,
    "start_time": "2022-08-09T11:52:48.110Z"
   },
   {
    "duration": 9,
    "start_time": "2022-08-09T11:52:48.118Z"
   },
   {
    "duration": 26,
    "start_time": "2022-08-09T11:52:48.129Z"
   },
   {
    "duration": 6,
    "start_time": "2022-08-09T11:52:48.156Z"
   },
   {
    "duration": 11,
    "start_time": "2022-08-09T11:52:48.163Z"
   },
   {
    "duration": 432,
    "start_time": "2022-08-09T11:52:48.175Z"
   },
   {
    "duration": 3,
    "start_time": "2022-08-09T11:52:48.609Z"
   },
   {
    "duration": 19,
    "start_time": "2022-08-09T11:52:48.613Z"
   },
   {
    "duration": 71,
    "start_time": "2022-08-09T11:52:48.634Z"
   },
   {
    "duration": 366,
    "start_time": "2022-08-09T11:52:48.706Z"
   },
   {
    "duration": 35,
    "start_time": "2022-08-09T11:52:49.073Z"
   },
   {
    "duration": 8,
    "start_time": "2022-08-09T11:52:49.110Z"
   },
   {
    "duration": 330,
    "start_time": "2022-08-09T11:52:49.119Z"
   },
   {
    "duration": 15,
    "start_time": "2022-08-09T11:52:49.450Z"
   },
   {
    "duration": 148,
    "start_time": "2022-08-09T11:52:49.468Z"
   },
   {
    "duration": 251,
    "start_time": "2022-08-09T11:52:49.618Z"
   },
   {
    "duration": 23,
    "start_time": "2022-08-09T11:52:49.870Z"
   },
   {
    "duration": 9,
    "start_time": "2022-08-09T11:52:49.895Z"
   },
   {
    "duration": 42,
    "start_time": "2022-08-09T12:00:15.252Z"
   },
   {
    "duration": 11,
    "start_time": "2022-08-09T12:04:09.703Z"
   },
   {
    "duration": 1087,
    "start_time": "2022-08-09T12:04:20.329Z"
   },
   {
    "duration": 227,
    "start_time": "2022-08-09T12:04:21.417Z"
   },
   {
    "duration": 5,
    "start_time": "2022-08-09T12:04:21.645Z"
   },
   {
    "duration": 364,
    "start_time": "2022-08-09T12:04:21.651Z"
   },
   {
    "duration": 83,
    "start_time": "2022-08-09T12:04:22.017Z"
   },
   {
    "duration": 55,
    "start_time": "2022-08-09T12:04:22.101Z"
   },
   {
    "duration": 45,
    "start_time": "2022-08-09T12:04:22.158Z"
   },
   {
    "duration": 100,
    "start_time": "2022-08-09T12:04:22.204Z"
   },
   {
    "duration": 5,
    "start_time": "2022-08-09T12:04:22.305Z"
   },
   {
    "duration": 3,
    "start_time": "2022-08-09T12:04:22.313Z"
   },
   {
    "duration": 1376,
    "start_time": "2022-08-09T12:04:22.317Z"
   },
   {
    "duration": 11,
    "start_time": "2022-08-09T12:04:23.694Z"
   },
   {
    "duration": 55,
    "start_time": "2022-08-09T12:04:23.706Z"
   },
   {
    "duration": 71,
    "start_time": "2022-08-09T12:04:23.763Z"
   },
   {
    "duration": 20,
    "start_time": "2022-08-09T12:04:23.836Z"
   },
   {
    "duration": 207,
    "start_time": "2022-08-09T12:04:23.858Z"
   },
   {
    "duration": 328,
    "start_time": "2022-08-09T12:04:24.067Z"
   },
   {
    "duration": 45,
    "start_time": "2022-08-09T12:04:24.397Z"
   },
   {
    "duration": 62,
    "start_time": "2022-08-09T12:04:24.444Z"
   },
   {
    "duration": 623,
    "start_time": "2022-08-09T12:04:24.508Z"
   },
   {
    "duration": 51,
    "start_time": "2022-08-09T12:04:25.133Z"
   },
   {
    "duration": 4,
    "start_time": "2022-08-09T12:04:25.186Z"
   },
   {
    "duration": 10,
    "start_time": "2022-08-09T12:04:25.191Z"
   },
   {
    "duration": 379,
    "start_time": "2022-08-09T12:04:25.202Z"
   },
   {
    "duration": 226,
    "start_time": "2022-08-09T12:04:25.583Z"
   },
   {
    "duration": 11,
    "start_time": "2022-08-09T12:04:25.811Z"
   },
   {
    "duration": 34,
    "start_time": "2022-08-09T12:04:25.824Z"
   },
   {
    "duration": 9,
    "start_time": "2022-08-09T12:04:25.861Z"
   },
   {
    "duration": 15,
    "start_time": "2022-08-09T12:04:25.871Z"
   },
   {
    "duration": 5,
    "start_time": "2022-08-09T12:04:25.887Z"
   },
   {
    "duration": 11,
    "start_time": "2022-08-09T12:04:25.894Z"
   },
   {
    "duration": 390,
    "start_time": "2022-08-09T12:04:25.906Z"
   },
   {
    "duration": 3,
    "start_time": "2022-08-09T12:04:26.297Z"
   },
   {
    "duration": 13,
    "start_time": "2022-08-09T12:04:26.302Z"
   },
   {
    "duration": 70,
    "start_time": "2022-08-09T12:04:26.317Z"
   },
   {
    "duration": 306,
    "start_time": "2022-08-09T12:04:26.388Z"
   },
   {
    "duration": 39,
    "start_time": "2022-08-09T12:04:26.696Z"
   },
   {
    "duration": 20,
    "start_time": "2022-08-09T12:04:26.737Z"
   },
   {
    "duration": 309,
    "start_time": "2022-08-09T12:04:26.759Z"
   },
   {
    "duration": 10,
    "start_time": "2022-08-09T12:04:27.070Z"
   },
   {
    "duration": 40,
    "start_time": "2022-08-09T12:04:27.081Z"
   },
   {
    "duration": 244,
    "start_time": "2022-08-09T12:04:27.123Z"
   },
   {
    "duration": 29,
    "start_time": "2022-08-09T12:04:27.369Z"
   },
   {
    "duration": 12,
    "start_time": "2022-08-09T12:04:27.400Z"
   },
   {
    "duration": 3,
    "start_time": "2022-08-09T12:43:02.451Z"
   },
   {
    "duration": 9,
    "start_time": "2022-08-09T12:43:02.869Z"
   },
   {
    "duration": 1050,
    "start_time": "2022-08-09T12:43:28.680Z"
   },
   {
    "duration": 244,
    "start_time": "2022-08-09T12:43:29.732Z"
   },
   {
    "duration": 6,
    "start_time": "2022-08-09T12:43:29.978Z"
   },
   {
    "duration": 369,
    "start_time": "2022-08-09T12:43:29.986Z"
   },
   {
    "duration": 77,
    "start_time": "2022-08-09T12:43:30.357Z"
   },
   {
    "duration": 46,
    "start_time": "2022-08-09T12:43:30.436Z"
   },
   {
    "duration": 79,
    "start_time": "2022-08-09T12:43:30.483Z"
   },
   {
    "duration": 70,
    "start_time": "2022-08-09T12:43:30.563Z"
   },
   {
    "duration": 24,
    "start_time": "2022-08-09T12:43:30.634Z"
   },
   {
    "duration": 9,
    "start_time": "2022-08-09T12:43:30.660Z"
   },
   {
    "duration": 1375,
    "start_time": "2022-08-09T12:43:30.671Z"
   },
   {
    "duration": 13,
    "start_time": "2022-08-09T12:43:32.048Z"
   },
   {
    "duration": 50,
    "start_time": "2022-08-09T12:43:32.063Z"
   },
   {
    "duration": 67,
    "start_time": "2022-08-09T12:43:32.115Z"
   },
   {
    "duration": 9,
    "start_time": "2022-08-09T12:43:32.183Z"
   },
   {
    "duration": 198,
    "start_time": "2022-08-09T12:43:32.193Z"
   },
   {
    "duration": 310,
    "start_time": "2022-08-09T12:43:32.393Z"
   },
   {
    "duration": 51,
    "start_time": "2022-08-09T12:43:32.704Z"
   },
   {
    "duration": 55,
    "start_time": "2022-08-09T12:43:32.756Z"
   },
   {
    "duration": 601,
    "start_time": "2022-08-09T12:43:32.813Z"
   },
   {
    "duration": 51,
    "start_time": "2022-08-09T12:43:33.416Z"
   },
   {
    "duration": 4,
    "start_time": "2022-08-09T12:43:33.469Z"
   },
   {
    "duration": 12,
    "start_time": "2022-08-09T12:43:33.475Z"
   },
   {
    "duration": 399,
    "start_time": "2022-08-09T12:43:33.488Z"
   },
   {
    "duration": 217,
    "start_time": "2022-08-09T12:43:33.888Z"
   },
   {
    "duration": 10,
    "start_time": "2022-08-09T12:43:34.106Z"
   },
   {
    "duration": 37,
    "start_time": "2022-08-09T12:43:34.118Z"
   },
   {
    "duration": 9,
    "start_time": "2022-08-09T12:43:34.157Z"
   },
   {
    "duration": 21,
    "start_time": "2022-08-09T12:43:34.168Z"
   },
   {
    "duration": 23,
    "start_time": "2022-08-09T12:43:34.190Z"
   },
   {
    "duration": 17,
    "start_time": "2022-08-09T12:43:34.214Z"
   },
   {
    "duration": 432,
    "start_time": "2022-08-09T12:43:34.232Z"
   },
   {
    "duration": 3,
    "start_time": "2022-08-09T12:43:34.665Z"
   },
   {
    "duration": 27,
    "start_time": "2022-08-09T12:43:34.670Z"
   },
   {
    "duration": 83,
    "start_time": "2022-08-09T12:43:34.698Z"
   },
   {
    "duration": 301,
    "start_time": "2022-08-09T12:43:34.782Z"
   },
   {
    "duration": 35,
    "start_time": "2022-08-09T12:43:35.085Z"
   },
   {
    "duration": 8,
    "start_time": "2022-08-09T12:43:35.122Z"
   },
   {
    "duration": 330,
    "start_time": "2022-08-09T12:43:35.131Z"
   },
   {
    "duration": 11,
    "start_time": "2022-08-09T12:43:35.462Z"
   },
   {
    "duration": 38,
    "start_time": "2022-08-09T12:43:35.476Z"
   },
   {
    "duration": 237,
    "start_time": "2022-08-09T12:43:35.515Z"
   },
   {
    "duration": 23,
    "start_time": "2022-08-09T12:43:35.754Z"
   },
   {
    "duration": 10,
    "start_time": "2022-08-09T12:43:35.779Z"
   },
   {
    "duration": 3,
    "start_time": "2022-08-09T12:45:22.680Z"
   },
   {
    "duration": 10,
    "start_time": "2022-08-09T12:45:23.085Z"
   },
   {
    "duration": 1155,
    "start_time": "2022-08-09T12:45:33.828Z"
   },
   {
    "duration": 246,
    "start_time": "2022-08-09T12:45:34.985Z"
   },
   {
    "duration": 5,
    "start_time": "2022-08-09T12:45:35.233Z"
   },
   {
    "duration": 375,
    "start_time": "2022-08-09T12:45:35.240Z"
   },
   {
    "duration": 86,
    "start_time": "2022-08-09T12:45:35.616Z"
   },
   {
    "duration": 32,
    "start_time": "2022-08-09T12:45:35.704Z"
   },
   {
    "duration": 45,
    "start_time": "2022-08-09T12:45:35.754Z"
   },
   {
    "duration": 98,
    "start_time": "2022-08-09T12:45:35.800Z"
   },
   {
    "duration": 5,
    "start_time": "2022-08-09T12:45:35.899Z"
   },
   {
    "duration": 6,
    "start_time": "2022-08-09T12:45:35.906Z"
   },
   {
    "duration": 1390,
    "start_time": "2022-08-09T12:45:35.913Z"
   },
   {
    "duration": 14,
    "start_time": "2022-08-09T12:45:37.305Z"
   },
   {
    "duration": 66,
    "start_time": "2022-08-09T12:45:37.321Z"
   },
   {
    "duration": 136,
    "start_time": "2022-08-09T12:45:37.389Z"
   },
   {
    "duration": 11,
    "start_time": "2022-08-09T12:45:37.527Z"
   },
   {
    "duration": 215,
    "start_time": "2022-08-09T12:45:37.540Z"
   },
   {
    "duration": 381,
    "start_time": "2022-08-09T12:45:37.756Z"
   },
   {
    "duration": 56,
    "start_time": "2022-08-09T12:45:38.139Z"
   },
   {
    "duration": 72,
    "start_time": "2022-08-09T12:45:38.197Z"
   },
   {
    "duration": 698,
    "start_time": "2022-08-09T12:45:38.271Z"
   },
   {
    "duration": 52,
    "start_time": "2022-08-09T12:45:38.971Z"
   },
   {
    "duration": 4,
    "start_time": "2022-08-09T12:45:39.025Z"
   },
   {
    "duration": 9,
    "start_time": "2022-08-09T12:45:39.031Z"
   },
   {
    "duration": 383,
    "start_time": "2022-08-09T12:45:39.055Z"
   },
   {
    "duration": 256,
    "start_time": "2022-08-09T12:45:39.440Z"
   },
   {
    "duration": 12,
    "start_time": "2022-08-09T12:45:39.697Z"
   },
   {
    "duration": 7,
    "start_time": "2022-08-09T12:45:39.710Z"
   },
   {
    "duration": 10,
    "start_time": "2022-08-09T12:45:39.721Z"
   },
   {
    "duration": 25,
    "start_time": "2022-08-09T12:45:39.732Z"
   },
   {
    "duration": 6,
    "start_time": "2022-08-09T12:45:39.758Z"
   },
   {
    "duration": 11,
    "start_time": "2022-08-09T12:45:39.765Z"
   },
   {
    "duration": 337,
    "start_time": "2022-08-09T12:45:39.777Z"
   },
   {
    "duration": 0,
    "start_time": "2022-08-09T12:45:40.116Z"
   },
   {
    "duration": 0,
    "start_time": "2022-08-09T12:45:40.117Z"
   },
   {
    "duration": 0,
    "start_time": "2022-08-09T12:45:40.119Z"
   },
   {
    "duration": 0,
    "start_time": "2022-08-09T12:45:40.120Z"
   },
   {
    "duration": 0,
    "start_time": "2022-08-09T12:45:40.122Z"
   },
   {
    "duration": 0,
    "start_time": "2022-08-09T12:45:40.123Z"
   },
   {
    "duration": 0,
    "start_time": "2022-08-09T12:45:40.124Z"
   },
   {
    "duration": 0,
    "start_time": "2022-08-09T12:45:40.125Z"
   },
   {
    "duration": 0,
    "start_time": "2022-08-09T12:45:40.127Z"
   },
   {
    "duration": 0,
    "start_time": "2022-08-09T12:45:40.128Z"
   },
   {
    "duration": 0,
    "start_time": "2022-08-09T12:45:40.129Z"
   },
   {
    "duration": 0,
    "start_time": "2022-08-09T12:45:40.130Z"
   },
   {
    "duration": 425,
    "start_time": "2022-08-09T12:46:58.147Z"
   },
   {
    "duration": 399,
    "start_time": "2022-08-09T12:47:23.586Z"
   },
   {
    "duration": 485,
    "start_time": "2022-08-09T12:47:52.602Z"
   },
   {
    "duration": 3,
    "start_time": "2022-08-09T12:50:21.220Z"
   },
   {
    "duration": 9,
    "start_time": "2022-08-09T12:50:21.549Z"
   },
   {
    "duration": 389,
    "start_time": "2022-08-09T12:50:21.995Z"
   },
   {
    "duration": 1015,
    "start_time": "2022-08-09T12:56:53.206Z"
   },
   {
    "duration": 224,
    "start_time": "2022-08-09T12:56:54.223Z"
   },
   {
    "duration": 4,
    "start_time": "2022-08-09T12:56:54.449Z"
   },
   {
    "duration": 359,
    "start_time": "2022-08-09T12:56:54.455Z"
   },
   {
    "duration": 87,
    "start_time": "2022-08-09T12:56:54.816Z"
   },
   {
    "duration": 51,
    "start_time": "2022-08-09T12:56:54.905Z"
   },
   {
    "duration": 49,
    "start_time": "2022-08-09T12:56:54.957Z"
   },
   {
    "duration": 100,
    "start_time": "2022-08-09T12:56:55.008Z"
   },
   {
    "duration": 5,
    "start_time": "2022-08-09T12:56:55.109Z"
   },
   {
    "duration": 3,
    "start_time": "2022-08-09T12:56:55.118Z"
   },
   {
    "duration": 1373,
    "start_time": "2022-08-09T12:56:55.122Z"
   },
   {
    "duration": 10,
    "start_time": "2022-08-09T12:56:56.497Z"
   },
   {
    "duration": 52,
    "start_time": "2022-08-09T12:56:56.508Z"
   },
   {
    "duration": 75,
    "start_time": "2022-08-09T12:56:56.562Z"
   },
   {
    "duration": 25,
    "start_time": "2022-08-09T12:56:56.638Z"
   },
   {
    "duration": 233,
    "start_time": "2022-08-09T12:56:56.664Z"
   },
   {
    "duration": 328,
    "start_time": "2022-08-09T12:56:56.899Z"
   },
   {
    "duration": 52,
    "start_time": "2022-08-09T12:56:57.228Z"
   },
   {
    "duration": 77,
    "start_time": "2022-08-09T12:56:57.282Z"
   },
   {
    "duration": 640,
    "start_time": "2022-08-09T12:56:57.361Z"
   },
   {
    "duration": 44,
    "start_time": "2022-08-09T12:56:58.002Z"
   },
   {
    "duration": 4,
    "start_time": "2022-08-09T12:56:58.054Z"
   },
   {
    "duration": 9,
    "start_time": "2022-08-09T12:56:58.060Z"
   },
   {
    "duration": 410,
    "start_time": "2022-08-09T12:56:58.070Z"
   },
   {
    "duration": 222,
    "start_time": "2022-08-09T12:56:58.482Z"
   },
   {
    "duration": 15,
    "start_time": "2022-08-09T12:56:58.706Z"
   },
   {
    "duration": 6,
    "start_time": "2022-08-09T12:56:58.722Z"
   },
   {
    "duration": 7,
    "start_time": "2022-08-09T12:56:58.754Z"
   },
   {
    "duration": 8,
    "start_time": "2022-08-09T12:56:58.762Z"
   },
   {
    "duration": 5,
    "start_time": "2022-08-09T12:56:58.771Z"
   },
   {
    "duration": 9,
    "start_time": "2022-08-09T12:56:58.777Z"
   },
   {
    "duration": 402,
    "start_time": "2022-08-09T12:56:58.788Z"
   },
   {
    "duration": 3,
    "start_time": "2022-08-09T12:56:59.192Z"
   },
   {
    "duration": 2170,
    "start_time": "2022-08-09T12:56:59.197Z"
   },
   {
    "duration": 0,
    "start_time": "2022-08-09T12:57:01.369Z"
   },
   {
    "duration": 0,
    "start_time": "2022-08-09T12:57:01.371Z"
   },
   {
    "duration": 0,
    "start_time": "2022-08-09T12:57:01.372Z"
   },
   {
    "duration": 0,
    "start_time": "2022-08-09T12:57:01.373Z"
   },
   {
    "duration": 0,
    "start_time": "2022-08-09T12:57:01.374Z"
   },
   {
    "duration": 0,
    "start_time": "2022-08-09T12:57:01.374Z"
   },
   {
    "duration": 0,
    "start_time": "2022-08-09T12:57:01.375Z"
   },
   {
    "duration": 0,
    "start_time": "2022-08-09T12:57:01.376Z"
   },
   {
    "duration": 0,
    "start_time": "2022-08-09T12:57:01.377Z"
   },
   {
    "duration": 0,
    "start_time": "2022-08-09T12:57:01.378Z"
   },
   {
    "duration": 10,
    "start_time": "2022-08-09T12:57:35.096Z"
   },
   {
    "duration": 1082,
    "start_time": "2022-08-09T12:58:22.543Z"
   },
   {
    "duration": 227,
    "start_time": "2022-08-09T12:58:23.626Z"
   },
   {
    "duration": 4,
    "start_time": "2022-08-09T12:58:23.855Z"
   },
   {
    "duration": 347,
    "start_time": "2022-08-09T12:58:23.860Z"
   },
   {
    "duration": 86,
    "start_time": "2022-08-09T12:58:24.209Z"
   },
   {
    "duration": 32,
    "start_time": "2022-08-09T12:58:24.296Z"
   },
   {
    "duration": 64,
    "start_time": "2022-08-09T12:58:24.329Z"
   },
   {
    "duration": 91,
    "start_time": "2022-08-09T12:58:24.394Z"
   },
   {
    "duration": 4,
    "start_time": "2022-08-09T12:58:24.487Z"
   },
   {
    "duration": 5,
    "start_time": "2022-08-09T12:58:24.492Z"
   },
   {
    "duration": 1350,
    "start_time": "2022-08-09T12:58:24.498Z"
   },
   {
    "duration": 11,
    "start_time": "2022-08-09T12:58:25.850Z"
   },
   {
    "duration": 50,
    "start_time": "2022-08-09T12:58:25.862Z"
   },
   {
    "duration": 74,
    "start_time": "2022-08-09T12:58:25.915Z"
   },
   {
    "duration": 9,
    "start_time": "2022-08-09T12:58:25.992Z"
   },
   {
    "duration": 201,
    "start_time": "2022-08-09T12:58:26.003Z"
   },
   {
    "duration": 310,
    "start_time": "2022-08-09T12:58:26.205Z"
   },
   {
    "duration": 52,
    "start_time": "2022-08-09T12:58:26.516Z"
   },
   {
    "duration": 55,
    "start_time": "2022-08-09T12:58:26.570Z"
   },
   {
    "duration": 636,
    "start_time": "2022-08-09T12:58:26.626Z"
   },
   {
    "duration": 59,
    "start_time": "2022-08-09T12:58:27.264Z"
   },
   {
    "duration": 5,
    "start_time": "2022-08-09T12:58:27.325Z"
   },
   {
    "duration": 25,
    "start_time": "2022-08-09T12:58:27.331Z"
   },
   {
    "duration": 420,
    "start_time": "2022-08-09T12:58:27.360Z"
   },
   {
    "duration": 220,
    "start_time": "2022-08-09T12:58:27.781Z"
   },
   {
    "duration": 10,
    "start_time": "2022-08-09T12:58:28.003Z"
   },
   {
    "duration": 41,
    "start_time": "2022-08-09T12:58:28.014Z"
   },
   {
    "duration": 9,
    "start_time": "2022-08-09T12:58:28.056Z"
   },
   {
    "duration": 14,
    "start_time": "2022-08-09T12:58:28.067Z"
   },
   {
    "duration": 6,
    "start_time": "2022-08-09T12:58:28.082Z"
   },
   {
    "duration": 10,
    "start_time": "2022-08-09T12:58:28.089Z"
   },
   {
    "duration": 386,
    "start_time": "2022-08-09T12:58:28.100Z"
   },
   {
    "duration": 3,
    "start_time": "2022-08-09T12:58:28.488Z"
   },
   {
    "duration": 67,
    "start_time": "2022-08-09T12:58:28.493Z"
   },
   {
    "duration": 302,
    "start_time": "2022-08-09T12:58:28.562Z"
   },
   {
    "duration": 35,
    "start_time": "2022-08-09T12:58:28.865Z"
   },
   {
    "duration": 8,
    "start_time": "2022-08-09T12:58:28.902Z"
   },
   {
    "duration": 346,
    "start_time": "2022-08-09T12:58:28.911Z"
   },
   {
    "duration": 11,
    "start_time": "2022-08-09T12:58:29.259Z"
   },
   {
    "duration": 39,
    "start_time": "2022-08-09T12:58:29.272Z"
   },
   {
    "duration": 230,
    "start_time": "2022-08-09T12:58:29.314Z"
   },
   {
    "duration": 27,
    "start_time": "2022-08-09T12:58:29.545Z"
   },
   {
    "duration": 9,
    "start_time": "2022-08-09T12:58:29.574Z"
   },
   {
    "duration": 4,
    "start_time": "2022-08-09T13:14:04.309Z"
   },
   {
    "duration": 1069,
    "start_time": "2022-08-09T13:15:34.071Z"
   },
   {
    "duration": 14,
    "start_time": "2022-08-09T13:15:43.591Z"
   },
   {
    "duration": 7,
    "start_time": "2022-08-09T13:16:07.858Z"
   },
   {
    "duration": 70,
    "start_time": "2022-08-09T13:17:06.656Z"
   },
   {
    "duration": 1066,
    "start_time": "2022-08-09T13:17:19.857Z"
   },
   {
    "duration": 235,
    "start_time": "2022-08-09T13:17:20.925Z"
   },
   {
    "duration": 5,
    "start_time": "2022-08-09T13:17:21.161Z"
   },
   {
    "duration": 378,
    "start_time": "2022-08-09T13:17:21.168Z"
   },
   {
    "duration": 74,
    "start_time": "2022-08-09T13:17:21.554Z"
   },
   {
    "duration": 49,
    "start_time": "2022-08-09T13:17:21.629Z"
   },
   {
    "duration": 77,
    "start_time": "2022-08-09T13:17:21.679Z"
   },
   {
    "duration": 69,
    "start_time": "2022-08-09T13:17:21.757Z"
   },
   {
    "duration": 4,
    "start_time": "2022-08-09T13:17:21.828Z"
   },
   {
    "duration": 24,
    "start_time": "2022-08-09T13:17:21.834Z"
   },
   {
    "duration": 1361,
    "start_time": "2022-08-09T13:17:21.860Z"
   },
   {
    "duration": 10,
    "start_time": "2022-08-09T13:17:23.222Z"
   },
   {
    "duration": 56,
    "start_time": "2022-08-09T13:17:23.234Z"
   },
   {
    "duration": 79,
    "start_time": "2022-08-09T13:17:23.292Z"
   },
   {
    "duration": 9,
    "start_time": "2022-08-09T13:17:23.373Z"
   },
   {
    "duration": 193,
    "start_time": "2022-08-09T13:17:23.384Z"
   },
   {
    "duration": 319,
    "start_time": "2022-08-09T13:17:23.578Z"
   },
   {
    "duration": 58,
    "start_time": "2022-08-09T13:17:23.899Z"
   },
   {
    "duration": 61,
    "start_time": "2022-08-09T13:17:23.959Z"
   },
   {
    "duration": 628,
    "start_time": "2022-08-09T13:17:24.021Z"
   },
   {
    "duration": 45,
    "start_time": "2022-08-09T13:17:24.651Z"
   },
   {
    "duration": 5,
    "start_time": "2022-08-09T13:17:24.698Z"
   },
   {
    "duration": 23,
    "start_time": "2022-08-09T13:17:24.704Z"
   },
   {
    "duration": 372,
    "start_time": "2022-08-09T13:17:24.729Z"
   },
   {
    "duration": 282,
    "start_time": "2022-08-09T13:17:25.103Z"
   },
   {
    "duration": 12,
    "start_time": "2022-08-09T13:17:25.387Z"
   },
   {
    "duration": 20,
    "start_time": "2022-08-09T13:17:25.401Z"
   },
   {
    "duration": 12,
    "start_time": "2022-08-09T13:17:25.425Z"
   },
   {
    "duration": 26,
    "start_time": "2022-08-09T13:17:25.438Z"
   },
   {
    "duration": 17,
    "start_time": "2022-08-09T13:17:25.465Z"
   },
   {
    "duration": 21,
    "start_time": "2022-08-09T13:17:25.484Z"
   },
   {
    "duration": 378,
    "start_time": "2022-08-09T13:17:25.507Z"
   },
   {
    "duration": 3,
    "start_time": "2022-08-09T13:17:25.887Z"
   },
   {
    "duration": 1112,
    "start_time": "2022-08-09T13:17:25.892Z"
   },
   {
    "duration": 68,
    "start_time": "2022-08-09T13:17:27.006Z"
   },
   {
    "duration": 331,
    "start_time": "2022-08-09T13:17:27.075Z"
   },
   {
    "duration": 51,
    "start_time": "2022-08-09T13:17:27.407Z"
   },
   {
    "duration": 9,
    "start_time": "2022-08-09T13:17:27.460Z"
   },
   {
    "duration": 324,
    "start_time": "2022-08-09T13:17:27.470Z"
   },
   {
    "duration": 12,
    "start_time": "2022-08-09T13:17:27.796Z"
   },
   {
    "duration": 58,
    "start_time": "2022-08-09T13:17:27.809Z"
   },
   {
    "duration": 232,
    "start_time": "2022-08-09T13:17:27.869Z"
   },
   {
    "duration": 22,
    "start_time": "2022-08-09T13:17:28.102Z"
   },
   {
    "duration": 18,
    "start_time": "2022-08-09T13:17:28.126Z"
   },
   {
    "duration": 60,
    "start_time": "2022-08-09T13:18:04.557Z"
   },
   {
    "duration": 10,
    "start_time": "2022-08-09T13:18:10.655Z"
   },
   {
    "duration": 59,
    "start_time": "2022-08-09T13:24:51.992Z"
   },
   {
    "duration": 11,
    "start_time": "2022-08-09T13:25:11.263Z"
   },
   {
    "duration": 64,
    "start_time": "2022-08-09T13:27:04.693Z"
   },
   {
    "duration": 10,
    "start_time": "2022-08-09T13:27:06.507Z"
   },
   {
    "duration": 63,
    "start_time": "2022-08-09T13:27:55.789Z"
   },
   {
    "duration": 10,
    "start_time": "2022-08-09T13:28:01.471Z"
   },
   {
    "duration": 17,
    "start_time": "2022-08-09T13:30:07.306Z"
   },
   {
    "duration": 3,
    "start_time": "2022-08-09T13:30:50.894Z"
   },
   {
    "duration": 12,
    "start_time": "2022-08-09T13:30:58.428Z"
   },
   {
    "duration": 64,
    "start_time": "2022-08-09T13:31:41.853Z"
   },
   {
    "duration": 60,
    "start_time": "2022-08-09T13:32:43.065Z"
   },
   {
    "duration": 80,
    "start_time": "2022-08-09T13:32:47.468Z"
   },
   {
    "duration": 69,
    "start_time": "2022-08-09T13:33:31.343Z"
   },
   {
    "duration": 70,
    "start_time": "2022-08-09T13:34:04.860Z"
   },
   {
    "duration": 382,
    "start_time": "2022-08-09T13:34:32.230Z"
   },
   {
    "duration": 303,
    "start_time": "2022-08-09T13:35:04.264Z"
   },
   {
    "duration": 301,
    "start_time": "2022-08-09T13:35:09.566Z"
   },
   {
    "duration": 348,
    "start_time": "2022-08-09T13:36:27.451Z"
   },
   {
    "duration": 64,
    "start_time": "2022-08-09T13:50:33.739Z"
   },
   {
    "duration": 307,
    "start_time": "2022-08-09T13:51:33.655Z"
   },
   {
    "duration": 43,
    "start_time": "2022-08-09T13:59:18.531Z"
   },
   {
    "duration": 295,
    "start_time": "2022-08-09T14:01:15.414Z"
   },
   {
    "duration": 336,
    "start_time": "2022-08-09T14:02:55.041Z"
   },
   {
    "duration": 172,
    "start_time": "2022-08-09T14:03:09.932Z"
   },
   {
    "duration": 100,
    "start_time": "2022-08-09T14:03:17.074Z"
   },
   {
    "duration": 320,
    "start_time": "2022-08-09T14:03:31.753Z"
   },
   {
    "duration": 71,
    "start_time": "2022-08-09T14:04:40.245Z"
   },
   {
    "duration": 207,
    "start_time": "2022-08-09T14:05:27.686Z"
   },
   {
    "duration": 261,
    "start_time": "2022-08-09T14:06:35.418Z"
   },
   {
    "duration": 11,
    "start_time": "2022-08-09T14:08:43.007Z"
   },
   {
    "duration": 8,
    "start_time": "2022-08-09T14:08:48.779Z"
   },
   {
    "duration": 223,
    "start_time": "2022-08-09T14:18:54.770Z"
   },
   {
    "duration": 72,
    "start_time": "2022-08-09T14:23:21.045Z"
   },
   {
    "duration": 36,
    "start_time": "2022-08-09T14:23:24.721Z"
   },
   {
    "duration": 358,
    "start_time": "2022-08-09T14:24:52.439Z"
   },
   {
    "duration": 212,
    "start_time": "2022-08-09T14:25:03.573Z"
   },
   {
    "duration": 26,
    "start_time": "2022-08-09T14:27:40.352Z"
   },
   {
    "duration": 22,
    "start_time": "2022-08-09T14:29:25.068Z"
   },
   {
    "duration": 11,
    "start_time": "2022-08-09T14:31:53.002Z"
   },
   {
    "duration": 11,
    "start_time": "2022-08-09T14:31:55.591Z"
   },
   {
    "duration": 12,
    "start_time": "2022-08-09T14:32:17.217Z"
   },
   {
    "duration": 1030,
    "start_time": "2022-08-09T14:44:16.017Z"
   },
   {
    "duration": 229,
    "start_time": "2022-08-09T14:44:17.049Z"
   },
   {
    "duration": 6,
    "start_time": "2022-08-09T14:44:17.279Z"
   },
   {
    "duration": 434,
    "start_time": "2022-08-09T14:44:17.287Z"
   },
   {
    "duration": 89,
    "start_time": "2022-08-09T14:44:17.724Z"
   },
   {
    "duration": 43,
    "start_time": "2022-08-09T14:44:17.814Z"
   },
   {
    "duration": 45,
    "start_time": "2022-08-09T14:44:17.859Z"
   },
   {
    "duration": 100,
    "start_time": "2022-08-09T14:44:17.905Z"
   },
   {
    "duration": 4,
    "start_time": "2022-08-09T14:44:18.006Z"
   },
   {
    "duration": 5,
    "start_time": "2022-08-09T14:44:18.011Z"
   },
   {
    "duration": 1448,
    "start_time": "2022-08-09T14:44:18.017Z"
   },
   {
    "duration": 13,
    "start_time": "2022-08-09T14:44:19.467Z"
   },
   {
    "duration": 53,
    "start_time": "2022-08-09T14:44:19.482Z"
   },
   {
    "duration": 81,
    "start_time": "2022-08-09T14:44:19.540Z"
   },
   {
    "duration": 11,
    "start_time": "2022-08-09T14:44:19.623Z"
   },
   {
    "duration": 216,
    "start_time": "2022-08-09T14:44:19.635Z"
   },
   {
    "duration": 335,
    "start_time": "2022-08-09T14:44:19.855Z"
   },
   {
    "duration": 47,
    "start_time": "2022-08-09T14:44:20.191Z"
   },
   {
    "duration": 71,
    "start_time": "2022-08-09T14:44:20.240Z"
   },
   {
    "duration": 639,
    "start_time": "2022-08-09T14:44:20.313Z"
   },
   {
    "duration": 45,
    "start_time": "2022-08-09T14:44:20.954Z"
   },
   {
    "duration": 4,
    "start_time": "2022-08-09T14:44:21.001Z"
   },
   {
    "duration": 30,
    "start_time": "2022-08-09T14:44:21.007Z"
   },
   {
    "duration": 385,
    "start_time": "2022-08-09T14:44:21.038Z"
   },
   {
    "duration": 271,
    "start_time": "2022-08-09T14:44:21.425Z"
   },
   {
    "duration": 11,
    "start_time": "2022-08-09T14:44:21.698Z"
   },
   {
    "duration": 31,
    "start_time": "2022-08-09T14:44:21.710Z"
   },
   {
    "duration": 28,
    "start_time": "2022-08-09T14:44:21.742Z"
   },
   {
    "duration": 29,
    "start_time": "2022-08-09T14:44:21.772Z"
   },
   {
    "duration": 22,
    "start_time": "2022-08-09T14:44:21.803Z"
   },
   {
    "duration": 19,
    "start_time": "2022-08-09T14:44:21.827Z"
   },
   {
    "duration": 430,
    "start_time": "2022-08-09T14:44:21.848Z"
   },
   {
    "duration": 3,
    "start_time": "2022-08-09T14:44:22.279Z"
   },
   {
    "duration": 1067,
    "start_time": "2022-08-09T14:44:22.283Z"
   },
   {
    "duration": 65,
    "start_time": "2022-08-09T14:44:23.351Z"
   },
   {
    "duration": 382,
    "start_time": "2022-08-09T14:44:23.418Z"
   },
   {
    "duration": 333,
    "start_time": "2022-08-09T14:44:23.802Z"
   },
   {
    "duration": 251,
    "start_time": "2022-08-09T14:44:24.137Z"
   },
   {
    "duration": 37,
    "start_time": "2022-08-09T14:44:24.389Z"
   },
   {
    "duration": 233,
    "start_time": "2022-08-09T14:44:24.427Z"
   },
   {
    "duration": 21,
    "start_time": "2022-08-09T14:44:24.664Z"
   },
   {
    "duration": 10,
    "start_time": "2022-08-09T14:44:24.687Z"
   },
   {
    "duration": 3,
    "start_time": "2022-08-09T14:50:00.766Z"
   },
   {
    "duration": 17,
    "start_time": "2022-08-09T14:53:05.260Z"
   },
   {
    "duration": 32,
    "start_time": "2022-08-09T14:59:23.459Z"
   },
   {
    "duration": 16,
    "start_time": "2022-08-09T15:01:58.611Z"
   },
   {
    "duration": 16,
    "start_time": "2022-08-09T15:02:17.886Z"
   },
   {
    "duration": 16,
    "start_time": "2022-08-09T15:05:26.763Z"
   },
   {
    "duration": 104,
    "start_time": "2022-08-09T15:11:38.300Z"
   },
   {
    "duration": 133,
    "start_time": "2022-08-09T15:14:28.433Z"
   },
   {
    "duration": 95,
    "start_time": "2022-08-09T15:15:04.321Z"
   },
   {
    "duration": 14,
    "start_time": "2022-08-09T15:15:29.712Z"
   },
   {
    "duration": 11,
    "start_time": "2022-08-09T15:16:09.654Z"
   },
   {
    "duration": 67,
    "start_time": "2022-08-09T15:19:42.014Z"
   },
   {
    "duration": 315,
    "start_time": "2022-08-09T15:19:48.042Z"
   },
   {
    "duration": 64,
    "start_time": "2022-08-09T15:20:34.200Z"
   },
   {
    "duration": 337,
    "start_time": "2022-08-09T15:20:35.822Z"
   },
   {
    "duration": 29,
    "start_time": "2022-08-09T15:23:06.628Z"
   },
   {
    "duration": 32,
    "start_time": "2022-08-09T15:23:16.717Z"
   },
   {
    "duration": 24,
    "start_time": "2022-08-09T15:24:10.424Z"
   },
   {
    "duration": 35,
    "start_time": "2022-08-09T15:24:27.342Z"
   },
   {
    "duration": 5,
    "start_time": "2022-08-09T15:26:07.799Z"
   },
   {
    "duration": 8,
    "start_time": "2022-08-09T15:26:25.290Z"
   },
   {
    "duration": 15,
    "start_time": "2022-08-09T15:26:36.398Z"
   },
   {
    "duration": 6,
    "start_time": "2022-08-09T15:27:15.645Z"
   },
   {
    "duration": 13,
    "start_time": "2022-08-09T15:27:27.739Z"
   },
   {
    "duration": 12,
    "start_time": "2022-08-09T15:27:37.818Z"
   },
   {
    "duration": 9,
    "start_time": "2022-08-09T16:00:15.098Z"
   },
   {
    "duration": 56,
    "start_time": "2022-08-09T16:00:22.451Z"
   },
   {
    "duration": 316,
    "start_time": "2022-08-09T16:05:37.092Z"
   },
   {
    "duration": 57,
    "start_time": "2022-08-09T16:05:45.520Z"
   },
   {
    "duration": 78,
    "start_time": "2022-08-09T16:06:55.619Z"
   },
   {
    "duration": 13,
    "start_time": "2022-08-09T16:11:10.481Z"
   },
   {
    "duration": 60,
    "start_time": "2022-08-09T16:12:36.008Z"
   },
   {
    "duration": 70,
    "start_time": "2022-08-09T16:13:38.945Z"
   },
   {
    "duration": 8,
    "start_time": "2022-08-09T16:16:14.885Z"
   },
   {
    "duration": 52,
    "start_time": "2022-08-09T16:16:19.781Z"
   },
   {
    "duration": 3,
    "start_time": "2022-08-09T16:16:19.941Z"
   },
   {
    "duration": 12,
    "start_time": "2022-08-09T16:16:24.041Z"
   },
   {
    "duration": 61,
    "start_time": "2022-08-09T16:17:47.973Z"
   },
   {
    "duration": 7,
    "start_time": "2022-08-09T16:20:03.735Z"
   },
   {
    "duration": 129,
    "start_time": "2022-08-09T16:20:33.482Z"
   },
   {
    "duration": 48,
    "start_time": "2022-08-09T16:20:41.223Z"
   },
   {
    "duration": 55,
    "start_time": "2022-08-09T16:20:46.401Z"
   },
   {
    "duration": 63,
    "start_time": "2022-08-09T16:21:38.641Z"
   },
   {
    "duration": 61,
    "start_time": "2022-08-09T16:22:09.742Z"
   },
   {
    "duration": 54,
    "start_time": "2022-08-09T16:22:32.913Z"
   },
   {
    "duration": 12,
    "start_time": "2022-08-09T16:22:37.542Z"
   },
   {
    "duration": 91,
    "start_time": "2022-08-09T16:23:56.501Z"
   },
   {
    "duration": 6,
    "start_time": "2022-08-09T16:24:04.361Z"
   },
   {
    "duration": 6,
    "start_time": "2022-08-09T16:24:25.649Z"
   },
   {
    "duration": 7,
    "start_time": "2022-08-09T16:25:31.734Z"
   },
   {
    "duration": 6,
    "start_time": "2022-08-09T16:28:32.941Z"
   },
   {
    "duration": 12,
    "start_time": "2022-08-09T16:28:48.042Z"
   },
   {
    "duration": 4,
    "start_time": "2022-08-09T16:29:28.796Z"
   },
   {
    "duration": 13,
    "start_time": "2022-08-09T16:29:32.361Z"
   },
   {
    "duration": 63,
    "start_time": "2022-08-09T16:30:05.242Z"
   },
   {
    "duration": 67,
    "start_time": "2022-08-09T16:30:31.701Z"
   },
   {
    "duration": 4,
    "start_time": "2022-08-09T16:45:52.872Z"
   },
   {
    "duration": 11,
    "start_time": "2022-08-09T16:46:09.902Z"
   },
   {
    "duration": 4,
    "start_time": "2022-08-09T16:46:21.591Z"
   },
   {
    "duration": 14,
    "start_time": "2022-08-09T16:46:21.910Z"
   },
   {
    "duration": 6,
    "start_time": "2022-08-09T16:46:43.470Z"
   },
   {
    "duration": 16,
    "start_time": "2022-08-09T16:46:43.750Z"
   },
   {
    "duration": 4,
    "start_time": "2022-08-09T16:47:20.631Z"
   },
   {
    "duration": 15,
    "start_time": "2022-08-09T16:47:21.250Z"
   },
   {
    "duration": 4,
    "start_time": "2022-08-09T16:48:02.610Z"
   },
   {
    "duration": 7,
    "start_time": "2022-08-09T16:48:02.930Z"
   },
   {
    "duration": 5,
    "start_time": "2022-08-09T16:50:49.690Z"
   },
   {
    "duration": 8,
    "start_time": "2022-08-09T16:50:50.030Z"
   },
   {
    "duration": 5,
    "start_time": "2022-08-09T16:50:54.531Z"
   },
   {
    "duration": 7,
    "start_time": "2022-08-09T16:50:54.851Z"
   },
   {
    "duration": 5,
    "start_time": "2022-08-09T16:51:36.202Z"
   },
   {
    "duration": 6,
    "start_time": "2022-08-09T16:51:44.771Z"
   },
   {
    "duration": 7,
    "start_time": "2022-08-09T16:51:59.610Z"
   },
   {
    "duration": 6,
    "start_time": "2022-08-09T16:52:08.832Z"
   },
   {
    "duration": 7,
    "start_time": "2022-08-09T16:52:30.559Z"
   },
   {
    "duration": 8,
    "start_time": "2022-08-09T16:53:05.612Z"
   },
   {
    "duration": 9,
    "start_time": "2022-08-09T16:53:38.712Z"
   },
   {
    "duration": 8,
    "start_time": "2022-08-09T16:53:40.050Z"
   },
   {
    "duration": 5,
    "start_time": "2022-08-09T16:53:51.002Z"
   },
   {
    "duration": 7,
    "start_time": "2022-08-09T16:53:51.330Z"
   },
   {
    "duration": 7,
    "start_time": "2022-08-09T16:53:51.609Z"
   },
   {
    "duration": 7,
    "start_time": "2022-08-09T16:53:52.071Z"
   },
   {
    "duration": 6,
    "start_time": "2022-08-09T16:53:52.710Z"
   },
   {
    "duration": 7,
    "start_time": "2022-08-09T16:53:53.379Z"
   },
   {
    "duration": 7,
    "start_time": "2022-08-09T16:54:23.642Z"
   },
   {
    "duration": 64,
    "start_time": "2022-08-09T16:56:25.849Z"
   },
   {
    "duration": 5,
    "start_time": "2022-08-09T16:57:40.964Z"
   },
   {
    "duration": 7,
    "start_time": "2022-08-09T16:57:41.150Z"
   },
   {
    "duration": 8,
    "start_time": "2022-08-09T16:57:41.390Z"
   },
   {
    "duration": 8,
    "start_time": "2022-08-09T16:57:41.589Z"
   },
   {
    "duration": 7,
    "start_time": "2022-08-09T16:57:41.824Z"
   },
   {
    "duration": 7,
    "start_time": "2022-08-09T16:57:42.436Z"
   },
   {
    "duration": 17,
    "start_time": "2022-08-09T16:57:42.445Z"
   },
   {
    "duration": 4,
    "start_time": "2022-08-09T16:58:24.592Z"
   },
   {
    "duration": 9,
    "start_time": "2022-08-09T16:58:24.970Z"
   },
   {
    "duration": 7,
    "start_time": "2022-08-09T16:58:26.511Z"
   },
   {
    "duration": 8,
    "start_time": "2022-08-09T16:58:26.719Z"
   },
   {
    "duration": 7,
    "start_time": "2022-08-09T16:58:26.932Z"
   },
   {
    "duration": 7,
    "start_time": "2022-08-09T16:58:27.150Z"
   },
   {
    "duration": 7,
    "start_time": "2022-08-09T16:58:27.522Z"
   },
   {
    "duration": 4,
    "start_time": "2022-08-09T16:59:27.151Z"
   },
   {
    "duration": 7,
    "start_time": "2022-08-09T16:59:27.583Z"
   },
   {
    "duration": 7,
    "start_time": "2022-08-09T16:59:28.007Z"
   },
   {
    "duration": 7,
    "start_time": "2022-08-09T16:59:28.451Z"
   },
   {
    "duration": 6,
    "start_time": "2022-08-09T16:59:28.944Z"
   },
   {
    "duration": 7,
    "start_time": "2022-08-09T16:59:29.531Z"
   },
   {
    "duration": 4,
    "start_time": "2022-08-09T16:59:40.031Z"
   },
   {
    "duration": 6,
    "start_time": "2022-08-09T16:59:40.551Z"
   },
   {
    "duration": 7,
    "start_time": "2022-08-09T16:59:41.350Z"
   },
   {
    "duration": 8,
    "start_time": "2022-08-09T16:59:41.749Z"
   },
   {
    "duration": 7,
    "start_time": "2022-08-09T16:59:42.583Z"
   },
   {
    "duration": 7,
    "start_time": "2022-08-09T16:59:42.851Z"
   },
   {
    "duration": 5,
    "start_time": "2022-08-09T17:00:42.490Z"
   },
   {
    "duration": 7,
    "start_time": "2022-08-09T17:00:42.971Z"
   },
   {
    "duration": 7,
    "start_time": "2022-08-09T17:00:43.631Z"
   },
   {
    "duration": 8,
    "start_time": "2022-08-09T17:00:43.891Z"
   },
   {
    "duration": 7,
    "start_time": "2022-08-09T17:00:44.199Z"
   },
   {
    "duration": 8,
    "start_time": "2022-08-09T17:00:44.412Z"
   },
   {
    "duration": 7,
    "start_time": "2022-08-09T17:00:45.031Z"
   },
   {
    "duration": 4,
    "start_time": "2022-08-09T17:02:24.810Z"
   },
   {
    "duration": 19,
    "start_time": "2022-08-09T17:02:25.970Z"
   },
   {
    "duration": 6,
    "start_time": "2022-08-09T17:02:37.790Z"
   },
   {
    "duration": 19,
    "start_time": "2022-08-09T17:02:38.803Z"
   },
   {
    "duration": 4,
    "start_time": "2022-08-09T17:02:50.550Z"
   },
   {
    "duration": 18,
    "start_time": "2022-08-09T17:02:51.142Z"
   },
   {
    "duration": 4,
    "start_time": "2022-08-09T17:03:19.932Z"
   },
   {
    "duration": 17,
    "start_time": "2022-08-09T17:03:20.410Z"
   },
   {
    "duration": 4,
    "start_time": "2022-08-09T17:03:39.111Z"
   },
   {
    "duration": 18,
    "start_time": "2022-08-09T17:03:39.882Z"
   },
   {
    "duration": 5,
    "start_time": "2022-08-09T17:04:03.109Z"
   },
   {
    "duration": 17,
    "start_time": "2022-08-09T17:04:03.310Z"
   },
   {
    "duration": 4,
    "start_time": "2022-08-09T17:04:28.190Z"
   },
   {
    "duration": 20,
    "start_time": "2022-08-09T17:04:28.390Z"
   },
   {
    "duration": 4,
    "start_time": "2022-08-09T17:04:52.371Z"
   },
   {
    "duration": 6,
    "start_time": "2022-08-09T17:04:52.710Z"
   },
   {
    "duration": 4,
    "start_time": "2022-08-09T17:05:02.251Z"
   },
   {
    "duration": 835,
    "start_time": "2022-08-09T17:05:03.167Z"
   },
   {
    "duration": 5,
    "start_time": "2022-08-09T17:05:26.409Z"
   },
   {
    "duration": 7,
    "start_time": "2022-08-09T17:05:26.830Z"
   },
   {
    "duration": 7,
    "start_time": "2022-08-09T17:13:09.589Z"
   },
   {
    "duration": 1064,
    "start_time": "2022-08-09T18:02:58.741Z"
   },
   {
    "duration": 225,
    "start_time": "2022-08-09T18:02:59.806Z"
   },
   {
    "duration": 5,
    "start_time": "2022-08-09T18:03:00.033Z"
   },
   {
    "duration": 421,
    "start_time": "2022-08-09T18:03:00.040Z"
   },
   {
    "duration": 91,
    "start_time": "2022-08-09T18:03:00.464Z"
   },
   {
    "duration": 35,
    "start_time": "2022-08-09T18:03:00.557Z"
   },
   {
    "duration": 83,
    "start_time": "2022-08-09T18:03:00.594Z"
   },
   {
    "duration": 97,
    "start_time": "2022-08-09T18:03:00.679Z"
   },
   {
    "duration": 4,
    "start_time": "2022-08-09T18:03:00.778Z"
   },
   {
    "duration": 12,
    "start_time": "2022-08-09T18:03:00.783Z"
   },
   {
    "duration": 1392,
    "start_time": "2022-08-09T18:03:00.797Z"
   },
   {
    "duration": 10,
    "start_time": "2022-08-09T18:03:02.190Z"
   },
   {
    "duration": 57,
    "start_time": "2022-08-09T18:03:02.201Z"
   },
   {
    "duration": 69,
    "start_time": "2022-08-09T18:03:02.261Z"
   },
   {
    "duration": 24,
    "start_time": "2022-08-09T18:03:02.331Z"
   },
   {
    "duration": 204,
    "start_time": "2022-08-09T18:03:02.356Z"
   },
   {
    "duration": 323,
    "start_time": "2022-08-09T18:03:02.561Z"
   },
   {
    "duration": 46,
    "start_time": "2022-08-09T18:03:02.886Z"
   },
   {
    "duration": 68,
    "start_time": "2022-08-09T18:03:02.933Z"
   },
   {
    "duration": 646,
    "start_time": "2022-08-09T18:03:03.003Z"
   },
   {
    "duration": 48,
    "start_time": "2022-08-09T18:03:03.650Z"
   },
   {
    "duration": 5,
    "start_time": "2022-08-09T18:03:03.700Z"
   },
   {
    "duration": 28,
    "start_time": "2022-08-09T18:03:03.706Z"
   },
   {
    "duration": 365,
    "start_time": "2022-08-09T18:03:03.735Z"
   },
   {
    "duration": 281,
    "start_time": "2022-08-09T18:03:04.102Z"
   },
   {
    "duration": 12,
    "start_time": "2022-08-09T18:03:04.385Z"
   },
   {
    "duration": 5,
    "start_time": "2022-08-09T18:03:04.398Z"
   },
   {
    "duration": 11,
    "start_time": "2022-08-09T18:03:04.404Z"
   },
   {
    "duration": 9,
    "start_time": "2022-08-09T18:03:04.416Z"
   },
   {
    "duration": 4,
    "start_time": "2022-08-09T18:03:04.454Z"
   },
   {
    "duration": 12,
    "start_time": "2022-08-09T18:03:04.459Z"
   },
   {
    "duration": 418,
    "start_time": "2022-08-09T18:03:04.473Z"
   },
   {
    "duration": 3,
    "start_time": "2022-08-09T18:03:04.892Z"
   },
   {
    "duration": 1088,
    "start_time": "2022-08-09T18:03:04.896Z"
   },
   {
    "duration": 69,
    "start_time": "2022-08-09T18:03:05.986Z"
   },
   {
    "duration": 409,
    "start_time": "2022-08-09T18:03:06.057Z"
   },
   {
    "duration": 323,
    "start_time": "2022-08-09T18:03:06.468Z"
   },
   {
    "duration": 295,
    "start_time": "2022-08-09T18:03:06.793Z"
   },
   {
    "duration": 35,
    "start_time": "2022-08-09T18:03:07.090Z"
   },
   {
    "duration": 276,
    "start_time": "2022-08-09T18:03:07.126Z"
   },
   {
    "duration": 33,
    "start_time": "2022-08-09T18:03:07.406Z"
   },
   {
    "duration": 14,
    "start_time": "2022-08-09T18:03:07.456Z"
   },
   {
    "duration": 85,
    "start_time": "2022-08-09T18:03:07.472Z"
   },
   {
    "duration": 5,
    "start_time": "2022-08-09T18:03:07.558Z"
   },
   {
    "duration": 11,
    "start_time": "2022-08-09T18:03:07.565Z"
   },
   {
    "duration": 10,
    "start_time": "2022-08-09T18:03:07.578Z"
   },
   {
    "duration": 7,
    "start_time": "2022-08-09T18:03:07.590Z"
   },
   {
    "duration": 8,
    "start_time": "2022-08-09T18:03:07.598Z"
   },
   {
    "duration": 7,
    "start_time": "2022-08-09T18:03:07.608Z"
   },
   {
    "duration": 41,
    "start_time": "2022-08-09T18:03:07.616Z"
   },
   {
    "duration": 1847,
    "start_time": "2022-08-10T18:21:41.064Z"
   },
   {
    "duration": 735,
    "start_time": "2022-08-10T18:21:42.913Z"
   },
   {
    "duration": 6,
    "start_time": "2022-08-10T18:21:43.649Z"
   },
   {
    "duration": 368,
    "start_time": "2022-08-10T18:21:43.656Z"
   },
   {
    "duration": 91,
    "start_time": "2022-08-10T18:21:44.025Z"
   },
   {
    "duration": 34,
    "start_time": "2022-08-10T18:21:44.118Z"
   },
   {
    "duration": 88,
    "start_time": "2022-08-10T18:21:44.154Z"
   },
   {
    "duration": 117,
    "start_time": "2022-08-10T18:21:44.243Z"
   },
   {
    "duration": 4,
    "start_time": "2022-08-10T18:21:44.362Z"
   },
   {
    "duration": 4,
    "start_time": "2022-08-10T18:21:44.369Z"
   },
   {
    "duration": 1562,
    "start_time": "2022-08-10T18:21:44.374Z"
   },
   {
    "duration": 10,
    "start_time": "2022-08-10T18:21:45.938Z"
   },
   {
    "duration": 48,
    "start_time": "2022-08-10T18:21:45.949Z"
   },
   {
    "duration": 69,
    "start_time": "2022-08-10T18:21:46.010Z"
   },
   {
    "duration": 11,
    "start_time": "2022-08-10T18:21:46.081Z"
   },
   {
    "duration": 267,
    "start_time": "2022-08-10T18:21:46.094Z"
   },
   {
    "duration": 340,
    "start_time": "2022-08-10T18:21:46.362Z"
   },
   {
    "duration": 60,
    "start_time": "2022-08-10T18:21:46.704Z"
   },
   {
    "duration": 71,
    "start_time": "2022-08-10T18:21:46.766Z"
   },
   {
    "duration": 672,
    "start_time": "2022-08-10T18:21:46.839Z"
   },
   {
    "duration": 49,
    "start_time": "2022-08-10T18:21:47.512Z"
   },
   {
    "duration": 3,
    "start_time": "2022-08-10T18:21:47.563Z"
   },
   {
    "duration": 18,
    "start_time": "2022-08-10T18:21:47.568Z"
   },
   {
    "duration": 477,
    "start_time": "2022-08-10T18:21:47.588Z"
   },
   {
    "duration": 278,
    "start_time": "2022-08-10T18:21:48.067Z"
   },
   {
    "duration": 12,
    "start_time": "2022-08-10T18:21:48.347Z"
   },
   {
    "duration": 5,
    "start_time": "2022-08-10T18:21:48.360Z"
   },
   {
    "duration": 10,
    "start_time": "2022-08-10T18:21:48.368Z"
   },
   {
    "duration": 36,
    "start_time": "2022-08-10T18:21:48.380Z"
   },
   {
    "duration": 5,
    "start_time": "2022-08-10T18:21:48.418Z"
   },
   {
    "duration": 13,
    "start_time": "2022-08-10T18:21:48.425Z"
   },
   {
    "duration": 435,
    "start_time": "2022-08-10T18:21:48.440Z"
   },
   {
    "duration": 3,
    "start_time": "2022-08-10T18:21:48.876Z"
   },
   {
    "duration": 1220,
    "start_time": "2022-08-10T18:21:48.880Z"
   },
   {
    "duration": 71,
    "start_time": "2022-08-10T18:21:50.102Z"
   },
   {
    "duration": 402,
    "start_time": "2022-08-10T18:21:50.175Z"
   },
   {
    "duration": 353,
    "start_time": "2022-08-10T18:21:50.578Z"
   },
   {
    "duration": 228,
    "start_time": "2022-08-10T18:21:50.932Z"
   },
   {
    "duration": 54,
    "start_time": "2022-08-10T18:21:51.162Z"
   },
   {
    "duration": 264,
    "start_time": "2022-08-10T18:21:51.217Z"
   },
   {
    "duration": 30,
    "start_time": "2022-08-10T18:21:51.483Z"
   },
   {
    "duration": 10,
    "start_time": "2022-08-10T18:21:51.515Z"
   },
   {
    "duration": 8,
    "start_time": "2022-08-10T18:21:51.527Z"
   },
   {
    "duration": 6,
    "start_time": "2022-08-10T18:21:51.536Z"
   },
   {
    "duration": 85,
    "start_time": "2022-08-10T18:21:51.543Z"
   },
   {
    "duration": 4,
    "start_time": "2022-08-10T18:21:51.630Z"
   },
   {
    "duration": 13,
    "start_time": "2022-08-10T18:21:51.636Z"
   },
   {
    "duration": 10,
    "start_time": "2022-08-10T18:21:51.651Z"
   },
   {
    "duration": 9,
    "start_time": "2022-08-10T18:21:51.663Z"
   },
   {
    "duration": 11,
    "start_time": "2022-08-10T18:21:51.674Z"
   },
   {
    "duration": 9,
    "start_time": "2022-08-10T18:21:51.711Z"
   },
   {
    "duration": 7,
    "start_time": "2022-08-10T18:21:51.722Z"
   },
   {
    "duration": 10,
    "start_time": "2022-08-10T18:22:04.067Z"
   },
   {
    "duration": 11,
    "start_time": "2022-08-10T18:22:59.476Z"
   },
   {
    "duration": 21,
    "start_time": "2022-08-10T18:23:10.206Z"
   },
   {
    "duration": 16,
    "start_time": "2022-08-10T18:23:53.600Z"
   },
   {
    "duration": 16,
    "start_time": "2022-08-10T18:24:45.815Z"
   },
   {
    "duration": 1135,
    "start_time": "2022-08-10T18:27:22.090Z"
   },
   {
    "duration": 240,
    "start_time": "2022-08-10T18:27:23.227Z"
   },
   {
    "duration": 5,
    "start_time": "2022-08-10T18:27:23.468Z"
   },
   {
    "duration": 353,
    "start_time": "2022-08-10T18:27:23.475Z"
   },
   {
    "duration": 87,
    "start_time": "2022-08-10T18:27:23.829Z"
   },
   {
    "duration": 33,
    "start_time": "2022-08-10T18:27:23.918Z"
   },
   {
    "duration": 84,
    "start_time": "2022-08-10T18:27:23.953Z"
   },
   {
    "duration": 90,
    "start_time": "2022-08-10T18:27:24.039Z"
   },
   {
    "duration": 5,
    "start_time": "2022-08-10T18:27:24.131Z"
   },
   {
    "duration": 6,
    "start_time": "2022-08-10T18:27:24.139Z"
   },
   {
    "duration": 2413,
    "start_time": "2022-08-10T18:27:24.146Z"
   },
   {
    "duration": 10,
    "start_time": "2022-08-10T18:27:26.560Z"
   },
   {
    "duration": 50,
    "start_time": "2022-08-10T18:27:26.571Z"
   },
   {
    "duration": 64,
    "start_time": "2022-08-10T18:27:26.623Z"
   },
   {
    "duration": 22,
    "start_time": "2022-08-10T18:27:26.689Z"
   },
   {
    "duration": 231,
    "start_time": "2022-08-10T18:27:26.713Z"
   },
   {
    "duration": 345,
    "start_time": "2022-08-10T18:27:26.946Z"
   },
   {
    "duration": 56,
    "start_time": "2022-08-10T18:27:27.293Z"
   },
   {
    "duration": 14,
    "start_time": "2022-08-10T18:27:27.351Z"
   },
   {
    "duration": 830,
    "start_time": "2022-08-10T18:27:27.367Z"
   },
   {
    "duration": 63,
    "start_time": "2022-08-10T18:27:28.199Z"
   },
   {
    "duration": 5,
    "start_time": "2022-08-10T18:27:28.264Z"
   },
   {
    "duration": 17,
    "start_time": "2022-08-10T18:27:28.270Z"
   },
   {
    "duration": 424,
    "start_time": "2022-08-10T18:27:28.289Z"
   },
   {
    "duration": 255,
    "start_time": "2022-08-10T18:27:28.715Z"
   },
   {
    "duration": 12,
    "start_time": "2022-08-10T18:27:28.972Z"
   },
   {
    "duration": 9,
    "start_time": "2022-08-10T18:27:28.986Z"
   },
   {
    "duration": 19,
    "start_time": "2022-08-10T18:27:29.011Z"
   },
   {
    "duration": 20,
    "start_time": "2022-08-10T18:27:29.032Z"
   },
   {
    "duration": 14,
    "start_time": "2022-08-10T18:27:29.054Z"
   },
   {
    "duration": 12,
    "start_time": "2022-08-10T18:27:29.069Z"
   },
   {
    "duration": 499,
    "start_time": "2022-08-10T18:27:29.083Z"
   },
   {
    "duration": 3,
    "start_time": "2022-08-10T18:27:29.584Z"
   },
   {
    "duration": 1388,
    "start_time": "2022-08-10T18:27:29.588Z"
   },
   {
    "duration": 78,
    "start_time": "2022-08-10T18:27:30.977Z"
   },
   {
    "duration": 398,
    "start_time": "2022-08-10T18:27:31.056Z"
   },
   {
    "duration": 364,
    "start_time": "2022-08-10T18:27:31.455Z"
   },
   {
    "duration": 246,
    "start_time": "2022-08-10T18:27:31.820Z"
   },
   {
    "duration": 44,
    "start_time": "2022-08-10T18:27:32.067Z"
   },
   {
    "duration": 229,
    "start_time": "2022-08-10T18:27:32.113Z"
   },
   {
    "duration": 21,
    "start_time": "2022-08-10T18:27:32.344Z"
   },
   {
    "duration": 9,
    "start_time": "2022-08-10T18:27:32.367Z"
   },
   {
    "duration": 97,
    "start_time": "2022-08-10T18:27:32.377Z"
   },
   {
    "duration": 4,
    "start_time": "2022-08-10T18:27:32.475Z"
   },
   {
    "duration": 12,
    "start_time": "2022-08-10T18:27:32.481Z"
   },
   {
    "duration": 20,
    "start_time": "2022-08-10T18:27:32.495Z"
   },
   {
    "duration": 8,
    "start_time": "2022-08-10T18:27:32.517Z"
   },
   {
    "duration": 20,
    "start_time": "2022-08-10T18:27:32.529Z"
   },
   {
    "duration": 9,
    "start_time": "2022-08-10T18:27:32.551Z"
   },
   {
    "duration": 9,
    "start_time": "2022-08-10T18:27:32.561Z"
   },
   {
    "duration": 5,
    "start_time": "2022-08-10T18:27:46.951Z"
   },
   {
    "duration": 5,
    "start_time": "2022-08-10T18:27:51.909Z"
   },
   {
    "duration": 17,
    "start_time": "2022-08-10T18:29:56.392Z"
   },
   {
    "duration": 13,
    "start_time": "2022-08-10T18:30:46.434Z"
   },
   {
    "duration": 16,
    "start_time": "2022-08-10T18:31:13.780Z"
   },
   {
    "duration": 1190,
    "start_time": "2022-08-11T06:08:30.200Z"
   },
   {
    "duration": 868,
    "start_time": "2022-08-11T06:08:31.392Z"
   },
   {
    "duration": 4,
    "start_time": "2022-08-11T06:08:32.261Z"
   },
   {
    "duration": 349,
    "start_time": "2022-08-11T06:08:32.267Z"
   },
   {
    "duration": 83,
    "start_time": "2022-08-11T06:08:32.618Z"
   },
   {
    "duration": 56,
    "start_time": "2022-08-11T06:08:32.703Z"
   },
   {
    "duration": 49,
    "start_time": "2022-08-11T06:08:32.760Z"
   },
   {
    "duration": 125,
    "start_time": "2022-08-11T06:08:32.811Z"
   },
   {
    "duration": 18,
    "start_time": "2022-08-11T06:08:32.938Z"
   },
   {
    "duration": 6,
    "start_time": "2022-08-11T06:08:32.959Z"
   },
   {
    "duration": 130,
    "start_time": "2022-08-11T06:08:32.967Z"
   },
   {
    "duration": 0,
    "start_time": "2022-08-11T06:08:33.100Z"
   },
   {
    "duration": 0,
    "start_time": "2022-08-11T06:08:33.101Z"
   },
   {
    "duration": 0,
    "start_time": "2022-08-11T06:08:33.102Z"
   },
   {
    "duration": 0,
    "start_time": "2022-08-11T06:08:33.103Z"
   },
   {
    "duration": 0,
    "start_time": "2022-08-11T06:08:33.104Z"
   },
   {
    "duration": 0,
    "start_time": "2022-08-11T06:08:33.105Z"
   },
   {
    "duration": 0,
    "start_time": "2022-08-11T06:08:33.105Z"
   },
   {
    "duration": 0,
    "start_time": "2022-08-11T06:08:33.107Z"
   },
   {
    "duration": 0,
    "start_time": "2022-08-11T06:08:33.107Z"
   },
   {
    "duration": 0,
    "start_time": "2022-08-11T06:08:33.108Z"
   },
   {
    "duration": 0,
    "start_time": "2022-08-11T06:08:33.109Z"
   },
   {
    "duration": 0,
    "start_time": "2022-08-11T06:08:33.110Z"
   },
   {
    "duration": 0,
    "start_time": "2022-08-11T06:08:33.112Z"
   },
   {
    "duration": 0,
    "start_time": "2022-08-11T06:08:33.112Z"
   },
   {
    "duration": 0,
    "start_time": "2022-08-11T06:08:33.113Z"
   },
   {
    "duration": 0,
    "start_time": "2022-08-11T06:08:33.114Z"
   },
   {
    "duration": 0,
    "start_time": "2022-08-11T06:08:33.115Z"
   },
   {
    "duration": 0,
    "start_time": "2022-08-11T06:08:33.116Z"
   },
   {
    "duration": 0,
    "start_time": "2022-08-11T06:08:33.117Z"
   },
   {
    "duration": 0,
    "start_time": "2022-08-11T06:08:33.118Z"
   },
   {
    "duration": 0,
    "start_time": "2022-08-11T06:08:33.120Z"
   },
   {
    "duration": 0,
    "start_time": "2022-08-11T06:08:33.155Z"
   },
   {
    "duration": 0,
    "start_time": "2022-08-11T06:08:33.156Z"
   },
   {
    "duration": 0,
    "start_time": "2022-08-11T06:08:33.157Z"
   },
   {
    "duration": 0,
    "start_time": "2022-08-11T06:08:33.158Z"
   },
   {
    "duration": 0,
    "start_time": "2022-08-11T06:08:33.158Z"
   },
   {
    "duration": 0,
    "start_time": "2022-08-11T06:08:33.159Z"
   },
   {
    "duration": 0,
    "start_time": "2022-08-11T06:08:33.160Z"
   },
   {
    "duration": 0,
    "start_time": "2022-08-11T06:08:33.161Z"
   },
   {
    "duration": 0,
    "start_time": "2022-08-11T06:08:33.162Z"
   },
   {
    "duration": 0,
    "start_time": "2022-08-11T06:08:33.163Z"
   },
   {
    "duration": 0,
    "start_time": "2022-08-11T06:08:33.164Z"
   },
   {
    "duration": 0,
    "start_time": "2022-08-11T06:08:33.165Z"
   },
   {
    "duration": 0,
    "start_time": "2022-08-11T06:08:33.166Z"
   },
   {
    "duration": 0,
    "start_time": "2022-08-11T06:08:33.167Z"
   },
   {
    "duration": 0,
    "start_time": "2022-08-11T06:08:33.168Z"
   },
   {
    "duration": 0,
    "start_time": "2022-08-11T06:08:33.168Z"
   },
   {
    "duration": 0,
    "start_time": "2022-08-11T06:08:33.170Z"
   },
   {
    "duration": 0,
    "start_time": "2022-08-11T06:08:33.170Z"
   },
   {
    "duration": 0,
    "start_time": "2022-08-11T06:08:33.171Z"
   },
   {
    "duration": 0,
    "start_time": "2022-08-11T06:08:33.172Z"
   },
   {
    "duration": 1071,
    "start_time": "2022-08-11T06:18:03.062Z"
   },
   {
    "duration": 230,
    "start_time": "2022-08-11T06:18:04.135Z"
   },
   {
    "duration": 5,
    "start_time": "2022-08-11T06:18:04.366Z"
   },
   {
    "duration": 398,
    "start_time": "2022-08-11T06:18:04.374Z"
   },
   {
    "duration": 85,
    "start_time": "2022-08-11T06:18:04.773Z"
   },
   {
    "duration": 32,
    "start_time": "2022-08-11T06:18:04.859Z"
   },
   {
    "duration": 83,
    "start_time": "2022-08-11T06:18:04.892Z"
   },
   {
    "duration": 89,
    "start_time": "2022-08-11T06:18:04.977Z"
   },
   {
    "duration": 5,
    "start_time": "2022-08-11T06:18:05.068Z"
   },
   {
    "duration": 4,
    "start_time": "2022-08-11T06:18:05.075Z"
   },
   {
    "duration": 6,
    "start_time": "2022-08-11T06:18:05.080Z"
   },
   {
    "duration": 1260,
    "start_time": "2022-08-11T06:18:05.088Z"
   },
   {
    "duration": 0,
    "start_time": "2022-08-11T06:18:06.350Z"
   },
   {
    "duration": 0,
    "start_time": "2022-08-11T06:18:06.352Z"
   },
   {
    "duration": 0,
    "start_time": "2022-08-11T06:18:06.353Z"
   },
   {
    "duration": 0,
    "start_time": "2022-08-11T06:18:06.353Z"
   },
   {
    "duration": 0,
    "start_time": "2022-08-11T06:18:06.354Z"
   },
   {
    "duration": 0,
    "start_time": "2022-08-11T06:18:06.356Z"
   },
   {
    "duration": 0,
    "start_time": "2022-08-11T06:18:06.357Z"
   },
   {
    "duration": 0,
    "start_time": "2022-08-11T06:18:06.358Z"
   },
   {
    "duration": 0,
    "start_time": "2022-08-11T06:18:06.359Z"
   },
   {
    "duration": 0,
    "start_time": "2022-08-11T06:18:06.360Z"
   },
   {
    "duration": 0,
    "start_time": "2022-08-11T06:18:06.361Z"
   },
   {
    "duration": 0,
    "start_time": "2022-08-11T06:18:06.362Z"
   },
   {
    "duration": 0,
    "start_time": "2022-08-11T06:18:06.364Z"
   },
   {
    "duration": 0,
    "start_time": "2022-08-11T06:18:06.365Z"
   },
   {
    "duration": 0,
    "start_time": "2022-08-11T06:18:06.366Z"
   },
   {
    "duration": 0,
    "start_time": "2022-08-11T06:18:06.368Z"
   },
   {
    "duration": 0,
    "start_time": "2022-08-11T06:18:06.369Z"
   },
   {
    "duration": 0,
    "start_time": "2022-08-11T06:18:06.370Z"
   },
   {
    "duration": 0,
    "start_time": "2022-08-11T06:18:06.372Z"
   },
   {
    "duration": 0,
    "start_time": "2022-08-11T06:18:06.373Z"
   },
   {
    "duration": 0,
    "start_time": "2022-08-11T06:18:06.375Z"
   },
   {
    "duration": 0,
    "start_time": "2022-08-11T06:18:06.376Z"
   },
   {
    "duration": 0,
    "start_time": "2022-08-11T06:18:06.377Z"
   },
   {
    "duration": 0,
    "start_time": "2022-08-11T06:18:06.378Z"
   },
   {
    "duration": 0,
    "start_time": "2022-08-11T06:18:06.380Z"
   },
   {
    "duration": 0,
    "start_time": "2022-08-11T06:18:06.381Z"
   },
   {
    "duration": 0,
    "start_time": "2022-08-11T06:18:06.382Z"
   },
   {
    "duration": 0,
    "start_time": "2022-08-11T06:18:06.384Z"
   },
   {
    "duration": 0,
    "start_time": "2022-08-11T06:18:06.385Z"
   },
   {
    "duration": 0,
    "start_time": "2022-08-11T06:18:06.386Z"
   },
   {
    "duration": 0,
    "start_time": "2022-08-11T06:18:06.388Z"
   },
   {
    "duration": 0,
    "start_time": "2022-08-11T06:18:06.389Z"
   },
   {
    "duration": 0,
    "start_time": "2022-08-11T06:18:06.391Z"
   },
   {
    "duration": 0,
    "start_time": "2022-08-11T06:18:06.392Z"
   },
   {
    "duration": 0,
    "start_time": "2022-08-11T06:18:06.393Z"
   },
   {
    "duration": 0,
    "start_time": "2022-08-11T06:18:06.395Z"
   },
   {
    "duration": 0,
    "start_time": "2022-08-11T06:18:06.455Z"
   },
   {
    "duration": 0,
    "start_time": "2022-08-11T06:18:06.457Z"
   },
   {
    "duration": 0,
    "start_time": "2022-08-11T06:18:06.458Z"
   },
   {
    "duration": 0,
    "start_time": "2022-08-11T06:18:06.459Z"
   },
   {
    "duration": 1090,
    "start_time": "2022-08-11T06:18:45.442Z"
   },
   {
    "duration": 241,
    "start_time": "2022-08-11T06:18:46.534Z"
   },
   {
    "duration": 6,
    "start_time": "2022-08-11T06:18:46.777Z"
   },
   {
    "duration": 445,
    "start_time": "2022-08-11T06:18:46.785Z"
   },
   {
    "duration": 108,
    "start_time": "2022-08-11T06:18:47.233Z"
   },
   {
    "duration": 45,
    "start_time": "2022-08-11T06:18:47.354Z"
   },
   {
    "duration": 89,
    "start_time": "2022-08-11T06:18:47.401Z"
   },
   {
    "duration": 97,
    "start_time": "2022-08-11T06:18:47.492Z"
   },
   {
    "duration": 5,
    "start_time": "2022-08-11T06:18:47.591Z"
   },
   {
    "duration": 9,
    "start_time": "2022-08-11T06:18:47.597Z"
   },
   {
    "duration": 11,
    "start_time": "2022-08-11T06:18:47.608Z"
   },
   {
    "duration": 1546,
    "start_time": "2022-08-11T06:18:47.620Z"
   },
   {
    "duration": 0,
    "start_time": "2022-08-11T06:18:49.168Z"
   },
   {
    "duration": 0,
    "start_time": "2022-08-11T06:18:49.170Z"
   },
   {
    "duration": 0,
    "start_time": "2022-08-11T06:18:49.171Z"
   },
   {
    "duration": 0,
    "start_time": "2022-08-11T06:18:49.172Z"
   },
   {
    "duration": 0,
    "start_time": "2022-08-11T06:18:49.173Z"
   },
   {
    "duration": 0,
    "start_time": "2022-08-11T06:18:49.173Z"
   },
   {
    "duration": 0,
    "start_time": "2022-08-11T06:18:49.174Z"
   },
   {
    "duration": 0,
    "start_time": "2022-08-11T06:18:49.175Z"
   },
   {
    "duration": 0,
    "start_time": "2022-08-11T06:18:49.177Z"
   },
   {
    "duration": 0,
    "start_time": "2022-08-11T06:18:49.178Z"
   },
   {
    "duration": 0,
    "start_time": "2022-08-11T06:18:49.179Z"
   },
   {
    "duration": 1,
    "start_time": "2022-08-11T06:18:49.179Z"
   },
   {
    "duration": 0,
    "start_time": "2022-08-11T06:18:49.181Z"
   },
   {
    "duration": 0,
    "start_time": "2022-08-11T06:18:49.182Z"
   },
   {
    "duration": 0,
    "start_time": "2022-08-11T06:18:49.183Z"
   },
   {
    "duration": 0,
    "start_time": "2022-08-11T06:18:49.184Z"
   },
   {
    "duration": 0,
    "start_time": "2022-08-11T06:18:49.185Z"
   },
   {
    "duration": 1,
    "start_time": "2022-08-11T06:18:49.185Z"
   },
   {
    "duration": 0,
    "start_time": "2022-08-11T06:18:49.187Z"
   },
   {
    "duration": 0,
    "start_time": "2022-08-11T06:18:49.188Z"
   },
   {
    "duration": 0,
    "start_time": "2022-08-11T06:18:49.189Z"
   },
   {
    "duration": 0,
    "start_time": "2022-08-11T06:18:49.190Z"
   },
   {
    "duration": 0,
    "start_time": "2022-08-11T06:18:49.191Z"
   },
   {
    "duration": 0,
    "start_time": "2022-08-11T06:18:49.192Z"
   },
   {
    "duration": 0,
    "start_time": "2022-08-11T06:18:49.193Z"
   },
   {
    "duration": 0,
    "start_time": "2022-08-11T06:18:49.193Z"
   },
   {
    "duration": 0,
    "start_time": "2022-08-11T06:18:49.194Z"
   },
   {
    "duration": 0,
    "start_time": "2022-08-11T06:18:49.195Z"
   },
   {
    "duration": 0,
    "start_time": "2022-08-11T06:18:49.196Z"
   },
   {
    "duration": 0,
    "start_time": "2022-08-11T06:18:49.197Z"
   },
   {
    "duration": 0,
    "start_time": "2022-08-11T06:18:49.198Z"
   },
   {
    "duration": 0,
    "start_time": "2022-08-11T06:18:49.199Z"
   },
   {
    "duration": 0,
    "start_time": "2022-08-11T06:18:49.200Z"
   },
   {
    "duration": 0,
    "start_time": "2022-08-11T06:18:49.201Z"
   },
   {
    "duration": 0,
    "start_time": "2022-08-11T06:18:49.202Z"
   },
   {
    "duration": 0,
    "start_time": "2022-08-11T06:18:49.203Z"
   },
   {
    "duration": 0,
    "start_time": "2022-08-11T06:18:49.255Z"
   },
   {
    "duration": 0,
    "start_time": "2022-08-11T06:18:49.256Z"
   },
   {
    "duration": 0,
    "start_time": "2022-08-11T06:18:49.257Z"
   },
   {
    "duration": 0,
    "start_time": "2022-08-11T06:18:49.257Z"
   },
   {
    "duration": 1085,
    "start_time": "2022-08-11T06:19:07.965Z"
   },
   {
    "duration": 245,
    "start_time": "2022-08-11T06:19:09.052Z"
   },
   {
    "duration": 4,
    "start_time": "2022-08-11T06:19:09.299Z"
   },
   {
    "duration": 365,
    "start_time": "2022-08-11T06:19:09.305Z"
   },
   {
    "duration": 83,
    "start_time": "2022-08-11T06:19:09.672Z"
   },
   {
    "duration": 32,
    "start_time": "2022-08-11T06:19:09.756Z"
   },
   {
    "duration": 81,
    "start_time": "2022-08-11T06:19:09.789Z"
   },
   {
    "duration": 70,
    "start_time": "2022-08-11T06:19:09.871Z"
   },
   {
    "duration": 7,
    "start_time": "2022-08-11T06:19:09.955Z"
   },
   {
    "duration": 6,
    "start_time": "2022-08-11T06:19:09.965Z"
   },
   {
    "duration": 6,
    "start_time": "2022-08-11T06:19:09.973Z"
   },
   {
    "duration": 4,
    "start_time": "2022-08-11T06:19:09.981Z"
   },
   {
    "duration": 9,
    "start_time": "2022-08-11T06:19:09.987Z"
   },
   {
    "duration": 4,
    "start_time": "2022-08-11T06:19:10.000Z"
   },
   {
    "duration": 65,
    "start_time": "2022-08-11T06:19:10.005Z"
   },
   {
    "duration": 94,
    "start_time": "2022-08-11T06:19:10.071Z"
   },
   {
    "duration": 10,
    "start_time": "2022-08-11T06:19:10.167Z"
   },
   {
    "duration": 216,
    "start_time": "2022-08-11T06:19:10.178Z"
   },
   {
    "duration": 343,
    "start_time": "2022-08-11T06:19:10.396Z"
   },
   {
    "duration": 49,
    "start_time": "2022-08-11T06:19:10.740Z"
   },
   {
    "duration": 48,
    "start_time": "2022-08-11T06:19:10.791Z"
   },
   {
    "duration": 583,
    "start_time": "2022-08-11T06:19:10.841Z"
   },
   {
    "duration": 51,
    "start_time": "2022-08-11T06:19:11.426Z"
   },
   {
    "duration": 4,
    "start_time": "2022-08-11T06:19:11.478Z"
   },
   {
    "duration": 9,
    "start_time": "2022-08-11T06:19:11.484Z"
   },
   {
    "duration": 397,
    "start_time": "2022-08-11T06:19:11.494Z"
   },
   {
    "duration": 219,
    "start_time": "2022-08-11T06:19:11.892Z"
   },
   {
    "duration": 52,
    "start_time": "2022-08-11T06:19:12.112Z"
   },
   {
    "duration": 7,
    "start_time": "2022-08-11T06:19:12.165Z"
   },
   {
    "duration": 9,
    "start_time": "2022-08-11T06:19:12.173Z"
   },
   {
    "duration": 9,
    "start_time": "2022-08-11T06:19:12.183Z"
   },
   {
    "duration": 6,
    "start_time": "2022-08-11T06:19:12.194Z"
   },
   {
    "duration": 11,
    "start_time": "2022-08-11T06:19:12.201Z"
   },
   {
    "duration": 478,
    "start_time": "2022-08-11T06:19:12.213Z"
   },
   {
    "duration": 3,
    "start_time": "2022-08-11T06:19:12.692Z"
   },
   {
    "duration": 995,
    "start_time": "2022-08-11T06:19:12.697Z"
   },
   {
    "duration": 76,
    "start_time": "2022-08-11T06:19:13.693Z"
   },
   {
    "duration": 423,
    "start_time": "2022-08-11T06:19:13.771Z"
   },
   {
    "duration": 368,
    "start_time": "2022-08-11T06:19:14.196Z"
   },
   {
    "duration": 247,
    "start_time": "2022-08-11T06:19:14.566Z"
   },
   {
    "duration": 127,
    "start_time": "2022-08-11T06:19:14.817Z"
   },
   {
    "duration": 0,
    "start_time": "2022-08-11T06:19:14.946Z"
   },
   {
    "duration": 0,
    "start_time": "2022-08-11T06:19:14.947Z"
   },
   {
    "duration": 0,
    "start_time": "2022-08-11T06:19:14.955Z"
   },
   {
    "duration": 0,
    "start_time": "2022-08-11T06:19:14.956Z"
   },
   {
    "duration": 0,
    "start_time": "2022-08-11T06:19:14.956Z"
   },
   {
    "duration": 0,
    "start_time": "2022-08-11T06:19:14.958Z"
   },
   {
    "duration": 0,
    "start_time": "2022-08-11T06:19:14.958Z"
   },
   {
    "duration": 0,
    "start_time": "2022-08-11T06:19:14.960Z"
   },
   {
    "duration": 0,
    "start_time": "2022-08-11T06:19:14.960Z"
   },
   {
    "duration": 0,
    "start_time": "2022-08-11T06:19:14.961Z"
   },
   {
    "duration": 0,
    "start_time": "2022-08-11T06:19:14.962Z"
   },
   {
    "duration": 284,
    "start_time": "2022-08-11T06:22:38.729Z"
   },
   {
    "duration": 305,
    "start_time": "2022-08-11T06:23:33.299Z"
   },
   {
    "duration": 233,
    "start_time": "2022-08-11T06:26:09.410Z"
   },
   {
    "duration": 391,
    "start_time": "2022-08-11T06:41:10.184Z"
   },
   {
    "duration": 7,
    "start_time": "2022-08-11T06:41:37.436Z"
   },
   {
    "duration": 1868,
    "start_time": "2022-08-11T06:41:40.080Z"
   },
   {
    "duration": 12,
    "start_time": "2022-08-11T06:41:52.484Z"
   },
   {
    "duration": 38,
    "start_time": "2022-08-11T06:42:55.875Z"
   },
   {
    "duration": 441,
    "start_time": "2022-08-11T06:44:14.985Z"
   },
   {
    "duration": 4,
    "start_time": "2022-08-11T06:44:19.063Z"
   },
   {
    "duration": 1327,
    "start_time": "2022-08-11T06:44:19.776Z"
   },
   {
    "duration": 990,
    "start_time": "2022-08-11T06:48:45.695Z"
   },
   {
    "duration": 244,
    "start_time": "2022-08-11T06:48:46.687Z"
   },
   {
    "duration": 5,
    "start_time": "2022-08-11T06:48:46.933Z"
   },
   {
    "duration": 380,
    "start_time": "2022-08-11T06:48:46.940Z"
   },
   {
    "duration": 106,
    "start_time": "2022-08-11T06:48:47.324Z"
   },
   {
    "duration": 49,
    "start_time": "2022-08-11T06:48:47.432Z"
   },
   {
    "duration": 108,
    "start_time": "2022-08-11T06:48:47.483Z"
   },
   {
    "duration": 122,
    "start_time": "2022-08-11T06:48:47.593Z"
   },
   {
    "duration": 5,
    "start_time": "2022-08-11T06:48:47.716Z"
   },
   {
    "duration": 12,
    "start_time": "2022-08-11T06:48:47.723Z"
   },
   {
    "duration": 1405,
    "start_time": "2022-08-11T06:48:47.737Z"
   },
   {
    "duration": 32,
    "start_time": "2022-08-11T06:48:49.144Z"
   },
   {
    "duration": 3,
    "start_time": "2022-08-11T06:48:49.177Z"
   },
   {
    "duration": 12,
    "start_time": "2022-08-11T06:48:49.183Z"
   },
   {
    "duration": 18,
    "start_time": "2022-08-11T06:48:49.196Z"
   },
   {
    "duration": 2,
    "start_time": "2022-08-11T06:48:49.216Z"
   },
   {
    "duration": 35,
    "start_time": "2022-08-11T06:48:49.220Z"
   },
   {
    "duration": 7,
    "start_time": "2022-08-11T06:48:49.257Z"
   },
   {
    "duration": 52,
    "start_time": "2022-08-11T06:48:49.265Z"
   },
   {
    "duration": 98,
    "start_time": "2022-08-11T06:48:49.318Z"
   },
   {
    "duration": 10,
    "start_time": "2022-08-11T06:48:49.417Z"
   },
   {
    "duration": 196,
    "start_time": "2022-08-11T06:48:49.430Z"
   },
   {
    "duration": 316,
    "start_time": "2022-08-11T06:48:49.627Z"
   },
   {
    "duration": 55,
    "start_time": "2022-08-11T06:48:49.944Z"
   },
   {
    "duration": 92,
    "start_time": "2022-08-11T06:48:50.001Z"
   },
   {
    "duration": 607,
    "start_time": "2022-08-11T06:48:50.095Z"
   },
   {
    "duration": 56,
    "start_time": "2022-08-11T06:48:50.703Z"
   },
   {
    "duration": 5,
    "start_time": "2022-08-11T06:48:50.761Z"
   },
   {
    "duration": 22,
    "start_time": "2022-08-11T06:48:50.769Z"
   },
   {
    "duration": 426,
    "start_time": "2022-08-11T06:48:50.793Z"
   },
   {
    "duration": 271,
    "start_time": "2022-08-11T06:48:51.221Z"
   },
   {
    "duration": 12,
    "start_time": "2022-08-11T06:48:51.494Z"
   },
   {
    "duration": 7,
    "start_time": "2022-08-11T06:48:51.507Z"
   },
   {
    "duration": 10,
    "start_time": "2022-08-11T06:48:51.516Z"
   },
   {
    "duration": 30,
    "start_time": "2022-08-11T06:48:51.528Z"
   },
   {
    "duration": 6,
    "start_time": "2022-08-11T06:48:51.560Z"
   },
   {
    "duration": 12,
    "start_time": "2022-08-11T06:48:51.568Z"
   },
   {
    "duration": 405,
    "start_time": "2022-08-11T06:48:51.581Z"
   },
   {
    "duration": 3,
    "start_time": "2022-08-11T06:48:51.988Z"
   },
   {
    "duration": 1117,
    "start_time": "2022-08-11T06:48:51.992Z"
   },
   {
    "duration": 73,
    "start_time": "2022-08-11T06:48:53.113Z"
   },
   {
    "duration": 487,
    "start_time": "2022-08-11T06:48:53.188Z"
   },
   {
    "duration": 306,
    "start_time": "2022-08-11T06:48:53.677Z"
   },
   {
    "duration": 284,
    "start_time": "2022-08-11T06:48:53.985Z"
   },
   {
    "duration": 36,
    "start_time": "2022-08-11T06:48:54.271Z"
   },
   {
    "duration": 236,
    "start_time": "2022-08-11T06:48:54.309Z"
   },
   {
    "duration": 30,
    "start_time": "2022-08-11T06:48:54.546Z"
   },
   {
    "duration": 13,
    "start_time": "2022-08-11T06:48:54.578Z"
   },
   {
    "duration": 91,
    "start_time": "2022-08-11T06:48:54.592Z"
   },
   {
    "duration": 6,
    "start_time": "2022-08-11T06:48:54.686Z"
   },
   {
    "duration": 12,
    "start_time": "2022-08-11T06:48:54.693Z"
   },
   {
    "duration": 9,
    "start_time": "2022-08-11T06:48:54.707Z"
   },
   {
    "duration": 10,
    "start_time": "2022-08-11T06:48:54.717Z"
   },
   {
    "duration": 8,
    "start_time": "2022-08-11T06:48:54.754Z"
   },
   {
    "duration": 9,
    "start_time": "2022-08-11T06:48:54.763Z"
   },
   {
    "duration": 9,
    "start_time": "2022-08-11T06:48:54.774Z"
   },
   {
    "duration": 8,
    "start_time": "2022-08-11T06:51:56.734Z"
   },
   {
    "duration": 3,
    "start_time": "2022-08-11T06:51:58.314Z"
   },
   {
    "duration": 2,
    "start_time": "2022-08-11T06:51:58.822Z"
   },
   {
    "duration": 1820,
    "start_time": "2022-08-11T06:51:59.823Z"
   },
   {
    "duration": 12,
    "start_time": "2022-08-11T06:52:04.414Z"
   },
   {
    "duration": 16,
    "start_time": "2022-08-11T06:52:08.803Z"
   },
   {
    "duration": 1134,
    "start_time": "2022-08-11T06:54:23.363Z"
   },
   {
    "duration": 236,
    "start_time": "2022-08-11T06:54:24.498Z"
   },
   {
    "duration": 4,
    "start_time": "2022-08-11T06:54:24.736Z"
   },
   {
    "duration": 408,
    "start_time": "2022-08-11T06:54:24.741Z"
   },
   {
    "duration": 78,
    "start_time": "2022-08-11T06:54:25.150Z"
   },
   {
    "duration": 51,
    "start_time": "2022-08-11T06:54:25.230Z"
   },
   {
    "duration": 108,
    "start_time": "2022-08-11T06:54:25.282Z"
   },
   {
    "duration": 101,
    "start_time": "2022-08-11T06:54:25.392Z"
   },
   {
    "duration": 4,
    "start_time": "2022-08-11T06:54:25.495Z"
   },
   {
    "duration": 9,
    "start_time": "2022-08-11T06:54:25.501Z"
   },
   {
    "duration": 12,
    "start_time": "2022-08-11T06:54:25.511Z"
   },
   {
    "duration": 7,
    "start_time": "2022-08-11T06:54:25.527Z"
   },
   {
    "duration": 2046,
    "start_time": "2022-08-11T06:54:25.535Z"
   },
   {
    "duration": 16,
    "start_time": "2022-08-11T06:54:27.583Z"
   },
   {
    "duration": 36,
    "start_time": "2022-08-11T06:54:27.600Z"
   },
   {
    "duration": 2,
    "start_time": "2022-08-11T06:54:27.638Z"
   },
   {
    "duration": 3,
    "start_time": "2022-08-11T06:54:27.654Z"
   },
   {
    "duration": 23,
    "start_time": "2022-08-11T06:54:27.658Z"
   },
   {
    "duration": 51,
    "start_time": "2022-08-11T06:54:27.683Z"
   },
   {
    "duration": 86,
    "start_time": "2022-08-11T06:54:27.736Z"
   },
   {
    "duration": 10,
    "start_time": "2022-08-11T06:54:27.824Z"
   },
   {
    "duration": 225,
    "start_time": "2022-08-11T06:54:27.835Z"
   },
   {
    "duration": 341,
    "start_time": "2022-08-11T06:54:28.061Z"
   },
   {
    "duration": 53,
    "start_time": "2022-08-11T06:54:28.404Z"
   },
   {
    "duration": 86,
    "start_time": "2022-08-11T06:54:28.459Z"
   },
   {
    "duration": 1311,
    "start_time": "2022-08-11T06:54:28.547Z"
   },
   {
    "duration": 96,
    "start_time": "2022-08-11T06:54:29.860Z"
   },
   {
    "duration": 4,
    "start_time": "2022-08-11T06:54:29.959Z"
   },
   {
    "duration": 9,
    "start_time": "2022-08-11T06:54:29.965Z"
   },
   {
    "duration": 564,
    "start_time": "2022-08-11T06:54:29.976Z"
   },
   {
    "duration": 263,
    "start_time": "2022-08-11T06:54:30.542Z"
   },
   {
    "duration": 14,
    "start_time": "2022-08-11T06:54:30.807Z"
   },
   {
    "duration": 32,
    "start_time": "2022-08-11T06:54:30.823Z"
   },
   {
    "duration": 26,
    "start_time": "2022-08-11T06:54:30.857Z"
   },
   {
    "duration": 32,
    "start_time": "2022-08-11T06:54:30.885Z"
   },
   {
    "duration": 10,
    "start_time": "2022-08-11T06:54:30.919Z"
   },
   {
    "duration": 22,
    "start_time": "2022-08-11T06:54:30.932Z"
   },
   {
    "duration": 472,
    "start_time": "2022-08-11T06:54:30.956Z"
   },
   {
    "duration": 3,
    "start_time": "2022-08-11T06:54:31.430Z"
   },
   {
    "duration": 1107,
    "start_time": "2022-08-11T06:54:31.434Z"
   },
   {
    "duration": 66,
    "start_time": "2022-08-11T06:54:32.543Z"
   },
   {
    "duration": 402,
    "start_time": "2022-08-11T06:54:32.610Z"
   },
   {
    "duration": 362,
    "start_time": "2022-08-11T06:54:33.014Z"
   },
   {
    "duration": 224,
    "start_time": "2022-08-11T06:54:33.378Z"
   },
   {
    "duration": 62,
    "start_time": "2022-08-11T06:54:33.604Z"
   },
   {
    "duration": 239,
    "start_time": "2022-08-11T06:54:33.668Z"
   },
   {
    "duration": 24,
    "start_time": "2022-08-11T06:54:33.909Z"
   },
   {
    "duration": 29,
    "start_time": "2022-08-11T06:54:33.934Z"
   },
   {
    "duration": 75,
    "start_time": "2022-08-11T06:54:33.965Z"
   },
   {
    "duration": 16,
    "start_time": "2022-08-11T06:54:34.043Z"
   },
   {
    "duration": 19,
    "start_time": "2022-08-11T06:54:34.060Z"
   },
   {
    "duration": 13,
    "start_time": "2022-08-11T06:54:34.080Z"
   },
   {
    "duration": 7,
    "start_time": "2022-08-11T06:54:34.095Z"
   },
   {
    "duration": 7,
    "start_time": "2022-08-11T06:54:34.104Z"
   },
   {
    "duration": 17,
    "start_time": "2022-08-11T06:54:34.112Z"
   },
   {
    "duration": 30,
    "start_time": "2022-08-11T06:54:34.130Z"
   },
   {
    "duration": 3,
    "start_time": "2022-08-11T06:54:40.308Z"
   },
   {
    "duration": 2,
    "start_time": "2022-08-11T06:54:41.183Z"
   },
   {
    "duration": 2,
    "start_time": "2022-08-11T06:54:41.543Z"
   },
   {
    "duration": 1825,
    "start_time": "2022-08-11T06:54:42.123Z"
   },
   {
    "duration": 14,
    "start_time": "2022-08-11T06:54:43.950Z"
   },
   {
    "duration": 20,
    "start_time": "2022-08-11T06:54:47.303Z"
   },
   {
    "duration": 12,
    "start_time": "2022-08-11T06:55:45.763Z"
   },
   {
    "duration": 1018,
    "start_time": "2022-08-11T06:55:55.818Z"
   },
   {
    "duration": 246,
    "start_time": "2022-08-11T06:55:56.838Z"
   },
   {
    "duration": 5,
    "start_time": "2022-08-11T06:55:57.086Z"
   },
   {
    "duration": 425,
    "start_time": "2022-08-11T06:55:57.093Z"
   },
   {
    "duration": 85,
    "start_time": "2022-08-11T06:55:57.520Z"
   },
   {
    "duration": 56,
    "start_time": "2022-08-11T06:55:57.606Z"
   },
   {
    "duration": 44,
    "start_time": "2022-08-11T06:55:57.664Z"
   },
   {
    "duration": 112,
    "start_time": "2022-08-11T06:55:57.709Z"
   },
   {
    "duration": 5,
    "start_time": "2022-08-11T06:55:57.822Z"
   },
   {
    "duration": 46,
    "start_time": "2022-08-11T06:55:57.828Z"
   },
   {
    "duration": 20,
    "start_time": "2022-08-11T06:55:57.876Z"
   },
   {
    "duration": 31,
    "start_time": "2022-08-11T06:55:57.898Z"
   },
   {
    "duration": 1897,
    "start_time": "2022-08-11T06:55:57.930Z"
   },
   {
    "duration": 10,
    "start_time": "2022-08-11T06:55:59.830Z"
   },
   {
    "duration": 43,
    "start_time": "2022-08-11T06:55:59.841Z"
   },
   {
    "duration": 11,
    "start_time": "2022-08-11T06:55:59.886Z"
   },
   {
    "duration": 31,
    "start_time": "2022-08-11T06:55:59.898Z"
   },
   {
    "duration": 22,
    "start_time": "2022-08-11T06:55:59.930Z"
   },
   {
    "duration": 57,
    "start_time": "2022-08-11T06:55:59.953Z"
   },
   {
    "duration": 75,
    "start_time": "2022-08-11T06:56:00.012Z"
   },
   {
    "duration": 10,
    "start_time": "2022-08-11T06:56:00.088Z"
   },
   {
    "duration": 216,
    "start_time": "2022-08-11T06:56:00.099Z"
   },
   {
    "duration": 319,
    "start_time": "2022-08-11T06:56:00.317Z"
   },
   {
    "duration": 53,
    "start_time": "2022-08-11T06:56:00.637Z"
   },
   {
    "duration": 118,
    "start_time": "2022-08-11T06:56:00.691Z"
   },
   {
    "duration": 635,
    "start_time": "2022-08-11T06:56:00.811Z"
   },
   {
    "duration": 47,
    "start_time": "2022-08-11T06:56:01.447Z"
   },
   {
    "duration": 4,
    "start_time": "2022-08-11T06:56:01.496Z"
   },
   {
    "duration": 18,
    "start_time": "2022-08-11T06:56:01.502Z"
   },
   {
    "duration": 367,
    "start_time": "2022-08-11T06:56:01.522Z"
   },
   {
    "duration": 222,
    "start_time": "2022-08-11T06:56:01.891Z"
   },
   {
    "duration": 46,
    "start_time": "2022-08-11T06:56:02.114Z"
   },
   {
    "duration": 12,
    "start_time": "2022-08-11T06:56:02.161Z"
   },
   {
    "duration": 14,
    "start_time": "2022-08-11T06:56:02.174Z"
   },
   {
    "duration": 12,
    "start_time": "2022-08-11T06:56:02.190Z"
   },
   {
    "duration": 9,
    "start_time": "2022-08-11T06:56:02.204Z"
   },
   {
    "duration": 14,
    "start_time": "2022-08-11T06:56:02.214Z"
   },
   {
    "duration": 408,
    "start_time": "2022-08-11T06:56:02.230Z"
   },
   {
    "duration": 3,
    "start_time": "2022-08-11T06:56:02.639Z"
   },
   {
    "duration": 1094,
    "start_time": "2022-08-11T06:56:02.644Z"
   },
   {
    "duration": 69,
    "start_time": "2022-08-11T06:56:03.741Z"
   },
   {
    "duration": 370,
    "start_time": "2022-08-11T06:56:03.812Z"
   },
   {
    "duration": 310,
    "start_time": "2022-08-11T06:56:04.183Z"
   },
   {
    "duration": 275,
    "start_time": "2022-08-11T06:56:04.494Z"
   },
   {
    "duration": 39,
    "start_time": "2022-08-11T06:56:04.770Z"
   },
   {
    "duration": 267,
    "start_time": "2022-08-11T06:56:04.811Z"
   },
   {
    "duration": 25,
    "start_time": "2022-08-11T06:56:05.080Z"
   },
   {
    "duration": 12,
    "start_time": "2022-08-11T06:56:05.106Z"
   },
   {
    "duration": 94,
    "start_time": "2022-08-11T06:56:05.120Z"
   },
   {
    "duration": 6,
    "start_time": "2022-08-11T06:56:05.216Z"
   },
   {
    "duration": 22,
    "start_time": "2022-08-11T06:56:05.224Z"
   },
   {
    "duration": 13,
    "start_time": "2022-08-11T06:56:05.255Z"
   },
   {
    "duration": 12,
    "start_time": "2022-08-11T06:56:05.270Z"
   },
   {
    "duration": 11,
    "start_time": "2022-08-11T06:56:05.284Z"
   },
   {
    "duration": 10,
    "start_time": "2022-08-11T06:56:05.297Z"
   },
   {
    "duration": 15,
    "start_time": "2022-08-11T06:56:05.309Z"
   },
   {
    "duration": 3,
    "start_time": "2022-08-11T06:57:50.226Z"
   },
   {
    "duration": 2,
    "start_time": "2022-08-11T06:57:51.426Z"
   },
   {
    "duration": 1319,
    "start_time": "2022-08-11T06:57:52.110Z"
   },
   {
    "duration": 23,
    "start_time": "2022-08-11T06:57:55.290Z"
   },
   {
    "duration": 17,
    "start_time": "2022-08-11T06:57:56.471Z"
   },
   {
    "duration": 1013,
    "start_time": "2022-08-11T06:58:03.814Z"
   },
   {
    "duration": 241,
    "start_time": "2022-08-11T06:58:04.829Z"
   },
   {
    "duration": 4,
    "start_time": "2022-08-11T06:58:05.072Z"
   },
   {
    "duration": 353,
    "start_time": "2022-08-11T06:58:05.077Z"
   },
   {
    "duration": 89,
    "start_time": "2022-08-11T06:58:05.432Z"
   },
   {
    "duration": 49,
    "start_time": "2022-08-11T06:58:05.523Z"
   },
   {
    "duration": 83,
    "start_time": "2022-08-11T06:58:05.574Z"
   },
   {
    "duration": 68,
    "start_time": "2022-08-11T06:58:05.658Z"
   },
   {
    "duration": 4,
    "start_time": "2022-08-11T06:58:05.727Z"
   },
   {
    "duration": 3,
    "start_time": "2022-08-11T06:58:05.755Z"
   },
   {
    "duration": 10,
    "start_time": "2022-08-11T06:58:05.760Z"
   },
   {
    "duration": 1377,
    "start_time": "2022-08-11T06:58:05.771Z"
   },
   {
    "duration": 30,
    "start_time": "2022-08-11T06:58:07.149Z"
   },
   {
    "duration": 12,
    "start_time": "2022-08-11T06:58:07.182Z"
   },
   {
    "duration": 6,
    "start_time": "2022-08-11T06:58:07.195Z"
   },
   {
    "duration": 7,
    "start_time": "2022-08-11T06:58:07.202Z"
   },
   {
    "duration": 86,
    "start_time": "2022-08-11T06:58:07.211Z"
   },
   {
    "duration": 114,
    "start_time": "2022-08-11T06:58:07.299Z"
   },
   {
    "duration": 12,
    "start_time": "2022-08-11T06:58:07.416Z"
   },
   {
    "duration": 212,
    "start_time": "2022-08-11T06:58:07.429Z"
   },
   {
    "duration": 350,
    "start_time": "2022-08-11T06:58:07.643Z"
   },
   {
    "duration": 69,
    "start_time": "2022-08-11T06:58:07.995Z"
   },
   {
    "duration": 83,
    "start_time": "2022-08-11T06:58:08.065Z"
   },
   {
    "duration": 587,
    "start_time": "2022-08-11T06:58:08.150Z"
   },
   {
    "duration": 51,
    "start_time": "2022-08-11T06:58:08.738Z"
   },
   {
    "duration": 5,
    "start_time": "2022-08-11T06:58:08.790Z"
   },
   {
    "duration": 17,
    "start_time": "2022-08-11T06:58:08.796Z"
   },
   {
    "duration": 371,
    "start_time": "2022-08-11T06:58:08.814Z"
   },
   {
    "duration": 295,
    "start_time": "2022-08-11T06:58:09.187Z"
   },
   {
    "duration": 11,
    "start_time": "2022-08-11T06:58:09.483Z"
   },
   {
    "duration": 7,
    "start_time": "2022-08-11T06:58:09.496Z"
   },
   {
    "duration": 11,
    "start_time": "2022-08-11T06:58:09.504Z"
   },
   {
    "duration": 11,
    "start_time": "2022-08-11T06:58:09.517Z"
   },
   {
    "duration": 25,
    "start_time": "2022-08-11T06:58:09.530Z"
   },
   {
    "duration": 14,
    "start_time": "2022-08-11T06:58:09.556Z"
   },
   {
    "duration": 411,
    "start_time": "2022-08-11T06:58:09.572Z"
   },
   {
    "duration": 3,
    "start_time": "2022-08-11T06:58:09.985Z"
   },
   {
    "duration": 1365,
    "start_time": "2022-08-11T06:58:09.990Z"
   },
   {
    "duration": 121,
    "start_time": "2022-08-11T06:58:11.357Z"
   },
   {
    "duration": 618,
    "start_time": "2022-08-11T06:58:11.479Z"
   },
   {
    "duration": 449,
    "start_time": "2022-08-11T06:58:12.154Z"
   },
   {
    "duration": 274,
    "start_time": "2022-08-11T06:58:12.604Z"
   },
   {
    "duration": 39,
    "start_time": "2022-08-11T06:58:12.879Z"
   },
   {
    "duration": 252,
    "start_time": "2022-08-11T06:58:12.919Z"
   },
   {
    "duration": 23,
    "start_time": "2022-08-11T06:58:13.172Z"
   },
   {
    "duration": 10,
    "start_time": "2022-08-11T06:58:13.197Z"
   },
   {
    "duration": 98,
    "start_time": "2022-08-11T06:58:13.208Z"
   },
   {
    "duration": 4,
    "start_time": "2022-08-11T06:58:13.307Z"
   },
   {
    "duration": 24,
    "start_time": "2022-08-11T06:58:13.313Z"
   },
   {
    "duration": 16,
    "start_time": "2022-08-11T06:58:13.339Z"
   },
   {
    "duration": 6,
    "start_time": "2022-08-11T06:58:13.356Z"
   },
   {
    "duration": 10,
    "start_time": "2022-08-11T06:58:13.363Z"
   },
   {
    "duration": 9,
    "start_time": "2022-08-11T06:58:13.375Z"
   },
   {
    "duration": 10,
    "start_time": "2022-08-11T06:58:13.385Z"
   },
   {
    "duration": 3,
    "start_time": "2022-08-11T06:58:16.782Z"
   },
   {
    "duration": 2,
    "start_time": "2022-08-11T06:58:17.522Z"
   },
   {
    "duration": 1315,
    "start_time": "2022-08-11T06:58:17.861Z"
   },
   {
    "duration": 16,
    "start_time": "2022-08-11T06:58:19.178Z"
   },
   {
    "duration": 13,
    "start_time": "2022-08-11T06:58:19.674Z"
   },
   {
    "duration": 3,
    "start_time": "2022-08-11T07:21:40.130Z"
   },
   {
    "duration": 1898,
    "start_time": "2022-08-11T07:21:41.246Z"
   },
   {
    "duration": 2,
    "start_time": "2022-08-11T07:21:43.730Z"
   },
   {
    "duration": 22,
    "start_time": "2022-08-11T07:21:44.998Z"
   },
   {
    "duration": 12,
    "start_time": "2022-08-11T07:21:45.824Z"
   },
   {
    "duration": 1080,
    "start_time": "2022-08-11T07:21:55.355Z"
   },
   {
    "duration": 242,
    "start_time": "2022-08-11T07:21:56.437Z"
   },
   {
    "duration": 6,
    "start_time": "2022-08-11T07:21:56.681Z"
   },
   {
    "duration": 379,
    "start_time": "2022-08-11T07:21:56.689Z"
   },
   {
    "duration": 87,
    "start_time": "2022-08-11T07:21:57.070Z"
   },
   {
    "duration": 32,
    "start_time": "2022-08-11T07:21:57.158Z"
   },
   {
    "duration": 91,
    "start_time": "2022-08-11T07:21:57.191Z"
   },
   {
    "duration": 105,
    "start_time": "2022-08-11T07:21:57.283Z"
   },
   {
    "duration": 5,
    "start_time": "2022-08-11T07:21:57.390Z"
   },
   {
    "duration": 12,
    "start_time": "2022-08-11T07:21:57.397Z"
   },
   {
    "duration": 1900,
    "start_time": "2022-08-11T07:21:57.411Z"
   },
   {
    "duration": 3,
    "start_time": "2022-08-11T07:21:59.312Z"
   },
   {
    "duration": 35,
    "start_time": "2022-08-11T07:21:59.316Z"
   },
   {
    "duration": 11,
    "start_time": "2022-08-11T07:21:59.356Z"
   },
   {
    "duration": 4,
    "start_time": "2022-08-11T07:21:59.368Z"
   },
   {
    "duration": 7,
    "start_time": "2022-08-11T07:21:59.373Z"
   },
   {
    "duration": 46,
    "start_time": "2022-08-11T07:21:59.381Z"
   },
   {
    "duration": 87,
    "start_time": "2022-08-11T07:21:59.429Z"
   },
   {
    "duration": 8,
    "start_time": "2022-08-11T07:21:59.518Z"
   },
   {
    "duration": 233,
    "start_time": "2022-08-11T07:21:59.528Z"
   },
   {
    "duration": 334,
    "start_time": "2022-08-11T07:21:59.762Z"
   },
   {
    "duration": 45,
    "start_time": "2022-08-11T07:22:00.098Z"
   },
   {
    "duration": 57,
    "start_time": "2022-08-11T07:22:00.154Z"
   },
   {
    "duration": 613,
    "start_time": "2022-08-11T07:22:00.212Z"
   },
   {
    "duration": 52,
    "start_time": "2022-08-11T07:22:00.826Z"
   },
   {
    "duration": 4,
    "start_time": "2022-08-11T07:22:00.880Z"
   },
   {
    "duration": 20,
    "start_time": "2022-08-11T07:22:00.885Z"
   },
   {
    "duration": 382,
    "start_time": "2022-08-11T07:22:00.907Z"
   },
   {
    "duration": 282,
    "start_time": "2022-08-11T07:22:01.291Z"
   },
   {
    "duration": 12,
    "start_time": "2022-08-11T07:22:01.574Z"
   },
   {
    "duration": 42,
    "start_time": "2022-08-11T07:22:01.588Z"
   },
   {
    "duration": 18,
    "start_time": "2022-08-11T07:22:01.631Z"
   },
   {
    "duration": 53,
    "start_time": "2022-08-11T07:22:01.650Z"
   },
   {
    "duration": 13,
    "start_time": "2022-08-11T07:22:01.705Z"
   },
   {
    "duration": 14,
    "start_time": "2022-08-11T07:22:01.719Z"
   },
   {
    "duration": 433,
    "start_time": "2022-08-11T07:22:01.734Z"
   },
   {
    "duration": 2,
    "start_time": "2022-08-11T07:22:02.169Z"
   },
   {
    "duration": 1064,
    "start_time": "2022-08-11T07:22:02.173Z"
   },
   {
    "duration": 70,
    "start_time": "2022-08-11T07:22:03.239Z"
   },
   {
    "duration": 350,
    "start_time": "2022-08-11T07:22:03.311Z"
   },
   {
    "duration": 310,
    "start_time": "2022-08-11T07:22:03.666Z"
   },
   {
    "duration": 230,
    "start_time": "2022-08-11T07:22:03.978Z"
   },
   {
    "duration": 63,
    "start_time": "2022-08-11T07:22:04.210Z"
   },
   {
    "duration": 233,
    "start_time": "2022-08-11T07:22:04.275Z"
   },
   {
    "duration": 25,
    "start_time": "2022-08-11T07:22:04.510Z"
   },
   {
    "duration": 25,
    "start_time": "2022-08-11T07:22:04.537Z"
   },
   {
    "duration": 78,
    "start_time": "2022-08-11T07:22:04.564Z"
   },
   {
    "duration": 13,
    "start_time": "2022-08-11T07:22:04.643Z"
   },
   {
    "duration": 23,
    "start_time": "2022-08-11T07:22:04.657Z"
   },
   {
    "duration": 17,
    "start_time": "2022-08-11T07:22:04.682Z"
   },
   {
    "duration": 19,
    "start_time": "2022-08-11T07:22:04.701Z"
   },
   {
    "duration": 15,
    "start_time": "2022-08-11T07:22:04.722Z"
   },
   {
    "duration": 37,
    "start_time": "2022-08-11T07:22:04.738Z"
   },
   {
    "duration": 24,
    "start_time": "2022-08-11T07:22:04.776Z"
   },
   {
    "duration": 3,
    "start_time": "2022-08-11T07:29:20.184Z"
   },
   {
    "duration": 445,
    "start_time": "2022-08-11T07:29:21.255Z"
   },
   {
    "duration": 2,
    "start_time": "2022-08-11T07:29:33.845Z"
   },
   {
    "duration": 515,
    "start_time": "2022-08-11T07:29:39.253Z"
   },
   {
    "duration": 4,
    "start_time": "2022-08-11T07:29:46.114Z"
   },
   {
    "duration": 2,
    "start_time": "2022-08-11T07:29:48.381Z"
   },
   {
    "duration": 436,
    "start_time": "2022-08-11T07:29:49.114Z"
   },
   {
    "duration": 4,
    "start_time": "2022-08-11T07:33:17.519Z"
   },
   {
    "duration": 2,
    "start_time": "2022-08-11T07:33:20.145Z"
   },
   {
    "duration": 1634,
    "start_time": "2022-08-11T07:33:20.772Z"
   },
   {
    "duration": 18,
    "start_time": "2022-08-11T07:33:24.770Z"
   },
   {
    "duration": 12,
    "start_time": "2022-08-11T07:33:26.113Z"
   },
   {
    "duration": 1086,
    "start_time": "2022-08-11T07:33:34.059Z"
   },
   {
    "duration": 235,
    "start_time": "2022-08-11T07:33:35.147Z"
   },
   {
    "duration": 4,
    "start_time": "2022-08-11T07:33:35.384Z"
   },
   {
    "duration": 378,
    "start_time": "2022-08-11T07:33:35.389Z"
   },
   {
    "duration": 74,
    "start_time": "2022-08-11T07:33:35.769Z"
   },
   {
    "duration": 32,
    "start_time": "2022-08-11T07:33:35.855Z"
   },
   {
    "duration": 88,
    "start_time": "2022-08-11T07:33:35.888Z"
   },
   {
    "duration": 95,
    "start_time": "2022-08-11T07:33:35.978Z"
   },
   {
    "duration": 5,
    "start_time": "2022-08-11T07:33:36.074Z"
   },
   {
    "duration": 9,
    "start_time": "2022-08-11T07:33:36.080Z"
   },
   {
    "duration": 6,
    "start_time": "2022-08-11T07:33:36.091Z"
   },
   {
    "duration": 2387,
    "start_time": "2022-08-11T07:33:36.099Z"
   },
   {
    "duration": 90,
    "start_time": "2022-08-11T07:33:38.488Z"
   },
   {
    "duration": 12,
    "start_time": "2022-08-11T07:33:38.581Z"
   },
   {
    "duration": 5,
    "start_time": "2022-08-11T07:33:38.594Z"
   },
   {
    "duration": 54,
    "start_time": "2022-08-11T07:33:38.601Z"
   },
   {
    "duration": 99,
    "start_time": "2022-08-11T07:33:38.657Z"
   },
   {
    "duration": 131,
    "start_time": "2022-08-11T07:33:38.757Z"
   },
   {
    "duration": 10,
    "start_time": "2022-08-11T07:33:38.890Z"
   },
   {
    "duration": 307,
    "start_time": "2022-08-11T07:33:38.902Z"
   },
   {
    "duration": 347,
    "start_time": "2022-08-11T07:33:39.210Z"
   },
   {
    "duration": 51,
    "start_time": "2022-08-11T07:33:39.558Z"
   },
   {
    "duration": 76,
    "start_time": "2022-08-11T07:33:39.610Z"
   },
   {
    "duration": 654,
    "start_time": "2022-08-11T07:33:39.687Z"
   },
   {
    "duration": 54,
    "start_time": "2022-08-11T07:33:40.343Z"
   },
   {
    "duration": 4,
    "start_time": "2022-08-11T07:33:40.399Z"
   },
   {
    "duration": 11,
    "start_time": "2022-08-11T07:33:40.405Z"
   },
   {
    "duration": 382,
    "start_time": "2022-08-11T07:33:40.417Z"
   },
   {
    "duration": 281,
    "start_time": "2022-08-11T07:33:40.801Z"
   },
   {
    "duration": 11,
    "start_time": "2022-08-11T07:33:41.084Z"
   },
   {
    "duration": 8,
    "start_time": "2022-08-11T07:33:41.096Z"
   },
   {
    "duration": 11,
    "start_time": "2022-08-11T07:33:41.105Z"
   },
   {
    "duration": 14,
    "start_time": "2022-08-11T07:33:41.117Z"
   },
   {
    "duration": 24,
    "start_time": "2022-08-11T07:33:41.133Z"
   },
   {
    "duration": 12,
    "start_time": "2022-08-11T07:33:41.158Z"
   },
   {
    "duration": 429,
    "start_time": "2022-08-11T07:33:41.171Z"
   },
   {
    "duration": 3,
    "start_time": "2022-08-11T07:33:41.602Z"
   },
   {
    "duration": 1065,
    "start_time": "2022-08-11T07:33:41.607Z"
   },
   {
    "duration": 65,
    "start_time": "2022-08-11T07:33:42.674Z"
   },
   {
    "duration": 410,
    "start_time": "2022-08-11T07:33:42.754Z"
   },
   {
    "duration": 313,
    "start_time": "2022-08-11T07:33:43.168Z"
   },
   {
    "duration": 221,
    "start_time": "2022-08-11T07:33:43.483Z"
   },
   {
    "duration": 69,
    "start_time": "2022-08-11T07:33:43.706Z"
   },
   {
    "duration": 225,
    "start_time": "2022-08-11T07:33:43.777Z"
   },
   {
    "duration": 24,
    "start_time": "2022-08-11T07:33:44.004Z"
   },
   {
    "duration": 29,
    "start_time": "2022-08-11T07:33:44.029Z"
   },
   {
    "duration": 66,
    "start_time": "2022-08-11T07:33:44.059Z"
   },
   {
    "duration": 4,
    "start_time": "2022-08-11T07:33:44.126Z"
   },
   {
    "duration": 27,
    "start_time": "2022-08-11T07:33:44.131Z"
   },
   {
    "duration": 18,
    "start_time": "2022-08-11T07:33:44.160Z"
   },
   {
    "duration": 7,
    "start_time": "2022-08-11T07:33:44.179Z"
   },
   {
    "duration": 10,
    "start_time": "2022-08-11T07:33:44.187Z"
   },
   {
    "duration": 8,
    "start_time": "2022-08-11T07:33:44.198Z"
   },
   {
    "duration": 18,
    "start_time": "2022-08-11T07:33:44.208Z"
   },
   {
    "duration": 3,
    "start_time": "2022-08-11T07:33:55.928Z"
   },
   {
    "duration": 3,
    "start_time": "2022-08-11T07:33:57.449Z"
   },
   {
    "duration": 1582,
    "start_time": "2022-08-11T07:33:57.919Z"
   },
   {
    "duration": 21,
    "start_time": "2022-08-11T07:34:00.936Z"
   },
   {
    "duration": 12,
    "start_time": "2022-08-11T07:34:01.813Z"
   },
   {
    "duration": 10,
    "start_time": "2022-08-11T07:36:51.256Z"
   },
   {
    "duration": 16,
    "start_time": "2022-08-11T07:36:57.888Z"
   },
   {
    "duration": 101,
    "start_time": "2022-08-11T07:40:57.864Z"
   },
   {
    "duration": 25,
    "start_time": "2022-08-11T07:42:40.078Z"
   },
   {
    "duration": 47,
    "start_time": "2022-08-11T07:43:09.216Z"
   },
   {
    "duration": 461,
    "start_time": "2022-08-11T07:43:27.456Z"
   },
   {
    "duration": 70,
    "start_time": "2022-08-11T07:43:48.576Z"
   },
   {
    "duration": 4,
    "start_time": "2022-08-11T07:43:56.156Z"
   },
   {
    "duration": 64,
    "start_time": "2022-08-11T07:44:13.571Z"
   },
   {
    "duration": 4,
    "start_time": "2022-08-11T07:44:13.887Z"
   },
   {
    "duration": 85,
    "start_time": "2022-08-11T07:45:11.164Z"
   },
   {
    "duration": 99,
    "start_time": "2022-08-11T07:45:56.249Z"
   },
   {
    "duration": 3,
    "start_time": "2022-08-11T07:45:58.256Z"
   },
   {
    "duration": 16,
    "start_time": "2022-08-11T07:46:06.328Z"
   },
   {
    "duration": 92,
    "start_time": "2022-08-11T07:46:30.045Z"
   },
   {
    "duration": 17,
    "start_time": "2022-08-11T07:46:30.515Z"
   },
   {
    "duration": 34,
    "start_time": "2022-08-11T07:47:15.336Z"
   },
   {
    "duration": 17,
    "start_time": "2022-08-11T07:47:15.812Z"
   },
   {
    "duration": 37,
    "start_time": "2022-08-11T07:58:32.537Z"
   },
   {
    "duration": 15,
    "start_time": "2022-08-11T07:58:33.228Z"
   },
   {
    "duration": 1140,
    "start_time": "2022-08-11T07:59:07.417Z"
   },
   {
    "duration": 248,
    "start_time": "2022-08-11T07:59:08.559Z"
   },
   {
    "duration": 5,
    "start_time": "2022-08-11T07:59:08.809Z"
   },
   {
    "duration": 484,
    "start_time": "2022-08-11T07:59:08.816Z"
   },
   {
    "duration": 92,
    "start_time": "2022-08-11T07:59:09.302Z"
   },
   {
    "duration": 32,
    "start_time": "2022-08-11T07:59:09.396Z"
   },
   {
    "duration": 60,
    "start_time": "2022-08-11T07:59:09.455Z"
   },
   {
    "duration": 72,
    "start_time": "2022-08-11T07:59:09.555Z"
   },
   {
    "duration": 27,
    "start_time": "2022-08-11T07:59:09.628Z"
   },
   {
    "duration": 59,
    "start_time": "2022-08-11T07:59:09.656Z"
   },
   {
    "duration": 16,
    "start_time": "2022-08-11T07:59:09.716Z"
   },
   {
    "duration": 105,
    "start_time": "2022-08-11T07:59:09.734Z"
   },
   {
    "duration": 0,
    "start_time": "2022-08-11T07:59:09.841Z"
   },
   {
    "duration": 0,
    "start_time": "2022-08-11T07:59:09.843Z"
   },
   {
    "duration": 0,
    "start_time": "2022-08-11T07:59:09.844Z"
   },
   {
    "duration": 0,
    "start_time": "2022-08-11T07:59:09.854Z"
   },
   {
    "duration": 0,
    "start_time": "2022-08-11T07:59:09.855Z"
   },
   {
    "duration": 0,
    "start_time": "2022-08-11T07:59:09.856Z"
   },
   {
    "duration": 0,
    "start_time": "2022-08-11T07:59:09.858Z"
   },
   {
    "duration": 0,
    "start_time": "2022-08-11T07:59:09.859Z"
   },
   {
    "duration": 0,
    "start_time": "2022-08-11T07:59:09.860Z"
   },
   {
    "duration": 0,
    "start_time": "2022-08-11T07:59:09.861Z"
   },
   {
    "duration": 0,
    "start_time": "2022-08-11T07:59:09.862Z"
   },
   {
    "duration": 0,
    "start_time": "2022-08-11T07:59:09.863Z"
   },
   {
    "duration": 0,
    "start_time": "2022-08-11T07:59:09.865Z"
   },
   {
    "duration": 0,
    "start_time": "2022-08-11T07:59:09.866Z"
   },
   {
    "duration": 0,
    "start_time": "2022-08-11T07:59:09.867Z"
   },
   {
    "duration": 0,
    "start_time": "2022-08-11T07:59:09.868Z"
   },
   {
    "duration": 0,
    "start_time": "2022-08-11T07:59:09.870Z"
   },
   {
    "duration": 0,
    "start_time": "2022-08-11T07:59:09.871Z"
   },
   {
    "duration": 0,
    "start_time": "2022-08-11T07:59:09.872Z"
   },
   {
    "duration": 0,
    "start_time": "2022-08-11T07:59:09.873Z"
   },
   {
    "duration": 0,
    "start_time": "2022-08-11T07:59:09.874Z"
   },
   {
    "duration": 0,
    "start_time": "2022-08-11T07:59:09.875Z"
   },
   {
    "duration": 0,
    "start_time": "2022-08-11T07:59:09.876Z"
   },
   {
    "duration": 0,
    "start_time": "2022-08-11T07:59:09.877Z"
   },
   {
    "duration": 0,
    "start_time": "2022-08-11T07:59:09.878Z"
   },
   {
    "duration": 0,
    "start_time": "2022-08-11T07:59:09.879Z"
   },
   {
    "duration": 0,
    "start_time": "2022-08-11T07:59:09.880Z"
   },
   {
    "duration": 0,
    "start_time": "2022-08-11T07:59:09.881Z"
   },
   {
    "duration": 0,
    "start_time": "2022-08-11T07:59:09.882Z"
   },
   {
    "duration": 0,
    "start_time": "2022-08-11T07:59:09.882Z"
   },
   {
    "duration": 0,
    "start_time": "2022-08-11T07:59:09.883Z"
   },
   {
    "duration": 0,
    "start_time": "2022-08-11T07:59:09.884Z"
   },
   {
    "duration": 0,
    "start_time": "2022-08-11T07:59:09.886Z"
   },
   {
    "duration": 0,
    "start_time": "2022-08-11T07:59:09.887Z"
   },
   {
    "duration": 0,
    "start_time": "2022-08-11T07:59:09.888Z"
   },
   {
    "duration": 0,
    "start_time": "2022-08-11T07:59:09.890Z"
   },
   {
    "duration": 0,
    "start_time": "2022-08-11T07:59:09.891Z"
   },
   {
    "duration": 0,
    "start_time": "2022-08-11T07:59:09.892Z"
   },
   {
    "duration": 0,
    "start_time": "2022-08-11T07:59:09.955Z"
   },
   {
    "duration": 0,
    "start_time": "2022-08-11T07:59:09.956Z"
   },
   {
    "duration": 0,
    "start_time": "2022-08-11T07:59:09.957Z"
   },
   {
    "duration": 0,
    "start_time": "2022-08-11T07:59:09.959Z"
   },
   {
    "duration": 0,
    "start_time": "2022-08-11T07:59:09.960Z"
   },
   {
    "duration": 0,
    "start_time": "2022-08-11T07:59:09.961Z"
   },
   {
    "duration": 0,
    "start_time": "2022-08-11T07:59:09.962Z"
   },
   {
    "duration": 1403,
    "start_time": "2022-08-11T07:59:22.944Z"
   },
   {
    "duration": 54,
    "start_time": "2022-08-11T08:01:31.136Z"
   },
   {
    "duration": 13,
    "start_time": "2022-08-11T08:01:31.336Z"
   },
   {
    "duration": 43,
    "start_time": "2022-08-11T08:01:37.037Z"
   },
   {
    "duration": 13,
    "start_time": "2022-08-11T08:01:41.676Z"
   },
   {
    "duration": 1067,
    "start_time": "2022-08-11T08:02:02.392Z"
   },
   {
    "duration": 256,
    "start_time": "2022-08-11T08:02:03.461Z"
   },
   {
    "duration": 5,
    "start_time": "2022-08-11T08:02:03.719Z"
   },
   {
    "duration": 412,
    "start_time": "2022-08-11T08:02:03.726Z"
   },
   {
    "duration": 85,
    "start_time": "2022-08-11T08:02:04.140Z"
   },
   {
    "duration": 51,
    "start_time": "2022-08-11T08:02:04.227Z"
   },
   {
    "duration": 84,
    "start_time": "2022-08-11T08:02:04.280Z"
   },
   {
    "duration": 69,
    "start_time": "2022-08-11T08:02:04.366Z"
   },
   {
    "duration": 22,
    "start_time": "2022-08-11T08:02:04.436Z"
   },
   {
    "duration": 84,
    "start_time": "2022-08-11T08:02:04.459Z"
   },
   {
    "duration": 12,
    "start_time": "2022-08-11T08:02:04.545Z"
   },
   {
    "duration": 66,
    "start_time": "2022-08-11T08:02:04.559Z"
   },
   {
    "duration": 14,
    "start_time": "2022-08-11T08:02:04.626Z"
   },
   {
    "duration": 78,
    "start_time": "2022-08-11T08:02:04.643Z"
   },
   {
    "duration": 87,
    "start_time": "2022-08-11T08:02:04.723Z"
   },
   {
    "duration": 13,
    "start_time": "2022-08-11T08:02:04.812Z"
   },
   {
    "duration": 253,
    "start_time": "2022-08-11T08:02:04.826Z"
   },
   {
    "duration": 343,
    "start_time": "2022-08-11T08:02:05.081Z"
   },
   {
    "duration": 53,
    "start_time": "2022-08-11T08:02:05.426Z"
   },
   {
    "duration": 100,
    "start_time": "2022-08-11T08:02:05.481Z"
   },
   {
    "duration": 578,
    "start_time": "2022-08-11T08:02:05.583Z"
   },
   {
    "duration": 45,
    "start_time": "2022-08-11T08:02:06.162Z"
   },
   {
    "duration": 5,
    "start_time": "2022-08-11T08:02:06.208Z"
   },
   {
    "duration": 42,
    "start_time": "2022-08-11T08:02:06.215Z"
   },
   {
    "duration": 364,
    "start_time": "2022-08-11T08:02:06.259Z"
   },
   {
    "duration": 279,
    "start_time": "2022-08-11T08:02:06.624Z"
   },
   {
    "duration": 11,
    "start_time": "2022-08-11T08:02:06.905Z"
   },
   {
    "duration": 23,
    "start_time": "2022-08-11T08:02:06.918Z"
   },
   {
    "duration": 27,
    "start_time": "2022-08-11T08:02:06.943Z"
   },
   {
    "duration": 46,
    "start_time": "2022-08-11T08:02:06.971Z"
   },
   {
    "duration": 40,
    "start_time": "2022-08-11T08:02:07.019Z"
   },
   {
    "duration": 40,
    "start_time": "2022-08-11T08:02:07.060Z"
   },
   {
    "duration": 517,
    "start_time": "2022-08-11T08:02:07.102Z"
   },
   {
    "duration": 3,
    "start_time": "2022-08-11T08:02:07.621Z"
   },
   {
    "duration": 1014,
    "start_time": "2022-08-11T08:02:07.625Z"
   },
   {
    "duration": 67,
    "start_time": "2022-08-11T08:02:08.641Z"
   },
   {
    "duration": 382,
    "start_time": "2022-08-11T08:02:08.709Z"
   },
   {
    "duration": 366,
    "start_time": "2022-08-11T08:02:09.092Z"
   },
   {
    "duration": 237,
    "start_time": "2022-08-11T08:02:09.459Z"
   },
   {
    "duration": 34,
    "start_time": "2022-08-11T08:02:09.698Z"
   },
   {
    "duration": 296,
    "start_time": "2022-08-11T08:02:09.737Z"
   },
   {
    "duration": 0,
    "start_time": "2022-08-11T08:02:10.034Z"
   },
   {
    "duration": 0,
    "start_time": "2022-08-11T08:02:10.035Z"
   },
   {
    "duration": 0,
    "start_time": "2022-08-11T08:02:10.036Z"
   },
   {
    "duration": 0,
    "start_time": "2022-08-11T08:02:10.037Z"
   },
   {
    "duration": 0,
    "start_time": "2022-08-11T08:02:10.038Z"
   },
   {
    "duration": 0,
    "start_time": "2022-08-11T08:02:10.039Z"
   },
   {
    "duration": 0,
    "start_time": "2022-08-11T08:02:10.040Z"
   },
   {
    "duration": 0,
    "start_time": "2022-08-11T08:02:10.041Z"
   },
   {
    "duration": 0,
    "start_time": "2022-08-11T08:02:10.055Z"
   },
   {
    "duration": 0,
    "start_time": "2022-08-11T08:02:10.056Z"
   },
   {
    "duration": 304,
    "start_time": "2022-08-11T08:07:09.913Z"
   },
   {
    "duration": 200,
    "start_time": "2022-08-11T08:07:30.605Z"
   },
   {
    "duration": 1060,
    "start_time": "2022-08-11T08:07:45.370Z"
   },
   {
    "duration": 238,
    "start_time": "2022-08-11T08:07:46.432Z"
   },
   {
    "duration": 5,
    "start_time": "2022-08-11T08:07:46.672Z"
   },
   {
    "duration": 389,
    "start_time": "2022-08-11T08:07:46.679Z"
   },
   {
    "duration": 85,
    "start_time": "2022-08-11T08:07:47.070Z"
   },
   {
    "duration": 35,
    "start_time": "2022-08-11T08:07:47.157Z"
   },
   {
    "duration": 96,
    "start_time": "2022-08-11T08:07:47.193Z"
   },
   {
    "duration": 97,
    "start_time": "2022-08-11T08:07:47.290Z"
   },
   {
    "duration": 6,
    "start_time": "2022-08-11T08:07:47.389Z"
   },
   {
    "duration": 84,
    "start_time": "2022-08-11T08:07:47.397Z"
   },
   {
    "duration": 15,
    "start_time": "2022-08-11T08:07:47.483Z"
   },
   {
    "duration": 66,
    "start_time": "2022-08-11T08:07:47.500Z"
   },
   {
    "duration": 14,
    "start_time": "2022-08-11T08:07:47.569Z"
   },
   {
    "duration": 78,
    "start_time": "2022-08-11T08:07:47.587Z"
   },
   {
    "duration": 73,
    "start_time": "2022-08-11T08:07:47.666Z"
   },
   {
    "duration": 16,
    "start_time": "2022-08-11T08:07:47.741Z"
   },
   {
    "duration": 202,
    "start_time": "2022-08-11T08:07:47.758Z"
   },
   {
    "duration": 319,
    "start_time": "2022-08-11T08:07:47.962Z"
   },
   {
    "duration": 46,
    "start_time": "2022-08-11T08:07:48.282Z"
   },
   {
    "duration": 94,
    "start_time": "2022-08-11T08:07:48.330Z"
   },
   {
    "duration": 545,
    "start_time": "2022-08-11T08:07:48.425Z"
   },
   {
    "duration": 50,
    "start_time": "2022-08-11T08:07:48.972Z"
   },
   {
    "duration": 4,
    "start_time": "2022-08-11T08:07:49.024Z"
   },
   {
    "duration": 27,
    "start_time": "2022-08-11T08:07:49.029Z"
   },
   {
    "duration": 370,
    "start_time": "2022-08-11T08:07:49.058Z"
   },
   {
    "duration": 260,
    "start_time": "2022-08-11T08:07:49.430Z"
   },
   {
    "duration": 11,
    "start_time": "2022-08-11T08:07:49.692Z"
   },
   {
    "duration": 6,
    "start_time": "2022-08-11T08:07:49.705Z"
   },
   {
    "duration": 12,
    "start_time": "2022-08-11T08:07:49.713Z"
   },
   {
    "duration": 29,
    "start_time": "2022-08-11T08:07:49.726Z"
   },
   {
    "duration": 3,
    "start_time": "2022-08-11T08:07:49.757Z"
   },
   {
    "duration": 12,
    "start_time": "2022-08-11T08:07:49.762Z"
   },
   {
    "duration": 508,
    "start_time": "2022-08-11T08:07:49.776Z"
   },
   {
    "duration": 3,
    "start_time": "2022-08-11T08:07:50.286Z"
   },
   {
    "duration": 1053,
    "start_time": "2022-08-11T08:07:50.290Z"
   },
   {
    "duration": 69,
    "start_time": "2022-08-11T08:07:51.344Z"
   },
   {
    "duration": 371,
    "start_time": "2022-08-11T08:07:51.415Z"
   },
   {
    "duration": 315,
    "start_time": "2022-08-11T08:07:51.787Z"
   },
   {
    "duration": 278,
    "start_time": "2022-08-11T08:07:52.104Z"
   },
   {
    "duration": 35,
    "start_time": "2022-08-11T08:07:52.383Z"
   },
   {
    "duration": 306,
    "start_time": "2022-08-11T08:07:52.421Z"
   },
   {
    "duration": 0,
    "start_time": "2022-08-11T08:07:52.729Z"
   },
   {
    "duration": 0,
    "start_time": "2022-08-11T08:07:52.730Z"
   },
   {
    "duration": 0,
    "start_time": "2022-08-11T08:07:52.731Z"
   },
   {
    "duration": 0,
    "start_time": "2022-08-11T08:07:52.732Z"
   },
   {
    "duration": 0,
    "start_time": "2022-08-11T08:07:52.733Z"
   },
   {
    "duration": 0,
    "start_time": "2022-08-11T08:07:52.734Z"
   },
   {
    "duration": 1,
    "start_time": "2022-08-11T08:07:52.734Z"
   },
   {
    "duration": 0,
    "start_time": "2022-08-11T08:07:52.735Z"
   },
   {
    "duration": 0,
    "start_time": "2022-08-11T08:07:52.755Z"
   },
   {
    "duration": 0,
    "start_time": "2022-08-11T08:07:52.756Z"
   },
   {
    "duration": 6,
    "start_time": "2022-08-11T08:08:41.675Z"
   },
   {
    "duration": 31,
    "start_time": "2022-08-11T08:09:43.615Z"
   },
   {
    "duration": 5,
    "start_time": "2022-08-11T08:09:46.215Z"
   },
   {
    "duration": 280,
    "start_time": "2022-08-11T08:09:49.594Z"
   },
   {
    "duration": 1030,
    "start_time": "2022-08-11T08:10:25.813Z"
   },
   {
    "duration": 236,
    "start_time": "2022-08-11T08:10:26.845Z"
   },
   {
    "duration": 5,
    "start_time": "2022-08-11T08:10:27.082Z"
   },
   {
    "duration": 404,
    "start_time": "2022-08-11T08:10:27.088Z"
   },
   {
    "duration": 82,
    "start_time": "2022-08-11T08:10:27.494Z"
   },
   {
    "duration": 32,
    "start_time": "2022-08-11T08:10:27.578Z"
   },
   {
    "duration": 81,
    "start_time": "2022-08-11T08:10:27.611Z"
   },
   {
    "duration": 99,
    "start_time": "2022-08-11T08:10:27.694Z"
   },
   {
    "duration": 5,
    "start_time": "2022-08-11T08:10:27.796Z"
   },
   {
    "duration": 67,
    "start_time": "2022-08-11T08:10:27.802Z"
   },
   {
    "duration": 12,
    "start_time": "2022-08-11T08:10:27.871Z"
   },
   {
    "duration": 43,
    "start_time": "2022-08-11T08:10:27.885Z"
   },
   {
    "duration": 27,
    "start_time": "2022-08-11T08:10:27.929Z"
   },
   {
    "duration": 49,
    "start_time": "2022-08-11T08:10:27.959Z"
   },
   {
    "duration": 82,
    "start_time": "2022-08-11T08:10:28.010Z"
   },
   {
    "duration": 9,
    "start_time": "2022-08-11T08:10:28.094Z"
   },
   {
    "duration": 206,
    "start_time": "2022-08-11T08:10:28.104Z"
   },
   {
    "duration": 319,
    "start_time": "2022-08-11T08:10:28.312Z"
   },
   {
    "duration": 54,
    "start_time": "2022-08-11T08:10:28.633Z"
   },
   {
    "duration": 81,
    "start_time": "2022-08-11T08:10:28.689Z"
   },
   {
    "duration": 553,
    "start_time": "2022-08-11T08:10:28.772Z"
   },
   {
    "duration": 54,
    "start_time": "2022-08-11T08:10:29.327Z"
   },
   {
    "duration": 4,
    "start_time": "2022-08-11T08:10:29.382Z"
   },
   {
    "duration": 11,
    "start_time": "2022-08-11T08:10:29.388Z"
   },
   {
    "duration": 387,
    "start_time": "2022-08-11T08:10:29.400Z"
   },
   {
    "duration": 223,
    "start_time": "2022-08-11T08:10:29.788Z"
   },
   {
    "duration": 47,
    "start_time": "2022-08-11T08:10:30.012Z"
   },
   {
    "duration": 8,
    "start_time": "2022-08-11T08:10:30.061Z"
   },
   {
    "duration": 10,
    "start_time": "2022-08-11T08:10:30.071Z"
   },
   {
    "duration": 14,
    "start_time": "2022-08-11T08:10:30.082Z"
   },
   {
    "duration": 9,
    "start_time": "2022-08-11T08:10:30.098Z"
   },
   {
    "duration": 15,
    "start_time": "2022-08-11T08:10:30.108Z"
   },
   {
    "duration": 473,
    "start_time": "2022-08-11T08:10:30.124Z"
   },
   {
    "duration": 3,
    "start_time": "2022-08-11T08:10:30.599Z"
   },
   {
    "duration": 1014,
    "start_time": "2022-08-11T08:10:30.604Z"
   },
   {
    "duration": 70,
    "start_time": "2022-08-11T08:10:31.620Z"
   },
   {
    "duration": 376,
    "start_time": "2022-08-11T08:10:31.691Z"
   },
   {
    "duration": 316,
    "start_time": "2022-08-11T08:10:32.069Z"
   },
   {
    "duration": 216,
    "start_time": "2022-08-11T08:10:32.387Z"
   },
   {
    "duration": 65,
    "start_time": "2022-08-11T08:10:32.605Z"
   },
   {
    "duration": 4,
    "start_time": "2022-08-11T08:10:32.673Z"
   },
   {
    "duration": 314,
    "start_time": "2022-08-11T08:10:32.679Z"
   },
   {
    "duration": 28,
    "start_time": "2022-08-11T08:10:32.995Z"
   },
   {
    "duration": 37,
    "start_time": "2022-08-11T08:10:33.025Z"
   },
   {
    "duration": 73,
    "start_time": "2022-08-11T08:10:33.063Z"
   },
   {
    "duration": 5,
    "start_time": "2022-08-11T08:10:33.137Z"
   },
   {
    "duration": 15,
    "start_time": "2022-08-11T08:10:33.155Z"
   },
   {
    "duration": 8,
    "start_time": "2022-08-11T08:10:33.171Z"
   },
   {
    "duration": 8,
    "start_time": "2022-08-11T08:10:33.180Z"
   },
   {
    "duration": 9,
    "start_time": "2022-08-11T08:10:33.189Z"
   },
   {
    "duration": 8,
    "start_time": "2022-08-11T08:10:33.199Z"
   },
   {
    "duration": 17,
    "start_time": "2022-08-11T08:10:33.208Z"
   },
   {
    "duration": 19,
    "start_time": "2022-08-11T08:11:23.172Z"
   },
   {
    "duration": 1049,
    "start_time": "2022-08-11T08:20:56.819Z"
   },
   {
    "duration": 246,
    "start_time": "2022-08-11T08:20:57.870Z"
   },
   {
    "duration": 5,
    "start_time": "2022-08-11T08:20:58.117Z"
   },
   {
    "duration": 398,
    "start_time": "2022-08-11T08:20:58.123Z"
   },
   {
    "duration": 87,
    "start_time": "2022-08-11T08:20:58.524Z"
   },
   {
    "duration": 61,
    "start_time": "2022-08-11T08:20:58.613Z"
   },
   {
    "duration": 89,
    "start_time": "2022-08-11T08:20:58.676Z"
   },
   {
    "duration": 73,
    "start_time": "2022-08-11T08:20:58.767Z"
   },
   {
    "duration": 23,
    "start_time": "2022-08-11T08:20:58.841Z"
   },
   {
    "duration": 53,
    "start_time": "2022-08-11T08:20:58.871Z"
   },
   {
    "duration": 10,
    "start_time": "2022-08-11T08:20:58.925Z"
   },
   {
    "duration": 46,
    "start_time": "2022-08-11T08:20:58.936Z"
   },
   {
    "duration": 18,
    "start_time": "2022-08-11T08:20:58.983Z"
   },
   {
    "duration": 74,
    "start_time": "2022-08-11T08:20:59.004Z"
   },
   {
    "duration": 89,
    "start_time": "2022-08-11T08:20:59.079Z"
   },
   {
    "duration": 10,
    "start_time": "2022-08-11T08:20:59.170Z"
   },
   {
    "duration": 203,
    "start_time": "2022-08-11T08:20:59.181Z"
   },
   {
    "duration": 333,
    "start_time": "2022-08-11T08:20:59.385Z"
   },
   {
    "duration": 58,
    "start_time": "2022-08-11T08:20:59.720Z"
   },
   {
    "duration": 83,
    "start_time": "2022-08-11T08:20:59.780Z"
   },
   {
    "duration": 601,
    "start_time": "2022-08-11T08:20:59.865Z"
   },
   {
    "duration": 48,
    "start_time": "2022-08-11T08:21:00.468Z"
   },
   {
    "duration": 4,
    "start_time": "2022-08-11T08:21:00.518Z"
   },
   {
    "duration": 20,
    "start_time": "2022-08-11T08:21:00.523Z"
   },
   {
    "duration": 435,
    "start_time": "2022-08-11T08:21:00.545Z"
   },
   {
    "duration": 311,
    "start_time": "2022-08-11T08:21:00.982Z"
   },
   {
    "duration": 12,
    "start_time": "2022-08-11T08:21:01.295Z"
   },
   {
    "duration": 9,
    "start_time": "2022-08-11T08:21:01.309Z"
   },
   {
    "duration": 15,
    "start_time": "2022-08-11T08:21:01.320Z"
   },
   {
    "duration": 30,
    "start_time": "2022-08-11T08:21:01.336Z"
   },
   {
    "duration": 13,
    "start_time": "2022-08-11T08:21:01.367Z"
   },
   {
    "duration": 21,
    "start_time": "2022-08-11T08:21:01.381Z"
   },
   {
    "duration": 495,
    "start_time": "2022-08-11T08:21:01.403Z"
   },
   {
    "duration": 4,
    "start_time": "2022-08-11T08:21:01.899Z"
   },
   {
    "duration": 1073,
    "start_time": "2022-08-11T08:21:01.904Z"
   },
   {
    "duration": 89,
    "start_time": "2022-08-11T08:21:02.979Z"
   },
   {
    "duration": 376,
    "start_time": "2022-08-11T08:21:03.070Z"
   },
   {
    "duration": 335,
    "start_time": "2022-08-11T08:21:03.454Z"
   },
   {
    "duration": 278,
    "start_time": "2022-08-11T08:21:03.791Z"
   },
   {
    "duration": 32,
    "start_time": "2022-08-11T08:21:04.070Z"
   },
   {
    "duration": 5,
    "start_time": "2022-08-11T08:21:04.107Z"
   },
   {
    "duration": 352,
    "start_time": "2022-08-11T08:21:04.113Z"
   },
   {
    "duration": 26,
    "start_time": "2022-08-11T08:21:04.467Z"
   },
   {
    "duration": 9,
    "start_time": "2022-08-11T08:21:04.495Z"
   },
   {
    "duration": 99,
    "start_time": "2022-08-11T08:21:04.506Z"
   },
   {
    "duration": 4,
    "start_time": "2022-08-11T08:21:04.606Z"
   },
   {
    "duration": 13,
    "start_time": "2022-08-11T08:21:04.612Z"
   },
   {
    "duration": 6,
    "start_time": "2022-08-11T08:21:04.627Z"
   },
   {
    "duration": 34,
    "start_time": "2022-08-11T08:21:04.634Z"
   },
   {
    "duration": 7,
    "start_time": "2022-08-11T08:21:04.671Z"
   },
   {
    "duration": 7,
    "start_time": "2022-08-11T08:21:04.680Z"
   },
   {
    "duration": 9,
    "start_time": "2022-08-11T08:21:04.689Z"
   },
   {
    "duration": 1192,
    "start_time": "2022-08-12T05:52:12.754Z"
   },
   {
    "duration": 908,
    "start_time": "2022-08-12T05:52:13.948Z"
   },
   {
    "duration": 5,
    "start_time": "2022-08-12T05:52:14.857Z"
   },
   {
    "duration": 357,
    "start_time": "2022-08-12T05:52:14.864Z"
   },
   {
    "duration": 85,
    "start_time": "2022-08-12T05:52:15.222Z"
   },
   {
    "duration": 34,
    "start_time": "2022-08-12T05:52:15.309Z"
   },
   {
    "duration": 91,
    "start_time": "2022-08-12T05:52:15.344Z"
   },
   {
    "duration": 92,
    "start_time": "2022-08-12T05:52:15.436Z"
   },
   {
    "duration": 4,
    "start_time": "2022-08-12T05:52:15.529Z"
   },
   {
    "duration": 54,
    "start_time": "2022-08-12T05:52:15.535Z"
   },
   {
    "duration": 23,
    "start_time": "2022-08-12T05:52:15.590Z"
   },
   {
    "duration": 43,
    "start_time": "2022-08-12T05:52:15.614Z"
   },
   {
    "duration": 12,
    "start_time": "2022-08-12T05:52:15.658Z"
   },
   {
    "duration": 61,
    "start_time": "2022-08-12T05:52:15.672Z"
   },
   {
    "duration": 81,
    "start_time": "2022-08-12T05:52:15.735Z"
   },
   {
    "duration": 11,
    "start_time": "2022-08-12T05:52:15.817Z"
   },
   {
    "duration": 243,
    "start_time": "2022-08-12T05:52:15.829Z"
   },
   {
    "duration": 366,
    "start_time": "2022-08-12T05:52:16.075Z"
   },
   {
    "duration": 52,
    "start_time": "2022-08-12T05:52:16.442Z"
   },
   {
    "duration": 63,
    "start_time": "2022-08-12T05:52:16.506Z"
   },
   {
    "duration": 663,
    "start_time": "2022-08-12T05:52:16.570Z"
   },
   {
    "duration": 48,
    "start_time": "2022-08-12T05:52:17.234Z"
   },
   {
    "duration": 4,
    "start_time": "2022-08-12T05:52:17.284Z"
   },
   {
    "duration": 23,
    "start_time": "2022-08-12T05:52:17.290Z"
   },
   {
    "duration": 518,
    "start_time": "2022-08-12T05:52:17.314Z"
   },
   {
    "duration": 307,
    "start_time": "2022-08-12T05:52:17.834Z"
   },
   {
    "duration": 12,
    "start_time": "2022-08-12T05:52:18.142Z"
   },
   {
    "duration": 7,
    "start_time": "2022-08-12T05:52:18.157Z"
   },
   {
    "duration": 11,
    "start_time": "2022-08-12T05:52:18.165Z"
   },
   {
    "duration": 10,
    "start_time": "2022-08-12T05:52:18.177Z"
   },
   {
    "duration": 20,
    "start_time": "2022-08-12T05:52:18.188Z"
   },
   {
    "duration": 11,
    "start_time": "2022-08-12T05:52:18.209Z"
   },
   {
    "duration": 505,
    "start_time": "2022-08-12T05:52:18.221Z"
   },
   {
    "duration": 3,
    "start_time": "2022-08-12T05:52:18.728Z"
   },
   {
    "duration": 1036,
    "start_time": "2022-08-12T05:52:18.732Z"
   },
   {
    "duration": 75,
    "start_time": "2022-08-12T05:52:19.769Z"
   },
   {
    "duration": 380,
    "start_time": "2022-08-12T05:52:19.845Z"
   },
   {
    "duration": 304,
    "start_time": "2022-08-12T05:52:20.226Z"
   },
   {
    "duration": 230,
    "start_time": "2022-08-12T05:52:20.531Z"
   },
   {
    "duration": 60,
    "start_time": "2022-08-12T05:52:20.762Z"
   },
   {
    "duration": 6,
    "start_time": "2022-08-12T05:52:20.823Z"
   },
   {
    "duration": 320,
    "start_time": "2022-08-12T05:52:20.830Z"
   },
   {
    "duration": 25,
    "start_time": "2022-08-12T05:52:21.151Z"
   },
   {
    "duration": 34,
    "start_time": "2022-08-12T05:52:21.177Z"
   },
   {
    "duration": 68,
    "start_time": "2022-08-12T05:52:21.212Z"
   },
   {
    "duration": 4,
    "start_time": "2022-08-12T05:52:21.281Z"
   },
   {
    "duration": 24,
    "start_time": "2022-08-12T05:52:21.287Z"
   },
   {
    "duration": 8,
    "start_time": "2022-08-12T05:52:21.313Z"
   },
   {
    "duration": 9,
    "start_time": "2022-08-12T05:52:21.322Z"
   },
   {
    "duration": 9,
    "start_time": "2022-08-12T05:52:21.332Z"
   },
   {
    "duration": 10,
    "start_time": "2022-08-12T05:52:21.342Z"
   },
   {
    "duration": 7,
    "start_time": "2022-08-12T05:52:21.354Z"
   },
   {
    "duration": 15,
    "start_time": "2022-08-12T05:53:13.551Z"
   },
   {
    "duration": 1086,
    "start_time": "2022-08-12T05:53:28.180Z"
   },
   {
    "duration": 249,
    "start_time": "2022-08-12T05:53:29.268Z"
   },
   {
    "duration": 5,
    "start_time": "2022-08-12T05:53:29.518Z"
   },
   {
    "duration": 405,
    "start_time": "2022-08-12T05:53:29.525Z"
   },
   {
    "duration": 88,
    "start_time": "2022-08-12T05:53:29.932Z"
   },
   {
    "duration": 35,
    "start_time": "2022-08-12T05:53:30.022Z"
   },
   {
    "duration": 85,
    "start_time": "2022-08-12T05:53:30.058Z"
   },
   {
    "duration": 90,
    "start_time": "2022-08-12T05:53:30.145Z"
   },
   {
    "duration": 4,
    "start_time": "2022-08-12T05:53:30.237Z"
   },
   {
    "duration": 68,
    "start_time": "2022-08-12T05:53:30.244Z"
   },
   {
    "duration": 10,
    "start_time": "2022-08-12T05:53:30.313Z"
   },
   {
    "duration": 47,
    "start_time": "2022-08-12T05:53:30.324Z"
   },
   {
    "duration": 12,
    "start_time": "2022-08-12T05:53:30.372Z"
   },
   {
    "duration": 59,
    "start_time": "2022-08-12T05:53:30.385Z"
   },
   {
    "duration": 82,
    "start_time": "2022-08-12T05:53:30.446Z"
   },
   {
    "duration": 10,
    "start_time": "2022-08-12T05:53:30.530Z"
   },
   {
    "duration": 212,
    "start_time": "2022-08-12T05:53:30.542Z"
   },
   {
    "duration": 331,
    "start_time": "2022-08-12T05:53:30.756Z"
   },
   {
    "duration": 48,
    "start_time": "2022-08-12T05:53:31.089Z"
   },
   {
    "duration": 70,
    "start_time": "2022-08-12T05:53:31.138Z"
   },
   {
    "duration": 572,
    "start_time": "2022-08-12T05:53:31.210Z"
   },
   {
    "duration": 51,
    "start_time": "2022-08-12T05:53:31.784Z"
   },
   {
    "duration": 4,
    "start_time": "2022-08-12T05:53:31.837Z"
   },
   {
    "duration": 12,
    "start_time": "2022-08-12T05:53:31.842Z"
   },
   {
    "duration": 402,
    "start_time": "2022-08-12T05:53:31.855Z"
   },
   {
    "duration": 281,
    "start_time": "2022-08-12T05:53:32.259Z"
   },
   {
    "duration": 11,
    "start_time": "2022-08-12T05:53:32.541Z"
   },
   {
    "duration": 3,
    "start_time": "2022-08-12T05:53:32.556Z"
   },
   {
    "duration": 10,
    "start_time": "2022-08-12T05:53:32.561Z"
   },
   {
    "duration": 9,
    "start_time": "2022-08-12T05:53:32.572Z"
   },
   {
    "duration": 25,
    "start_time": "2022-08-12T05:53:32.582Z"
   },
   {
    "duration": 11,
    "start_time": "2022-08-12T05:53:32.609Z"
   },
   {
    "duration": 511,
    "start_time": "2022-08-12T05:53:32.621Z"
   },
   {
    "duration": 3,
    "start_time": "2022-08-12T05:53:33.133Z"
   },
   {
    "duration": 1000,
    "start_time": "2022-08-12T05:53:33.137Z"
   },
   {
    "duration": 71,
    "start_time": "2022-08-12T05:53:34.138Z"
   },
   {
    "duration": 416,
    "start_time": "2022-08-12T05:53:34.210Z"
   },
   {
    "duration": 315,
    "start_time": "2022-08-12T05:53:34.627Z"
   },
   {
    "duration": 293,
    "start_time": "2022-08-12T05:53:34.944Z"
   },
   {
    "duration": 31,
    "start_time": "2022-08-12T05:53:35.239Z"
   },
   {
    "duration": 5,
    "start_time": "2022-08-12T05:53:35.272Z"
   },
   {
    "duration": 309,
    "start_time": "2022-08-12T05:53:35.279Z"
   },
   {
    "duration": 30,
    "start_time": "2022-08-12T05:53:35.590Z"
   },
   {
    "duration": 10,
    "start_time": "2022-08-12T05:53:35.622Z"
   },
   {
    "duration": 80,
    "start_time": "2022-08-12T05:53:35.634Z"
   },
   {
    "duration": 4,
    "start_time": "2022-08-12T05:53:35.716Z"
   },
   {
    "duration": 14,
    "start_time": "2022-08-12T05:53:35.721Z"
   },
   {
    "duration": 6,
    "start_time": "2022-08-12T05:53:35.737Z"
   },
   {
    "duration": 6,
    "start_time": "2022-08-12T05:53:35.745Z"
   },
   {
    "duration": 7,
    "start_time": "2022-08-12T05:53:35.752Z"
   },
   {
    "duration": 6,
    "start_time": "2022-08-12T05:53:35.760Z"
   },
   {
    "duration": 6,
    "start_time": "2022-08-12T05:53:35.768Z"
   },
   {
    "duration": 16,
    "start_time": "2022-08-12T05:53:35.806Z"
   },
   {
    "duration": 1763,
    "start_time": "2022-08-12T06:07:53.344Z"
   },
   {
    "duration": 1607,
    "start_time": "2022-08-12T06:16:17.447Z"
   },
   {
    "duration": 1850,
    "start_time": "2022-08-12T06:34:53.851Z"
   },
   {
    "duration": 1491,
    "start_time": "2022-08-12T06:36:32.847Z"
   },
   {
    "duration": 1225,
    "start_time": "2022-08-12T06:40:20.681Z"
   },
   {
    "duration": 262,
    "start_time": "2022-08-12T06:40:21.908Z"
   },
   {
    "duration": 5,
    "start_time": "2022-08-12T06:40:22.172Z"
   },
   {
    "duration": 412,
    "start_time": "2022-08-12T06:40:22.179Z"
   },
   {
    "duration": 88,
    "start_time": "2022-08-12T06:40:22.593Z"
   },
   {
    "duration": 50,
    "start_time": "2022-08-12T06:40:22.683Z"
   },
   {
    "duration": 82,
    "start_time": "2022-08-12T06:40:22.734Z"
   },
   {
    "duration": 73,
    "start_time": "2022-08-12T06:40:22.817Z"
   },
   {
    "duration": 4,
    "start_time": "2022-08-12T06:40:22.906Z"
   },
   {
    "duration": 59,
    "start_time": "2022-08-12T06:40:22.913Z"
   },
   {
    "duration": 10,
    "start_time": "2022-08-12T06:40:22.974Z"
   },
   {
    "duration": 59,
    "start_time": "2022-08-12T06:40:22.985Z"
   },
   {
    "duration": 13,
    "start_time": "2022-08-12T06:40:23.045Z"
   },
   {
    "duration": 67,
    "start_time": "2022-08-12T06:40:23.059Z"
   },
   {
    "duration": 92,
    "start_time": "2022-08-12T06:40:23.128Z"
   },
   {
    "duration": 9,
    "start_time": "2022-08-12T06:40:23.222Z"
   },
   {
    "duration": 218,
    "start_time": "2022-08-12T06:40:23.233Z"
   },
   {
    "duration": 347,
    "start_time": "2022-08-12T06:40:23.453Z"
   },
   {
    "duration": 48,
    "start_time": "2022-08-12T06:40:23.802Z"
   },
   {
    "duration": 62,
    "start_time": "2022-08-12T06:40:23.852Z"
   },
   {
    "duration": 579,
    "start_time": "2022-08-12T06:40:23.916Z"
   },
   {
    "duration": 51,
    "start_time": "2022-08-12T06:40:24.497Z"
   },
   {
    "duration": 4,
    "start_time": "2022-08-12T06:40:24.549Z"
   },
   {
    "duration": 12,
    "start_time": "2022-08-12T06:40:24.554Z"
   },
   {
    "duration": 383,
    "start_time": "2022-08-12T06:40:24.567Z"
   },
   {
    "duration": 276,
    "start_time": "2022-08-12T06:40:24.951Z"
   },
   {
    "duration": 12,
    "start_time": "2022-08-12T06:40:25.228Z"
   },
   {
    "duration": 3,
    "start_time": "2022-08-12T06:40:25.243Z"
   },
   {
    "duration": 8,
    "start_time": "2022-08-12T06:40:25.248Z"
   },
   {
    "duration": 10,
    "start_time": "2022-08-12T06:40:25.257Z"
   },
   {
    "duration": 6,
    "start_time": "2022-08-12T06:40:25.268Z"
   },
   {
    "duration": 32,
    "start_time": "2022-08-12T06:40:25.275Z"
   },
   {
    "duration": 456,
    "start_time": "2022-08-12T06:40:25.308Z"
   },
   {
    "duration": 2,
    "start_time": "2022-08-12T06:40:25.766Z"
   },
   {
    "duration": 1101,
    "start_time": "2022-08-12T06:40:25.770Z"
   },
   {
    "duration": 70,
    "start_time": "2022-08-12T06:40:26.873Z"
   },
   {
    "duration": 371,
    "start_time": "2022-08-12T06:40:26.944Z"
   },
   {
    "duration": 316,
    "start_time": "2022-08-12T06:40:27.316Z"
   },
   {
    "duration": 227,
    "start_time": "2022-08-12T06:40:27.633Z"
   },
   {
    "duration": 51,
    "start_time": "2022-08-12T06:40:27.862Z"
   },
   {
    "duration": 4,
    "start_time": "2022-08-12T06:40:27.915Z"
   },
   {
    "duration": 316,
    "start_time": "2022-08-12T06:40:27.921Z"
   },
   {
    "duration": 24,
    "start_time": "2022-08-12T06:40:28.239Z"
   },
   {
    "duration": 10,
    "start_time": "2022-08-12T06:40:28.264Z"
   },
   {
    "duration": 94,
    "start_time": "2022-08-12T06:40:28.275Z"
   },
   {
    "duration": 4,
    "start_time": "2022-08-12T06:40:28.371Z"
   },
   {
    "duration": 11,
    "start_time": "2022-08-12T06:40:28.376Z"
   },
   {
    "duration": 20,
    "start_time": "2022-08-12T06:40:28.388Z"
   },
   {
    "duration": 6,
    "start_time": "2022-08-12T06:40:28.409Z"
   },
   {
    "duration": 7,
    "start_time": "2022-08-12T06:40:28.417Z"
   },
   {
    "duration": 7,
    "start_time": "2022-08-12T06:40:28.426Z"
   },
   {
    "duration": 6,
    "start_time": "2022-08-12T06:40:28.434Z"
   },
   {
    "duration": 17,
    "start_time": "2022-08-12T06:40:28.441Z"
   },
   {
    "duration": 1688,
    "start_time": "2022-08-12T06:40:28.459Z"
   }
  ],
  "kernelspec": {
   "display_name": "Python 3 (ipykernel)",
   "language": "python",
   "name": "python3"
  },
  "language_info": {
   "codemirror_mode": {
    "name": "ipython",
    "version": 3
   },
   "file_extension": ".py",
   "mimetype": "text/x-python",
   "name": "python",
   "nbconvert_exporter": "python",
   "pygments_lexer": "ipython3",
   "version": "3.9.7"
  },
  "toc": {
   "base_numbering": 1,
   "nav_menu": {},
   "number_sections": true,
   "sideBar": true,
   "skip_h1_title": true,
   "title_cell": "Содержание этапов исследования проекта",
   "title_sidebar": "Contents",
   "toc_cell": true,
   "toc_position": {
    "height": "calc(100% - 180px)",
    "left": "10px",
    "top": "150px",
    "width": "555.375px"
   },
   "toc_section_display": true,
   "toc_window_display": false
  }
 },
 "nbformat": 4,
 "nbformat_minor": 2
}
